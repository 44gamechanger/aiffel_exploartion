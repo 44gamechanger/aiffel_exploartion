{
 "cells": [
  {
   "cell_type": "markdown",
   "id": "spoken-round",
   "metadata": {},
   "source": [
    "# 2-5. 프로젝트: SentencePiece 사용하기"
   ]
  },
  {
   "cell_type": "markdown",
   "id": "severe-static",
   "metadata": {},
   "source": [
    "## Step 2. SentencePiece 모델 학습\n",
    "\n",
    "```\n",
    "def tokenize(corpus):  # corpus: Tokenized Sentence's List  \n",
    "    tokenizer = tf.keras.preprocessing.text.Tokenizer(filters='')  \n",
    "    tokenizer.fit_on_texts(corpus)  \n",
    "  \n",
    "    tensor = tokenizer.texts_to_sequences(corpus)\n",
    "\n",
    "    tensor = tf.keras.preprocessing.sequence.pad_sequences(tensor, padding='post')\n",
    "\n",
    "    return tensor, tokenizer\n",
    "``` \n",
    "\n",
    "위와 같이 tf.keras.preprocessing.text.Tokenizer에 corpus를 주고 tokenizer.fit_on_texts(corpus)를 하면 토크나이저 내부적으로 단어사전과 토크나이저 기능을 corpus에 맞춤형으로 자동 생성해주는 것\n"
   ]
  },
  {
   "cell_type": "markdown",
   "id": "hungarian-mayor",
   "metadata": {},
   "source": [
    "# sentencepiece 모델 학습 과정\n",
    "\n",
    "```\n",
    "import sentencepiece as spm\n",
    "import os\n",
    "\n",
    "temp_file = os.getenv('HOME') + '/aiffel/sp_tokenizer/data/korean-english-park.train.ko.temp'\n",
    "\n",
    "vocab_size = 8000\n",
    "\n",
    "with open(temp_file, 'w') as f:\n",
    "    for row in filtered_corpus: # 이전스텝에서 정제했던 corpus 사용\n",
    "        f.write(str(row) + '\\n')\n",
    "        \n",
    "spm.SentencePieceTrainer.Train(\n",
    "    '--input={} --model_prefix=korean_spm --vocab_size={}'.format(temp_file, vocab_size)    \n",
    ")\n",
    "# 위 train에서 --model_type = 'unigram'이 디폴트로 적용되어 있음. --model_type = 'bpe'로 옵션을 주어 변경 할 수 있음\n",
    "\n",
    "!ls -l korean_spm*\n",
    "```"
   ]
  },
  {
   "cell_type": "markdown",
   "id": "disturbed-parent",
   "metadata": {},
   "source": [
    "위 코드를 실행하면 정상적으로 SentencePiece 모델 학습이 완료된 후 koreanspm.model 파일과 koreanspm.vocab vocabulary 파일이 생성되었음을 확인할 수 있습니다.\n",
    "\n",
    "그럼 이렇게 학습된 SentencePiece 모델을 어떻게 활용하는지 살펴보겠습니다."
   ]
  },
  {
   "cell_type": "markdown",
   "id": "stopped-climb",
   "metadata": {},
   "source": [
    "```\n",
    "s = spm.SentencePieceProcessor()\n",
    "s.Load('korean_spm.model')\n",
    "\n",
    "# sentencepice를 활용한 sentence -> encoding\n",
    "tokensIDs = s.EncodeAsIds('아버지가방에들어가신다.')\n",
    "print(tokensIDs)\n",
    "\n",
    "# SentencePiece를 활용한 sentence -> encoded pieces\n",
    "print(s.SampleEncodeAsPieces('아버지가방에들어가신다.',1,0.0))\n",
    "\n",
    "# SentencePiece를 활용한 encoding -> sentence 복원\n",
    "print(s.DecodeIds(tokensIDs))\n",
    "```"
   ]
  },
  {
   "cell_type": "markdown",
   "id": "interracial-serve",
   "metadata": {},
   "source": [
    "# Step 3. Tokenizer 함수 작성\n",
    "\n",
    "위에서 훈련시킨 sentencepiece를 활용하여 위 함수와 유사한 기능을 하는 Sp_tokenize()함수를 정의할 것.  \n",
    "하지만 Sentencepice가 동작한느 방식이 단순 코튼화와는 달라 동일하게 정의하기는 어려움.  \n",
    "그러니 아래 조건을 만족하는 함수를 정의  \n",
    "1. 매개변수로 토큰화된 문장의 list를 전달하는 대신 온전한 문장의 list 를 전달합니다.\n",
    "\n",
    "2. 생성된 vocab 파일을 읽어와 { <word> : <idx> } 형태를 가지는 word_index 사전과 { <idx> : <word>} 형태를 가지는 index_word 사전을 생성하고 함께 반환합니다.\n",
    "\n",
    "3. 리턴값인 tensor 는 앞의 함수와 동일하게 토큰화한 후 Encoding된 문장입니다. 바로 학습에 사용할 수 있게 Padding은 당연히 해야겠죠?"
   ]
  },
  {
   "cell_type": "markdown",
   "id": "individual-darwin",
   "metadata": {},
   "source": [
    "```\n",
    "\n",
    "def sp_tokenize(s, corpus):\n",
    "\n",
    "    tensor = []\n",
    "\n",
    "    for sen in corpus:\n",
    "        tensor.append(s.EncodeAsIds(sen))\n",
    "\n",
    "    with open(\"./korean_spm.vocab\", 'r') as f:\n",
    "        vocab = f.readlines()\n",
    "\n",
    "    word_index = {}\n",
    "    index_word = {}\n",
    "\n",
    "    for idx, line in enumerate(vocab):\n",
    "        word = line.split(\"\\t\")[0]\n",
    "\n",
    "        word_index.update({idx:word})\n",
    "        index_word.update({word:idx})\n",
    "\n",
    "    tensor = tf.keras.preprocessing.sequence.pad_sequences(tensor, padding='post')\n",
    "\n",
    "    return tensor, word_index, index_word\n",
    "```"
   ]
  },
  {
   "cell_type": "markdown",
   "id": "sensitive-router",
   "metadata": {},
   "source": [
    "```\n",
    "#sp_tokenize(s, corpus) 사용예제\n",
    "\n",
    "my_corpus = ['나는 밥을 먹었습니다.', '그러나 여전히 ㅠㅠ 배가 고픕니다...']\n",
    "tensor, word_index, index_word = sp_tokenize(s, my_corpus)\n",
    "print(tensor)\n",
    "```"
   ]
  },
  {
   "cell_type": "markdown",
   "id": "romantic-current",
   "metadata": {},
   "source": [
    "# Step 4. 네이버 영화리뷰 감정분석 문제에 SentencePiece 적용해 보기\n",
    "아마 여러분들은 네이버 영화리뷰 감정분석 태스크를 한 번쯤은 다루어 보았을 것입니다. 한국어로 된 corpus를 다루어야 하므로 주로 KoNLPy에서 제공하는 형태소 분석기를 사용하여 텍스트를 전처리해서 RNN 모델을 분류기로 사용했을 것입니다.\n",
    "\n",
    "만약 이 문제에서 tokenizer를 sentencepiece로 바꾸어 다시 풀어본다면 더 성능이 좋아질까요? 비교해 보는 것도 흥미로울 것입니다.\n",
    "\n",
    "네이버 영화리뷰 감정분석 코퍼스에 sentencepiece를 적용시킨 모델 학습하기\n",
    "\n",
    "학습된 모델로 sp_tokenize() 메소드 구현하기\n",
    "\n",
    "구현된 토크나이저를 적용하여 네이버 영화리뷰 감정분석 모델을 재학습하기\n",
    "\n",
    "KoNLPy 형태소 분석기를 사용한 모델과 성능 비교하기\n",
    "\n",
    "(보너스) SentencePiece 모델의 model_type, vocab_size 등을 변경해 가면서 성능 개선 여부 확인하기\n",
    "\n",
    "Word Vector는 활용할 필요가 없습니다. 활용이 가능하지도 않을 것입니다.\n",
    "\n",
    "머지않아 SentencePiece와 BERT 등의 pretrained 모델을 함께 활용하는 태스크를 다루게 될 것입니다."
   ]
  },
  {
   "cell_type": "markdown",
   "id": "spectacular-repair",
   "metadata": {},
   "source": [
    "1. SentencePiece를 이용하여 모델을 만들기까지의 과정이 정상적으로 진행되었는가?\n",
    "\n",
    "코퍼스 분석, 전처리, SentencePiece 적용, 토크나이저 구현 및 동작이 빠짐없이 진행되었는가?\n",
    "\n",
    "\n",
    "2. SentencePiece를 통해 만든 Tokenizer가 자연어처리 모델과 결합하여 동작하는가?\n",
    "\n",
    "SentencePiece 토크나이저가 적용된 Text Classifier 모델이 정상적으로 수렴하여 80% 이상의 test accuracy가 확인되었다.\n",
    "\n",
    "\n",
    "3. SentencePiece의 성능을 다각도로 비교분석하였는가?\n",
    "\n",
    "SentencePiece 토크나이저를 활용했을 때의 성능을 다른 토크나이저 혹은 SentencePiece의 다른 옵션의 경우와 비교하여 분석을 체계적으로 진행하였다."
   ]
  },
  {
   "cell_type": "code",
   "execution_count": 1,
   "id": "sunrise-extra",
   "metadata": {
    "scrolled": true
   },
   "outputs": [],
   "source": [
    "from konlpy.tag import Mecab\n",
    "\n",
    "import os\n",
    "import matplotlib.pyplot as plt\n",
    "import tensorflow as tf\n",
    "import numpy as np\n",
    "\n",
    "\n",
    "import tensorflow as tf\n",
    "import pandas as pd\n",
    "import urllib.request\n",
    "%matplotlib inline\n",
    "import matplotlib.pyplot as plt\n",
    "import re\n",
    "from konlpy.tag import Okt\n",
    "from tensorflow import keras\n",
    "from tensorflow.keras.preprocessing.text import Tokenizer\n",
    "import numpy as np\n",
    "from tensorflow.keras.preprocessing.sequence import pad_sequences\n",
    "from collections import Counter\n"
   ]
  },
  {
   "cell_type": "code",
   "execution_count": 2,
   "id": "african-paragraph",
   "metadata": {},
   "outputs": [
    {
     "name": "stdout",
     "output_type": "stream",
     "text": [
      "150000\n",
      "50000\n"
     ]
    },
    {
     "data": {
      "text/html": [
       "<div>\n",
       "<style scoped>\n",
       "    .dataframe tbody tr th:only-of-type {\n",
       "        vertical-align: middle;\n",
       "    }\n",
       "\n",
       "    .dataframe tbody tr th {\n",
       "        vertical-align: top;\n",
       "    }\n",
       "\n",
       "    .dataframe thead th {\n",
       "        text-align: right;\n",
       "    }\n",
       "</style>\n",
       "<table border=\"1\" class=\"dataframe\">\n",
       "  <thead>\n",
       "    <tr style=\"text-align: right;\">\n",
       "      <th></th>\n",
       "      <th>id</th>\n",
       "      <th>document</th>\n",
       "      <th>label</th>\n",
       "    </tr>\n",
       "  </thead>\n",
       "  <tbody>\n",
       "    <tr>\n",
       "      <th>0</th>\n",
       "      <td>9976970</td>\n",
       "      <td>아 더빙.. 진짜 짜증나네요 목소리</td>\n",
       "      <td>0</td>\n",
       "    </tr>\n",
       "    <tr>\n",
       "      <th>1</th>\n",
       "      <td>3819312</td>\n",
       "      <td>흠...포스터보고 초딩영화줄....오버연기조차 가볍지 않구나</td>\n",
       "      <td>1</td>\n",
       "    </tr>\n",
       "    <tr>\n",
       "      <th>2</th>\n",
       "      <td>10265843</td>\n",
       "      <td>너무재밓었다그래서보는것을추천한다</td>\n",
       "      <td>0</td>\n",
       "    </tr>\n",
       "    <tr>\n",
       "      <th>3</th>\n",
       "      <td>9045019</td>\n",
       "      <td>교도소 이야기구먼 ..솔직히 재미는 없다..평점 조정</td>\n",
       "      <td>0</td>\n",
       "    </tr>\n",
       "    <tr>\n",
       "      <th>4</th>\n",
       "      <td>6483659</td>\n",
       "      <td>사이몬페그의 익살스런 연기가 돋보였던 영화!스파이더맨에서 늙어보이기만 했던 커스틴 ...</td>\n",
       "      <td>1</td>\n",
       "    </tr>\n",
       "  </tbody>\n",
       "</table>\n",
       "</div>"
      ],
      "text/plain": [
       "         id                                           document  label\n",
       "0   9976970                                아 더빙.. 진짜 짜증나네요 목소리      0\n",
       "1   3819312                  흠...포스터보고 초딩영화줄....오버연기조차 가볍지 않구나      1\n",
       "2  10265843                                  너무재밓었다그래서보는것을추천한다      0\n",
       "3   9045019                      교도소 이야기구먼 ..솔직히 재미는 없다..평점 조정      0\n",
       "4   6483659  사이몬페그의 익살스런 연기가 돋보였던 영화!스파이더맨에서 늙어보이기만 했던 커스틴 ...      1"
      ]
     },
     "execution_count": 2,
     "metadata": {},
     "output_type": "execute_result"
    }
   ],
   "source": [
    "\n",
    "# 데이터를 읽어봅시다. \n",
    "train_data = pd.read_table('~/aiffel/aiffel_exp4_movie/sentiment_classification/ratings_train.txt')\n",
    "test_data = pd.read_table('~/aiffel/aiffel_exp4_movie/sentiment_classification/ratings_test.txt')\n",
    "\n",
    "print(len(train_data))\n",
    "print(len(test_data))\n",
    "train_data.head()"
   ]
  },
  {
   "cell_type": "markdown",
   "id": "specialized-graham",
   "metadata": {},
   "source": [
    "# 데이터 결측치 및 중복 제거"
   ]
  },
  {
   "cell_type": "code",
   "execution_count": 3,
   "id": "religious-acrobat",
   "metadata": {
    "scrolled": false
   },
   "outputs": [
    {
     "name": "stdout",
     "output_type": "stream",
     "text": [
      "id          0\n",
      "document    5\n",
      "label       0\n",
      "dtype: int64\n",
      "id          0\n",
      "document    3\n",
      "label       0\n",
      "dtype: int64\n"
     ]
    }
   ],
   "source": [
    "# 결측치 확인\n",
    "print(train_data.isnull().sum())\n",
    "print(test_data.isnull().sum())"
   ]
  },
  {
   "cell_type": "code",
   "execution_count": 4,
   "id": "overall-michael",
   "metadata": {
    "scrolled": true
   },
   "outputs": [
    {
     "name": "stdout",
     "output_type": "stream",
     "text": [
      "146182 49157\n",
      "id          0\n",
      "document    0\n",
      "label       0\n",
      "dtype: int64\n",
      "id          0\n",
      "document    0\n",
      "label       0\n",
      "dtype: int64\n"
     ]
    }
   ],
   "source": [
    "# 데이터 중복 제거\n",
    "train_data.drop_duplicates(subset=['document'], inplace=True)\n",
    "train_data = train_data.dropna(how = 'any') \n",
    "test_data.drop_duplicates(subset=['document'], inplace=True)\n",
    "test_data = test_data.dropna(how = 'any') \n",
    "print(len(train_data), len(test_data))\n",
    "print(train_data.isnull().sum())\n",
    "print(test_data.isnull().sum())\n"
   ]
  },
  {
   "cell_type": "code",
   "execution_count": null,
   "id": "velvet-watts",
   "metadata": {},
   "outputs": [],
   "source": []
  },
  {
   "cell_type": "code",
   "execution_count": 5,
   "id": "prospective-delaware",
   "metadata": {},
   "outputs": [
    {
     "name": "stdout",
     "output_type": "stream",
     "text": [
      "data size : 195339\n",
      "example : \n",
      ">> 아 더빙.. 진짜 짜증나네요 목소리\n",
      ">> 나름 심오한 뜻도 있는 듯. 그냥 학생이 선생과 놀아나는 영화는 절대 아님\n",
      ">> 단순하면서 은은한 매력의 영화\n",
      ">> 보는내내 그대로 들어맞는 예측 카리스마 없는 악역\n",
      ">> 뭐냐..시작하고 3분만에 나왔다. 리플릿 사진 보며 불안하더니만..\n"
     ]
    }
   ],
   "source": [
    "raw = list(train_data['document']) + list(test_data['document'])\n",
    "    \n",
    "print('data size :', len(raw))\n",
    "\n",
    "print('example : ')\n",
    "for sen in raw[0:100][::20]:print('>>', sen)"
   ]
  },
  {
   "cell_type": "markdown",
   "id": "sexual-token",
   "metadata": {},
   "source": [
    "# 데이터 분포 확인"
   ]
  },
  {
   "cell_type": "code",
   "execution_count": 6,
   "id": "warming-washington",
   "metadata": {},
   "outputs": [
    {
     "name": "stdout",
     "output_type": "stream",
     "text": [
      "문장의 최단 길이: 1\n",
      "문장의 최장 길이: 146\n",
      "문장의 평균 길이: 35\n",
      "[0 0 0 0 0 0 0 0 0 0 0 0 0 0 0 0 0 0 0 0 0 0 0 0 0 0 0 0 0 0 0 0 0 0 0 0 0\n",
      " 0 0 0 0 0 0 0 0 0 0 0 0 0 0 0 0 0 0 0 0 0 0 0 0 0 0 0 0 0 0 0 0 0 0 0 0 0\n",
      " 0 0 0 0 0 0 0 0 0 0 0 0 0 0 0 0 0 0 0 0 0 0 0 0 0 0 0 0 0 0 0 0 0 0 0 0 0\n",
      " 0 0 0 0 0 0 0 0 0 0 0 0 0 0 0 0 0 0 0 0 0 0 0 0 0 0 0 0 0 0 0 0 0 0 0]\n"
     ]
    },
    {
     "data": {
      "image/png": "[encoded data removed]",
      "text/plain": [
       "<Figure size 432x288 with 1 Axes>"
      ]
     },
     "metadata": {
      "needs_background": "light"
     },
     "output_type": "display_data"
    }
   ],
   "source": [
    "min_len = 999\n",
    "max_len = 0\n",
    "sum_len = 0\n",
    "\n",
    "for sen in raw:\n",
    "    length = len(sen)\n",
    "    if min_len > length: min_len = length\n",
    "    if max_len < length: max_len = length\n",
    "    sum_len += length\n",
    "\n",
    "print(\"문장의 최단 길이:\", min_len)\n",
    "print(\"문장의 최장 길이:\", max_len)\n",
    "print(\"문장의 평균 길이:\", sum_len // len(raw))\n",
    "\n",
    "sentence_length = np.zeros((max_len), dtype=np.int)\n",
    "print(sentence_length)\n",
    "\n",
    "for sen in raw:\n",
    "    sentence_length[len(sen)-1] += 1\n",
    "\n",
    "plt.bar(range(max_len), sentence_length, width=1.0)\n",
    "plt.title(\"Sentence Length Distribution\")\n",
    "plt.show()"
   ]
  },
  {
   "cell_type": "markdown",
   "id": "egyptian-japan",
   "metadata": {},
   "source": [
    "## 길이가 1인 문장 확인"
   ]
  },
  {
   "cell_type": "code",
   "execution_count": 7,
   "id": "latest-windsor",
   "metadata": {
    "scrolled": true
   },
   "outputs": [
    {
     "name": "stdout",
     "output_type": "stream",
     "text": [
      "아\n",
      "잼\n",
      "1\n",
      "4\n",
      "굿\n",
      "짱\n",
      "휴\n",
      ".\n",
      "음\n",
      "?\n",
      "ㅎ\n",
      "ㅋ\n",
      "즐\n",
      "♥\n",
      "굳\n",
      "네\n",
      "ㅇ\n",
      "k\n",
      "ㅠ\n",
      "쒯\n",
      "♬\n",
      "토\n",
      "O\n",
      "똥\n",
      "z\n",
      "헐\n",
      "삼\n",
      "꽝\n",
      "!\n",
      "풉\n",
      "ㅅ\n",
      "왜\n",
      "ㄴ\n",
      "쉣\n",
      "봐\n",
      "뿌\n",
      "ㅜ\n",
      "♡\n",
      "ㅁ\n",
      "0\n",
      "ㅉ\n",
      "d\n",
      "흥\n",
      "乃\n",
      "찜\n",
      "귯\n",
      "린\n",
      "시\n",
      "ㅗ\n",
      "a\n",
      "c\n",
      "흠\n",
      "웅\n",
      "ㅣ\n",
      "오\n",
      "9\n",
      "쩜\n",
      "애\n",
      "헝\n",
      "쨩\n",
      "f\n",
      "움\n",
      "ㄳ\n",
      "업\n",
      "헉\n",
      "군\n",
      "b\n",
      ";\n",
      "g\n",
      "올\n",
      "걍\n",
      "허\n",
      "-\n",
      "쀍\n",
      "로\n",
      "ㄹ\n",
      "ㅂ\n",
      "갑\n",
      "즛\n",
      "킥\n",
      "함\n",
      "진\n",
      "ㅡ\n",
      "잠\n",
      "곧\n",
      "ㅍ\n",
      "h\n",
      "·\n",
      "캬\n",
      "ㅆ\n",
      ",\n",
      "풋\n",
      "ㄱ\n",
      "파\n",
      "ㄷ\n",
      "웩\n",
      "꺅\n",
      "욜\n",
      "ㅄ\n",
      "2\n",
      "핡\n"
     ]
    }
   ],
   "source": [
    "# 길이가 1인 문장 확인\n",
    "\n",
    "def check_sentence_with_length(raw, length):\n",
    "    count = 0\n",
    "    \n",
    "    for sen in raw:\n",
    "        if len(sen) == length:\n",
    "            print(sen)\n",
    "            count += 1\n",
    "            if count >100 : return\n",
    "            \n",
    "check_sentence_with_length(raw, 1)"
   ]
  },
  {
   "cell_type": "markdown",
   "id": "blessed-product",
   "metadata": {},
   "source": [
    "## 문장의 수가 1500 초과하는 문장 길이를 추출"
   ]
  },
  {
   "cell_type": "code",
   "execution_count": 8,
   "id": "foster-kazakhstan",
   "metadata": {
    "scrolled": true
   },
   "outputs": [
    {
     "name": "stdout",
     "output_type": "stream",
     "text": [
      "outlier index 5\n",
      "outlier index 6\n",
      "outlier index 7\n",
      "outlier index 8\n",
      "outlier index 9\n",
      "outlier index 10\n",
      "outlier index 11\n",
      "outlier index 12\n",
      "outlier index 13\n",
      "outlier index 14\n",
      "outlier index 15\n",
      "outlier index 16\n",
      "outlier index 17\n",
      "outlier index 18\n",
      "outlier index 19\n",
      "outlier index 20\n",
      "outlier index 21\n",
      "outlier index 22\n",
      "outlier index 23\n",
      "outlier index 24\n",
      "outlier index 25\n",
      "outlier index 26\n",
      "outlier index 27\n",
      "outlier index 28\n",
      "outlier index 29\n",
      "outlier index 30\n",
      "outlier index 31\n",
      "outlier index 32\n",
      "outlier index 33\n",
      "outlier index 34\n",
      "outlier index 35\n",
      "outlier index 36\n",
      "outlier index 37\n",
      "outlier index 38\n",
      "outlier index 39\n",
      "outlier index 40\n",
      "outlier index 41\n",
      "outlier index 42\n",
      "outlier index 43\n",
      "outlier index 44\n",
      "outlier index 45\n",
      "outlier index 46\n",
      "outlier index 47\n"
     ]
    }
   ],
   "source": [
    "# 필요해 보이는 문장 모두 확인\n",
    "\n",
    "for idx, _sum in enumerate(sentence_length):\n",
    "    # 문장의 수가 1500을 초과하는 문장 길이를 추출\n",
    "    if _sum > 1500:\n",
    "        print('outlier index', idx+1)"
   ]
  },
  {
   "cell_type": "markdown",
   "id": "important-termination",
   "metadata": {},
   "source": [
    "## 중복제거 안된 것을 확인\n"
   ]
  },
  {
   "cell_type": "code",
   "execution_count": 9,
   "id": "durable-direction",
   "metadata": {
    "scrolled": true
   },
   "outputs": [
    {
     "name": "stdout",
     "output_type": "stream",
     "text": [
      "매우 실망.....\n",
      "정말쓰레기영화입니다\n",
      "내일이 기대되는 `\n",
      "재미있는영화입니다.\n",
      "드라마 너무 재밓당\n",
      "맛깔 나는 드라마.\n",
      "영화가 내용이 없다\n",
      "정체성은 사치인가?\n",
      "재밌음 귀엽고 신남\n",
      "키기키기키기키기키기\n",
      "진짜 추천해요 ^^\n",
      "이게뭔가요내용도없고\n",
      "아름다운 영화였어요\n",
      "배우가 아깝다 ,,\n",
      "난 잼있던데..ㅎㅎ\n",
      "그냥 다큐일뿐 ..\n",
      "폭풍오열ㅠㅜㅠㅍ퓨ㅠ\n",
      "안봐도 되는 영화.\n",
      "최고의 농촌드라마.\n",
      "진짜 잘 만든 수작\n",
      "구우우웃~~!!!!\n",
      "재밌습니돠다다다~~\n",
      "이야기가 너무 뻔해\n",
      "무삭제판보셈..ㅋㅋ\n",
      "빨리다음편도나와라ㅠ\n",
      "내생의 최고의 영화\n",
      "망해라임권택작품들.\n",
      "봐주기 아까운 영화\n",
      "짱짱!!!!♥♥♥♥\n",
      "... 무조건 보라\n",
      "너무 극적인 시퀀스\n",
      "이런걸..영화라고.\n",
      "최고의 외화 그립다\n",
      "100번쯤 본 영화\n",
      "난 재미있는데 ㅋ?\n",
      "이건 다시봐도 수작\n",
      "진짜의학드라마의 갑\n",
      "아주 썩어빠진 영화\n",
      "너무 너무 좋네요!\n",
      "1236547890\n",
      "계속 울었다..ㅜㅜ\n",
      "진짜 재미없다 ..\n",
      "진짜 소름이 돋는다\n",
      "좋아요...^^~~\n",
      "가나다라마바사아자차\n",
      "할말이없을정도로별로\n",
      "Good,,,...\n",
      "역시 이것도 쓰레기\n",
      "어..이..상..실\n",
      "모르면 말을마라~ㅋ\n",
      "재미없다진짜진짜열자\n",
      "괜찮은 스릴러다..\n",
      "토토로의 움직이는성\n",
      "재밌있어요001요원\n",
      "개노답...ㅉㅉㅉㅉ\n",
      "새로운 것이 없다.\n",
      "으으으으ㅡ으으으리리\n",
      "재미만 있더만...\n",
      "충격적이고 슬픈영화\n",
      "아 드럽게 재미없네\n",
      "가슴이 많이아팟던듯\n",
      "전작만도 못한 영화\n",
      "정말 재미있습니다.\n",
      "진짜재밌어요^^~♥\n",
      "그저그럼10글자임.\n",
      "멋집니다!! ^ㅇ^\n",
      "아. 진짜 재미없다\n",
      "신 구 의 조합~~\n",
      "최고의 외화시리즈!\n",
      "김민종씨 멋집니다.\n",
      "감독아,안녕하시냐?\n",
      "웃겨죽을뻔 했다..\n",
      "Fhjkkdrybb\n",
      "가슴이 찢어지드라.\n",
      "재미있는 스토리..\n",
      "음;;이해가 안되요\n",
      "홀홀홀10점은드릴게\n",
      "꼬마 안성기씨네..\n",
      "너무높다 깎아줘야되\n",
      "평점이왜이래....\n",
      "올해 최악의 영화!\n",
      "일뽕꺼져노잼이야노잼\n",
      "모하자는 영화인지?\n",
      "1편에 낚인건가..\n",
      "장선우 쓰레기 영화\n",
      "노잼노잼노잼노잼노잼\n",
      "토끼 귀여워요!!!\n",
      "또보고싶다 ㅋㅋㅋㅋ\n",
      "그냥 만든놈이 OO\n",
      "나름 재미있네요 ㅎ\n",
      "훈훈하당~!~!~!\n",
      "1에 비해 좀 별로\n",
      "나도평점한번깎아보자\n",
      "다음작을위해고고고군\n",
      "갠적으론 별로더라~\n",
      "진부하다. 뻔하다.\n",
      "이런 것도 영화라고\n",
      "더럽게 재미없다..\n",
      "에휴 이게뭐냐...\n",
      "나는 관대하지못하다\n",
      "좋음...좋아요..\n"
     ]
    }
   ],
   "source": [
    "check_sentence_with_length(raw, 10)\n",
    "\n",
    "# 중복제거 안된 것을 확인"
   ]
  },
  {
   "cell_type": "markdown",
   "id": "worthy-trick",
   "metadata": {},
   "source": [
    "# 이건 중복이 아닌 것 같은데? 그냥.. 글자수..? 10이면 10글자.."
   ]
  },
  {
   "cell_type": "code",
   "execution_count": 10,
   "id": "modern-bulgaria",
   "metadata": {},
   "outputs": [
    {
     "name": "stdout",
     "output_type": "stream",
     "text": [
      "data size :  194543\n",
      "문장의 최단 길이: 1\n",
      "문장의 최장 길이: 146\n",
      "문장의 평균 길이: 36\n",
      "[0 0 0 0 0 0 0 0 0 0 0 0 0 0 0 0 0 0 0 0 0 0 0 0 0 0 0 0 0 0 0 0 0 0 0 0 0\n",
      " 0 0 0 0 0 0 0 0 0 0 0 0 0 0 0 0 0 0 0 0 0 0 0 0 0 0 0 0 0 0 0 0 0 0 0 0 0\n",
      " 0 0 0 0 0 0 0 0 0 0 0 0 0 0 0 0 0 0 0 0 0 0 0 0 0 0 0 0 0 0 0 0 0 0 0 0 0\n",
      " 0 0 0 0 0 0 0 0 0 0 0 0 0 0 0 0 0 0 0 0 0 0 0 0 0 0 0 0 0 0 0 0 0 0 0]\n"
     ]
    },
    {
     "data": {
      "image/png": "[encoded data removed]",
      "text/plain": [
       "<Figure size 432x288 with 1 Axes>"
      ]
     },
     "metadata": {
      "needs_background": "light"
     },
     "output_type": "display_data"
    }
   ],
   "source": [
    "# set()은 집합을 정의하는 자료형인데 중복을 허용하지 않음\n",
    "# 그래서 자동으로 중복된 요소를 제거\n",
    "# 대신 list의 순서가 뒤죽박죽 섞일 수 있으니 번역데이터처럼 쌍을 이뤄야 하는 데이터라면 주의 해야함\n",
    "\n",
    "min_len = 999\n",
    "max_len = 0\n",
    "sum_len = 0\n",
    "\n",
    "cleaned_corpus = list(set(raw)) # set을 사용하여 중복 제거\n",
    "print('data size : ', len(cleaned_corpus))\n",
    "\n",
    "\n",
    "for sen in raw:\n",
    "    length = len(sen)\n",
    "    if min_len > length: min_len = length\n",
    "    if max_len < length: max_len = length\n",
    "    sum_len += length\n",
    "\n",
    "print(\"문장의 최단 길이:\", min_len)\n",
    "print(\"문장의 최장 길이:\", max_len)\n",
    "print(\"문장의 평균 길이:\", sum_len // len(cleaned_corpus))\n",
    "\n",
    "sentence_length = np.zeros((max_len), dtype=np.int)\n",
    "print(sentence_length)\n",
    "\n",
    "for sen in cleaned_corpus:\n",
    "    sentence_length[len(sen)-1] += 1\n",
    "\n",
    "plt.bar(range(max_len), sentence_length, width=1.0)\n",
    "plt.title(\"Sentence Length Distribution\")\n",
    "plt.show()"
   ]
  },
  {
   "cell_type": "markdown",
   "id": "significant-foundation",
   "metadata": {},
   "source": [
    "## 여기서는 길이 100이상 데이터는 제거"
   ]
  },
  {
   "cell_type": "code",
   "execution_count": 11,
   "id": "nasty-energy",
   "metadata": {},
   "outputs": [
    {
     "data": {
      "image/png": "[encoded data removed]",
      "text/plain": [
       "<Figure size 432x288 with 1 Axes>"
      ]
     },
     "metadata": {
      "needs_background": "light"
     },
     "output_type": "display_data"
    }
   ],
   "source": [
    "max_len = 100\n",
    "min_len = 0\n",
    "\n",
    "# 길이 조건에 맞는 데이터만 검색\n",
    "filtered_corpus = [s for s in cleaned_corpus if (len(s) < max_len) and (len(s) >= min_len)]\n",
    "\n",
    "# 분포도 다시 그리기\n",
    "sentence_length = np.zeros((max_len), dtype=np.int)\n",
    "\n",
    "for sen in filtered_corpus:\n",
    "#     print(sentence_length[len(sen)-1], end='')\n",
    "#     print(sentence_length[len(sen)], end='')\n",
    "    \n",
    "    sentence_length[len(sen)-1] += 1\n",
    "    \n",
    "plt.bar(range(max_len), sentence_length, width=1.0)\n",
    "plt.title('sentence length distribution')\n",
    "plt.show()"
   ]
  },
  {
   "cell_type": "markdown",
   "id": "departmental-mineral",
   "metadata": {},
   "source": [
    "## sentencepice 학습"
   ]
  },
  {
   "cell_type": "code",
   "execution_count": 12,
   "id": "northern-label",
   "metadata": {},
   "outputs": [
    {
     "name": "stdout",
     "output_type": "stream",
     "text": [
      "-rw-r--r-- 1 aiffel-dj47 aiffel-dj47 375094  4월 14 10:06 korean_spm.model\r\n",
      "-rw-r--r-- 1 aiffel-dj47 aiffel-dj47 144530  4월 14 10:06 korean_spm.vocab\r\n"
     ]
    }
   ],
   "source": [
    "# sentencepiece 모델 학습 과정\n",
    "\n",
    "import sentencepiece as spm\n",
    "import os\n",
    "\n",
    "temp_file = os.getenv('HOME') + '/aiffel/sp_tokenizer/data/korean-english-park.train.ko.temp'\n",
    "\n",
    "vocab_size = 8000\n",
    "\n",
    "with open(temp_file, 'w') as f:\n",
    "    for row in filtered_corpus: # 이전스텝에서 정제했던 corpus 사용\n",
    "        f.write(str(row) + '\\n')\n",
    "        \n",
    "spm.SentencePieceTrainer.Train(\n",
    "    '--input={} --model_prefix=korean_spm --vocab_size={}'.format(temp_file, vocab_size)    \n",
    ")\n",
    "# 위 train에서 --model_type = 'unigram'이 디폴트로 적용되어 있음. --model_type = 'bpe'로 옵션을 주어 변경 할 수 있음\n",
    "\n",
    "!ls -l korean_spm*"
   ]
  },
  {
   "cell_type": "code",
   "execution_count": 13,
   "id": "dependent-discount",
   "metadata": {},
   "outputs": [
    {
     "name": "stdout",
     "output_type": "stream",
     "text": [
      "[1510, 9, 406, 15, 1345, 9, 138, 17, 4]\n",
      "['▁아버지', '가', '방', '에', '들어', '가', '신', '다', '.']\n",
      "아버지가방에들어가신다.\n"
     ]
    }
   ],
   "source": [
    "s = spm.SentencePieceProcessor()\n",
    "s.Load('korean_spm.model')\n",
    "\n",
    "# SentencePiece를 활용한 sentence -> encoding\n",
    "tokensIDs = s.EncodeAsIds('아버지가방에들어가신다.')\n",
    "print(tokensIDs)\n",
    "\n",
    "# SentencePiece를 활용한 sentence -> encoded pieces\n",
    "print(s.SampleEncodeAsPieces('아버지가방에들어가신다.',1, 0.0))\n",
    "\n",
    "# SentencePiece를 활용한 encoding -> sentence 복원\n",
    "print(s.DecodeIds(tokensIDs))"
   ]
  },
  {
   "cell_type": "code",
   "execution_count": 14,
   "id": "athletic-tanzania",
   "metadata": {},
   "outputs": [],
   "source": [
    "def sp_tokenize(s, corpus):\n",
    "\n",
    "    tensor = []\n",
    "\n",
    "    for sen in corpus:\n",
    "        tensor.append(s.EncodeAsIds(sen))\n",
    "\n",
    "    with open(\"./korean_spm.vocab\", 'r') as f:\n",
    "        vocab = f.readlines()\n",
    "\n",
    "    word_index = {}\n",
    "    index_word = {}\n",
    "\n",
    "    for idx, line in enumerate(vocab):\n",
    "        word = line.split(\"\\t\")[0]\n",
    "\n",
    "        word_index.update({idx:word})\n",
    "        index_word.update({word:idx})\n",
    "\n",
    "    tensor = tf.keras.preprocessing.sequence.pad_sequences(tensor, padding='post', maxlen=100)\n",
    "\n",
    "    return tensor, word_index, index_word\n"
   ]
  },
  {
   "cell_type": "code",
   "execution_count": 15,
   "id": "consecutive-result",
   "metadata": {},
   "outputs": [
    {
     "name": "stdout",
     "output_type": "stream",
     "text": [
      "[[ 562 3393   14 1380 2219    4    0    0    0    0    0    0    0    0\n",
      "     0    0    0    0    0    0    0    0    0    0    0    0    0    0\n",
      "     0    0    0    0    0    0    0    0    0    0    0    0    0    0\n",
      "     0    0    0    0    0    0    0    0    0    0    0    0    0    0\n",
      "     0    0    0    0    0    0    0    0    0    0    0    0    0    0\n",
      "     0    0    0    0    0    0    0    0    0    0    0    0    0    0\n",
      "     0    0    0    0    0    0    0    0    0    0    0    0    0    0\n",
      "     0    0]\n",
      " [1581 2277  253  590    9    3   16 7937  687    8    0    0    0    0\n",
      "     0    0    0    0    0    0    0    0    0    0    0    0    0    0\n",
      "     0    0    0    0    0    0    0    0    0    0    0    0    0    0\n",
      "     0    0    0    0    0    0    0    0    0    0    0    0    0    0\n",
      "     0    0    0    0    0    0    0    0    0    0    0    0    0    0\n",
      "     0    0    0    0    0    0    0    0    0    0    0    0    0    0\n",
      "     0    0    0    0    0    0    0    0    0    0    0    0    0    0\n",
      "     0    0]]\n"
     ]
    }
   ],
   "source": [
    "#sp_tokenize(s, corpus) 사용예제\n",
    "\n",
    "my_corpus = ['나는 밥을 먹었습니다.', '그러나 여전히 ㅠㅠ 배가 고픕니다...']\n",
    "tensor, word_index, index_word = sp_tokenize(s, my_corpus)\n",
    "print(tensor)\n"
   ]
  },
  {
   "cell_type": "code",
   "execution_count": 16,
   "id": "higher-device",
   "metadata": {},
   "outputs": [
    {
     "name": "stdout",
     "output_type": "stream",
     "text": [
      "[[  57  864    5 ...    0    0    0]\n",
      " [1577    8 4522 ...    0    0    0]\n",
      " [  22  391 7767 ...    0    0    0]\n",
      " ...\n",
      " [2142   11  587 ...    0    0    0]\n",
      " [ 571 1321   12 ...    0    0    0]\n",
      " [1903   12  204 ...    0    0    0]]\n",
      "100\n"
     ]
    }
   ],
   "source": [
    "s = spm.SentencePieceProcessor()\n",
    "\n",
    "s.Load('korean_spm.model')\n",
    "tensor, word_index, index_word = sp_tokenize(s, raw)\n",
    "print(tensor)\n",
    "print(len(tensor[0]))"
   ]
  },
  {
   "cell_type": "code",
   "execution_count": 17,
   "id": "unique-telescope",
   "metadata": {
    "scrolled": true
   },
   "outputs": [
    {
     "data": {
      "text/plain": [
       "(195339, 100)"
      ]
     },
     "execution_count": 17,
     "metadata": {},
     "output_type": "execute_result"
    }
   ],
   "source": [
    "tensor.shape"
   ]
  },
  {
   "cell_type": "markdown",
   "id": "solar-november",
   "metadata": {},
   "source": [
    "## 모델구성 및 validation set 구성"
   ]
  },
  {
   "cell_type": "code",
   "execution_count": 23,
   "id": "conscious-brass",
   "metadata": {},
   "outputs": [
    {
     "name": "stdout",
     "output_type": "stream",
     "text": [
      "(116182, 100)\n",
      "(116182,)\n"
     ]
    }
   ],
   "source": [
    "# 데이터 분할\n",
    "x_train = tensor[:146182]\n",
    "x_test = tensor[146182:]\n",
    "\n",
    "y_train = np.array(list(train_data['label']))\n",
    "y_test = np.array(list(test_data['label']))\n",
    "\n",
    "# validation set 30000건 분리 train set의 약 20%\n",
    "x_val = x_train[:30000]   \n",
    "y_val = y_train[:30000]\n",
    "\n",
    "# validation set을 제외한 나머지 30000건\n",
    "partial_x_train = x_train[30000:]  \n",
    "partial_y_train = y_train[30000:]\n",
    "\n",
    "print(partial_x_train.shape)\n",
    "print(partial_y_train.shape)"
   ]
  },
  {
   "cell_type": "markdown",
   "id": "suffering-removal",
   "metadata": {},
   "source": [
    "# RNN 모델 구성"
   ]
  },
  {
   "cell_type": "code",
   "execution_count": 56,
   "id": "collect-ethnic",
   "metadata": {},
   "outputs": [
    {
     "name": "stdout",
     "output_type": "stream",
     "text": [
      "Model: \"sequential_6\"\n",
      "_________________________________________________________________\n",
      "Layer (type)                 Output Shape              Param #   \n",
      "=================================================================\n",
      "embedding_6 (Embedding)      (None, None, 100)         1000000   \n",
      "_________________________________________________________________\n",
      "lstm_6 (LSTM)                (None, 8)                 3488      \n",
      "_________________________________________________________________\n",
      "dense_12 (Dense)             (None, 128)               1152      \n",
      "_________________________________________________________________\n",
      "dense_13 (Dense)             (None, 1)                 129       \n",
      "=================================================================\n",
      "Total params: 1,004,769\n",
      "Trainable params: 1,004,769\n",
      "Non-trainable params: 0\n",
      "_________________________________________________________________\n"
     ]
    }
   ],
   "source": [
    "# RNN 모델 구성\n",
    "vocab_size = 10000  # 어휘 사전의 크기입니다(10개의 단어)\n",
    "word_vector_dim = 100  # 단어 하나를 표현하는 임베딩 벡터의 차원수입니다. \n",
    "\n",
    "rnn_ver1_model = keras.Sequential()\n",
    "rnn_ver1_model.add(keras.layers.Embedding(vocab_size, word_vector_dim, input_shape=(None,)))\n",
    "rnn_ver1_model.add(keras.layers.LSTM(8))\n",
    "rnn_ver1_model.add(keras.layers.Dense(128, activation='relu'))\n",
    "rnn_ver1_model.add(keras.layers.Dense(1, activation='sigmoid'))  # 최종 출력은 긍정/부정을 나타내는 1dim 입니다.\n",
    "\n",
    "rnn_ver1_model.summary()"
   ]
  },
  {
   "cell_type": "code",
   "execution_count": 57,
   "id": "pretty-style",
   "metadata": {},
   "outputs": [
    {
     "name": "stdout",
     "output_type": "stream",
     "text": [
      "Epoch 1/50\n",
      "227/227 [==============================] - 5s 24ms/step - loss: 0.6932 - accuracy: 0.5015 - val_loss: 0.6932 - val_accuracy: 0.5024\n",
      "Epoch 2/50\n",
      "227/227 [==============================] - 5s 22ms/step - loss: 0.6932 - accuracy: 0.4984 - val_loss: 0.6932 - val_accuracy: 0.4976\n",
      "Epoch 3/50\n",
      "227/227 [==============================] - 5s 24ms/step - loss: 0.6932 - accuracy: 0.5001 - val_loss: 0.6932 - val_accuracy: 0.4976\n",
      "Epoch 4/50\n",
      "227/227 [==============================] - 5s 24ms/step - loss: 0.6932 - accuracy: 0.4993 - val_loss: 0.6931 - val_accuracy: 0.5023\n",
      "Epoch 5/50\n",
      "227/227 [==============================] - 5s 23ms/step - loss: 0.6931 - accuracy: 0.4976 - val_loss: 0.6931 - val_accuracy: 0.5024\n",
      "Epoch 6/50\n",
      "227/227 [==============================] - 5s 23ms/step - loss: 0.6931 - accuracy: 0.5009 - val_loss: 0.6931 - val_accuracy: 0.5019\n",
      "Epoch 7/50\n",
      "227/227 [==============================] - 5s 24ms/step - loss: 0.6929 - accuracy: 0.5022 - val_loss: 0.6932 - val_accuracy: 0.4981\n",
      "Epoch 8/50\n",
      "227/227 [==============================] - 5s 22ms/step - loss: 0.6925 - accuracy: 0.4982 - val_loss: 0.6865 - val_accuracy: 0.5023\n",
      "Epoch 9/50\n",
      "227/227 [==============================] - 5s 23ms/step - loss: 0.6841 - accuracy: 0.5301 - val_loss: 0.6933 - val_accuracy: 0.4976\n",
      "Epoch 10/50\n",
      "227/227 [==============================] - 5s 22ms/step - loss: 0.6931 - accuracy: 0.4988 - val_loss: 0.6932 - val_accuracy: 0.5019\n",
      "Epoch 11/50\n",
      "227/227 [==============================] - 5s 24ms/step - loss: 0.6930 - accuracy: 0.5012 - val_loss: 0.6932 - val_accuracy: 0.4989\n",
      "Epoch 12/50\n",
      "227/227 [==============================] - 5s 22ms/step - loss: 0.6929 - accuracy: 0.5030 - val_loss: 0.6931 - val_accuracy: 0.5020\n",
      "Epoch 13/50\n",
      "227/227 [==============================] - 5s 22ms/step - loss: 0.6929 - accuracy: 0.4991 - val_loss: 0.6933 - val_accuracy: 0.4980\n",
      "Epoch 14/50\n",
      "227/227 [==============================] - 5s 22ms/step - loss: 0.6928 - accuracy: 0.5019 - val_loss: 0.6931 - val_accuracy: 0.5023\n",
      "Epoch 15/50\n",
      "227/227 [==============================] - 5s 22ms/step - loss: 0.6927 - accuracy: 0.5028 - val_loss: 0.6930 - val_accuracy: 0.5024\n",
      "Epoch 16/50\n",
      "227/227 [==============================] - 5s 22ms/step - loss: 0.6922 - accuracy: 0.5035 - val_loss: 0.6927 - val_accuracy: 0.5054\n",
      "Epoch 17/50\n",
      "227/227 [==============================] - 5s 22ms/step - loss: 0.6929 - accuracy: 0.5064 - val_loss: 0.6934 - val_accuracy: 0.5017\n",
      "Epoch 18/50\n",
      "227/227 [==============================] - 5s 23ms/step - loss: 0.6865 - accuracy: 0.5165 - val_loss: 0.6590 - val_accuracy: 0.5740\n",
      "Epoch 19/50\n",
      "227/227 [==============================] - 5s 22ms/step - loss: 0.6449 - accuracy: 0.6110 - val_loss: 0.6380 - val_accuracy: 0.6306\n",
      "Epoch 20/50\n",
      "227/227 [==============================] - 5s 23ms/step - loss: 0.6251 - accuracy: 0.6621 - val_loss: 0.6221 - val_accuracy: 0.6660\n",
      "Epoch 21/50\n",
      "227/227 [==============================] - 5s 24ms/step - loss: 0.6208 - accuracy: 0.6666 - val_loss: 0.6222 - val_accuracy: 0.6668\n",
      "Epoch 22/50\n",
      "227/227 [==============================] - 5s 22ms/step - loss: 0.6207 - accuracy: 0.6670 - val_loss: 0.6207 - val_accuracy: 0.6689\n",
      "Epoch 23/50\n",
      "227/227 [==============================] - 5s 22ms/step - loss: 0.6202 - accuracy: 0.6688 - val_loss: 0.6211 - val_accuracy: 0.6680\n",
      "Epoch 24/50\n",
      "227/227 [==============================] - 5s 22ms/step - loss: 0.6204 - accuracy: 0.6682 - val_loss: 0.6210 - val_accuracy: 0.6681\n",
      "Epoch 25/50\n",
      "227/227 [==============================] - 5s 22ms/step - loss: 0.6204 - accuracy: 0.6683 - val_loss: 0.6222 - val_accuracy: 0.6678\n",
      "Epoch 26/50\n",
      "227/227 [==============================] - 5s 22ms/step - loss: 0.6209 - accuracy: 0.6679 - val_loss: 0.6221 - val_accuracy: 0.6678\n",
      "Epoch 27/50\n",
      "227/227 [==============================] - 5s 22ms/step - loss: 0.6209 - accuracy: 0.6677 - val_loss: 0.6213 - val_accuracy: 0.6676\n",
      "Epoch 28/50\n",
      "227/227 [==============================] - 5s 22ms/step - loss: 0.6211 - accuracy: 0.6673 - val_loss: 0.6222 - val_accuracy: 0.6667\n",
      "Epoch 29/50\n",
      "227/227 [==============================] - 5s 22ms/step - loss: 0.6258 - accuracy: 0.6590 - val_loss: 0.6012 - val_accuracy: 0.7114\n",
      "Epoch 30/50\n",
      "227/227 [==============================] - 5s 22ms/step - loss: 0.5954 - accuracy: 0.7174 - val_loss: 0.5998 - val_accuracy: 0.7129\n",
      "Epoch 31/50\n",
      "227/227 [==============================] - 5s 22ms/step - loss: 0.5938 - accuracy: 0.7184 - val_loss: 0.6007 - val_accuracy: 0.7097\n",
      "Epoch 32/50\n",
      "227/227 [==============================] - 5s 22ms/step - loss: 0.5945 - accuracy: 0.7165 - val_loss: 0.5998 - val_accuracy: 0.7110\n",
      "Epoch 33/50\n",
      "227/227 [==============================] - 5s 22ms/step - loss: 0.5939 - accuracy: 0.7172 - val_loss: 0.6001 - val_accuracy: 0.7102\n",
      "Epoch 34/50\n",
      "227/227 [==============================] - 5s 22ms/step - loss: 0.5937 - accuracy: 0.7167 - val_loss: 0.5995 - val_accuracy: 0.7118\n",
      "Epoch 35/50\n",
      "227/227 [==============================] - 5s 22ms/step - loss: 0.5926 - accuracy: 0.7187 - val_loss: 0.5978 - val_accuracy: 0.7128\n",
      "Epoch 36/50\n",
      "227/227 [==============================] - 5s 22ms/step - loss: 0.5912 - accuracy: 0.7201 - val_loss: 0.5978 - val_accuracy: 0.7141\n",
      "Epoch 37/50\n",
      "227/227 [==============================] - 5s 22ms/step - loss: 0.5913 - accuracy: 0.7201 - val_loss: 0.6014 - val_accuracy: 0.7073\n",
      "Epoch 38/50\n",
      "227/227 [==============================] - 5s 22ms/step - loss: 0.5918 - accuracy: 0.7138 - val_loss: 0.5988 - val_accuracy: 0.7052\n",
      "Epoch 39/50\n",
      "227/227 [==============================] - 5s 22ms/step - loss: 0.5912 - accuracy: 0.7142 - val_loss: 0.5988 - val_accuracy: 0.7068\n",
      "Epoch 40/50\n",
      "227/227 [==============================] - 5s 22ms/step - loss: 0.5904 - accuracy: 0.7149 - val_loss: 0.5994 - val_accuracy: 0.7065\n",
      "Epoch 41/50\n",
      "227/227 [==============================] - 5s 22ms/step - loss: 0.6072 - accuracy: 0.6826 - val_loss: 0.6337 - val_accuracy: 0.6324\n",
      "Epoch 42/50\n",
      "227/227 [==============================] - 5s 22ms/step - loss: 0.6785 - accuracy: 0.5333 - val_loss: 0.6928 - val_accuracy: 0.5038\n",
      "Epoch 43/50\n",
      "227/227 [==============================] - 5s 22ms/step - loss: 0.6926 - accuracy: 0.5036 - val_loss: 0.6925 - val_accuracy: 0.5061\n",
      "Epoch 44/50\n",
      "227/227 [==============================] - 5s 23ms/step - loss: 0.6916 - accuracy: 0.5080 - val_loss: 0.6917 - val_accuracy: 0.5024\n",
      "Epoch 45/50\n",
      "227/227 [==============================] - 5s 23ms/step - loss: 0.6857 - accuracy: 0.5353 - val_loss: 0.6686 - val_accuracy: 0.6124\n",
      "Epoch 46/50\n",
      "227/227 [==============================] - 5s 22ms/step - loss: 0.6835 - accuracy: 0.5410 - val_loss: 0.6931 - val_accuracy: 0.4983\n",
      "Epoch 47/50\n",
      "227/227 [==============================] - 5s 23ms/step - loss: 0.6931 - accuracy: 0.4990 - val_loss: 0.6931 - val_accuracy: 0.4983\n",
      "Epoch 48/50\n",
      "227/227 [==============================] - 6s 25ms/step - loss: 0.6930 - accuracy: 0.5011 - val_loss: 0.6930 - val_accuracy: 0.5017\n",
      "Epoch 49/50\n",
      "227/227 [==============================] - 6s 25ms/step - loss: 0.6930 - accuracy: 0.5008 - val_loss: 0.6930 - val_accuracy: 0.5020\n",
      "Epoch 50/50\n",
      "227/227 [==============================] - 6s 25ms/step - loss: 0.6929 - accuracy: 0.5018 - val_loss: 0.6929 - val_accuracy: 0.4995\n",
      "3631/3631 - 9s - loss: 0.6928 - accuracy: 0.5002\n",
      "train_loss: 0.6928444504737854 \n",
      "train_accuracy: 0.5002238154411316\n"
     ]
    }
   ],
   "source": [
    "rnn_ver1_model.compile(optimizer='adam',\n",
    "              loss='binary_crossentropy',\n",
    "              metrics=['accuracy'])\n",
    "              \n",
    "epochs=50  # 몇 epoch를 훈련하면 좋을지 결과를 보면서 바꾸어 봅시다. \n",
    "\n",
    "history = rnn_ver1_model.fit(partial_x_train,\n",
    "                    partial_y_train,\n",
    "                    epochs=epochs,\n",
    "                    batch_size=512,\n",
    "                    validation_data=(x_val, y_val),\n",
    "                    verbose=1)\n",
    "\n",
    "train_loss, train_accuracy = rnn_ver1_model.evaluate(partial_x_train, partial_y_train, verbose=2)\n",
    "\n",
    "print(\"train_loss: {} \".format(train_loss))\n",
    "print(\"train_accuracy: {}\".format(train_accuracy))"
   ]
  },
  {
   "cell_type": "code",
   "execution_count": 58,
   "id": "parliamentary-conclusion",
   "metadata": {},
   "outputs": [
    {
     "name": "stdout",
     "output_type": "stream",
     "text": [
      "1537/1537 - 4s - loss: 0.6930 - accuracy: 0.5044\n",
      "[0.6929667592048645, 0.5043635964393616]\n"
     ]
    }
   ],
   "source": [
    "results = rnn_ver1_model.evaluate(x_test,  y_test, verbose=2)\n",
    "\n",
    "print(results)"
   ]
  },
  {
   "cell_type": "code",
   "execution_count": 59,
   "id": "thermal-gnome",
   "metadata": {},
   "outputs": [
    {
     "name": "stdout",
     "output_type": "stream",
     "text": [
      "dict_keys(['loss', 'accuracy', 'val_loss', 'val_accuracy'])\n"
     ]
    }
   ],
   "source": [
    "history_dict = history.history\n",
    "print(history_dict.keys()) # epoch에 따른 그래프를 그려볼 수 있는 항목들"
   ]
  },
  {
   "cell_type": "code",
   "execution_count": 60,
   "id": "mighty-description",
   "metadata": {
    "scrolled": false
   },
   "outputs": [
    {
     "data": {
      "image/png": "[encoded data removed]",
      "text/plain": [
       "<Figure size 432x288 with 1 Axes>"
      ]
     },
     "metadata": {
      "needs_background": "light"
     },
     "output_type": "display_data"
    }
   ],
   "source": [
    "import matplotlib.pyplot as plt\n",
    "\n",
    "acc = history_dict['accuracy']\n",
    "val_acc = history_dict['val_accuracy']\n",
    "loss = history_dict['loss']\n",
    "val_loss = history_dict['val_loss']\n",
    "\n",
    "epochs = range(1, len(acc) + 1)\n",
    "\n",
    "# \"bo\"는 \"파란색 점\"입니다\n",
    "plt.plot(epochs, loss, 'bo', label='Training loss')\n",
    "# b는 \"파란 실선\"입니다\n",
    "plt.plot(epochs, val_loss, 'b', label='Validation loss')\n",
    "plt.title('Training and validation loss')\n",
    "plt.xlabel('Epochs')\n",
    "plt.ylabel('Loss')\n",
    "plt.legend()\n",
    "\n",
    "plt.show()"
   ]
  },
  {
   "cell_type": "markdown",
   "id": "political-rouge",
   "metadata": {},
   "source": [
    "# RNN 모델 구성"
   ]
  },
  {
   "cell_type": "code",
   "execution_count": 63,
   "id": "aggregate-video",
   "metadata": {},
   "outputs": [
    {
     "name": "stdout",
     "output_type": "stream",
     "text": [
      "Model: \"sequential_8\"\n",
      "_________________________________________________________________\n",
      "Layer (type)                 Output Shape              Param #   \n",
      "=================================================================\n",
      "embedding_8 (Embedding)      (None, None, 100)         1000000   \n",
      "_________________________________________________________________\n",
      "lstm_8 (LSTM)                (None, 8)                 3488      \n",
      "_________________________________________________________________\n",
      "dense_16 (Dense)             (None, 128)               1152      \n",
      "_________________________________________________________________\n",
      "dense_17 (Dense)             (None, 1)                 129       \n",
      "=================================================================\n",
      "Total params: 1,004,769\n",
      "Trainable params: 1,004,769\n",
      "Non-trainable params: 0\n",
      "_________________________________________________________________\n"
     ]
    }
   ],
   "source": [
    "# RNN 모델 구성\n",
    "vocab_size = 10000  # 어휘 사전의 크기입니다(10개의 단어)\n",
    "word_vector_dim = 100  # 단어 하나를 표현하는 임베딩 벡터의 차원수입니다. \n",
    "\n",
    "rnn_ver2_model = keras.Sequential()\n",
    "rnn_ver2_model.add(keras.layers.Embedding(vocab_size, word_vector_dim, input_shape=(None,)))\n",
    "rnn_ver2_model.add(keras.layers.LSTM(8))\n",
    "rnn_ver2_model.add(keras.layers.Dense(128, activation='relu'))\n",
    "rnn_ver2_model.add(keras.layers.Dense(1, activation='sigmoid'))  # 최종 출력은 긍정/부정을 나타내는 1dim 입니다.\n",
    "\n",
    "rnn_ver2_model.summary()"
   ]
  },
  {
   "cell_type": "code",
   "execution_count": 64,
   "id": "stainless-shanghai",
   "metadata": {
    "scrolled": true
   },
   "outputs": [
    {
     "name": "stdout",
     "output_type": "stream",
     "text": [
      "Epoch 1/100\n",
      "227/227 [==============================] - 6s 25ms/step - loss: 0.6932 - accuracy: 0.5018 - val_loss: 0.6931 - val_accuracy: 0.5024\n",
      "Epoch 2/100\n",
      "227/227 [==============================] - 5s 24ms/step - loss: 0.6932 - accuracy: 0.4992 - val_loss: 0.6931 - val_accuracy: 0.5024\n",
      "Epoch 3/100\n",
      "227/227 [==============================] - 5s 23ms/step - loss: 0.6932 - accuracy: 0.4998 - val_loss: 0.6931 - val_accuracy: 0.5024\n",
      "Epoch 4/100\n",
      "227/227 [==============================] - 5s 22ms/step - loss: 0.6931 - accuracy: 0.5014 - val_loss: 0.6932 - val_accuracy: 0.4977\n",
      "Epoch 5/100\n",
      "227/227 [==============================] - 5s 23ms/step - loss: 0.6932 - accuracy: 0.4999 - val_loss: 0.6931 - val_accuracy: 0.5024\n",
      "Epoch 6/100\n",
      "227/227 [==============================] - 5s 23ms/step - loss: 0.6930 - accuracy: 0.5006 - val_loss: 0.6931 - val_accuracy: 0.5024\n",
      "Epoch 7/100\n",
      "227/227 [==============================] - 5s 22ms/step - loss: 0.6929 - accuracy: 0.5004 - val_loss: 0.6931 - val_accuracy: 0.5024\n",
      "Epoch 8/100\n",
      "227/227 [==============================] - 5s 23ms/step - loss: 0.6928 - accuracy: 0.4989 - val_loss: 0.6932 - val_accuracy: 0.4988\n",
      "Epoch 9/100\n",
      "227/227 [==============================] - 5s 23ms/step - loss: 0.6926 - accuracy: 0.4995 - val_loss: 0.6932 - val_accuracy: 0.5024\n",
      "Epoch 10/100\n",
      "227/227 [==============================] - 5s 23ms/step - loss: 0.6916 - accuracy: 0.5020 - val_loss: 0.6917 - val_accuracy: 0.5081\n",
      "Epoch 11/100\n",
      "227/227 [==============================] - 5s 23ms/step - loss: 0.5940 - accuracy: 0.6959 - val_loss: 0.5118 - val_accuracy: 0.7819\n",
      "Epoch 12/100\n",
      "227/227 [==============================] - 5s 22ms/step - loss: 0.4487 - accuracy: 0.8049 - val_loss: 0.4041 - val_accuracy: 0.8218\n",
      "Epoch 13/100\n",
      "227/227 [==============================] - 5s 22ms/step - loss: 0.3585 - accuracy: 0.8496 - val_loss: 0.3594 - val_accuracy: 0.8444\n",
      "Epoch 14/100\n",
      "227/227 [==============================] - 5s 22ms/step - loss: 0.3083 - accuracy: 0.8715 - val_loss: 0.3453 - val_accuracy: 0.8505\n",
      "Epoch 15/100\n",
      "227/227 [==============================] - 5s 22ms/step - loss: 0.2781 - accuracy: 0.8844 - val_loss: 0.3475 - val_accuracy: 0.8521\n",
      "Epoch 16/100\n",
      "227/227 [==============================] - 5s 22ms/step - loss: 0.2533 - accuracy: 0.8956 - val_loss: 0.3560 - val_accuracy: 0.8543\n",
      "Epoch 17/100\n",
      "227/227 [==============================] - 5s 22ms/step - loss: 0.2326 - accuracy: 0.9048 - val_loss: 0.3714 - val_accuracy: 0.8515\n",
      "Epoch 18/100\n",
      "227/227 [==============================] - 5s 22ms/step - loss: 0.2168 - accuracy: 0.9113 - val_loss: 0.3849 - val_accuracy: 0.8500\n",
      "Epoch 19/100\n",
      "227/227 [==============================] - 5s 22ms/step - loss: 0.1994 - accuracy: 0.9202 - val_loss: 0.4065 - val_accuracy: 0.8481\n",
      "Epoch 20/100\n",
      "227/227 [==============================] - 5s 22ms/step - loss: 0.1860 - accuracy: 0.9257 - val_loss: 0.4348 - val_accuracy: 0.8462\n",
      "Epoch 21/100\n",
      "227/227 [==============================] - 5s 22ms/step - loss: 0.1741 - accuracy: 0.9303 - val_loss: 0.4479 - val_accuracy: 0.8460\n",
      "Epoch 22/100\n",
      "227/227 [==============================] - 5s 22ms/step - loss: 0.1658 - accuracy: 0.9349 - val_loss: 0.4626 - val_accuracy: 0.8439\n",
      "Epoch 23/100\n",
      "227/227 [==============================] - 5s 22ms/step - loss: 0.1532 - accuracy: 0.9406 - val_loss: 0.4680 - val_accuracy: 0.8424\n",
      "Epoch 24/100\n",
      "227/227 [==============================] - 5s 22ms/step - loss: 0.1436 - accuracy: 0.9449 - val_loss: 0.5066 - val_accuracy: 0.8426\n",
      "Epoch 25/100\n",
      "227/227 [==============================] - 5s 23ms/step - loss: 0.1344 - accuracy: 0.9493 - val_loss: 0.4983 - val_accuracy: 0.8386\n",
      "Epoch 26/100\n",
      "227/227 [==============================] - 5s 22ms/step - loss: 0.1284 - accuracy: 0.9516 - val_loss: 0.5165 - val_accuracy: 0.8418\n",
      "Epoch 27/100\n",
      "227/227 [==============================] - 5s 22ms/step - loss: 0.1201 - accuracy: 0.9561 - val_loss: 0.5269 - val_accuracy: 0.8378\n",
      "Epoch 28/100\n",
      "227/227 [==============================] - 5s 22ms/step - loss: 0.1126 - accuracy: 0.9597 - val_loss: 0.5621 - val_accuracy: 0.8403\n",
      "Epoch 29/100\n",
      "227/227 [==============================] - 5s 22ms/step - loss: 0.1066 - accuracy: 0.9625 - val_loss: 0.5752 - val_accuracy: 0.8388\n",
      "Epoch 30/100\n",
      "227/227 [==============================] - 5s 22ms/step - loss: 0.1014 - accuracy: 0.9651 - val_loss: 0.5854 - val_accuracy: 0.8371\n",
      "Epoch 31/100\n",
      "227/227 [==============================] - 5s 22ms/step - loss: 0.0957 - accuracy: 0.9677 - val_loss: 0.6010 - val_accuracy: 0.8369\n",
      "Epoch 32/100\n",
      "227/227 [==============================] - 5s 22ms/step - loss: 0.0927 - accuracy: 0.9694 - val_loss: 0.6041 - val_accuracy: 0.8331\n",
      "Epoch 33/100\n",
      "227/227 [==============================] - 5s 22ms/step - loss: 0.0858 - accuracy: 0.9733 - val_loss: 0.6438 - val_accuracy: 0.8329\n",
      "Epoch 34/100\n",
      "227/227 [==============================] - 5s 22ms/step - loss: 0.0815 - accuracy: 0.9751 - val_loss: 0.6302 - val_accuracy: 0.8331\n",
      "Epoch 35/100\n",
      "227/227 [==============================] - 5s 22ms/step - loss: 0.0733 - accuracy: 0.9789 - val_loss: 0.6699 - val_accuracy: 0.8337\n",
      "Epoch 36/100\n",
      "227/227 [==============================] - 5s 22ms/step - loss: 0.0725 - accuracy: 0.9796 - val_loss: 0.6517 - val_accuracy: 0.8306\n",
      "Epoch 37/100\n",
      "227/227 [==============================] - 5s 23ms/step - loss: 0.0684 - accuracy: 0.9813 - val_loss: 0.6611 - val_accuracy: 0.8304\n",
      "Epoch 38/100\n",
      "227/227 [==============================] - 5s 22ms/step - loss: 0.0662 - accuracy: 0.9828 - val_loss: 0.6633 - val_accuracy: 0.8304\n",
      "Epoch 39/100\n",
      "227/227 [==============================] - 5s 22ms/step - loss: 0.0629 - accuracy: 0.9836 - val_loss: 0.7255 - val_accuracy: 0.8299\n",
      "Epoch 40/100\n",
      "227/227 [==============================] - 5s 22ms/step - loss: 0.0633 - accuracy: 0.9835 - val_loss: 0.6907 - val_accuracy: 0.8343\n",
      "Epoch 41/100\n",
      "227/227 [==============================] - 5s 22ms/step - loss: 0.0588 - accuracy: 0.9855 - val_loss: 0.7286 - val_accuracy: 0.8316\n",
      "Epoch 42/100\n",
      "227/227 [==============================] - 5s 22ms/step - loss: 0.0625 - accuracy: 0.9842 - val_loss: 0.7083 - val_accuracy: 0.8356\n",
      "Epoch 43/100\n",
      "227/227 [==============================] - 5s 23ms/step - loss: 0.0603 - accuracy: 0.9852 - val_loss: 0.7070 - val_accuracy: 0.8308\n",
      "Epoch 44/100\n",
      "227/227 [==============================] - 5s 23ms/step - loss: 0.0567 - accuracy: 0.9866 - val_loss: 0.7118 - val_accuracy: 0.8323\n",
      "Epoch 45/100\n",
      "227/227 [==============================] - 5s 23ms/step - loss: 0.0554 - accuracy: 0.9870 - val_loss: 0.7027 - val_accuracy: 0.8309\n",
      "Epoch 46/100\n",
      "227/227 [==============================] - 5s 23ms/step - loss: 0.0550 - accuracy: 0.9871 - val_loss: 0.7233 - val_accuracy: 0.8331\n",
      "Epoch 47/100\n",
      "227/227 [==============================] - 5s 22ms/step - loss: 0.0554 - accuracy: 0.9871 - val_loss: 0.7136 - val_accuracy: 0.8281\n",
      "Epoch 48/100\n",
      "227/227 [==============================] - 5s 23ms/step - loss: 0.0568 - accuracy: 0.9865 - val_loss: 0.7185 - val_accuracy: 0.8318\n",
      "Epoch 49/100\n",
      "227/227 [==============================] - 5s 24ms/step - loss: 0.0524 - accuracy: 0.9883 - val_loss: 0.7644 - val_accuracy: 0.8303\n",
      "Epoch 50/100\n",
      "227/227 [==============================] - 5s 23ms/step - loss: 0.0486 - accuracy: 0.9898 - val_loss: 0.7612 - val_accuracy: 0.8314\n",
      "Epoch 51/100\n",
      "227/227 [==============================] - 5s 24ms/step - loss: 0.0479 - accuracy: 0.9899 - val_loss: 0.7652 - val_accuracy: 0.8316\n",
      "Epoch 52/100\n",
      "227/227 [==============================] - 5s 23ms/step - loss: 0.0484 - accuracy: 0.9896 - val_loss: 0.7585 - val_accuracy: 0.8353\n",
      "Epoch 53/100\n",
      "227/227 [==============================] - 5s 23ms/step - loss: 0.0473 - accuracy: 0.9900 - val_loss: 0.7585 - val_accuracy: 0.8308\n",
      "Epoch 54/100\n",
      "227/227 [==============================] - 5s 22ms/step - loss: 0.0484 - accuracy: 0.9896 - val_loss: 0.7486 - val_accuracy: 0.8317\n",
      "Epoch 55/100\n",
      "227/227 [==============================] - 5s 22ms/step - loss: 0.0484 - accuracy: 0.9897 - val_loss: 0.7583 - val_accuracy: 0.8319\n",
      "Epoch 56/100\n",
      "227/227 [==============================] - 5s 22ms/step - loss: 0.0494 - accuracy: 0.9892 - val_loss: 0.7908 - val_accuracy: 0.8311\n",
      "Epoch 57/100\n"
     ]
    },
    {
     "name": "stdout",
     "output_type": "stream",
     "text": [
      "227/227 [==============================] - 5s 22ms/step - loss: 0.0494 - accuracy: 0.9892 - val_loss: 0.7530 - val_accuracy: 0.8313\n",
      "Epoch 58/100\n",
      "227/227 [==============================] - 5s 23ms/step - loss: 0.0486 - accuracy: 0.9896 - val_loss: 0.7732 - val_accuracy: 0.8303\n",
      "Epoch 59/100\n",
      "227/227 [==============================] - 5s 22ms/step - loss: 0.0471 - accuracy: 0.9900 - val_loss: 0.7656 - val_accuracy: 0.8304\n",
      "Epoch 60/100\n",
      "227/227 [==============================] - 5s 22ms/step - loss: 0.0469 - accuracy: 0.9899 - val_loss: 0.7897 - val_accuracy: 0.8292\n",
      "Epoch 61/100\n",
      "227/227 [==============================] - 5s 22ms/step - loss: 0.0501 - accuracy: 0.9888 - val_loss: 0.7686 - val_accuracy: 0.8321\n",
      "Epoch 62/100\n",
      "227/227 [==============================] - 5s 23ms/step - loss: 0.0463 - accuracy: 0.9900 - val_loss: 0.8014 - val_accuracy: 0.8309\n",
      "Epoch 63/100\n",
      "227/227 [==============================] - 5s 23ms/step - loss: 0.0437 - accuracy: 0.9909 - val_loss: 0.7728 - val_accuracy: 0.8307\n",
      "Epoch 64/100\n",
      "227/227 [==============================] - 5s 23ms/step - loss: 0.0413 - accuracy: 0.9916 - val_loss: 0.8002 - val_accuracy: 0.8311\n",
      "Epoch 65/100\n",
      "227/227 [==============================] - 5s 23ms/step - loss: 0.0401 - accuracy: 0.9919 - val_loss: 0.8297 - val_accuracy: 0.8322\n",
      "Epoch 66/100\n",
      "227/227 [==============================] - 5s 22ms/step - loss: 0.0421 - accuracy: 0.9913 - val_loss: 0.8053 - val_accuracy: 0.8276\n",
      "Epoch 67/100\n",
      "227/227 [==============================] - 5s 23ms/step - loss: 0.0444 - accuracy: 0.9903 - val_loss: 0.8052 - val_accuracy: 0.8311\n",
      "Epoch 68/100\n",
      "227/227 [==============================] - 5s 21ms/step - loss: 0.0421 - accuracy: 0.9911 - val_loss: 0.8027 - val_accuracy: 0.8326\n",
      "Epoch 69/100\n",
      "227/227 [==============================] - 5s 22ms/step - loss: 0.0420 - accuracy: 0.9912 - val_loss: 0.8549 - val_accuracy: 0.8324\n",
      "Epoch 70/100\n",
      "227/227 [==============================] - 5s 23ms/step - loss: 0.0436 - accuracy: 0.9908 - val_loss: 0.8228 - val_accuracy: 0.8305\n",
      "Epoch 71/100\n",
      "227/227 [==============================] - 5s 23ms/step - loss: 0.0389 - accuracy: 0.9920 - val_loss: 0.8563 - val_accuracy: 0.8284\n",
      "Epoch 72/100\n",
      "227/227 [==============================] - 5s 22ms/step - loss: 0.0406 - accuracy: 0.9912 - val_loss: 0.8712 - val_accuracy: 0.8274\n",
      "Epoch 73/100\n",
      "227/227 [==============================] - 5s 22ms/step - loss: 0.0422 - accuracy: 0.9909 - val_loss: 0.7950 - val_accuracy: 0.8322\n",
      "Epoch 74/100\n",
      "227/227 [==============================] - 5s 23ms/step - loss: 0.0396 - accuracy: 0.9916 - val_loss: 0.8230 - val_accuracy: 0.8305\n",
      "Epoch 75/100\n",
      "227/227 [==============================] - 5s 23ms/step - loss: 0.0405 - accuracy: 0.9914 - val_loss: 0.7719 - val_accuracy: 0.8334\n",
      "Epoch 76/100\n",
      "227/227 [==============================] - 5s 23ms/step - loss: 0.0399 - accuracy: 0.9914 - val_loss: 0.8254 - val_accuracy: 0.8300\n",
      "Epoch 77/100\n",
      "227/227 [==============================] - 5s 23ms/step - loss: 0.0375 - accuracy: 0.9921 - val_loss: 0.8405 - val_accuracy: 0.8318\n",
      "Epoch 78/100\n",
      "227/227 [==============================] - 5s 22ms/step - loss: 0.0403 - accuracy: 0.9912 - val_loss: 0.8147 - val_accuracy: 0.8298\n",
      "Epoch 79/100\n",
      "227/227 [==============================] - 5s 21ms/step - loss: 0.0387 - accuracy: 0.9915 - val_loss: 0.8363 - val_accuracy: 0.8337\n",
      "Epoch 80/100\n",
      "227/227 [==============================] - 5s 21ms/step - loss: 0.0371 - accuracy: 0.9920 - val_loss: 0.8302 - val_accuracy: 0.8319\n",
      "Epoch 81/100\n",
      "227/227 [==============================] - 5s 22ms/step - loss: 0.0369 - accuracy: 0.9921 - val_loss: 0.8198 - val_accuracy: 0.8309\n",
      "Epoch 82/100\n",
      "227/227 [==============================] - 5s 22ms/step - loss: 0.0364 - accuracy: 0.9922 - val_loss: 0.8821 - val_accuracy: 0.8289\n",
      "Epoch 83/100\n",
      "227/227 [==============================] - 5s 22ms/step - loss: 0.0367 - accuracy: 0.9922 - val_loss: 0.8689 - val_accuracy: 0.8281\n",
      "Epoch 84/100\n",
      "227/227 [==============================] - 5s 22ms/step - loss: 0.0371 - accuracy: 0.9918 - val_loss: 0.8505 - val_accuracy: 0.8301\n",
      "Epoch 85/100\n",
      "227/227 [==============================] - 5s 23ms/step - loss: 0.0368 - accuracy: 0.9922 - val_loss: 0.8564 - val_accuracy: 0.8304\n",
      "Epoch 86/100\n",
      "227/227 [==============================] - 5s 23ms/step - loss: 0.0354 - accuracy: 0.9923 - val_loss: 0.8588 - val_accuracy: 0.8319\n",
      "Epoch 87/100\n",
      "227/227 [==============================] - 5s 22ms/step - loss: 0.0348 - accuracy: 0.9925 - val_loss: 0.8502 - val_accuracy: 0.8301\n",
      "Epoch 88/100\n",
      "227/227 [==============================] - 5s 22ms/step - loss: 0.0344 - accuracy: 0.9926 - val_loss: 0.8853 - val_accuracy: 0.8266\n",
      "Epoch 89/100\n",
      "227/227 [==============================] - 5s 22ms/step - loss: 0.0361 - accuracy: 0.9920 - val_loss: 0.8556 - val_accuracy: 0.8323\n",
      "Epoch 90/100\n",
      "227/227 [==============================] - 5s 23ms/step - loss: 0.0336 - accuracy: 0.9927 - val_loss: 0.8442 - val_accuracy: 0.8327\n",
      "Epoch 91/100\n",
      "227/227 [==============================] - 5s 22ms/step - loss: 0.0347 - accuracy: 0.9923 - val_loss: 0.8272 - val_accuracy: 0.8315\n",
      "Epoch 92/100\n",
      "227/227 [==============================] - 5s 21ms/step - loss: 0.0349 - accuracy: 0.9922 - val_loss: 0.8420 - val_accuracy: 0.8289\n",
      "Epoch 93/100\n",
      "227/227 [==============================] - 5s 21ms/step - loss: 0.0334 - accuracy: 0.9926 - val_loss: 0.8817 - val_accuracy: 0.8308\n",
      "Epoch 94/100\n",
      "227/227 [==============================] - 5s 21ms/step - loss: 0.0326 - accuracy: 0.9928 - val_loss: 0.9145 - val_accuracy: 0.8291\n",
      "Epoch 95/100\n",
      "227/227 [==============================] - 5s 21ms/step - loss: 0.0339 - accuracy: 0.9924 - val_loss: 0.9096 - val_accuracy: 0.8262\n",
      "Epoch 96/100\n",
      "227/227 [==============================] - 5s 21ms/step - loss: 0.0322 - accuracy: 0.9928 - val_loss: 0.9071 - val_accuracy: 0.8299\n",
      "Epoch 97/100\n",
      "227/227 [==============================] - 5s 21ms/step - loss: 0.0339 - accuracy: 0.9925 - val_loss: 0.8507 - val_accuracy: 0.8302\n",
      "Epoch 98/100\n",
      "227/227 [==============================] - 5s 21ms/step - loss: 0.0314 - accuracy: 0.9930 - val_loss: 0.8784 - val_accuracy: 0.8305\n",
      "Epoch 99/100\n",
      "227/227 [==============================] - 5s 21ms/step - loss: 0.0298 - accuracy: 0.9933 - val_loss: 0.8938 - val_accuracy: 0.8348\n",
      "Epoch 100/100\n",
      "227/227 [==============================] - 5s 21ms/step - loss: 0.0303 - accuracy: 0.9931 - val_loss: 0.8491 - val_accuracy: 0.8304\n",
      "3631/3631 - 8s - loss: 0.0285 - accuracy: 0.9937\n",
      "train_loss: 0.02851155959069729 \n",
      "train_accuracy: 0.9936995506286621\n"
     ]
    }
   ],
   "source": [
    "rnn_ver2_model.compile(optimizer='adam',\n",
    "              loss='binary_crossentropy',\n",
    "              metrics=['accuracy'])\n",
    "              \n",
    "epochs=100  # 몇 epoch를 훈련하면 좋을지 결과를 보면서 바꾸어 봅시다. \n",
    "\n",
    "history = rnn_ver2_model.fit(partial_x_train,\n",
    "                    partial_y_train,\n",
    "                    epochs=epochs,\n",
    "                    batch_size=512,\n",
    "                    validation_data=(x_val, y_val),\n",
    "                    verbose=1)\n",
    "\n",
    "train_loss, train_accuracy = rnn_ver2_model.evaluate(partial_x_train, partial_y_train, verbose=2)\n",
    "\n",
    "print(\"train_loss: {} \".format(train_loss))\n",
    "print(\"train_accuracy: {}\".format(train_accuracy))"
   ]
  },
  {
   "cell_type": "code",
   "execution_count": 65,
   "id": "miniature-restriction",
   "metadata": {},
   "outputs": [
    {
     "name": "stdout",
     "output_type": "stream",
     "text": [
      "1537/1537 - 4s - loss: 0.8763 - accuracy: 0.8254\n",
      "[0.8762616515159607, 0.8254368901252747]\n"
     ]
    }
   ],
   "source": [
    "results = rnn_ver2_model.evaluate(x_test,  y_test, verbose=2)\n",
    "\n",
    "print(results)"
   ]
  },
  {
   "cell_type": "code",
   "execution_count": 66,
   "id": "acquired-saturday",
   "metadata": {},
   "outputs": [
    {
     "name": "stdout",
     "output_type": "stream",
     "text": [
      "dict_keys(['loss', 'accuracy', 'val_loss', 'val_accuracy'])\n"
     ]
    }
   ],
   "source": [
    "history_dict = history.history\n",
    "print(history_dict.keys()) # epoch에 따른 그래프를 그려볼 수 있는 항목들"
   ]
  },
  {
   "cell_type": "code",
   "execution_count": 67,
   "id": "planned-russian",
   "metadata": {
    "scrolled": true
   },
   "outputs": [
    {
     "data": {
      "image/png": "[encoded data removed]",
      "text/plain": [
       "<Figure size 432x288 with 1 Axes>"
      ]
     },
     "metadata": {
      "needs_background": "light"
     },
     "output_type": "display_data"
    }
   ],
   "source": [
    "import matplotlib.pyplot as plt\n",
    "\n",
    "acc = history_dict['accuracy']\n",
    "val_acc = history_dict['val_accuracy']\n",
    "loss = history_dict['loss']\n",
    "val_loss = history_dict['val_loss']\n",
    "\n",
    "epochs = range(1, len(acc) + 1)\n",
    "\n",
    "# \"bo\"는 \"파란색 점\"입니다\n",
    "plt.plot(epochs, loss, 'bo', label='Training loss')\n",
    "# b는 \"파란 실선\"입니다\n",
    "plt.plot(epochs, val_loss, 'b', label='Validation loss')\n",
    "plt.title('Training and validation loss')\n",
    "plt.xlabel('Epochs')\n",
    "plt.ylabel('Loss')\n",
    "plt.legend()\n",
    "\n",
    "plt.show()"
   ]
  },
  {
   "cell_type": "markdown",
   "id": "technological-schedule",
   "metadata": {},
   "source": [
    "# Mecab 사용"
   ]
  },
  {
   "cell_type": "code",
   "execution_count": 68,
   "id": "fifty-punch",
   "metadata": {
    "scrolled": true
   },
   "outputs": [
    {
     "name": "stdout",
     "output_type": "stream",
     "text": [
      "ok\n"
     ]
    }
   ],
   "source": [
    "from konlpy.tag import Mecab\n",
    "tokenizer = Mecab()\n",
    "stopwords = ['의','가','이','은','들','는','좀','잘','걍','과','도','를','으로','자','에','와','한','하다']\n",
    "\n",
    "def load_data(train_data, test_data, num_words=10000):\n",
    "    train_data.drop_duplicates(subset=['document'], inplace=True)\n",
    "    train_data = train_data.dropna(how = 'any') \n",
    "    test_data.drop_duplicates(subset=['document'], inplace=True)\n",
    "    test_data = test_data.dropna(how = 'any') \n",
    "\n",
    "    X_train = []\n",
    "    for sentence in train_data['document']:\n",
    "        temp_X = tokenizer.morphs(sentence) # 토큰화\n",
    "        temp_X = [word for word in temp_X if not word in stopwords] # 불용어 제거\n",
    "        X_train.append(temp_X)\n",
    "\n",
    "    X_test = []\n",
    "    for sentence in test_data['document']:\n",
    "        temp_X = tokenizer.morphs(sentence) # 토큰화\n",
    "        temp_X = [word for word in temp_X if not word in stopwords] # 불용어 제거\n",
    "        X_test.append(temp_X)\n",
    "\n",
    "    words = np.concatenate(X_train).tolist()\n",
    "    counter = Counter(words)\n",
    "    counter = counter.most_common(10000-4)\n",
    "    vocab = ['<PAD>', '<BOS>', '<UNK>', '<UNUSED>'] + [key for key, _ in counter]\n",
    "    word_to_index = {word:index for index, word in enumerate(vocab)}\n",
    "\n",
    "    def wordlist_to_indexlist(wordlist):\n",
    "        return [word_to_index[word] if word in word_to_index else word_to_index['<UNK>'] for word in wordlist]\n",
    "\n",
    "    X_train = list(map(wordlist_to_indexlist, X_train))\n",
    "    X_test = list(map(wordlist_to_indexlist, X_test))\n",
    "\n",
    "    return X_train, np.array(list(train_data['label'])), X_test, np.array(list(test_data['label'])), word_to_index\n",
    "\n",
    "X_train, y_train, X_test, y_test, word_to_index = load_data(train_data, test_data) \n",
    "print(\"ok\")"
   ]
  },
  {
   "cell_type": "code",
   "execution_count": 69,
   "id": "above-impact",
   "metadata": {
    "scrolled": true
   },
   "outputs": [
    {
     "name": "stdout",
     "output_type": "stream",
     "text": [
      "ok\n"
     ]
    }
   ],
   "source": [
    "index_to_word = {index:word for word, index in word_to_index.items()} \n",
    "print(\"ok\")\n",
    "# 위에 word_to_index아래에 썼을 땐 실행은 되지만 print로 출력해보면 안나옴"
   ]
  },
  {
   "cell_type": "code",
   "execution_count": 70,
   "id": "clinical-approach",
   "metadata": {},
   "outputs": [
    {
     "name": "stdout",
     "output_type": "stream",
     "text": [
      "ok\n"
     ]
    }
   ],
   "source": [
    "# 문장 1개를 활용할 딕셔너리와 함께 주면, 단어 인덱스 리스트 벡터로 변환해 주는 함수입니다. \n",
    "# 단, 모든 문장은 <BOS>로 시작하는 것으로 합니다. \n",
    "def get_encoded_sentence(sentence, word_to_index):\n",
    "    return [word_to_index['<BOS>']]+[word_to_index[word] if word in word_to_index else word_to_index['<UNK>'] for word in sentence.split()]\n",
    "\n",
    "# 여러 개의 문장 리스트를 한꺼번에 단어 인덱스 리스트 벡터로 encode해 주는 함수입니다. \n",
    "def get_encoded_sentences(sentences, word_to_index):\n",
    "    return [get_encoded_sentence(sentence, word_to_index) for sentence in sentences]\n",
    "\n",
    "# 숫자 벡터로 encode된 문장을 원래대로 decode하는 함수입니다. \n",
    "def get_decoded_sentence(encoded_sentence, index_to_word):\n",
    "    return ' '.join(index_to_word[index] if index in index_to_word else '<UNK>' for index in encoded_sentence[1:])  #[1:]를 통해 <BOS>를 제외\n",
    "\n",
    "# 여러개의 숫자 벡터로 encode된 문장을 한꺼번에 원래대로 decode하는 함수입니다. \n",
    "def get_decoded_sentences(encoded_sentences, index_to_word):\n",
    "    return [get_decoded_sentence(encoded_sentence, index_to_word) for encoded_sentence in encoded_sentences]\n",
    "print(\"ok\")"
   ]
  },
  {
   "cell_type": "markdown",
   "id": "adjustable-practice",
   "metadata": {},
   "source": [
    "# 3) 모델구성을 위한 데이터 분석 및 가공\n",
    "데이터셋 내 문장 길이 분포\n",
    "적절한 최대 문장 길이 지정\n",
    "keras.preprocessing.sequence.pad_sequences 을 활용한 패딩 추가\n"
   ]
  },
  {
   "cell_type": "code",
   "execution_count": 71,
   "id": "still-funds",
   "metadata": {},
   "outputs": [
    {
     "name": "stdout",
     "output_type": "stream",
     "text": [
      "[32, 611, 4, 4, 40, 228, 20, 33, 743]\n",
      "라벨:  0\n",
      "1번째 리뷰 문장 길이:  9\n",
      "2번째 리뷰 문장 길이:  17\n"
     ]
    }
   ],
   "source": [
    "print(X_train[0])  # 1번째 리뷰데이터\n",
    "print('라벨: ', y_train[0])  # 1번째 리뷰데이터의 라벨\n",
    "print('1번째 리뷰 문장 길이: ', len(X_train[0]))\n",
    "print('2번째 리뷰 문장 길이: ', len(X_train[1]))"
   ]
  },
  {
   "cell_type": "code",
   "execution_count": 72,
   "id": "mighty-incident",
   "metadata": {
    "scrolled": false
   },
   "outputs": [
    {
     "name": "stdout",
     "output_type": "stream",
     "text": [
      "191\n",
      "해\n",
      "10000\n",
      "10000\n"
     ]
    }
   ],
   "source": [
    "print(word_to_index[\"ㅋㅋㅋ\"])     # '69' 가 출력됩니다. \n",
    "print(index_to_word[69])\n",
    "print(len(word_to_index))\n",
    "print(len(index_to_word))"
   ]
  },
  {
   "cell_type": "code",
   "execution_count": 73,
   "id": "brave-journal",
   "metadata": {},
   "outputs": [
    {
     "name": "stdout",
     "output_type": "stream",
     "text": [
      "문장길이 평균 :  15.94005805292338\n",
      "문장길이 최대 :  116\n",
      "문장길이 표준편차 :  12.836374051220329\n"
     ]
    }
   ],
   "source": [
    "total_data_text = list(X_train) + list(X_test)\n",
    "# 텍스트데이터 문장길이의 리스트를 생성한 후\n",
    "num_tokens = [len(tokens) for tokens in total_data_text]\n",
    "num_tokens = np.array(num_tokens)\n",
    "# 문장길이의 평균값, 최대값, 표준편차를 계산해 본다. \n",
    "print('문장길이 평균 : ', np.mean(num_tokens))\n",
    "print('문장길이 최대 : ', np.max(num_tokens))\n",
    "print('문장길이 표준편차 : ', np.std(num_tokens))"
   ]
  },
  {
   "cell_type": "code",
   "execution_count": 74,
   "id": "amber-mercy",
   "metadata": {},
   "outputs": [
    {
     "name": "stdout",
     "output_type": "stream",
     "text": [
      "pad_sequences maxlen :  41\n",
      "전체 문장의 0.9345087258560758%가 maxlen 설정값 이내에 포함됩니다. \n"
     ]
    }
   ],
   "source": [
    "# 예를들어, 최대 길이를 (평균 + 2*표준편차)로 한다면,  \n",
    "max_tokens = np.mean(num_tokens) + 2 * np.std(num_tokens)\n",
    "maxlen = int(max_tokens)\n",
    "print('pad_sequences maxlen : ', maxlen)\n",
    "print('전체 문장의 {}%가 maxlen 설정값 이내에 포함됩니다. '.format(np.sum(num_tokens < max_tokens) / len(num_tokens)))"
   ]
  },
  {
   "cell_type": "markdown",
   "id": "ancient-julian",
   "metadata": {},
   "source": [
    "# 패딩 추가"
   ]
  },
  {
   "cell_type": "code",
   "execution_count": 75,
   "id": "novel-cologne",
   "metadata": {},
   "outputs": [
    {
     "name": "stdout",
     "output_type": "stream",
     "text": [
      "(146182, 41)\n",
      "(49157, 41)\n"
     ]
    }
   ],
   "source": [
    "X_train = keras.preprocessing.sequence.pad_sequences(X_train,\n",
    "                                                        value=word_to_index[\"<PAD>\"],\n",
    "                                                        padding='pre', # 혹은 'pre'\n",
    "                                                        maxlen=maxlen)\n",
    "\n",
    "X_test = keras.preprocessing.sequence.pad_sequences(X_test,\n",
    "                                                       value=word_to_index[\"<PAD>\"],\n",
    "                                                       padding='pre', # 혹은 'pre'\n",
    "                                                       maxlen=maxlen)\n",
    "\n",
    "print(X_train.shape)\n",
    "print(X_test.shape)"
   ]
  },
  {
   "cell_type": "code",
   "execution_count": 76,
   "id": "specified-rover",
   "metadata": {},
   "outputs": [
    {
     "name": "stdout",
     "output_type": "stream",
     "text": [
      "문장길이 평균 :  41.0\n",
      "문장길이 최대 :  41\n",
      "문장길이 표준편차 :  0.0\n"
     ]
    }
   ],
   "source": [
    "total_data_text = list(X_train) + list(X_test)\n",
    "# 텍스트데이터 문장길이의 리스트를 생성한 후\n",
    "num_tokens = [len(tokens) for tokens in total_data_text]\n",
    "num_tokens = np.array(num_tokens)\n",
    "# 문장길이의 평균값, 최대값, 표준편차를 계산해 본다. \n",
    "print('문장길이 평균 : ', np.mean(num_tokens))\n",
    "print('문장길이 최대 : ', np.max(num_tokens))\n",
    "print('문장길이 표준편차 : ', np.std(num_tokens))"
   ]
  },
  {
   "cell_type": "code",
   "execution_count": 77,
   "id": "parental-canadian",
   "metadata": {},
   "outputs": [
    {
     "name": "stdout",
     "output_type": "stream",
     "text": [
      "[  0   0   0   0   0   0   0   0   0   0   0   0   0   0   0   0   0   0\n",
      "   0   0   0   0   0   0   0   0   0   0   0   0   0   0  32 611   4   4\n",
      "  40 228  20  33 743]\n",
      "라벨:  0\n",
      "1번째 리뷰 문장 길이:  41\n",
      "2번째 리뷰 문장 길이:  41\n"
     ]
    }
   ],
   "source": [
    "print(X_train[0])  # 1번째 리뷰데이터\n",
    "print('라벨: ', y_train[0])  # 1번째 리뷰데이터의 라벨\n",
    "print('1번째 리뷰 문장 길이: ', len(X_train[0]))\n",
    "print('2번째 리뷰 문장 길이: ', len(X_train[1]))"
   ]
  },
  {
   "cell_type": "markdown",
   "id": "final-acquisition",
   "metadata": {},
   "source": [
    "# 4) 모델구성 및 validation set 구성\n",
    "모델은 3가지 이상 다양하게 구성하여 실험해 보세요."
   ]
  },
  {
   "cell_type": "code",
   "execution_count": 78,
   "id": "smaller-bradford",
   "metadata": {},
   "outputs": [
    {
     "name": "stdout",
     "output_type": "stream",
     "text": [
      "(116182, 41)\n",
      "(116182,)\n"
     ]
    }
   ],
   "source": [
    "# validation set 30000건 분리 train set의 약 20%\n",
    "X_val = X_train[:30000]   \n",
    "y_val = y_train[:30000]\n",
    "\n",
    "# validation set을 제외한 나머지 30000건\n",
    "partial_X_train = X_train[30000:]  \n",
    "partial_y_train = y_train[30000:]\n",
    "\n",
    "print(partial_X_train.shape)\n",
    "print(partial_y_train.shape)"
   ]
  },
  {
   "cell_type": "markdown",
   "id": "corrected-criterion",
   "metadata": {},
   "source": [
    "# 5) 모델 훈련 개시"
   ]
  },
  {
   "cell_type": "markdown",
   "id": "connected-fraction",
   "metadata": {},
   "source": [
    "## RNN"
   ]
  },
  {
   "cell_type": "code",
   "execution_count": 79,
   "id": "african-ferry",
   "metadata": {
    "scrolled": true
   },
   "outputs": [
    {
     "name": "stdout",
     "output_type": "stream",
     "text": [
      "Model: \"sequential_9\"\n",
      "_________________________________________________________________\n",
      "Layer (type)                 Output Shape              Param #   \n",
      "=================================================================\n",
      "embedding_9 (Embedding)      (None, None, 4)           40000     \n",
      "_________________________________________________________________\n",
      "lstm_9 (LSTM)                (None, 8)                 416       \n",
      "_________________________________________________________________\n",
      "dense_18 (Dense)             (None, 128)               1152      \n",
      "_________________________________________________________________\n",
      "dense_19 (Dense)             (None, 1)                 129       \n",
      "=================================================================\n",
      "Total params: 41,697\n",
      "Trainable params: 41,697\n",
      "Non-trainable params: 0\n",
      "_________________________________________________________________\n"
     ]
    }
   ],
   "source": [
    "# RNN 모델 구성\n",
    "vocab_size = 10000  # 어휘 사전의 크기입니다(10개의 단어)\n",
    "word_vector_dim = 4  # 단어 하나를 표현하는 임베딩 벡터의 차원수입니다. \n",
    "\n",
    "rnn_ver3_model = keras.Sequential()\n",
    "rnn_ver3_model.add(keras.layers.Embedding(vocab_size, word_vector_dim, input_shape=(None,)))\n",
    "rnn_ver3_model.add(keras.layers.LSTM(8))\n",
    "rnn_ver3_model.add(keras.layers.Dense(128, activation='relu'))\n",
    "rnn_ver3_model.add(keras.layers.Dense(1, activation='sigmoid'))  # 최종 출력은 긍정/부정을 나타내는 1dim 입니다.\n",
    "\n",
    "rnn_ver3_model.summary()"
   ]
  },
  {
   "cell_type": "markdown",
   "id": "vanilla-guide",
   "metadata": {},
   "source": [
    "# 학습 개시"
   ]
  },
  {
   "cell_type": "code",
   "execution_count": 80,
   "id": "interesting-taylor",
   "metadata": {},
   "outputs": [
    {
     "name": "stdout",
     "output_type": "stream",
     "text": [
      "Epoch 1/5\n",
      "227/227 [==============================] - 1s 5ms/step - loss: 0.5006 - accuracy: 0.7483 - val_loss: 0.3632 - val_accuracy: 0.8414\n",
      "Epoch 2/5\n",
      "227/227 [==============================] - 1s 4ms/step - loss: 0.3428 - accuracy: 0.8540 - val_loss: 0.3460 - val_accuracy: 0.8496\n",
      "Epoch 3/5\n",
      "227/227 [==============================] - 1s 4ms/step - loss: 0.3229 - accuracy: 0.8646 - val_loss: 0.3458 - val_accuracy: 0.8494\n",
      "Epoch 4/5\n",
      "227/227 [==============================] - 1s 4ms/step - loss: 0.3128 - accuracy: 0.8698 - val_loss: 0.3511 - val_accuracy: 0.8480\n",
      "Epoch 5/5\n",
      "227/227 [==============================] - 1s 4ms/step - loss: 0.3065 - accuracy: 0.8720 - val_loss: 0.3593 - val_accuracy: 0.8463\n",
      "3631/3631 - 6s - loss: 0.2960 - accuracy: 0.8782\n",
      "train_loss: 0.29603612422943115 \n",
      "train_accuracy: 0.8781825304031372\n"
     ]
    }
   ],
   "source": [
    "rnn_ver3_model.compile(optimizer='adam',\n",
    "              loss='binary_crossentropy',\n",
    "              metrics=['accuracy'])\n",
    "              \n",
    "epochs = 5  # 몇 epoch를 훈련하면 좋을지 결과를 보면서 바꾸어 봅시다. \n",
    "\n",
    "history = rnn_ver3_model.fit(partial_X_train,\n",
    "                    partial_y_train,\n",
    "                    epochs=epochs,\n",
    "                    batch_size=512,\n",
    "                    validation_data=(X_val, y_val),\n",
    "                    verbose=1)\n",
    "\n",
    "train_loss, train_accuracy = rnn_ver3_model.evaluate(partial_X_train, partial_y_train, verbose=2)\n",
    "\n",
    "print(\"train_loss: {} \".format(train_loss))\n",
    "print(\"train_accuracy: {}\".format(train_accuracy))"
   ]
  },
  {
   "cell_type": "code",
   "execution_count": 82,
   "id": "ancient-fountain",
   "metadata": {
    "scrolled": true
   },
   "outputs": [
    {
     "name": "stdout",
     "output_type": "stream",
     "text": [
      "1537/1537 - 2s - loss: 0.3679 - accuracy: 0.8414\n",
      "[0.36787649989128113, 0.8414061069488525]\n"
     ]
    }
   ],
   "source": [
    "# 테스트셋 평가\n",
    "results = rnn_ver3_model.evaluate(X_test,  y_test, verbose=2)\n",
    "\n",
    "print(results)"
   ]
  },
  {
   "cell_type": "markdown",
   "id": "intelligent-bibliography",
   "metadata": {},
   "source": [
    "# 6) Loss, Accuracy 그래프 시각화"
   ]
  },
  {
   "cell_type": "code",
   "execution_count": 85,
   "id": "distinct-massage",
   "metadata": {
    "scrolled": false
   },
   "outputs": [
    {
     "name": "stdout",
     "output_type": "stream",
     "text": [
      "dict_keys(['loss', 'accuracy', 'val_loss', 'val_accuracy'])\n"
     ]
    }
   ],
   "source": [
    "history_dict = history.history\n",
    "print(history_dict.keys()) # epoch에 따른 그래프를 그려볼 수 있는 항목들"
   ]
  },
  {
   "cell_type": "code",
   "execution_count": 87,
   "id": "comic-moore",
   "metadata": {
    "scrolled": false
   },
   "outputs": [
    {
     "data": {
      "image/png": "[encoded data removed]",
      "text/plain": [
       "<Figure size 432x288 with 1 Axes>"
      ]
     },
     "metadata": {
      "needs_background": "light"
     },
     "output_type": "display_data"
    }
   ],
   "source": [
    "import matplotlib.pyplot as plt\n",
    "\n",
    "acc = history_dict['accuracy']\n",
    "val_acc = history_dict['val_accuracy']\n",
    "loss = history_dict['loss']\n",
    "val_loss = history_dict['val_loss']\n",
    "\n",
    "epochs = range(1, len(acc) + 1)\n",
    "\n",
    "# \"bo\"는 \"파란색 점\"입니다\n",
    "plt.plot(epochs, loss, 'bo', label='Training loss')\n",
    "# b는 \"파란 실선\"입니다\n",
    "plt.plot(epochs, val_loss, 'b', label='Validation loss')\n",
    "plt.title('Training and validation loss')\n",
    "plt.xlabel('Epochs')\n",
    "plt.ylabel('Loss')\n",
    "plt.legend()\n",
    "\n",
    "plt.show()"
   ]
  },
  {
   "cell_type": "markdown",
   "id": "front-diagnosis",
   "metadata": {},
   "source": [
    "# 총평"
   ]
  },
  {
   "cell_type": "markdown",
   "id": "exterior-coverage",
   "metadata": {},
   "source": [
    "1. SentencePiece를 이용하여 모델을 만들기까지의 과정이 정상적으로 진행되었는가?  \n",
    "코퍼스 분석, 전처리, SentencePiece 적용, 토크나이저 구현 및 동작이 빠짐없이 진행되었는가?\n",
    "\n",
    "2. SentencePiece를 통해 만든 Tokenizer가 자연어처리 모델과 결합하여 동작하는가?  \n",
    "SentencePiece 토크나이저가 적용된 Text Classifier 모델이 정상적으로 수렴하여 80% 이상의 test accuracy가 확인되었다.\n",
    "\n",
    "3. SentencePiece의 성능을 다각도로 비교분석하였는가?  \n",
    "SentencePiece 토크나이저를 활용했을 때의 성능을 다른 토크나이저 혹은 SentencePiece의 다른 옵션의 경우와 비교하여 분석을 체계적으로 진행하였다."
   ]
  },
  {
   "cell_type": "markdown",
   "id": "cultural-dating",
   "metadata": {},
   "source": [
    "이전 익스 노드인 네이버 영화 리뷰 분석을 참고해서 진행했다.  \n",
    "이걸 내가 했다기 보다 이거보고 저거보고 해서 어찌어찌 된 느낌이다.  \n",
    "\n",
    "그래도 긍정적인 것은 dp2에서 토큰화에 대해 좀 알 수 있었는데 공백기반과 형태소기반에 대해서는 조금? 감이 잡히지만 sentencepiece는 뭔지 잘 모르겠고 아직도 인공지능을 어떻게 해서 모델에 적용시키는지 잘 모르겠다. 아직도 정확한 느낌이 안 오는 것 같다. 뭔가 알듯하다가 다시 모르는 기분..\n",
    "\n",
    "어쨋든 결과값은 출력했고 초기에 epoch를 작게하니 accuracy가 50%정도가 나오길래 epoch를 높혔더니 80%이상을 얻을 수 있었다.  \n",
    "그러나 training loss와 val loss가 저렇게 멀어지는 건 별로 안 좋다고 했던 것 같은데? 저걸 어떻게 조정해야하는지는 모르겠다.  \n",
    "\n",
    "mecab을 사용했을땐 이전 노드를 그대로 복사해서 왔는데 epoch5만으로도 80% 이상의 성능이 나왔다.\n",
    "\n",
    "이것만 보면 내가 sentencepice를 제대로 적용하지 못한 것 같다."
   ]
  }
 ],
 "metadata": {
  "kernelspec": {
   "display_name": "aiffel",
   "language": "python",
   "name": "aiffel"
  },
  "language_info": {
   "codemirror_mode": {
    "name": "ipython",
    "version": 3
   },
   "file_extension": ".py",
   "mimetype": "text/x-python",
   "name": "python",
   "nbconvert_exporter": "python",
   "pygments_lexer": "ipython3",
   "version": "3.7.9"
  }
 },
 "nbformat": 4,
 "nbformat_minor": 5
}
