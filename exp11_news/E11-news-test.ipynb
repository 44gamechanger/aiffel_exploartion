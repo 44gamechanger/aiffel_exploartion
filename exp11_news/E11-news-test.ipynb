{
 "cells": [
  {
   "cell_type": "markdown",
   "id": "strategic-guatemala",
   "metadata": {},
   "source": [
    "---"
   ]
  },
  {
   "cell_type": "markdown",
   "id": "sensitive-richardson",
   "metadata": {},
   "source": [
    "# 11-13. 프로젝트: 뉴스기사 요약해보기\n"
   ]
  },
  {
   "cell_type": "code",
   "execution_count": 4,
   "id": "described-arrow",
   "metadata": {},
   "outputs": [
    {
     "name": "stderr",
     "output_type": "stream",
     "text": [
      "[nltk_data] Downloading package stopwords to /home/aiffel-\n",
      "[nltk_data]     dj47/nltk_data...\n",
      "[nltk_data]   Package stopwords is already up-to-date!\n"
     ]
    }
   ],
   "source": [
    "# nltk패키지에서 불용어 사전을 다운로드 받고 데이터 전처리를 위한 패키지 불러오기\n",
    "import nltk\n",
    "nltk.download('stopwords')\n",
    "\n",
    "import numpy as np\n",
    "import pandas as pd\n",
    "import os\n",
    "import re\n",
    "import matplotlib.pyplot as plt\n",
    "from nltk.corpus import stopwords\n",
    "from bs4 import BeautifulSoup \n",
    "from tensorflow.keras.preprocessing.text import Tokenizer \n",
    "from tensorflow.keras.preprocessing.sequence import pad_sequences\n",
    "import urllib.request"
   ]
  },
  {
   "cell_type": "markdown",
   "id": "educational-developer",
   "metadata": {},
   "source": [
    "## Step 1. 데이터 수집하기\n"
   ]
  },
  {
   "cell_type": "code",
   "execution_count": 5,
   "id": "fifth-apparel",
   "metadata": {},
   "outputs": [],
   "source": [
    "import urllib.request\n",
    "import pandas as pd\n",
    "import numpy as np\n",
    "import matplotlib.pyplot as plt\n",
    "\n",
    "urllib.request.urlretrieve(\"https://raw.githubusercontent.com/sunnysai12345/News_Summary/master/news_summary_more.csv\", filename=\"news_summary_more.csv\")\n",
    "data = pd.read_csv('news_summary_more.csv', encoding='iso-8859-1')"
   ]
  },
  {
   "cell_type": "code",
   "execution_count": 6,
   "id": "existing-geography",
   "metadata": {},
   "outputs": [
    {
     "data": {
      "text/html": [
       "<div>\n",
       "<style scoped>\n",
       "    .dataframe tbody tr th:only-of-type {\n",
       "        vertical-align: middle;\n",
       "    }\n",
       "\n",
       "    .dataframe tbody tr th {\n",
       "        vertical-align: top;\n",
       "    }\n",
       "\n",
       "    .dataframe thead th {\n",
       "        text-align: right;\n",
       "    }\n",
       "</style>\n",
       "<table border=\"1\" class=\"dataframe\">\n",
       "  <thead>\n",
       "    <tr style=\"text-align: right;\">\n",
       "      <th></th>\n",
       "      <th>headlines</th>\n",
       "      <th>text</th>\n",
       "    </tr>\n",
       "  </thead>\n",
       "  <tbody>\n",
       "    <tr>\n",
       "      <th>32053</th>\n",
       "      <td>Lawyers object to Sibal as advocate in plea on...</td>\n",
       "      <td>Two lawyers on Tuesday objected to Congress le...</td>\n",
       "    </tr>\n",
       "    <tr>\n",
       "      <th>38182</th>\n",
       "      <td>HDFC Bank CEO Aditya Puri earns Ã¢ÂÂ¹2.64 lak...</td>\n",
       "      <td>HDFC Bank MD and CEO Aditya Puri's average tot...</td>\n",
       "    </tr>\n",
       "    <tr>\n",
       "      <th>93329</th>\n",
       "      <td>Daredevils ease to 51-run win over Kings XI Pu...</td>\n",
       "      <td>Delhi Daredevils eased to a 51-run win over Ki...</td>\n",
       "    </tr>\n",
       "    <tr>\n",
       "      <th>70087</th>\n",
       "      <td>Darjeeling Villa where Sister Nivedita died da...</td>\n",
       "      <td>The historic Roy Villa in Darjeeling, where Sw...</td>\n",
       "    </tr>\n",
       "    <tr>\n",
       "      <th>79495</th>\n",
       "      <td>Former Sa Re Ga Ma Pa contestant Zain Ali foun...</td>\n",
       "      <td>Zain Ali, an ex-contestant on music reality sh...</td>\n",
       "    </tr>\n",
       "    <tr>\n",
       "      <th>28338</th>\n",
       "      <td>Which defending champs have made 1st round Wor...</td>\n",
       "      <td>Winners of 1934 and 1938 FIFA World Cups, Ital...</td>\n",
       "    </tr>\n",
       "    <tr>\n",
       "      <th>43314</th>\n",
       "      <td>Nobody is more secular than Hindus: UP CM Adit...</td>\n",
       "      <td>Talking about secularism at a summit on Saturd...</td>\n",
       "    </tr>\n",
       "    <tr>\n",
       "      <th>30053</th>\n",
       "      <td>Almost on my way: Nurse who died of Nipah in n...</td>\n",
       "      <td>The Kerala nurse who died reportedly due to Ni...</td>\n",
       "    </tr>\n",
       "    <tr>\n",
       "      <th>81042</th>\n",
       "      <td>US airlines crap, their crew grandmothers: Qat...</td>\n",
       "      <td>Qatar Airways' CEO Akbar Al Baker has been cri...</td>\n",
       "    </tr>\n",
       "    <tr>\n",
       "      <th>77633</th>\n",
       "      <td>Will give up life but never support state's di...</td>\n",
       "      <td>Reacting to the protests demanding separate st...</td>\n",
       "    </tr>\n",
       "  </tbody>\n",
       "</table>\n",
       "</div>"
      ],
      "text/plain": [
       "                                               headlines  \\\n",
       "32053  Lawyers object to Sibal as advocate in plea on...   \n",
       "38182  HDFC Bank CEO Aditya Puri earns Ã¢ÂÂ¹2.64 lak...   \n",
       "93329  Daredevils ease to 51-run win over Kings XI Pu...   \n",
       "70087  Darjeeling Villa where Sister Nivedita died da...   \n",
       "79495  Former Sa Re Ga Ma Pa contestant Zain Ali foun...   \n",
       "28338  Which defending champs have made 1st round Wor...   \n",
       "43314  Nobody is more secular than Hindus: UP CM Adit...   \n",
       "30053  Almost on my way: Nurse who died of Nipah in n...   \n",
       "81042  US airlines crap, their crew grandmothers: Qat...   \n",
       "77633  Will give up life but never support state's di...   \n",
       "\n",
       "                                                    text  \n",
       "32053  Two lawyers on Tuesday objected to Congress le...  \n",
       "38182  HDFC Bank MD and CEO Aditya Puri's average tot...  \n",
       "93329  Delhi Daredevils eased to a 51-run win over Ki...  \n",
       "70087  The historic Roy Villa in Darjeeling, where Sw...  \n",
       "79495  Zain Ali, an ex-contestant on music reality sh...  \n",
       "28338  Winners of 1934 and 1938 FIFA World Cups, Ital...  \n",
       "43314  Talking about secularism at a summit on Saturd...  \n",
       "30053  The Kerala nurse who died reportedly due to Ni...  \n",
       "81042  Qatar Airways' CEO Akbar Al Baker has been cri...  \n",
       "77633  Reacting to the protests demanding separate st...  "
      ]
     },
     "execution_count": 6,
     "metadata": {},
     "output_type": "execute_result"
    }
   ],
   "source": [
    "data.sample(10)"
   ]
  },
  {
   "cell_type": "markdown",
   "id": "alpine-analysis",
   "metadata": {},
   "source": [
    "이 데이터는 기사의 본문에 해당되는 text와 headlines 두 가지 열로 구성되어져 있습니다.\n",
    "\n",
    "추상적 요약을 하는 경우에는 text를 본문, headlines를 이미 요약된 데이터로 삼아서 모델을 학습할 수 있어요. 추출적 요약을 하는 경우에는 오직 text열만을 사용하세요."
   ]
  },
  {
   "cell_type": "markdown",
   "id": "spread-joining",
   "metadata": {},
   "source": [
    "## Step 2. 데이터 전처리하기 (추상적 요약)\n",
    "실습에서 사용된 전처리를 참고하여 각자 필요하다고 생각하는 전처리를 추가 사용하여 텍스트를 정규화 또는 정제해 보세요. 만약, 불용어 제거를 선택한다면 상대적으로 길이가 짧은 요약 데이터에 대해서도 불용어를 제거하는 것이 좋을지 고민해보세요."
   ]
  },
  {
   "cell_type": "code",
   "execution_count": 7,
   "id": "smaller-summary",
   "metadata": {},
   "outputs": [
    {
     "name": "stdout",
     "output_type": "stream",
     "text": [
      "text 열에서 중복을 배제한 유일한 샘플의 수 : 98360\n",
      "headlines 열에서 중복을 배제한 유일한 샘플의 수 : 98280\n"
     ]
    }
   ],
   "source": [
    "# 중복 여부 확인\n",
    "print('text 열에서 중복을 배제한 유일한 샘플의 수 :', data['text'].nunique())\n",
    "print('headlines 열에서 중복을 배제한 유일한 샘플의 수 :', data['headlines'].nunique())"
   ]
  },
  {
   "cell_type": "code",
   "execution_count": 8,
   "id": "rental-mason",
   "metadata": {},
   "outputs": [
    {
     "name": "stdout",
     "output_type": "stream",
     "text": [
      "전체샘플 수 98360\n"
     ]
    }
   ],
   "source": [
    "# headlines의 경우 간단한 요약으로 같을 수 있지만 text자체가 중복된 건 제거해줘야함\n",
    "data.drop_duplicates(subset='text', inplace=True)\n",
    "print('전체샘플 수', len(data))"
   ]
  },
  {
   "cell_type": "code",
   "execution_count": 9,
   "id": "corporate-functionality",
   "metadata": {},
   "outputs": [
    {
     "data": {
      "text/plain": [
       "headlines    0\n",
       "text         0\n",
       "dtype: int64"
      ]
     },
     "execution_count": 9,
     "metadata": {},
     "output_type": "execute_result"
    }
   ],
   "source": [
    "# drop_duplicates()가 중복된 null을 지워주긴 했지만 여전히 남아 있을 수 있음\n",
    "# .isnull().sum()으로 확인\n",
    "data.isnull().sum()"
   ]
  },
  {
   "cell_type": "code",
   "execution_count": 10,
   "id": "overhead-ballot",
   "metadata": {},
   "outputs": [
    {
     "name": "stdout",
     "output_type": "stream",
     "text": [
      "정규화 사전의 수:  120\n"
     ]
    }
   ],
   "source": [
    "# 텍스트 정규화\n",
    "contractions = {\"ain't\": \"is not\", \"aren't\": \"are not\",\"can't\": \"cannot\", \"'cause\": \"because\", \"could've\": \"could have\", \"couldn't\": \"could not\",\n",
    "                           \"didn't\": \"did not\",  \"doesn't\": \"does not\", \"don't\": \"do not\", \"hadn't\": \"had not\", \"hasn't\": \"has not\", \"haven't\": \"have not\",\n",
    "                           \"he'd\": \"he would\",\"he'll\": \"he will\", \"he's\": \"he is\", \"how'd\": \"how did\", \"how'd'y\": \"how do you\", \"how'll\": \"how will\", \"how's\": \"how is\",\n",
    "                           \"I'd\": \"I would\", \"I'd've\": \"I would have\", \"I'll\": \"I will\", \"I'll've\": \"I will have\",\"I'm\": \"I am\", \"I've\": \"I have\", \"i'd\": \"i would\",\n",
    "                           \"i'd've\": \"i would have\", \"i'll\": \"i will\",  \"i'll've\": \"i will have\",\"i'm\": \"i am\", \"i've\": \"i have\", \"isn't\": \"is not\", \"it'd\": \"it would\",\n",
    "                           \"it'd've\": \"it would have\", \"it'll\": \"it will\", \"it'll've\": \"it will have\",\"it's\": \"it is\", \"let's\": \"let us\", \"ma'am\": \"madam\",\n",
    "                           \"mayn't\": \"may not\", \"might've\": \"might have\",\"mightn't\": \"might not\",\"mightn't've\": \"might not have\", \"must've\": \"must have\",\n",
    "                           \"mustn't\": \"must not\", \"mustn't've\": \"must not have\", \"needn't\": \"need not\", \"needn't've\": \"need not have\",\"o'clock\": \"of the clock\",\n",
    "                           \"oughtn't\": \"ought not\", \"oughtn't've\": \"ought not have\", \"shan't\": \"shall not\", \"sha'n't\": \"shall not\", \"shan't've\": \"shall not have\",\n",
    "                           \"she'd\": \"she would\", \"she'd've\": \"she would have\", \"she'll\": \"she will\", \"she'll've\": \"she will have\", \"she's\": \"she is\",\n",
    "                           \"should've\": \"should have\", \"shouldn't\": \"should not\", \"shouldn't've\": \"should not have\", \"so've\": \"so have\",\"so's\": \"so as\",\n",
    "                           \"this's\": \"this is\",\"that'd\": \"that would\", \"that'd've\": \"that would have\", \"that's\": \"that is\", \"there'd\": \"there would\",\n",
    "                           \"there'd've\": \"there would have\", \"there's\": \"there is\", \"here's\": \"here is\",\"they'd\": \"they would\", \"they'd've\": \"they would have\",\n",
    "                           \"they'll\": \"they will\", \"they'll've\": \"they will have\", \"they're\": \"they are\", \"they've\": \"they have\", \"to've\": \"to have\",\n",
    "                           \"wasn't\": \"was not\", \"we'd\": \"we would\", \"we'd've\": \"we would have\", \"we'll\": \"we will\", \"we'll've\": \"we will have\", \"we're\": \"we are\",\n",
    "                           \"we've\": \"we have\", \"weren't\": \"were not\", \"what'll\": \"what will\", \"what'll've\": \"what will have\", \"what're\": \"what are\",\n",
    "                           \"what's\": \"what is\", \"what've\": \"what have\", \"when's\": \"when is\", \"when've\": \"when have\", \"where'd\": \"where did\", \"where's\": \"where is\",\n",
    "                           \"where've\": \"where have\", \"who'll\": \"who will\", \"who'll've\": \"who will have\", \"who's\": \"who is\", \"who've\": \"who have\",\n",
    "                           \"why's\": \"why is\", \"why've\": \"why have\", \"will've\": \"will have\", \"won't\": \"will not\", \"won't've\": \"will not have\",\n",
    "                           \"would've\": \"would have\", \"wouldn't\": \"would not\", \"wouldn't've\": \"would not have\", \"y'all\": \"you all\",\n",
    "                           \"y'all'd\": \"you all would\",\"y'all'd've\": \"you all would have\",\"y'all're\": \"you all are\",\"y'all've\": \"you all have\",\n",
    "                           \"you'd\": \"you would\", \"you'd've\": \"you would have\", \"you'll\": \"you will\", \"you'll've\": \"you will have\",\n",
    "                           \"you're\": \"you are\", \"you've\": \"you have\"}\n",
    "\n",
    "print(\"정규화 사전의 수: \",len(contractions))"
   ]
  },
  {
   "cell_type": "code",
   "execution_count": 11,
   "id": "imported-sherman",
   "metadata": {},
   "outputs": [
    {
     "name": "stdout",
     "output_type": "stream",
     "text": [
      "불용어 개수 : 179\n",
      "['i', 'me', 'my', 'myself', 'we', 'our', 'ours', 'ourselves', 'you', \"you're\", \"you've\", \"you'll\", \"you'd\", 'your', 'yours', 'yourself', 'yourselves', 'he', 'him', 'his', 'himself', 'she', \"she's\", 'her', 'hers', 'herself', 'it', \"it's\", 'its', 'itself', 'they', 'them', 'their', 'theirs', 'themselves', 'what', 'which', 'who', 'whom', 'this', 'that', \"that'll\", 'these', 'those', 'am', 'is', 'are', 'was', 'were', 'be', 'been', 'being', 'have', 'has', 'had', 'having', 'do', 'does', 'did', 'doing', 'a', 'an', 'the', 'and', 'but', 'if', 'or', 'because', 'as', 'until', 'while', 'of', 'at', 'by', 'for', 'with', 'about', 'against', 'between', 'into', 'through', 'during', 'before', 'after', 'above', 'below', 'to', 'from', 'up', 'down', 'in', 'out', 'on', 'off', 'over', 'under', 'again', 'further', 'then', 'once', 'here', 'there', 'when', 'where', 'why', 'how', 'all', 'any', 'both', 'each', 'few', 'more', 'most', 'other', 'some', 'such', 'no', 'nor', 'not', 'only', 'own', 'same', 'so', 'than', 'too', 'very', 's', 't', 'can', 'will', 'just', 'don', \"don't\", 'should', \"should've\", 'now', 'd', 'll', 'm', 'o', 're', 've', 'y', 'ain', 'aren', \"aren't\", 'couldn', \"couldn't\", 'didn', \"didn't\", 'doesn', \"doesn't\", 'hadn', \"hadn't\", 'hasn', \"hasn't\", 'haven', \"haven't\", 'isn', \"isn't\", 'ma', 'mightn', \"mightn't\", 'mustn', \"mustn't\", 'needn', \"needn't\", 'shan', \"shan't\", 'shouldn', \"shouldn't\", 'wasn', \"wasn't\", 'weren', \"weren't\", 'won', \"won't\", 'wouldn', \"wouldn't\"]\n"
     ]
    }
   ],
   "source": [
    "# 불용어 제거\n",
    "print('불용어 개수 :', len(stopwords.words('english') ))\n",
    "print(stopwords.words('english'))"
   ]
  },
  {
   "cell_type": "code",
   "execution_count": 12,
   "id": "attractive-failing",
   "metadata": {},
   "outputs": [],
   "source": [
    "#데이터 전처리 함수\n",
    "def preprocess_sentence(sentence, remove_stopwords=True):\n",
    "    sentence = sentence.lower() # 텍스트 소문자화\n",
    "    sentence = BeautifulSoup(sentence, \"lxml\").text # <br />, <a href = ...> 등의 html 태그 제거\n",
    "    sentence = re.sub(r'\\([^)]*\\)', '', sentence) # 괄호로 닫힌 문자열 (...) 제거 Ex) my husband (and myself!) for => my husband for\n",
    "    sentence = re.sub('\"','', sentence) # 쌍따옴표 \" 제거\n",
    "    sentence = ' '.join([contractions[t] if t in contractions else t for t in sentence.split(\" \")]) # 약어 정규화\n",
    "    sentence = re.sub(r\"'s\\b\",\"\",sentence) # 소유격 제거. Ex) roland's -> roland\n",
    "    sentence = re.sub(\"[^a-zA-Z]\", \" \", sentence) # 영어 외 문자(숫자, 특수문자 등) 공백으로 변환\n",
    "    sentence = re.sub('[m]{2,}', 'mm', sentence) # m이 3개 이상이면 2개로 변경. Ex) ummmmmmm yeah -> umm yeah\n",
    "    \n",
    "    # 불용어 제거 (text)\n",
    "    if remove_stopwords:\n",
    "        tokens = ' '.join(word for word in sentence.split() if not word in stopwords.words('english') if len(word) > 1)\n",
    "    # 불용어 미제거 (headlines)\n",
    "    else:\n",
    "        tokens = ' '.join(word for word in sentence.split() if len(word) > 1)\n",
    "    return tokens"
   ]
  },
  {
   "cell_type": "code",
   "execution_count": 13,
   "id": "south-ecuador",
   "metadata": {},
   "outputs": [
    {
     "name": "stdout",
     "output_type": "stream",
     "text": [
      "everything bought great infact ordered twice third ordered wasfor mother father\n",
      "great way to start the day\n"
     ]
    }
   ],
   "source": [
    "# 전처리 전, 후 결과를 확인하기 위해 임의의 text와 summary를 만들어 함수 호출\n",
    "\n",
    "temp_text = 'Everything I bought was great, infact I ordered twice and the third ordered was<br />for my mother and father.'\n",
    "temp_headlines = 'Great way to start (or finish) the day!!!'\n",
    "\n",
    "print(preprocess_sentence(temp_text))\n",
    "print(preprocess_sentence(temp_headlines, False))  # 불용어를 제거하지 않습니다."
   ]
  },
  {
   "cell_type": "code",
   "execution_count": 14,
   "id": "moderate-absorption",
   "metadata": {},
   "outputs": [
    {
     "data": {
      "text/plain": [
       "['saurav kant alumnus upgrad iiit pg program machine learning artificial intelligence sr systems engineer infosys almost years work experience program upgrad degree career support helped transition data scientist tech mahindra salary hike upgrad online power learning powered lakh careers',\n",
       " 'kunal shah credit card bill payment platform cred gave users chance win free food swiggy one year pranav kaushik delhi techie bagged reward spending cred coins users get one cred coin per rupee bill paid used avail rewards brands like ixigo bookmyshow ubereats cult fit',\n",
       " 'new zealand defeated india wickets fourth odi hamilton thursday win first match five match odi series india lost international match rohit sharma captaincy consecutive victories dating back march match witnessed india getting seventh lowest total odi cricket history',\n",
       " 'aegon life iterm insurance plan customers enjoy tax benefits premiums paid save taxes plan provides life cover age years also customers options insure critical illnesses disability accidental death benefit rider life cover age years',\n",
       " 'speaking sexual harassment allegations rajkumar hirani sonam kapoor said known hirani many years true metoo movement get derailed metoo movement always believe woman case need reserve judgment added hirani accused assistant worked sanju']"
      ]
     },
     "execution_count": 14,
     "metadata": {},
     "output_type": "execute_result"
    }
   ],
   "source": [
    "# 훈련 데이터 전체에 대해서 전처리\n",
    "# 이때 text의 경우 불용어를 제거하고 Summary는 불용어를 제거하지 않을 것이므루 따로 호출해서 진행해야함\n",
    "# text를 전처리하고 결과 출력\n",
    "\n",
    "clean_text = []\n",
    "\n",
    "# 전체 Text데이터에 대한 전처리: 10분이상 걸릴 수 있음\n",
    "for s in data['text']:\n",
    "    clean_text.append(preprocess_sentence(s))\n",
    "    \n",
    "# 전처리 후 출력\n",
    "clean_text[:5]"
   ]
  },
  {
   "cell_type": "code",
   "execution_count": 16,
   "id": "nonprofit-remainder",
   "metadata": {},
   "outputs": [],
   "source": [
    "# summary에 대해서 불용어 제거를 수행하지 안흔 의미에서 두번째 인자를 False로 넣어줌\n",
    "\n",
    "clean_headlines = []\n",
    "\n",
    "# 전체 summary데이터에 대한 전처리\n",
    "for s in data['headlines']:\n",
    "    clean_headlines.append(preprocess_sentence(s, False))"
   ]
  },
  {
   "cell_type": "code",
   "execution_count": 17,
   "id": "maritime-crossing",
   "metadata": {},
   "outputs": [],
   "source": [
    "# 데이터 정제 과정을 거친 후 empty 샘플이 생겼는지 확인해보느 넋이 좋음\n",
    "# 데이터 정제 저넹는 데이터가 존재했지만, 정제과정에서 문장의 모든 단어가 사라지는 경우가 있음\n",
    "\n",
    "# 보다 쉽게 확인하기 위해 데이터프레임에 재저장 그리고 empty값은 null값을 가진 샘플로 대체\n",
    "\n",
    "data['text'] = clean_text\n",
    "data['headlines'] = clean_headlines\n",
    "\n",
    "# 빈 값을 Null값으로 변환\n",
    "data.replace('', np.nan, inplace=True)"
   ]
  },
  {
   "cell_type": "code",
   "execution_count": 18,
   "id": "suspected-spice",
   "metadata": {},
   "outputs": [
    {
     "data": {
      "text/plain": [
       "headlines    0\n",
       "text         0\n",
       "dtype: int64"
      ]
     },
     "execution_count": 18,
     "metadata": {},
     "output_type": "execute_result"
    }
   ],
   "source": [
    "# .isnull().sum()을 사용하여 Null값이 생겼는지 확인\n",
    "data.isnull().sum()"
   ]
  },
  {
   "cell_type": "markdown",
   "id": "silver-swimming",
   "metadata": {},
   "source": [
    "#### 훈련데이터와 테스트 데이터 나누기"
   ]
  },
  {
   "cell_type": "code",
   "execution_count": 20,
   "id": "fabulous-england",
   "metadata": {
    "scrolled": true
   },
   "outputs": [
    {
     "name": "stdout",
     "output_type": "stream",
     "text": [
      "텍스트의 최소 길이 : 1\n",
      "텍스트의 최대 길이 : 60\n",
      "텍스트의 평균 길이 : 35.09968483123221\n",
      "요약의 최소 길이 : 1\n",
      "요약의 최대 길이 : 16\n",
      "요약의 평균 길이 : 9.299532330215534\n"
     ]
    },
    {
     "data": {
      "image/png": "[encoded data removed]",
      "text/plain": [
       "<Figure size 432x288 with 2 Axes>"
      ]
     },
     "metadata": {
      "needs_background": "light"
     },
     "output_type": "display_data"
    },
    {
     "data": {
      "image/png": "[encoded data removed]",
      "text/plain": [
       "<Figure size 432x288 with 1 Axes>"
      ]
     },
     "metadata": {
      "needs_background": "light"
     },
     "output_type": "display_data"
    },
    {
     "data": {
      "image/png": "[encoded data removed]",
      "text/plain": [
       "<Figure size 432x288 with 1 Axes>"
      ]
     },
     "metadata": {
      "needs_background": "light"
     },
     "output_type": "display_data"
    }
   ],
   "source": [
    "# text와 summary의 최소, 최대, 평균 길이를 구하고 길이 분포를 시각화\n",
    "\n",
    "# 길이 분포 출력 \n",
    "import matplotlib.pyplot as plt\n",
    "\n",
    "text_len = [len(s.split()) for s in data['text']]\n",
    "headlines_len = [len(s.split()) for s in data['headlines']]\n",
    "\n",
    "print('텍스트의 최소 길이 : {}'.format(np.min(text_len)))\n",
    "print('텍스트의 최대 길이 : {}'.format(np.max(text_len)))\n",
    "print('텍스트의 평균 길이 : {}'.format(np.mean(text_len)))\n",
    "print('요약의 최소 길이 : {}'.format(np.min(headlines_len)))\n",
    "print('요약의 최대 길이 : {}'.format(np.max(headlines_len)))\n",
    "print('요약의 평균 길이 : {}'.format(np.mean(headlines_len)))\n",
    "\n",
    "plt.subplot(1,2,1)\n",
    "plt.boxplot(headlines_len)\n",
    "plt.title('headlines')\n",
    "plt.subplot(1,2,2)\n",
    "plt.boxplot(text_len)\n",
    "plt.tight_layout()\n",
    "plt.show()\n",
    "\n",
    "plt.title('headlines')\n",
    "plt.hist(headlines_len, bins=40)\n",
    "plt.xlabel('length of samples')\n",
    "plt.ylabel('number of samples')\n",
    "plt.show()\n",
    "\n",
    "plt.title('text')\n",
    "plt.hist(text_len, bins=40)\n",
    "plt.xlabel('length of samples')\n",
    "plt.ylabel('number of samples')\n",
    "plt.show()"
   ]
  },
  {
   "cell_type": "code",
   "execution_count": 31,
   "id": "christian-baseline",
   "metadata": {},
   "outputs": [],
   "source": [
    "# text 최소1, 최대 60, 평균 35\n",
    "# headlines 최소 1 최대 16 평균 9\n",
    "\n",
    "# Text의 최대 길이와 summary의 적절한 최대길이를 임의로 정해봄\n",
    "text_max_len = 45\n",
    "headlines_max_len = 12"
   ]
  },
  {
   "cell_type": "code",
   "execution_count": 32,
   "id": "round-making",
   "metadata": {},
   "outputs": [],
   "source": [
    "# 50과 8로 정했을 때 얼마나 많은 샘플들을 자르지 않고 포함할 수 있는지 통계로 확인\n",
    "# 훈련 데이터와 샘플의 길이를 입력하면 데이터의 몇%가 해당하는지 계산하는 함수를 만들어서 좀 더 정확하게 판단\n",
    "\n",
    "def below_threshold_len(max_len, nested_list):\n",
    "    cnt = 0\n",
    "    for s in nested_list:\n",
    "        if(len(s.split()) <= max_len):\n",
    "            cnt = cnt + 1\n",
    "    print('전체 샘플 중 길이가 %s 이하인 샘플의 비율: %s'%(max_len, (cnt / len(nested_list))))"
   ]
  },
  {
   "cell_type": "code",
   "execution_count": 33,
   "id": "scheduled-bishop",
   "metadata": {},
   "outputs": [
    {
     "name": "stdout",
     "output_type": "stream",
     "text": [
      "전체 샘플 중 길이가 45 이하인 샘플의 비율: 0.9967771451809678\n",
      "전체 샘플 중 길이가 12 이하인 샘플의 비율: 0.9880337535583571\n"
     ]
    }
   ],
   "source": [
    "# 위에서 만든 함수를 text와 summary에 적용해 우리가 결정한 임의이 길이가 몇%의 샘플까지 포함하는지 볼 수 있음\n",
    "below_threshold_len(text_max_len, data['text'])\n",
    "below_threshold_len(headlines_max_len, data['headlines'])"
   ]
  },
  {
   "cell_type": "code",
   "execution_count": 34,
   "id": "super-terrorist",
   "metadata": {},
   "outputs": [
    {
     "name": "stdout",
     "output_type": "stream",
     "text": [
      "전체 샘플수 : 96871\n"
     ]
    }
   ],
   "source": [
    "# text경우 약 23%의 데이터가 망가진다고 함\n",
    "# 우리는 정해진 길이에 맞춰서 자르는 것이 아닌, 정해진 길이보다 길면 제외하는 방법으로 데이터를 정제\n",
    "\n",
    "data = data[data[\"text\"].apply(lambda x: len(x.split()) <= text_max_len)]\n",
    "data = data[data[\"headlines\"].apply(lambda x: len(x.split()) <= headlines_max_len)]\n",
    "print('전체 샘플수 :',(len(data)))"
   ]
  },
  {
   "cell_type": "markdown",
   "id": "developmental-portable",
   "metadata": {},
   "source": [
    "# 시작토큰과 종료토큰 추가"
   ]
  },
  {
   "cell_type": "code",
   "execution_count": 35,
   "id": "republican-criminal",
   "metadata": {},
   "outputs": [
    {
     "data": {
      "text/html": [
       "<div>\n",
       "<style scoped>\n",
       "    .dataframe tbody tr th:only-of-type {\n",
       "        vertical-align: middle;\n",
       "    }\n",
       "\n",
       "    .dataframe tbody tr th {\n",
       "        vertical-align: top;\n",
       "    }\n",
       "\n",
       "    .dataframe thead th {\n",
       "        text-align: right;\n",
       "    }\n",
       "</style>\n",
       "<table border=\"1\" class=\"dataframe\">\n",
       "  <thead>\n",
       "    <tr style=\"text-align: right;\">\n",
       "      <th></th>\n",
       "      <th>headlines</th>\n",
       "      <th>text</th>\n",
       "      <th>decoder_input</th>\n",
       "      <th>decoder_target</th>\n",
       "    </tr>\n",
       "  </thead>\n",
       "  <tbody>\n",
       "    <tr>\n",
       "      <th>0</th>\n",
       "      <td>upgrad learner switches to career in ml al wit...</td>\n",
       "      <td>saurav kant alumnus upgrad iiit pg program mac...</td>\n",
       "      <td>sostoken upgrad learner switches to career in ...</td>\n",
       "      <td>upgrad learner switches to career in ml al wit...</td>\n",
       "    </tr>\n",
       "    <tr>\n",
       "      <th>1</th>\n",
       "      <td>delhi techie wins free food from swiggy for on...</td>\n",
       "      <td>kunal shah credit card bill payment platform c...</td>\n",
       "      <td>sostoken delhi techie wins free food from swig...</td>\n",
       "      <td>delhi techie wins free food from swiggy for on...</td>\n",
       "    </tr>\n",
       "    <tr>\n",
       "      <th>2</th>\n",
       "      <td>new zealand end rohit sharma led india match w...</td>\n",
       "      <td>new zealand defeated india wickets fourth odi ...</td>\n",
       "      <td>sostoken new zealand end rohit sharma led indi...</td>\n",
       "      <td>new zealand end rohit sharma led india match w...</td>\n",
       "    </tr>\n",
       "    <tr>\n",
       "      <th>3</th>\n",
       "      <td>aegon life iterm insurance plan helps customer...</td>\n",
       "      <td>aegon life iterm insurance plan customers enjo...</td>\n",
       "      <td>sostoken aegon life iterm insurance plan helps...</td>\n",
       "      <td>aegon life iterm insurance plan helps customer...</td>\n",
       "    </tr>\n",
       "    <tr>\n",
       "      <th>5</th>\n",
       "      <td>rahat fateh ali khan denies getting notice for...</td>\n",
       "      <td>pakistani singer rahat fateh ali khan denied r...</td>\n",
       "      <td>sostoken rahat fateh ali khan denies getting n...</td>\n",
       "      <td>rahat fateh ali khan denies getting notice for...</td>\n",
       "    </tr>\n",
       "  </tbody>\n",
       "</table>\n",
       "</div>"
      ],
      "text/plain": [
       "                                           headlines  \\\n",
       "0  upgrad learner switches to career in ml al wit...   \n",
       "1  delhi techie wins free food from swiggy for on...   \n",
       "2  new zealand end rohit sharma led india match w...   \n",
       "3  aegon life iterm insurance plan helps customer...   \n",
       "5  rahat fateh ali khan denies getting notice for...   \n",
       "\n",
       "                                                text  \\\n",
       "0  saurav kant alumnus upgrad iiit pg program mac...   \n",
       "1  kunal shah credit card bill payment platform c...   \n",
       "2  new zealand defeated india wickets fourth odi ...   \n",
       "3  aegon life iterm insurance plan customers enjo...   \n",
       "5  pakistani singer rahat fateh ali khan denied r...   \n",
       "\n",
       "                                       decoder_input  \\\n",
       "0  sostoken upgrad learner switches to career in ...   \n",
       "1  sostoken delhi techie wins free food from swig...   \n",
       "2  sostoken new zealand end rohit sharma led indi...   \n",
       "3  sostoken aegon life iterm insurance plan helps...   \n",
       "5  sostoken rahat fateh ali khan denies getting n...   \n",
       "\n",
       "                                      decoder_target  \n",
       "0  upgrad learner switches to career in ml al wit...  \n",
       "1  delhi techie wins free food from swiggy for on...  \n",
       "2  new zealand end rohit sharma led india match w...  \n",
       "3  aegon life iterm insurance plan helps customer...  \n",
       "5  rahat fateh ali khan denies getting notice for...  "
      ]
     },
     "execution_count": 35,
     "metadata": {},
     "output_type": "execute_result"
    }
   ],
   "source": [
    "# 요약 데이터에 시작, 종료 토큰을 추가\n",
    "data['decoder_input'] = data['headlines'].apply(lambda x: 'sostoken '+x)\n",
    "data['decoder_target'] = data['headlines'].apply(lambda x: x+' eostoken')\n",
    "data.head()"
   ]
  },
  {
   "cell_type": "code",
   "execution_count": 36,
   "id": "micro-recovery",
   "metadata": {},
   "outputs": [],
   "source": [
    "# 인코더의 입력, 디코더의 입력과 레이블을 각각 numpy타입으로 저장\n",
    "encoder_input = np.array(data['text']) # 인코더의 입력\n",
    "decoder_input = np.array(data['decoder_input']) # 디코더의 입력\n",
    "decoder_target = np.array(data['decoder_target']) # 디코더의 레이블"
   ]
  },
  {
   "cell_type": "code",
   "execution_count": 37,
   "id": "collective-gabriel",
   "metadata": {},
   "outputs": [
    {
     "name": "stdout",
     "output_type": "stream",
     "text": [
      "[76697 89079 72265 ... 68364 86159 78125]\n"
     ]
    }
   ],
   "source": [
    "# 훈련 데이터와 테스트 데이터 분리\n",
    "# encoder_input의 크기와 형태가 같은 순서가 섞인 정수 시퀀스를 만들어줌\n",
    "\n",
    "indices = np.arange(encoder_input.shape[0])\n",
    "np.random.shuffle(indices)\n",
    "print(indices)"
   ]
  },
  {
   "cell_type": "code",
   "execution_count": 38,
   "id": "wrong-performer",
   "metadata": {},
   "outputs": [],
   "source": [
    "# 위 정수 시퀀스를 이용해 다시 데이터의 샘플 순서로 섞어주면 잘 섞인 샘플이 됨\n",
    "encoder_input = encoder_input[indices]\n",
    "decoder_input = decoder_input[indices]\n",
    "decoder_target = decoder_target[indices]"
   ]
  },
  {
   "cell_type": "code",
   "execution_count": 39,
   "id": "confidential-printer",
   "metadata": {},
   "outputs": [
    {
     "name": "stdout",
     "output_type": "stream",
     "text": [
      "테스트 데이터의 수 : 19374\n"
     ]
    }
   ],
   "source": [
    "# 8:2의 비율로 훈련 데이터와 테스트 데이터 분리. \n",
    "# 전체 데이터의 크기에서 0.2를 곱해서 테스트 데이터의 크기를 정해줌\n",
    "\n",
    "n_of_val = int(len(encoder_input) * 0.2)\n",
    "print('테스트 데이터의 수 :',n_of_val)"
   ]
  },
  {
   "cell_type": "code",
   "execution_count": 40,
   "id": "peripheral-antibody",
   "metadata": {},
   "outputs": [
    {
     "name": "stdout",
     "output_type": "stream",
     "text": [
      "훈련 데이터의 개수 : 77497\n",
      "훈련 레이블의 개수 : 77497\n",
      "테스트 데이터의 개수 : 19374\n",
      "테스트 레이블의 개수 : 19374\n"
     ]
    }
   ],
   "source": [
    "# 위에 정의한 테스트 데이터의 갯수를 이용해 전체 데이터에 양분\n",
    "\n",
    "encoder_input_train = encoder_input[:-n_of_val]\n",
    "decoder_input_train = decoder_input[:-n_of_val]\n",
    "decoder_target_train = decoder_target[:-n_of_val]\n",
    "\n",
    "encoder_input_test = encoder_input[-n_of_val:]\n",
    "decoder_input_test = decoder_input[-n_of_val:]\n",
    "decoder_target_test = decoder_target[-n_of_val:]\n",
    "\n",
    "print('훈련 데이터의 개수 :', len(encoder_input_train))\n",
    "print('훈련 레이블의 개수 :',len(decoder_input_train))\n",
    "print('테스트 데이터의 개수 :',len(encoder_input_test))\n",
    "print('테스트 레이블의 개수 :',len(decoder_input_test))"
   ]
  },
  {
   "cell_type": "markdown",
   "id": "subsequent-electric",
   "metadata": {},
   "source": [
    "# 단어 집합 및 정수 인코딩"
   ]
  },
  {
   "cell_type": "code",
   "execution_count": 41,
   "id": "alike-investigator",
   "metadata": {},
   "outputs": [],
   "source": [
    "# Keras의 토크나이저를 사용하면, 입력된 훈련 데이터로부터 단어 집합을 만들 수 있음\n",
    "src_tokenizer = Tokenizer() # 토크나이저 정의\n",
    "src_tokenizer.fit_on_texts(encoder_input_train) # 입력된 단어로부터 단어 집합 생성"
   ]
  },
  {
   "cell_type": "code",
   "execution_count": 45,
   "id": "adult-tuesday",
   "metadata": {},
   "outputs": [
    {
     "name": "stdout",
     "output_type": "stream",
     "text": [
      "단어 집합(vocabulary)의 크기 : 68966\n",
      "등장 빈도가 6번 이하인 희귀 단어의 수: 46992\n",
      "단어 집합에서 희귀 단어를 제외시킬 경우의 단어 집합의 크기 21974\n",
      "단어 집합에서 희귀 단어의 비율: 68.13792303453876\n",
      "전체 등장 빈도에서 희귀 단어 등장 빈도 비율: 3.5164058099410935\n"
     ]
    }
   ],
   "source": [
    "# 단어 집합이 생성되는 동시에 각 단어에 고유 정수가 부여 됨\n",
    "# 생성된 단어 집합은 src_tokenizer.word_index에 저장됨\n",
    "# 이렇게 만든 단어 집합에 모든 데이터를 사용하는 것이 아닌 빈도수가 낮은 단어들을 데이터에서 제외하려고 함\n",
    "# 등장 빈도수가 7회 미만인 단어들 데이터에서 얼만큼 차지하는지 확인\n",
    "# src_tokenizer.word_counts.items() 단어와 각 단어의 등장 빈도수가 저장되어 있음\n",
    "\n",
    "threshold = 7\n",
    "total_cnt = len(src_tokenizer.word_index) # 단어의 수\n",
    "rare_cnt = 0 # 등장 빈도수가 threshold보다 작은 단어의 개수를 카운트\n",
    "total_freq = 0 # 훈련 데이터의 전체 단어 빈도수 총 합\n",
    "rare_freq = 0 # 등장빈도수가 threshold보다 작은 단어의 등장 빈도수의 총 합\n",
    "\n",
    "# 단어와 빈도수의 쌍(pair)을 key와 value로 받음\n",
    "for key, value in src_tokenizer.word_counts.items():\n",
    "    total_freq = total_freq + value\n",
    "    \n",
    "    # 단어 등장의 빈도수가 threshold 보다 작으면 \n",
    "    if(value < threshold):\n",
    "        rare_cnt = rare_cnt +1\n",
    "        rare_freq = rare_freq + value\n",
    "\n",
    "print('단어 집합(vocabulary)의 크기 :',total_cnt)\n",
    "print('등장 빈도가 %s번 이하인 희귀 단어의 수: %s'%(threshold - 1, rare_cnt))\n",
    "print('단어 집합에서 희귀 단어를 제외시킬 경우의 단어 집합의 크기 %s'%(total_cnt - rare_cnt))\n",
    "print(\"단어 집합에서 희귀 단어의 비율:\", (rare_cnt / total_cnt)*100)\n",
    "print(\"전체 등장 빈도에서 희귀 단어 등장 빈도 비율:\", (rare_freq / total_freq)*100)"
   ]
  },
  {
   "cell_type": "code",
   "execution_count": 46,
   "id": "incident-maldives",
   "metadata": {},
   "outputs": [],
   "source": [
    "# 등장빈도가 6이하인 단어들은 단어 집합에서 약 68%이상을 차지함\n",
    "# 하지만 실제 후련데이터에서 등잔 빈도를 차지하는 비중은 약 3.5%\n",
    "# 그래서 등장 빈도가 6이하인 단어들은 정수 인코딩 과정에서 빼고자 함\n",
    "# 위에서 이를 제외한 단어 집합의 크기를 약 21974으로 계산했는데 비슷하게 단어 집합의 크기를 20000으로 제한\n",
    "\n",
    "src_vocab = 20000\n",
    "src_tokenizer = Tokenizer(num_words=src_vocab) # 단어크기 20000으로 제한\n",
    "src_tokenizer.fit_on_texts(encoder_input_train) # 단어집합 재생성"
   ]
  },
  {
   "cell_type": "code",
   "execution_count": 47,
   "id": "indonesian-horizon",
   "metadata": {},
   "outputs": [
    {
     "name": "stdout",
     "output_type": "stream",
     "text": [
      "[[11, 130, 476, 699, 2609, 4238, 390, 8326, 1867, 359, 339, 1812, 679, 60, 8195, 7414, 258, 248, 413, 699, 885, 599, 794, 19243, 5816, 306, 2, 599, 699, 9769, 1867, 359, 339, 4], [2014, 2664, 5878, 2836, 57, 92, 241, 2889, 195, 3, 205, 3311, 1211, 1, 195, 568, 357, 579, 667, 1695, 68, 82, 250, 763, 7604, 2889, 2625, 18, 1857, 950, 496], [155, 243, 902, 7, 150, 2902, 530, 314, 4674, 4459, 769, 13229, 1628, 530, 1249, 1324, 7605, 1118, 10, 164, 4876, 3123, 138, 155, 243, 838, 2240, 8923, 39, 393, 3017, 155, 549, 150, 1]]\n"
     ]
    }
   ],
   "source": [
    "# texts_to_sequence() 생성된 단어 집합에 기반하여 입력으로 주어진 텍스트 데이터의 단어들을 모두 정수로 변환하는 정수 인코딩\n",
    "# 현재는 단어 집합의 크기를 20000으로 제한했으니 이제 20000이 넘는 숫자들은 존재하지 않음\n",
    "\n",
    "# 텍스트 시퀀스를 정수 시퀀스로 변환\n",
    "encoder_input_train = src_tokenizer.texts_to_sequences(encoder_input_train)\n",
    "encoder_input_test = src_tokenizer.texts_to_sequences(encoder_input_test)\n",
    "\n",
    "# 샘플 출력\n",
    "print(encoder_input_train[:3])"
   ]
  },
  {
   "cell_type": "code",
   "execution_count": 48,
   "id": "gross-invitation",
   "metadata": {},
   "outputs": [],
   "source": [
    "# headlines에 대해서도 동일한 작업 진행\n",
    "tar_tokenizer = Tokenizer()\n",
    "tar_tokenizer.fit_on_texts(decoder_input_train)"
   ]
  },
  {
   "cell_type": "code",
   "execution_count": 55,
   "id": "pending-julian",
   "metadata": {},
   "outputs": [
    {
     "name": "stdout",
     "output_type": "stream",
     "text": [
      "단어 집합(vocabulary)의 크기 : 29768\n",
      "등장 빈도가 4번 이하인 희귀 단어의 수: 18268\n",
      "단어 집합에서 희귀 단어를 제외시킬 경우의 단어 집합의 크기 11500\n",
      "단어 집합에서 희귀 단어의 비율: 61.36791185165278\n",
      "전체 등장 빈도에서 희귀 단어 등장 빈도 비율: 3.975226883437729\n"
     ]
    }
   ],
   "source": [
    "threshold = 5\n",
    "total_cnt = len(tar_tokenizer.word_index) # 단어의 수\n",
    "rare_cnt = 0 # 등장 빈도수가 threshold보다 작은 단어의 개수를 카운트\n",
    "total_freq = 0 # 훈련 데이터의 전체 단어 빈도수 총 합\n",
    "rare_freq = 0 # 등장 빈도수가 threshold보다 작은 단어의 등장 빈도수의 총 합\n",
    "\n",
    "# 단어와 빈도수의 쌍(pair)을 key와 value로 받는다.\n",
    "for key, value in tar_tokenizer.word_counts.items():\n",
    "    total_freq = total_freq + value\n",
    "\n",
    "    # 단어의 등장 빈도수가 threshold보다 작으면\n",
    "    if(value < threshold):\n",
    "        rare_cnt = rare_cnt + 1\n",
    "        rare_freq = rare_freq + value\n",
    "\n",
    "print('단어 집합(vocabulary)의 크기 :',total_cnt)\n",
    "print('등장 빈도가 %s번 이하인 희귀 단어의 수: %s'%(threshold - 1, rare_cnt))\n",
    "print('단어 집합에서 희귀 단어를 제외시킬 경우의 단어 집합의 크기 %s'%(total_cnt - rare_cnt))\n",
    "print(\"단어 집합에서 희귀 단어의 비율:\", (rare_cnt / total_cnt)*100)\n",
    "print(\"전체 등장 빈도에서 희귀 단어 등장 빈도 비율:\", (rare_freq / total_freq)*100)"
   ]
  },
  {
   "cell_type": "code",
   "execution_count": 56,
   "id": "rolled-armenia",
   "metadata": {},
   "outputs": [
    {
     "name": "stdout",
     "output_type": "stream",
     "text": [
      "input\n",
      "input  [[1, 1368, 1221, 4819, 6405, 1903, 66, 483, 3528], [1, 24, 171, 1579, 185, 5, 3447, 627, 1505], [1, 6406, 134, 524, 117, 10, 3210, 2567, 5, 151], [1, 271, 96, 55, 411, 1848, 311, 219, 776, 2710], [1, 54, 2417, 210, 4654, 10, 15, 550]]\n",
      "target\n",
      "decoder  [[1368, 1221, 4819, 6405, 1903, 66, 483, 3528, 2], [24, 171, 1579, 185, 5, 3447, 627, 1505, 2], [6406, 134, 524, 117, 10, 3210, 2567, 5, 151, 2], [271, 96, 55, 411, 1848, 311, 219, 776, 2710, 2], [54, 2417, 210, 4654, 10, 15, 550, 2]]\n"
     ]
    }
   ],
   "source": [
    "# 등장 빈도가 4회 이하인 단어는 집합에서 약 61%\n",
    "# 하지만 실제 훈련 데이터에서 등장 빈도는 3.9%\n",
    "# 아까와 동일하게 이 단어들은 모두 제거 어림잡아 10000을 단어 크기로 제한\n",
    "\n",
    "tar_vocab = 10000\n",
    "tar_tokenizer = Tokenizer(num_words = tar_vocab) \n",
    "tar_tokenizer.fit_on_texts(decoder_input_train)\n",
    "tar_tokenizer.fit_on_texts(decoder_target_train)\n",
    "\n",
    "# 텍스트 시퀀스를 정수 시퀀스로 변환\n",
    "decoder_input_train = tar_tokenizer.texts_to_sequences(decoder_input_train) \n",
    "decoder_target_train = tar_tokenizer.texts_to_sequences(decoder_target_train)\n",
    "decoder_input_test = tar_tokenizer.texts_to_sequences(decoder_input_test)\n",
    "decoder_target_test = tar_tokenizer.texts_to_sequences(decoder_target_test)\n",
    "\n",
    "#잘 변환되었는지 확인\n",
    "print('input')\n",
    "print('input ',decoder_input_train[:5])\n",
    "print('target')\n",
    "print('decoder ',decoder_target_train[:5])"
   ]
  },
  {
   "cell_type": "code",
   "execution_count": 57,
   "id": "stylish-thinking",
   "metadata": {
    "scrolled": true
   },
   "outputs": [
    {
     "name": "stdout",
     "output_type": "stream",
     "text": [
      "삭제할 훈련 데이터의 개수 : 1\n",
      "삭제할 테스트 데이터의 개수 : 0\n",
      "훈련 데이터의 개수 : 77496\n",
      "훈련 레이블의 개수 : 77496\n",
      "테스트 데이터의 개수 : 19374\n",
      "테스트 레이블의 개수 : 19374\n"
     ]
    },
    {
     "name": "stderr",
     "output_type": "stream",
     "text": [
      "/home/aiffel-dj47/anaconda3/envs/aiffel/lib/python3.7/site-packages/numpy/core/_asarray.py:83: VisibleDeprecationWarning: Creating an ndarray from ragged nested sequences (which is a list-or-tuple of lists-or-tuples-or ndarrays with different lengths or shapes) is deprecated. If you meant to do this, you must specify 'dtype=object' when creating the ndarray\n",
      "  return array(a, dtype, copy=False, order=order)\n"
     ]
    }
   ],
   "source": [
    "# 빈도수가 낮은 단어만으로 구성되어잇는 요약문은 0이 됐을수도 있음\n",
    "# 길이가 0이 된 인덱스를 받아올 것\n",
    "# 요약문인 decoder_input에는 sostoken, decoder_target에는 eostokendl 들어가있으므로 실제 길이는 1로 나올 것임\n",
    "\n",
    "# 훈련, 테스트 데이터에 대해서 요약문의 길이가 1인 경우 dorp_train과 drop_test에 저장\n",
    "\n",
    "drop_train = [index for index, sentence in enumerate(decoder_input_train) if len(sentence) == 1]\n",
    "drop_test = [index for index, sentence in enumerate(decoder_input_test) if len(sentence) == 1]\n",
    "\n",
    "print('삭제할 훈련 데이터의 개수 :',len(drop_train))\n",
    "print('삭제할 테스트 데이터의 개수 :',len(drop_test))\n",
    "\n",
    "encoder_input_train = np.delete(encoder_input_train, drop_train, axis=0)\n",
    "decoder_input_train = np.delete(decoder_input_train, drop_train, axis=0)\n",
    "decoder_target_train = np.delete(decoder_target_train, drop_train, axis=0)\n",
    "\n",
    "encoder_input_test = np.delete(encoder_input_test, drop_test, axis=0)\n",
    "decoder_input_test = np.delete(decoder_input_test, drop_test, axis=0)\n",
    "decoder_target_test = np.delete(decoder_target_test, drop_test, axis=0)\n",
    "\n",
    "print('훈련 데이터의 개수 :', len(encoder_input_train))\n",
    "print('훈련 레이블의 개수 :',len(decoder_input_train))\n",
    "print('테스트 데이터의 개수 :',len(encoder_input_test))\n",
    "print('테스트 레이블의 개수 :',len(decoder_input_test))"
   ]
  },
  {
   "cell_type": "markdown",
   "id": "buried-auditor",
   "metadata": {},
   "source": [
    "# 패딩"
   ]
  },
  {
   "cell_type": "code",
   "execution_count": 59,
   "id": "bronze-biography",
   "metadata": {},
   "outputs": [],
   "source": [
    "encoder_input_train = pad_sequences(encoder_input_train, maxlen = text_max_len, padding='post')\n",
    "encoder_input_test = pad_sequences(encoder_input_test, maxlen = text_max_len, padding='post')\n",
    "decoder_input_train = pad_sequences(decoder_input_train, maxlen = headlines_max_len, padding='post')\n",
    "decoder_target_train = pad_sequences(decoder_target_train, maxlen = headlines_max_len, padding='post')\n",
    "decoder_input_test = pad_sequences(decoder_input_test, maxlen = headlines_max_len, padding='post')\n",
    "decoder_target_test = pad_sequences(decoder_target_test, maxlen = headlines_max_len, padding='post')"
   ]
  },
  {
   "cell_type": "markdown",
   "id": "laden-norway",
   "metadata": {},
   "source": [
    "# 모델 설계"
   ]
  },
  {
   "cell_type": "code",
   "execution_count": 60,
   "id": "ready-interview",
   "metadata": {},
   "outputs": [
    {
     "name": "stdout",
     "output_type": "stream",
     "text": [
      "WARNING:tensorflow:Layer lstm will not use cuDNN kernel since it doesn't meet the cuDNN kernel criteria. It will use generic GPU kernel as fallback when running on GPU\n",
      "WARNING:tensorflow:Layer lstm_1 will not use cuDNN kernel since it doesn't meet the cuDNN kernel criteria. It will use generic GPU kernel as fallback when running on GPU\n",
      "WARNING:tensorflow:Layer lstm_2 will not use cuDNN kernel since it doesn't meet the cuDNN kernel criteria. It will use generic GPU kernel as fallback when running on GPU\n"
     ]
    }
   ],
   "source": [
    "# 함수형 API를 이용해서 인코더 설계\n",
    "from tensorflow.keras.layers import Input, LSTM, Embedding, Dense, Concatenate\n",
    "from tensorflow.keras.models import Model\n",
    "from tensorflow.keras.callbacks import EarlyStopping, ModelCheckpoint\n",
    "\n",
    "\n",
    "# 인코더 설계 시작\n",
    "embedding_dim = 128\n",
    "hidden_size = 256\n",
    "\n",
    "# 인코더\n",
    "encoder_inputs = Input(shape=(text_max_len,))\n",
    "\n",
    "# 인코더의 임베딩 층\n",
    "enc_emb = Embedding(src_vocab, embedding_dim)(encoder_inputs)\n",
    "\n",
    "# 인코더의 LSTM 1\n",
    "encoder_lstm1 = LSTM(hidden_size, return_sequences=True, return_state=True ,dropout = 0.4, recurrent_dropout = 0.4)\n",
    "encoder_output1, state_h1, state_c1 = encoder_lstm1(enc_emb)\n",
    "\n",
    "# 인코더의 LSTM 2\n",
    "encoder_lstm2 = LSTM(hidden_size, return_sequences=True, return_state=True, dropout=0.4, recurrent_dropout=0.4)\n",
    "encoder_output2, state_h2, state_c2 = encoder_lstm2(encoder_output1)\n",
    "\n",
    "# 인코더의 LSTM 3\n",
    "encoder_lstm3 = LSTM(hidden_size, return_state=True, return_sequences=True, dropout=0.4, recurrent_dropout=0.4)\n",
    "encoder_outputs, state_h, state_c= encoder_lstm3(encoder_output2)"
   ]
  },
  {
   "cell_type": "code",
   "execution_count": null,
   "id": "distinct-watson",
   "metadata": {},
   "outputs": [],
   "source": [
    "#### 임베딩 벡터의 차원 128로 정의하고, hidden state 크기를 256으로 정의\n",
    "#### hidden state는 LSTM에서 얼만큼의 수용력(capacity)을 가질지를 정하는 파라미터\n",
    "#### 이 파라미터는 LSTM 용량크기나 LSTM에서의 뉴론의 갯수로 이해하면 됨\n",
    "#### 인코더의 LSTM은 3개의 층으로 구성해서 모델의 복잡도를 늘림\n",
    "#### hidden state의 크기를 늘리느 ㄴ것이 LSTM 층 1개의 용량을 늘린다면, 3개의 층을 사용하는 것은 모델의 용량을 늘린다고 볼 수 있음"
   ]
  },
  {
   "cell_type": "code",
   "execution_count": 61,
   "id": "technological-academy",
   "metadata": {},
   "outputs": [
    {
     "name": "stdout",
     "output_type": "stream",
     "text": [
      "WARNING:tensorflow:Layer lstm_3 will not use cuDNN kernel since it doesn't meet the cuDNN kernel criteria. It will use generic GPU kernel as fallback when running on GPU\n"
     ]
    }
   ],
   "source": [
    "# 디코더 설계\n",
    "\n",
    "decoder_inputs = Input(shape=(None,))\n",
    "\n",
    "# 디코더의 임베딩 층\n",
    "dec_emb_layer = Embedding(tar_vocab, embedding_dim)\n",
    "dec_emb = dec_emb_layer(decoder_inputs)\n",
    "\n",
    "# 디코더의 LSTM\n",
    "decoder_lstm = LSTM(hidden_size, return_sequences = True, return_state = True, dropout = 0.4, recurrent_dropout=0.2)\n",
    "decoder_outputs, _, _ = decoder_lstm(dec_emb, initial_state = [state_h, state_c])"
   ]
  },
  {
   "cell_type": "code",
   "execution_count": 83,
   "id": "cultural-safety",
   "metadata": {},
   "outputs": [
    {
     "name": "stdout",
     "output_type": "stream",
     "text": [
      "Model: \"model_4\"\n",
      "__________________________________________________________________________________________________\n",
      "Layer (type)                    Output Shape         Param #     Connected to                     \n",
      "==================================================================================================\n",
      "input_1 (InputLayer)            [(None, 45)]         0                                            \n",
      "__________________________________________________________________________________________________\n",
      "embedding (Embedding)           (None, 45, 128)      2560000     input_1[0][0]                    \n",
      "__________________________________________________________________________________________________\n",
      "lstm (LSTM)                     [(None, 45, 256), (N 394240      embedding[0][0]                  \n",
      "__________________________________________________________________________________________________\n",
      "input_2 (InputLayer)            [(None, None)]       0                                            \n",
      "__________________________________________________________________________________________________\n",
      "lstm_1 (LSTM)                   [(None, 45, 256), (N 525312      lstm[0][0]                       \n",
      "__________________________________________________________________________________________________\n",
      "embedding_1 (Embedding)         (None, None, 128)    1280000     input_2[0][0]                    \n",
      "__________________________________________________________________________________________________\n",
      "lstm_2 (LSTM)                   [(None, 45, 256), (N 525312      lstm_1[0][0]                     \n",
      "__________________________________________________________________________________________________\n",
      "lstm_3 (LSTM)                   [(None, None, 256),  394240      embedding_1[0][0]                \n",
      "                                                                 lstm_2[0][1]                     \n",
      "                                                                 lstm_2[0][2]                     \n",
      "__________________________________________________________________________________________________\n",
      "dense_2 (Dense)                 (None, None, 10000)  2570000     lstm_3[0][0]                     \n",
      "==================================================================================================\n",
      "Total params: 8,249,104\n",
      "Trainable params: 8,249,104\n",
      "Non-trainable params: 0\n",
      "__________________________________________________________________________________________________\n"
     ]
    }
   ],
   "source": [
    "# 디코더 출력층 설계\n",
    "# 디코더의 출력층\n",
    "decoder_softmax_layer = Dense(tar_vocab, activation = 'softmax')\n",
    "decoder_softmax_outputs = decoder_softmax_layer(decoder_outputs) \n",
    "\n",
    "# 모델 정의\n",
    "model = Model([encoder_inputs, decoder_inputs], decoder_softmax_outputs)\n",
    "model.summary()"
   ]
  },
  {
   "cell_type": "code",
   "execution_count": 84,
   "id": "signed-option",
   "metadata": {},
   "outputs": [
    {
     "name": "stdout",
     "output_type": "stream",
     "text": [
      "Epoch 1/50\n",
      "303/303 [==============================] - 104s 344ms/step - loss: 5.0797 - val_loss: 4.4341\n",
      "Epoch 2/50\n",
      "303/303 [==============================] - 107s 353ms/step - loss: 4.2139 - val_loss: 4.0951\n",
      "Epoch 3/50\n",
      "303/303 [==============================] - 101s 333ms/step - loss: 3.9120 - val_loss: 3.9224\n",
      "Epoch 4/50\n",
      "303/303 [==============================] - 98s 322ms/step - loss: 3.7243 - val_loss: 3.8228\n",
      "Epoch 5/50\n",
      "303/303 [==============================] - 97s 321ms/step - loss: 3.5900 - val_loss: 3.7503\n",
      "Epoch 6/50\n",
      "303/303 [==============================] - 106s 349ms/step - loss: 3.4857 - val_loss: 3.7010\n",
      "Epoch 7/50\n",
      "303/303 [==============================] - 105s 346ms/step - loss: 3.4013 - val_loss: 3.6598\n",
      "Epoch 8/50\n",
      "303/303 [==============================] - 106s 351ms/step - loss: 3.3289 - val_loss: 3.6285\n",
      "Epoch 9/50\n",
      "303/303 [==============================] - 95s 315ms/step - loss: 3.2649 - val_loss: 3.6103\n",
      "Epoch 10/50\n",
      "303/303 [==============================] - 91s 300ms/step - loss: 3.2114 - val_loss: 3.5887\n",
      "Epoch 11/50\n",
      "303/303 [==============================] - 91s 300ms/step - loss: 3.1618 - val_loss: 3.5681\n",
      "Epoch 12/50\n",
      "303/303 [==============================] - 91s 301ms/step - loss: 3.1166 - val_loss: 3.5504\n",
      "Epoch 13/50\n",
      "303/303 [==============================] - 91s 301ms/step - loss: 3.0763 - val_loss: 3.5447\n",
      "Epoch 14/50\n",
      "303/303 [==============================] - 92s 303ms/step - loss: 3.0374 - val_loss: 3.5361\n",
      "Epoch 15/50\n",
      "303/303 [==============================] - 104s 343ms/step - loss: 3.0042 - val_loss: 3.5250\n",
      "Epoch 16/50\n",
      "303/303 [==============================] - 102s 337ms/step - loss: 2.9725 - val_loss: 3.5154\n",
      "Epoch 17/50\n",
      "303/303 [==============================] - 103s 338ms/step - loss: 2.9439 - val_loss: 3.5245\n",
      "Epoch 18/50\n",
      "303/303 [==============================] - 98s 322ms/step - loss: 2.9173 - val_loss: 3.5073\n",
      "Epoch 19/50\n",
      "303/303 [==============================] - 92s 302ms/step - loss: 2.8893 - val_loss: 3.5064\n",
      "Epoch 20/50\n",
      "303/303 [==============================] - 93s 307ms/step - loss: 2.8647 - val_loss: 3.5102\n",
      "Epoch 21/50\n",
      "303/303 [==============================] - 93s 306ms/step - loss: 2.8415 - val_loss: 3.5003\n",
      "Epoch 22/50\n",
      "303/303 [==============================] - 92s 305ms/step - loss: 2.8179 - val_loss: 3.5047\n",
      "Epoch 23/50\n",
      "303/303 [==============================] - 93s 305ms/step - loss: 2.7964 - val_loss: 3.5046\n",
      "Epoch 00023: early stopping\n"
     ]
    }
   ],
   "source": [
    "# 설계한 모델로 훈련 개시\n",
    "model.compile(optimizer='rmsprop', loss='sparse_categorical_crossentropy')\n",
    "es = EarlyStopping(monitor='val_loss', mode='min', verbose=1, patience = 2)\n",
    "history = model.fit(x = [encoder_input_train, decoder_input_train], y = decoder_target_train, \\\n",
    "          validation_data = ([encoder_input_test, decoder_input_test], decoder_target_test),\n",
    "          batch_size = 256, callbacks=[es], epochs = 50)"
   ]
  },
  {
   "cell_type": "code",
   "execution_count": 86,
   "id": "dependent-thickness",
   "metadata": {},
   "outputs": [
    {
     "data": {
      "image/png": "[encoded data removed]",
      "text/plain": [
       "<Figure size 432x288 with 1 Axes>"
      ]
     },
     "metadata": {
      "needs_background": "light"
     },
     "output_type": "display_data"
    }
   ],
   "source": [
    "# 훈련 데이터의 손실과 검증 데이터의 손실 줄어드는 과정 시각화\n",
    "plt.plot(history.history['loss'], label='train')\n",
    "plt.plot(history.history['val_loss'], label='test')\n",
    "plt.legend()\n",
    "plt.show()"
   ]
  },
  {
   "cell_type": "code",
   "execution_count": 87,
   "id": "sharing-professor",
   "metadata": {},
   "outputs": [],
   "source": [
    "# 인퍼런스 모델 구현\n",
    "src_index_to_word = src_tokenizer.index_word # 원문 단어 집합에서 정수 -> 단어를 얻음\n",
    "tar_word_to_index = tar_tokenizer.word_index # 요약 단어 집합에서 단어 -> 정수를 얻음\n",
    "tar_index_to_word = tar_tokenizer.index_word # 요약 단어 집합에서 정수 -> 단어를 얻음"
   ]
  },
  {
   "cell_type": "code",
   "execution_count": 88,
   "id": "brown-bicycle",
   "metadata": {},
   "outputs": [],
   "source": [
    "# 인코더 설계\n",
    "encoder_model = Model(inputs=encoder_inputs, outputs=[encoder_outputs, state_h, state_c])\n",
    "\n",
    "# 이전 시점의 상태들을 저장하는 텐서\n",
    "decoder_state_input_h = Input(shape=(hidden_size,))\n",
    "decoder_state_input_c = Input(shape=(hidden_size,))\n",
    "\n",
    "dec_emb2 = dec_emb_layer(decoder_inputs)\n",
    "# 문장의 다음 단어를 예측하기 위해서 초기 상태(initial_state)를 이전 시점의 상태로 사용. 이는 뒤의 함수 decode_sequence()에 구현\n",
    "# 훈련 과정에서와 달리 LSTM의 리턴하는 은닉 상태와 셀 상태인 state_h와 state_c를 버리지 않음.\n",
    "decoder_outputs2, state_h2, state_c2 = decoder_lstm(dec_emb2, initial_state=[decoder_state_input_h, decoder_state_input_c])"
   ]
  },
  {
   "cell_type": "code",
   "execution_count": 90,
   "id": "compact-queensland",
   "metadata": {},
   "outputs": [],
   "source": [
    "# 인퍼런스 단계에서 단어 시퀀스를 완성하는 함수\n",
    "def decode_sequence(input_seq):\n",
    "    # 입력으로부터 인코더의 상태를 얻음\n",
    "    e_out, e_h, e_c = encoder_model.predict(input_seq)\n",
    "\n",
    "     # <SOS>에 해당하는 토큰 생성\n",
    "    target_seq = np.zeros((1,1))\n",
    "    target_seq[0, 0] = tar_word_to_index['sostoken']\n",
    "\n",
    "    stop_condition = False\n",
    "    decoded_sentence = ''\n",
    "    while not stop_condition: # stop_condition이 True가 될 때까지 루프 반복\n",
    "\n",
    "        output_tokens, h, c = decoder_model.predict([target_seq] + [e_out, e_h, e_c])\n",
    "        sampled_token_index = np.argmax(output_tokens[0, -1, :])\n",
    "        sampled_token = tar_index_to_word[sampled_token_index]\n",
    "\n",
    "        if(sampled_token!='eostoken'):\n",
    "            decoded_sentence += ' '+sampled_token\n",
    "\n",
    "        #  <eos>에 도달하거나 최대 길이를 넘으면 중단.\n",
    "        if (sampled_token == 'eostoken'  or len(decoded_sentence.split()) >= (headlines_max_len-1)):\n",
    "            stop_condition = True\n",
    "\n",
    "        # 길이가 1인 타겟 시퀀스를 업데이트\n",
    "        target_seq = np.zeros((1,1))\n",
    "        target_seq[0, 0] = sampled_token_index\n",
    "\n",
    "        # 상태를 업데이트 합니다.\n",
    "        e_h, e_c = h, c\n",
    "\n",
    "    return decoded_sentence"
   ]
  },
  {
   "cell_type": "code",
   "execution_count": 91,
   "id": "incorporated-purchase",
   "metadata": {},
   "outputs": [],
   "source": [
    "# 원문의 정수 시퀀스를 텍스트 시퀀스로 변환\n",
    "def seq2text(input_seq):\n",
    "    temp=''\n",
    "    for i in input_seq:\n",
    "        if(i!=0):\n",
    "            temp = temp + src_index_to_word[i]+' '\n",
    "    return temp\n",
    "\n",
    "# 요약문의 정수 시퀀스를 텍스트 시퀀스로 변환\n",
    "def seq2summary(input_seq):\n",
    "    temp=''\n",
    "    for i in input_seq:\n",
    "        if((i!=0 and i!=tar_word_to_index['sostoken']) and i!=tar_word_to_index['eostoken']):\n",
    "            temp = temp + tar_index_to_word[i] + ' '\n",
    "    return temp"
   ]
  },
  {
   "cell_type": "code",
   "execution_count": 92,
   "id": "proud-unknown",
   "metadata": {},
   "outputs": [
    {
     "name": "stdout",
     "output_type": "stream",
     "text": [
      "원문 : five men allegedly hijacked dial police vehicle stripped policemen gunpoint dressed uniform abducted woman home madhya pradesh panna sunday kidnapping woman accused fled vehicle two teams formed find victim police officials said \n",
      "실제 요약 : men hijack police vehicle wear uniform to kidnap woman \n",
      "예측 요약 :  since viral as man as as as as marries\n",
      "\n",
      "\n",
      "원문 : india defeated malaysia final hockey asia cup dhaka sunday win tournament third time india finished tournament runners five times previously joint second number asia cup titles alongside pakistan india last asia cup back \n",
      "실제 요약 : india defeat malaysia to win their rd hockey asia cup title \n",
      "예측 요약 :  ago rises to rises to rises to against ago\n",
      "\n",
      "\n",
      "원문 : talking queen director vikas bahl kangana ranaut said even though vikas married back filming queen casual sex new partner every day added judge people marriages tell addiction becomes sickness kangana said could tell something wrong \n",
      "실제 요약 : vikas about sex with new partners when married kangana \n",
      "예측 요약 :  he sure kangana on opposing old pressure on sudan pressure misconduct\n",
      "\n",
      "\n",
      "원문 : newly recruited nasa astronaut salary lies lakh lakh per year space agency revealed received record entries invited applications new class astronaut trainees last year selected nasa requires applicants graduates field science technology engineering mathematics \n",
      "실제 요약 : how much does newly nasa astronaut earn \n",
      "예측 요약 :  balls taker odis wickets odis taker odis taker odis\n",
      "\n",
      "\n",
      "원문 : search operations begun dera sacha sauda headquarters sirsa friday wherein bomb disposal squads commandos dog squads deployed roads leading headquarters sirsa nearby places also sealed notably curfew imposed nearby areas dera spokesperson appealing followers maintain peace \n",
      "실제 요약 : commandos deployed for dera hq search operation \n",
      "예측 요약 :  ucl house of most valuable since january dollar fy fy\n",
      "\n",
      "\n",
      "원문 : manchester city defeated stoke city premier league saturday registering seventh win season city took league goal tally becoming first top flight team net goals first eight games since everton meanwhile manchester united held goalless draw liverpool \n",
      "실제 요약 : man city thrash man utd register second draw \n",
      "예측 요약 :  man wins record man thrones win man wins st man man\n",
      "\n",
      "\n",
      "원문 : mumbai based juice startup raw raised million series funding round led existing investors sequoia capital capital consumer partners startup plans use funds expand manufacturing capacity distribution new product launches founded startup manufactures organic cold pressed beverages \n",
      "실제 요약 : juice startup raw raises mn in series funding \n",
      "예측 요약 :  online health minister\n",
      "\n",
      "\n",
      "원문 : actor abhishek bachchan took social media share picture father amitabh bachchan th birthday celebration wrote still happy birthday pa amitabh currently vacation family maldives celebrated birthday private beach reportedly also planning yacht party part vacation \n",
      "실제 요약 : abhishek shares pic from father amitabh day celebration \n",
      "예측 요약 :  that were by pm modi old old tweets user on birthday\n",
      "\n",
      "\n",
      "원문 : isro released images captured india th satellite placed orbit others pslv rocket january kg class satellite took image gujarat another ins third series used mapping large areas land \n",
      "실제 요약 : isro releases images captured by india th satellite \n",
      "예측 요약 :  india kicked out liverpool rocket bhatt starrer rocket\n",
      "\n",
      "\n",
      "원문 : video shows hollywood actor chris pratt reacting bappi lahiri song baba featured promotional video film guardians galaxy wow wonder late put music instead music played people gonna flip said chris watching video \n",
      "실제 요약 : chris pratt reacts to hindi song in of the galaxy \n"
     ]
    },
    {
     "ename": "KeyError",
     "evalue": "0",
     "output_type": "error",
     "traceback": [
      "\u001b[0;31m---------------------------------------------------------------------------\u001b[0m",
      "\u001b[0;31mKeyError\u001b[0m                                  Traceback (most recent call last)",
      "\u001b[0;32m<ipython-input-92-696ab88e51ee>\u001b[0m in \u001b[0;36m<module>\u001b[0;34m\u001b[0m\n\u001b[1;32m      3\u001b[0m     \u001b[0mprint\u001b[0m\u001b[0;34m(\u001b[0m\u001b[0;34m\"원문 :\"\u001b[0m\u001b[0;34m,\u001b[0m \u001b[0mseq2text\u001b[0m\u001b[0;34m(\u001b[0m\u001b[0mencoder_input_test\u001b[0m\u001b[0;34m[\u001b[0m\u001b[0mi\u001b[0m\u001b[0;34m]\u001b[0m\u001b[0;34m)\u001b[0m\u001b[0;34m)\u001b[0m\u001b[0;34m\u001b[0m\u001b[0;34m\u001b[0m\u001b[0m\n\u001b[1;32m      4\u001b[0m     \u001b[0mprint\u001b[0m\u001b[0;34m(\u001b[0m\u001b[0;34m\"실제 요약 :\"\u001b[0m\u001b[0;34m,\u001b[0m \u001b[0mseq2summary\u001b[0m\u001b[0;34m(\u001b[0m\u001b[0mdecoder_input_test\u001b[0m\u001b[0;34m[\u001b[0m\u001b[0mi\u001b[0m\u001b[0;34m]\u001b[0m\u001b[0;34m)\u001b[0m\u001b[0;34m)\u001b[0m\u001b[0;34m\u001b[0m\u001b[0;34m\u001b[0m\u001b[0m\n\u001b[0;32m----> 5\u001b[0;31m     \u001b[0mprint\u001b[0m\u001b[0;34m(\u001b[0m\u001b[0;34m\"예측 요약 :\"\u001b[0m\u001b[0;34m,\u001b[0m \u001b[0mdecode_sequence\u001b[0m\u001b[0;34m(\u001b[0m\u001b[0mencoder_input_test\u001b[0m\u001b[0;34m[\u001b[0m\u001b[0mi\u001b[0m\u001b[0;34m]\u001b[0m\u001b[0;34m.\u001b[0m\u001b[0mreshape\u001b[0m\u001b[0;34m(\u001b[0m\u001b[0;36m1\u001b[0m\u001b[0;34m,\u001b[0m \u001b[0mtext_max_len\u001b[0m\u001b[0;34m)\u001b[0m\u001b[0;34m)\u001b[0m\u001b[0;34m)\u001b[0m\u001b[0;34m\u001b[0m\u001b[0;34m\u001b[0m\u001b[0m\n\u001b[0m\u001b[1;32m      6\u001b[0m     \u001b[0mprint\u001b[0m\u001b[0;34m(\u001b[0m\u001b[0;34m\"\\n\"\u001b[0m\u001b[0;34m)\u001b[0m\u001b[0;34m\u001b[0m\u001b[0;34m\u001b[0m\u001b[0m\n",
      "\u001b[0;32m<ipython-input-90-9aaa0c210bdf>\u001b[0m in \u001b[0;36mdecode_sequence\u001b[0;34m(input_seq)\u001b[0m\n\u001b[1;32m     14\u001b[0m         \u001b[0moutput_tokens\u001b[0m\u001b[0;34m,\u001b[0m \u001b[0mh\u001b[0m\u001b[0;34m,\u001b[0m \u001b[0mc\u001b[0m \u001b[0;34m=\u001b[0m \u001b[0mdecoder_model\u001b[0m\u001b[0;34m.\u001b[0m\u001b[0mpredict\u001b[0m\u001b[0;34m(\u001b[0m\u001b[0;34m[\u001b[0m\u001b[0mtarget_seq\u001b[0m\u001b[0;34m]\u001b[0m \u001b[0;34m+\u001b[0m \u001b[0;34m[\u001b[0m\u001b[0me_out\u001b[0m\u001b[0;34m,\u001b[0m \u001b[0me_h\u001b[0m\u001b[0;34m,\u001b[0m \u001b[0me_c\u001b[0m\u001b[0;34m]\u001b[0m\u001b[0;34m)\u001b[0m\u001b[0;34m\u001b[0m\u001b[0;34m\u001b[0m\u001b[0m\n\u001b[1;32m     15\u001b[0m         \u001b[0msampled_token_index\u001b[0m \u001b[0;34m=\u001b[0m \u001b[0mnp\u001b[0m\u001b[0;34m.\u001b[0m\u001b[0margmax\u001b[0m\u001b[0;34m(\u001b[0m\u001b[0moutput_tokens\u001b[0m\u001b[0;34m[\u001b[0m\u001b[0;36m0\u001b[0m\u001b[0;34m,\u001b[0m \u001b[0;34m-\u001b[0m\u001b[0;36m1\u001b[0m\u001b[0;34m,\u001b[0m \u001b[0;34m:\u001b[0m\u001b[0;34m]\u001b[0m\u001b[0;34m)\u001b[0m\u001b[0;34m\u001b[0m\u001b[0;34m\u001b[0m\u001b[0m\n\u001b[0;32m---> 16\u001b[0;31m         \u001b[0msampled_token\u001b[0m \u001b[0;34m=\u001b[0m \u001b[0mtar_index_to_word\u001b[0m\u001b[0;34m[\u001b[0m\u001b[0msampled_token_index\u001b[0m\u001b[0;34m]\u001b[0m\u001b[0;34m\u001b[0m\u001b[0;34m\u001b[0m\u001b[0m\n\u001b[0m\u001b[1;32m     17\u001b[0m \u001b[0;34m\u001b[0m\u001b[0m\n\u001b[1;32m     18\u001b[0m         \u001b[0;32mif\u001b[0m\u001b[0;34m(\u001b[0m\u001b[0msampled_token\u001b[0m\u001b[0;34m!=\u001b[0m\u001b[0;34m'eostoken'\u001b[0m\u001b[0;34m)\u001b[0m\u001b[0;34m:\u001b[0m\u001b[0;34m\u001b[0m\u001b[0;34m\u001b[0m\u001b[0m\n",
      "\u001b[0;31mKeyError\u001b[0m: 0"
     ]
    }
   ],
   "source": [
    "# 테스트 데이터 약 50개의 샘플에 대해서 실제 요약과 예측된 요약 비교\n",
    "for i in range(50, 100):\n",
    "    print(\"원문 :\", seq2text(encoder_input_test[i]))\n",
    "    print(\"실제 요약 :\", seq2summary(decoder_input_test[i]))\n",
    "    print(\"예측 요약 :\", decode_sequence(encoder_input_test[i].reshape(1, text_max_len)))\n",
    "    print(\"\\n\")"
   ]
  },
  {
   "cell_type": "code",
   "execution_count": null,
   "id": "after-conviction",
   "metadata": {},
   "outputs": [],
   "source": []
  },
  {
   "cell_type": "code",
   "execution_count": null,
   "id": "sticky-wyoming",
   "metadata": {},
   "outputs": [],
   "source": []
  },
  {
   "cell_type": "code",
   "execution_count": null,
   "id": "dental-engine",
   "metadata": {},
   "outputs": [],
   "source": []
  },
  {
   "cell_type": "code",
   "execution_count": null,
   "id": "spectacular-combination",
   "metadata": {},
   "outputs": [],
   "source": []
  },
  {
   "cell_type": "markdown",
   "id": "structured-volume",
   "metadata": {},
   "source": [
    "## Step 3. 어텐션 메커니즘 사용하기 (추상적 요약)\n",
    "일반적인 seq2seq보다는 어텐션 메커니즘을 사용한 seq2seq를 사용하는 것이 더 나은 성능을 얻을 수 있어요. 실습 내용을 참고하여 어텐션 메커니즘을 사용한 seq2seq를 설계해 보세요."
   ]
  },
  {
   "cell_type": "code",
   "execution_count": 64,
   "id": "subsequent-highland",
   "metadata": {},
   "outputs": [],
   "source": [
    "urllib.request.urlretrieve(\"https://raw.githubusercontent.com/thushv89/attention_keras/master/src/layers/attention.py\", filename=\"attention.py\")\n",
    "from attention import AttentionLayer"
   ]
  },
  {
   "cell_type": "code",
   "execution_count": 65,
   "id": "innocent-event",
   "metadata": {},
   "outputs": [
    {
     "name": "stdout",
     "output_type": "stream",
     "text": [
      "Model: \"model_1\"\n",
      "__________________________________________________________________________________________________\n",
      "Layer (type)                    Output Shape         Param #     Connected to                     \n",
      "==================================================================================================\n",
      "input_1 (InputLayer)            [(None, 45)]         0                                            \n",
      "__________________________________________________________________________________________________\n",
      "embedding (Embedding)           (None, 45, 128)      2560000     input_1[0][0]                    \n",
      "__________________________________________________________________________________________________\n",
      "lstm (LSTM)                     [(None, 45, 256), (N 394240      embedding[0][0]                  \n",
      "__________________________________________________________________________________________________\n",
      "input_2 (InputLayer)            [(None, None)]       0                                            \n",
      "__________________________________________________________________________________________________\n",
      "lstm_1 (LSTM)                   [(None, 45, 256), (N 525312      lstm[0][0]                       \n",
      "__________________________________________________________________________________________________\n",
      "embedding_1 (Embedding)         (None, None, 128)    1280000     input_2[0][0]                    \n",
      "__________________________________________________________________________________________________\n",
      "lstm_2 (LSTM)                   [(None, 45, 256), (N 525312      lstm_1[0][0]                     \n",
      "__________________________________________________________________________________________________\n",
      "lstm_3 (LSTM)                   [(None, None, 256),  394240      embedding_1[0][0]                \n",
      "                                                                 lstm_2[0][1]                     \n",
      "                                                                 lstm_2[0][2]                     \n",
      "__________________________________________________________________________________________________\n",
      "attention_layer (AttentionLayer ((None, None, 256),  131328      lstm_2[0][0]                     \n",
      "                                                                 lstm_3[0][0]                     \n",
      "__________________________________________________________________________________________________\n",
      "concat_layer (Concatenate)      (None, None, 512)    0           lstm_3[0][0]                     \n",
      "                                                                 attention_layer[0][0]            \n",
      "__________________________________________________________________________________________________\n",
      "dense_1 (Dense)                 (None, None, 10000)  5130000     concat_layer[0][0]               \n",
      "==================================================================================================\n",
      "Total params: 10,940,432\n",
      "Trainable params: 10,940,432\n",
      "Non-trainable params: 0\n",
      "__________________________________________________________________________________________________\n"
     ]
    }
   ],
   "source": [
    "# 설계한 디코더의 출력층을 아래와 같이 수정\n",
    "# 어텐션 층(어텐션 함수)\n",
    "attn_layer = AttentionLayer(name='attention_layer')\n",
    "# 인코더와 디코더의 모든 time step의 hidden state를 어텐션 층에 전달하고 결과를 리턴\n",
    "attn_out, attn_states = attn_layer([encoder_outputs, decoder_outputs])\n",
    "\n",
    "# 어텐션의 결과와 디코더의 hidden state들을 연결\n",
    "decoder_concat_input = Concatenate(axis = -1, name='concat_layer')([decoder_outputs, attn_out])\n",
    "\n",
    "# 디코더의 출력층\n",
    "decoder_softmax_layer = Dense(tar_vocab, activation='softmax')\n",
    "decoder_softmax_outputs = decoder_softmax_layer(decoder_concat_input)\n",
    "\n",
    "# 모델 정의\n",
    "model = Model([encoder_inputs, decoder_inputs], decoder_softmax_outputs)\n",
    "model.summary()"
   ]
  },
  {
   "cell_type": "code",
   "execution_count": 66,
   "id": "expanded-certificate",
   "metadata": {},
   "outputs": [
    {
     "name": "stdout",
     "output_type": "stream",
     "text": [
      "Epoch 1/50\n",
      "303/303 [==============================] - 109s 360ms/step - loss: 5.6167 - val_loss: 5.2106\n",
      "Epoch 2/50\n",
      "303/303 [==============================] - 108s 355ms/step - loss: 5.0332 - val_loss: 4.8023\n",
      "Epoch 3/50\n",
      "303/303 [==============================] - 106s 348ms/step - loss: 4.6940 - val_loss: 4.5468\n",
      "Epoch 4/50\n",
      "303/303 [==============================] - 104s 344ms/step - loss: 4.4291 - val_loss: 4.3442\n",
      "Epoch 5/50\n",
      "303/303 [==============================] - 104s 344ms/step - loss: 4.2169 - val_loss: 4.1919\n",
      "Epoch 6/50\n",
      "303/303 [==============================] - 104s 344ms/step - loss: 4.0430 - val_loss: 4.0770\n",
      "Epoch 7/50\n",
      "303/303 [==============================] - 104s 344ms/step - loss: 3.8967 - val_loss: 3.9887\n",
      "Epoch 8/50\n",
      "303/303 [==============================] - 104s 345ms/step - loss: 3.7695 - val_loss: 3.9168\n",
      "Epoch 9/50\n",
      "303/303 [==============================] - 104s 344ms/step - loss: 3.6568 - val_loss: 3.8504\n",
      "Epoch 10/50\n",
      "303/303 [==============================] - 105s 345ms/step - loss: 3.5578 - val_loss: 3.8047\n",
      "Epoch 11/50\n",
      "303/303 [==============================] - 104s 345ms/step - loss: 3.4695 - val_loss: 3.7576\n",
      "Epoch 12/50\n",
      "303/303 [==============================] - 104s 344ms/step - loss: 3.3912 - val_loss: 3.7276\n",
      "Epoch 13/50\n",
      "303/303 [==============================] - 104s 344ms/step - loss: 3.3162 - val_loss: 3.6910\n",
      "Epoch 14/50\n",
      "303/303 [==============================] - 104s 343ms/step - loss: 3.2465 - val_loss: 3.6673\n",
      "Epoch 15/50\n",
      "303/303 [==============================] - 104s 344ms/step - loss: 3.1875 - val_loss: 3.6403\n",
      "Epoch 16/50\n",
      "303/303 [==============================] - 104s 344ms/step - loss: 3.1329 - val_loss: 3.6260\n",
      "Epoch 17/50\n",
      "303/303 [==============================] - 104s 344ms/step - loss: 3.0814 - val_loss: 3.6098\n",
      "Epoch 18/50\n",
      "303/303 [==============================] - 105s 345ms/step - loss: 3.0320 - val_loss: 3.5932\n",
      "Epoch 19/50\n",
      "303/303 [==============================] - 104s 342ms/step - loss: 2.9833 - val_loss: 3.5773\n",
      "Epoch 20/50\n",
      "303/303 [==============================] - 104s 343ms/step - loss: 2.9394 - val_loss: 3.5658\n",
      "Epoch 21/50\n",
      "303/303 [==============================] - 104s 343ms/step - loss: 2.9001 - val_loss: 3.5674\n",
      "Epoch 22/50\n",
      "303/303 [==============================] - 104s 342ms/step - loss: 2.8647 - val_loss: 3.5501\n",
      "Epoch 23/50\n",
      "303/303 [==============================] - 104s 342ms/step - loss: 2.8296 - val_loss: 3.5462\n",
      "Epoch 24/50\n",
      "303/303 [==============================] - 104s 343ms/step - loss: 2.7948 - val_loss: 3.5401\n",
      "Epoch 25/50\n",
      "303/303 [==============================] - 104s 343ms/step - loss: 2.7633 - val_loss: 3.5306\n",
      "Epoch 26/50\n",
      "303/303 [==============================] - 104s 343ms/step - loss: 2.7322 - val_loss: 3.5288\n",
      "Epoch 27/50\n",
      "303/303 [==============================] - 104s 343ms/step - loss: 2.7016 - val_loss: 3.5223\n",
      "Epoch 28/50\n",
      "303/303 [==============================] - 104s 343ms/step - loss: 2.6731 - val_loss: 3.5172\n",
      "Epoch 29/50\n",
      "303/303 [==============================] - 104s 343ms/step - loss: 2.6454 - val_loss: 3.5195\n",
      "Epoch 30/50\n",
      "303/303 [==============================] - 104s 343ms/step - loss: 2.6198 - val_loss: 3.5189\n",
      "Epoch 00030: early stopping\n"
     ]
    }
   ],
   "source": [
    "# 설계한 모델로 훈련 개시\n",
    "model.compile(optimizer='rmsprop', loss='sparse_categorical_crossentropy')\n",
    "es = EarlyStopping(monitor='val_loss', mode='min', verbose=1, patience = 2)\n",
    "history = model.fit(x = [encoder_input_train, decoder_input_train], y = decoder_target_train, \\\n",
    "          validation_data = ([encoder_input_test, decoder_input_test], decoder_target_test),\n",
    "          batch_size = 256, callbacks=[es], epochs = 50)"
   ]
  },
  {
   "cell_type": "code",
   "execution_count": 67,
   "id": "julian-white",
   "metadata": {},
   "outputs": [
    {
     "data": {
      "image/png": "[encoded data removed]",
      "text/plain": [
       "<Figure size 432x288 with 1 Axes>"
      ]
     },
     "metadata": {
      "needs_background": "light"
     },
     "output_type": "display_data"
    }
   ],
   "source": [
    "# 훈련 데이터의 손실과 검증 데이터의 손실 줄어드는 과정 시각화\n",
    "plt.plot(history.history['loss'], label='train')\n",
    "plt.plot(history.history['val_loss'], label='test')\n",
    "plt.legend()\n",
    "plt.show()"
   ]
  },
  {
   "cell_type": "code",
   "execution_count": 68,
   "id": "minute-question",
   "metadata": {},
   "outputs": [],
   "source": [
    "# 인퍼런스 모델 구현\n",
    "src_index_to_word = src_tokenizer.index_word # 원문 단어 집합에서 정수 -> 단어를 얻음\n",
    "tar_word_to_index = tar_tokenizer.word_index # 요약 단어 집합에서 단어 -> 정수를 얻음\n",
    "tar_index_to_word = tar_tokenizer.index_word # 요약 단어 집합에서 정수 -> 단어를 얻음"
   ]
  },
  {
   "cell_type": "code",
   "execution_count": 69,
   "id": "pending-efficiency",
   "metadata": {},
   "outputs": [],
   "source": [
    "# 인코더 설계\n",
    "encoder_model = Model(inputs=encoder_inputs, outputs=[encoder_outputs, state_h, state_c])\n",
    "\n",
    "# 이전 시점의 상태들을 저장하는 텐서\n",
    "decoder_state_input_h = Input(shape=(hidden_size,))\n",
    "decoder_state_input_c = Input(shape=(hidden_size,))\n",
    "\n",
    "dec_emb2 = dec_emb_layer(decoder_inputs)\n",
    "# 문장의 다음 단어를 예측하기 위해서 초기 상태(initial_state)를 이전 시점의 상태로 사용. 이는 뒤의 함수 decode_sequence()에 구현\n",
    "# 훈련 과정에서와 달리 LSTM의 리턴하는 은닉 상태와 셀 상태인 state_h와 state_c를 버리지 않음.\n",
    "decoder_outputs2, state_h2, state_c2 = decoder_lstm(dec_emb2, initial_state=[decoder_state_input_h, decoder_state_input_c])"
   ]
  },
  {
   "cell_type": "code",
   "execution_count": 70,
   "id": "blank-queue",
   "metadata": {},
   "outputs": [],
   "source": [
    "# 어텐션 메커니즘알 사용하는 출력층\n",
    "# 어텐션 함수\n",
    "decoder_hidden_state_input = Input(shape=(text_max_len, hidden_size))\n",
    "attn_out_inf, attn_states_inf = attn_layer([decoder_hidden_state_input, decoder_outputs2])\n",
    "decoder_inf_concat = Concatenate(axis=-1, name='concat')([decoder_outputs2, attn_out_inf])\n",
    "\n",
    "# 디코더의 출력층\n",
    "decoder_outputs2 = decoder_softmax_layer(decoder_inf_concat) \n",
    "\n",
    "# 최종 디코더 모델\n",
    "decoder_model = Model(\n",
    "    [decoder_inputs] + [decoder_hidden_state_input,decoder_state_input_h, decoder_state_input_c],\n",
    "    [decoder_outputs2] + [state_h2, state_c2])"
   ]
  },
  {
   "cell_type": "code",
   "execution_count": 74,
   "id": "electrical-reservation",
   "metadata": {},
   "outputs": [],
   "source": [
    "# 인퍼런스 단계에서 단어 시퀀스를 완성하는 함수\n",
    "def decode_sequence(input_seq):\n",
    "    # 입력으로부터 인코더의 상태를 얻음\n",
    "    e_out, e_h, e_c = encoder_model.predict(input_seq)\n",
    "\n",
    "     # <SOS>에 해당하는 토큰 생성\n",
    "    target_seq = np.zeros((1,1))\n",
    "    target_seq[0, 0] = tar_word_to_index['sostoken']\n",
    "\n",
    "    stop_condition = False\n",
    "    decoded_sentence = ''\n",
    "    while not stop_condition: # stop_condition이 True가 될 때까지 루프 반복\n",
    "\n",
    "        output_tokens, h, c = decoder_model.predict([target_seq] + [e_out, e_h, e_c])\n",
    "        sampled_token_index = np.argmax(output_tokens[0, -1, :])\n",
    "        sampled_token = tar_index_to_word[sampled_token_index]\n",
    "\n",
    "        if(sampled_token!='eostoken'):\n",
    "            decoded_sentence += ' '+sampled_token\n",
    "\n",
    "        #  <eos>에 도달하거나 최대 길이를 넘으면 중단.\n",
    "        if (sampled_token == 'eostoken'  or len(decoded_sentence.split()) >= (headlines_max_len-1)):\n",
    "            stop_condition = True\n",
    "\n",
    "        # 길이가 1인 타겟 시퀀스를 업데이트\n",
    "        target_seq = np.zeros((1,1))\n",
    "        target_seq[0, 0] = sampled_token_index\n",
    "\n",
    "        # 상태를 업데이트 합니다.\n",
    "        e_h, e_c = h, c\n",
    "\n",
    "    return decoded_sentence"
   ]
  },
  {
   "cell_type": "markdown",
   "id": "detailed-level",
   "metadata": {},
   "source": [
    "## Step 4. 실제 결과와 요약문 비교하기 (추상적 요약)\n",
    "원래의 요약문(headlines 열)과 학습을 통해 얻은 추상적 요약의 결과를 비교해보세요."
   ]
  },
  {
   "cell_type": "markdown",
   "id": "dramatic-candle",
   "metadata": {},
   "source": [
    "# 모델 테스트"
   ]
  },
  {
   "cell_type": "code",
   "execution_count": 75,
   "id": "about-abuse",
   "metadata": {},
   "outputs": [],
   "source": [
    "# 원문의 정수 시퀀스를 텍스트 시퀀스로 변환\n",
    "def seq2text(input_seq):\n",
    "    temp=''\n",
    "    for i in input_seq:\n",
    "        if(i!=0):\n",
    "            temp = temp + src_index_to_word[i]+' '\n",
    "    return temp\n",
    "\n",
    "# 요약문의 정수 시퀀스를 텍스트 시퀀스로 변환\n",
    "def seq2summary(input_seq):\n",
    "    temp=''\n",
    "    for i in input_seq:\n",
    "        if((i!=0 and i!=tar_word_to_index['sostoken']) and i!=tar_word_to_index['eostoken']):\n",
    "            temp = temp + tar_index_to_word[i] + ' '\n",
    "    return temp"
   ]
  },
  {
   "cell_type": "code",
   "execution_count": 76,
   "id": "organizational-prince",
   "metadata": {},
   "outputs": [
    {
     "name": "stdout",
     "output_type": "stream",
     "text": [
      "원문 : five men allegedly hijacked dial police vehicle stripped policemen gunpoint dressed uniform abducted woman home madhya pradesh panna sunday kidnapping woman accused fled vehicle two teams formed find victim police officials said \n",
      "실제 요약 : men hijack police vehicle wear uniform to kidnap woman \n",
      "예측 요약 :  men killed in up as woman gangraped in up\n",
      "\n",
      "\n",
      "원문 : india defeated malaysia final hockey asia cup dhaka sunday win tournament third time india finished tournament runners five times previously joint second number asia cup titles alongside pakistan india last asia cup back \n",
      "실제 요약 : india defeat malaysia to win their rd hockey asia cup title \n",
      "예측 요약 :  india beat pakistan to enter hockey world cup final\n",
      "\n",
      "\n",
      "원문 : talking queen director vikas bahl kangana ranaut said even though vikas married back filming queen casual sex new partner every day added judge people marriages tell addiction becomes sickness kangana said could tell something wrong \n",
      "실제 요약 : vikas about sex with new partners when married kangana \n",
      "예측 요약 :  kangana is the only woman director director\n",
      "\n",
      "\n",
      "원문 : newly recruited nasa astronaut salary lies lakh lakh per year space agency revealed received record entries invited applications new class astronaut trainees last year selected nasa requires applicants graduates field science technology engineering mathematics \n",
      "실제 요약 : how much does newly nasa astronaut earn \n",
      "예측 요약 :  nasa spent lakh for lakh in years\n",
      "\n",
      "\n",
      "원문 : search operations begun dera sacha sauda headquarters sirsa friday wherein bomb disposal squads commandos dog squads deployed roads leading headquarters sirsa nearby places also sealed notably curfew imposed nearby areas dera spokesperson appealing followers maintain peace \n",
      "실제 요약 : commandos deployed for dera hq search operation \n",
      "예측 요약 :  dera sacha sauda followers found dead in meghalaya\n",
      "\n",
      "\n",
      "원문 : manchester city defeated stoke city premier league saturday registering seventh win season city took league goal tally becoming first top flight team net goals first eight games since everton meanwhile manchester united held goalless draw liverpool \n",
      "실제 요약 : man city thrash man utd register second draw \n",
      "예측 요약 :  man city thrash pl to win th straight pl title\n",
      "\n",
      "\n",
      "원문 : mumbai based juice startup raw raised million series funding round led existing investors sequoia capital capital consumer partners startup plans use funds expand manufacturing capacity distribution new product launches founded startup manufactures organic cold pressed beverages \n",
      "실제 요약 : juice startup raw raises mn in series funding \n",
      "예측 요약 :  startup raises mn in series funding\n",
      "\n",
      "\n",
      "원문 : actor abhishek bachchan took social media share picture father amitabh bachchan th birthday celebration wrote still happy birthday pa amitabh currently vacation family maldives celebrated birthday private beach reportedly also planning yacht party part vacation \n",
      "실제 요약 : abhishek shares pic from father amitabh day celebration \n",
      "예측 요약 :  abhishek shares pic with big on his birthday\n",
      "\n",
      "\n",
      "원문 : isro released images captured india th satellite placed orbit others pslv rocket january kg class satellite took image gujarat another ins third series used mapping large areas land \n",
      "실제 요약 : isro releases images captured by india th satellite \n",
      "예측 요약 :  isro successfully launches satellite on mars\n",
      "\n",
      "\n",
      "원문 : video shows hollywood actor chris pratt reacting bappi lahiri song baba featured promotional video film guardians galaxy wow wonder late put music instead music played people gonna flip said chris watching video \n",
      "실제 요약 : chris pratt reacts to hindi song in of the galaxy \n",
      "예측 요약 :  chris reacts to look in tamil nadu\n",
      "\n",
      "\n",
      "원문 : south korean president moon jae arrived north tuesday attend year third inter korean summit moon three day visit north leader kim jong un discuss denuclearisation korean peninsula among issues south korean business including samsung electronics vice chairman jay lee also accompanying jae \n",
      "실제 요약 : korea prez visits korea for third inter korean summit \n",
      "예측 요약 :  korea prez kim jong un to korean prez\n",
      "\n",
      "\n",
      "원문 : salman khan co star pooja battling tuberculosis since five months said survived ordeal added clothes soaps food medicines foundation took care everything pooja weighed kg admitted hospital march \n",
      "실제 요약 : survived tb only because of salman help co star \n",
      "예측 요약 :  salman khan reveals he was dating dating director\n",
      "\n",
      "\n",
      "원문 : ukraine year old player become youngest enter third round grand slam since croatia us open achieved feat defeating australian open wednesday meanwhile year old became oldest man reach australian open third round years \n",
      "실제 요약 : yr old girl youngest in grand slam rd round in yrs \n",
      "예측 요약 :  yr old son wins th straight match in france history\n",
      "\n",
      "\n",
      "원문 : substitute scored th minute winner give liverpool victory derby sunday year old forward headed ball bounced following match winning goal liverpool coach ran dugout onto pitch celebrate liverpool goalkeeper becker \n",
      "실제 요약 : liverpool score in th minute to win derby against \n",
      "예측 요약 :  man city thrash goal to win in match\n",
      "\n",
      "\n",
      "원문 : business networking service linkedin thursday started rolling feature pair mentors looking professional guidance linkedin compiled list potential mentors time option becoming mentor open everyone narrow search according parameters like location alma mentor \n",
      "실제 요약 : linkedin launches feature to pair users with \n",
      "예측 요약 :  makemytrip to launch ebay for oneplus\n",
      "\n",
      "\n",
      "원문 : real madrid forward cristiano ronaldo accidentally hit cameraman face strike training session ahead champions league final kiev ukraine five time ballon winner seen putting hands head seeing cameraman struck ronaldo later gave warm jacket cameraman required stitches \n",
      "실제 요약 : ronaldo hits cameraman in face with ball gifts him jacket \n",
      "예측 요약 :  ronaldo pulls off his own car to fight\n",
      "\n",
      "\n",
      "원문 : apple said iphone face id failed recognise software chief craig face launch people tried face stage demo launch iphone directed craig enter passcode apple said face id failed people craig iphone designed require passcode \n",
      "실제 요약 : apple explains why iphone face id failed during launch \n",
      "예측 요약 :  apple iphone id face id to be apple\n",
      "\n",
      "\n",
      "원문 : west ham united goalkeeper ski saved morata going inside goal face th minute chelsea held draw premier league sunday first time chelsea failed win ongoing premier league season chelsea third points table points \n",
      "실제 요약 : goalkeeper saves goal with face as chelsea lose win record \n",
      "예측 요약 :  year old scores in as league league league\n",
      "\n",
      "\n",
      "원문 : west bengal capital kolkata get india first underwater metro system pass hooghly river one two tunnels completed built metres earth surface near howrah bridge notably first time india tunnel made flowing river \n",
      "실제 요약 : india first underwater metro to come up in kolkata \n",
      "예측 요약 :  kolkata to get its first ever kolkata kolkata kolkata kolkata\n",
      "\n",
      "\n",
      "원문 : commerce major amazon invested crore indian digital payments arm amazon pay funding comes month amazon parent entity invested crore amazon pay according filings amazon competing flipkart india also invested crore july crore march payments business \n",
      "실제 요약 : amazon invests crore in indian payments arm amazon pay \n",
      "예측 요약 :  amazon invests crore in flipkart payments arm\n",
      "\n",
      "\n",
      "원문 : financial services major barclays four former executives including bank ex ceo john charged conspiracy commit fraud charges come end five year investigation agreements barclays qatari investors struck crisis notably marks first time senior bankers faced charges crisis events \n",
      "실제 요약 : barclays former top execs charged with fraud in crisis \n",
      "예측 요약 :  ex banker ceo who is fired for ex ceo\n",
      "\n",
      "\n",
      "원문 : iran women kabaddi asiad gold winning coach shailaja jain indian revealed would remove girls whatsapp group inform team created whatsapp group put inspirational messages lead every day would trim group said shailaja reduced group strength \n",
      "실제 요약 : removing girls from whatsapp meant not in team gold winning coach \n",
      "예측 요약 :  indian women hockey team coach to whatsapp\n",
      "\n",
      "\n",
      "원문 : chinese internet major baidu chief operating officer responsible day day operations ai unit stepping july commenting development said longer work full time china due personal family reasons however former microsoft executive continue serve baidu vice chairman \n",
      "실제 요약 : baidu coo who led ai effort steps down \n"
     ]
    },
    {
     "name": "stdout",
     "output_type": "stream",
     "text": [
      "예측 요약 :  china head venture quits as hr head\n",
      "\n",
      "\n",
      "원문 : year old man owned restaurant gurugram tuesday jumped seventh floor building restaurant located man reported depressed went seventh floor twice jumping eyewitness told police declared brought dead hospital suicide note recovered \n",
      "실제 요약 : restaurant owner jumps from th floor of gurugram building \n",
      "예측 요약 :  man jumps off mumbai mall to escape from mumbai\n",
      "\n",
      "\n",
      "원문 : russian defence committee friday said likelihood islamic state group leader abu bakr al baghdadi killed air strike carried country syrian city raqqa close fact islamic state still shown anywhere also adds confidence committee added \n",
      "실제 요약 : isis leader death near certain russia \n",
      "예측 요약 :  russia islamic state of isis in syria russia\n",
      "\n",
      "\n",
      "원문 : chitrangda singh role saheb biwi aur gangster cut short per reports report stated chitrangda shown film last minute saw tears death scene climax cut reduced half original length according reports \n",
      "실제 요약 : role in biwi aur cut short reports \n",
      "예측 요약 :  director wanted to return to housefull director\n",
      "\n",
      "\n",
      "원문 : london based property developer collective announced prospective tenants pay deposits bitcoin adding year end also accept rent payments bitcoin first time uk major property developer enabled bitcoin payments developer said response demand international customers \n",
      "실제 요약 : london developer to accept bitcoin for rental deposits \n",
      "예측 요약 :  london firm to be paid crore for bitcoin to bitcoin\n",
      "\n",
      "\n",
      "원문 : supreme court tuesday barred media revealing identity sexual assault victims even dead also said names victims cannot used public rallies social media platforms sc added police forensic authorities cannot disclose names rape victims even parents provide consent \n",
      "실제 요약 : sc bars media from revealing identity of sexual assault victims \n",
      "예측 요약 :  sc slams pil for reporting reporting of women activists\n",
      "\n",
      "\n",
      "원문 : india first village books set come maharashtra village popular may identified around premises like homes school temples public places village books would made available tourists reading state minister vinod tawde said \n",
      "실제 요약 : india first village of books to come up in maharashtra \n",
      "예측 요약 :  india st students to get up school in maharashtra\n",
      "\n",
      "\n",
      "원문 : parineeti chopra said person believe dating one night stand casual relationships person believes serious committed relationships loyalty towards matters added think lived full life given heart said \n",
      "실제 요약 : do not believe in dating or one night stand parineeti \n",
      "예측 요약 :  parineeti chopra shares picture with her\n",
      "\n",
      "\n",
      "원문 : french president emmanuel macron named centre right philippe first prime minister making first major political decision day inaugurated country leader move seen macron way showing real unite elements left right overcome old party \n",
      "실제 요약 : named new french prime minister \n",
      "예측 요약 :  french prez macron elected prime minister\n",
      "\n",
      "\n",
      "원문 : bid end taxi issue goa state government launched app based taxi service taxis charge government approved rates goa chief minister manohar parrikar said launching app ride hailing platforms ola uber allowed enter coastal state due regulatory norms \n",
      "실제 요약 : goa govt launches its own app based taxi service \n",
      "예측 요약 :  ongc approves stake in maharashtra cm for taxi taxi\n",
      "\n",
      "\n",
      "원문 : amid ongoing lawsuit uber stealing google self driving car tech ex executive anthony levandowski uber claimed knew levandowski possessed google data stolen google responded evidence clearly shows stolen information already made way uber technology notably uber fired levandowski amid dispute \n",
      "실제 요약 : we knew exec had google data not that it was stolen uber \n",
      "예측 요약 :  uber accuses google of him in uber data scandal\n",
      "\n",
      "\n",
      "원문 : president ram nath kovind saturday said india facing possible mental health epidemic adding technological economic demographic changes transforming nature diseases pointed less clinical psychologists country \n",
      "실제 요약 : india facing possible mental health epidemic prez kovind \n",
      "예측 요약 :  will not be president kovind on president\n",
      "\n",
      "\n",
      "원문 : union minister smriti irani monday said press council india news broadcasters association controlled government ascertain whether news fake comes congress leader ahmed patel asked would decide constitutes fake news guarantee rules misused harass honest reporters \n",
      "실제 요약 : irani replies to cong concern over steps against fake news \n",
      "예측 요약 :  govt asks media to news on fake news of news\n",
      "\n",
      "\n",
      "원문 : australian cricketers wore black armbands featuring late australian cricketer phil hughes initials cricketer third death anniversary monday australian opener david warner looked reaching score score hughes playing fatally struck bouncer domestic match \n",
      "실제 요약 : aus team wears to pay tribute to hughes \n",
      "예측 요약 :  australian players once called his bat to bowl\n",
      "\n",
      "\n",
      "원문 : former team india john said benchmark yo yo fitness test would physically cricketers mean would exempted selection yo yo test could help definitive test formats game sure added \n",
      "실제 요약 : yo yo test standard for some players ex \n",
      "예측 요약 :  yo yo yo yo yo yo yo yo yo test ex\n",
      "\n",
      "\n",
      "원문 : trailer dharmendra sunny deol bobby deol starrer yamla pagla deewana phir se released directed singh third film yamla pagla deewana film series rekha making cameo appearance film song also starring kriti kharbanda film scheduled release august \n",
      "실제 요약 : trailer of yamla pagla deewana phir se released \n",
      "예측 요약 :  trailer of sunny deol starrer yamla pagla deewana phir se released\n",
      "\n",
      "\n",
      "원문 : benchmark indices sensex nifty ended record closing highs third straight session monday nifty closing first time sensex ended points higher nifty gained points close markets influenced industrial growth surged month high november \n",
      "실제 요약 : nifty closes above for the first time \n",
      "예측 요약 :  sensex nifty close at record high\n",
      "\n",
      "\n",
      "원문 : french woman stranded known killer mountain pakistan occupied kashmir rescued however said could rescue partner developed snow blindness climb french woman left partner tent descended call help \n",
      "실제 요약 : french woman stranded at pok rescued \n",
      "예측 요약 :  french woman in indian ocean for rescue indian coast\n",
      "\n",
      "\n",
      "원문 : customer engagement platform formerly known freshdesk bought chennai based th acquisition two years developed managing software help understand users interact websites founded girish mathrubootham one india well funded saas startups \n",
      "실제 요약 : buys chennai based in th acquisition \n",
      "예측 요약 :  owner acquires mumbai based on\n",
      "\n",
      "\n",
      "원문 : third incident month west bengal construction bridge monday collapsed south district however casualties reported earlier september least three people died injured bridge collapsed majerhat another bridge collapsed siliguri september casualties reported \n",
      "실제 요약 : bridge collapses in west bengal rd incident in month \n",
      "예측 요약 :  bridge collapse collapses in kolkata\n",
      "\n",
      "\n",
      "원문 : rio olympic gold medallist roberts doping ban revoked claimed ingested banned substance accidentally kissing girlfriend roberts gold metre relay claimed medicine prescribed girlfriend trip india contained banned substance ingested unknowingly \n",
      "실제 요약 : athlete says he failed dope test due to kissing ban revoked \n",
      "예측 요약 :  olympic gold banned banned from uk court court\n",
      "\n",
      "\n",
      "원문 : european space agency said proposed moon village could first settlement scientists may possibility children born moon mere decades base could serve launching pad future missions mars developing space tourism esa added \n",
      "실제 요약 : children may be born on moon within decades \n",
      "예측 요약 :  astronaut to be moon for moon mission to moon\n",
      "\n",
      "\n",
      "원문 : tdp mps distributed tirupati balaji parliament demanding special category status andhra pradesh reportedly pm modi election speech tirupati promised give special category status state earlier tdp mp wore shirt parliament andhra pradesh six demands printed \n",
      "실제 요약 : tdp mps demand special status for andhra distribute \n",
      "예측 요약 :  tdp mps mps protest for andhra special status for andhra\n",
      "\n",
      "\n",
      "원문 : actor khan took social media share picture son born friday thank congratulatory messages wishes best well wrote twitter wife second child daughter \n",
      "실제 요약 : khan shares picture with newborn son \n",
      "예측 요약 :  shares pic with son son with him\n",
      "\n",
      "\n",
      "원문 : indian women cricket team suffered eight wicket loss hands australia wednesday second straight loss registering four consecutive wins women world cup perry scored unbeaten match became first player score four successive plus scores single edition women world cup \n",
      "실제 요약 : indian women suffer nd straight loss after four wins in \n"
     ]
    },
    {
     "name": "stdout",
     "output_type": "stream",
     "text": [
      "예측 요약 :  indian women lose to score in straight pl match\n",
      "\n",
      "\n",
      "원문 : combination ranked worst password fifth consecutive year top worst passwords us based company analysed million leaked passwords second spot taken password donald made debut rd spot like also featured list \n",
      "실제 요약 : named worst password again donald joins the list \n",
      "예측 요약 :  nifty breaches for first time in months\n",
      "\n",
      "\n",
      "원문 : rajasthan government monday announced reservations five communities backward classes category comes leaders threatened launch protests pm narendra modi upcoming jaipur visit seeking reservation within obc quota violate supreme court mandated cap \n",
      "실제 요약 : rajasthan approves reservation for other \n",
      "예측 요약 :  raj govt to give up to muslims on ayodhya issue\n",
      "\n",
      "\n",
      "원문 : us woman suing starbucks claiming employees caused dog death gave major injuries handing hot cup tea loose reportedly demanding alleging starbucks ensure safe premises customers suit also alleged outlet received similar complaints past \n",
      "실제 요약 : woman sues starbucks for lakh after hot tea kills dog \n",
      "예측 요약 :  us woman sues us for million over baby crash\n",
      "\n",
      "\n"
     ]
    }
   ],
   "source": [
    "# 테스트 데이터 약 50개의 샘플에 대해서 실제 요약과 예측된 요약 비교\n",
    "for i in range(50, 100):\n",
    "    print(\"원문 :\", seq2text(encoder_input_test[i]))\n",
    "    print(\"실제 요약 :\", seq2summary(decoder_input_test[i]))\n",
    "    print(\"예측 요약 :\", decode_sequence(encoder_input_test[i].reshape(1, text_max_len)))\n",
    "    print(\"\\n\")"
   ]
  },
  {
   "cell_type": "code",
   "execution_count": null,
   "id": "nuclear-alpha",
   "metadata": {},
   "outputs": [],
   "source": []
  },
  {
   "cell_type": "code",
   "execution_count": null,
   "id": "rural-boulder",
   "metadata": {},
   "outputs": [],
   "source": []
  },
  {
   "cell_type": "code",
   "execution_count": null,
   "id": "threaded-genome",
   "metadata": {},
   "outputs": [],
   "source": []
  },
  {
   "cell_type": "markdown",
   "id": "metropolitan-location",
   "metadata": {},
   "source": [
    "## Step 5. Summa을 이용해서 추출적 요약해보기\n",
    "추상적 요약은 추출적 요약과는 달리 문장의 표현력을 다양하게 가져갈 수 있지만, 추출적 요약에 비해서 난이도가 높아요. 반대로 말하면 추출적 요약은 추상적 요약에 비해 난이도가 낮고 기존 문장에서 문장을 꺼내오는 것이므로 잘못된 요약이 나올 가능성이 낮아요.\n",
    "\n",
    "Summa의 summarize를 사용하여 추출적 요약을 해보세요."
   ]
  },
  {
   "cell_type": "code",
   "execution_count": 77,
   "id": "accurate-gibraltar",
   "metadata": {},
   "outputs": [],
   "source": [
    "import requests\n",
    "from summa.summarizer import summarize"
   ]
  },
  {
   "cell_type": "code",
   "execution_count": 78,
   "id": "solved-watch",
   "metadata": {},
   "outputs": [],
   "source": [
    "text = requests.get('http://rare-technologies.com/the_matrix_synopsis.txt').text"
   ]
  },
  {
   "cell_type": "code",
   "execution_count": 79,
   "id": "wooden-alloy",
   "metadata": {},
   "outputs": [
    {
     "name": "stdout",
     "output_type": "stream",
     "text": [
      "The screen is filled with green, cascading code which gives way to the title, The Matrix.\r\n",
      "\r\n",
      "A phone rings and text appears on the screen: \"Call trans opt: received. 2-19-98 13:24:18 REC: Log>\" As a conversation takes place between Trinity (Carrie-Anne Moss) and Cypher (Joe Pantoliano), two free humans, a table of random green numbers are being scanned and individual numbers selected, creating a series of digits not unlike an ordinary phone number, as if a code is being deciphered or a call is being traced.\r\n",
      "\r\n",
      "Trinity discusses some unknown person. Cypher taunts Trinity, suggesting she enjoys watching him. Trinity counters that \"Morpheus (Laurence Fishburne) says he may be 'the One',\" just as the sound of a number being selected alerts Trinity that someone may be tracing their call. She ends the call.\r\n",
      "\r\n",
      "Armed policemen move down a darkened, decrepit hallway in the Heart O' the City Hotel, their flashlight beam bouncing just ahead of them. They come to room 303, kick down the door and find a woman dressed in black, facing away from them. It's Trinity. She brings her hands up from the laptop she's working on at their command.\r\n",
      "\r\n",
      "Outside the hotel a car drives up and three agents appear in neatly pressed black suits. They are Agent Smith (Hugo Weaving), Agent Brown (Paul Goddard), and Agent Jones (Robert Taylor). Agent Smith and the presiding police lieutenant argue. Agent Smith admonishes the policeman that they were given specific orders to contact the agents first, for their\n"
     ]
    }
   ],
   "source": [
    "print(text[:1500])"
   ]
  },
  {
   "cell_type": "code",
   "execution_count": 80,
   "id": "intense-amino",
   "metadata": {},
   "outputs": [
    {
     "name": "stdout",
     "output_type": "stream",
     "text": [
      "Summary:\n",
      "Morpheus, Trinity, Neo, Apoc, Switch, Mouse and Cypher are jacked into the Matrix.\n",
      "Trinity brings the helicopter down to the floor that Morpheus is on and Neo opens fire on the three Agents.\n"
     ]
    }
   ],
   "source": [
    "print('Summary:')\n",
    "print(summarize(text, ratio=0.005))"
   ]
  },
  {
   "cell_type": "code",
   "execution_count": 81,
   "id": "hollow-average",
   "metadata": {},
   "outputs": [
    {
     "name": "stdout",
     "output_type": "stream",
     "text": [
      "Summary:\n",
      "['Morpheus, Trinity, Neo, Apoc, Switch, Mouse and Cypher are jacked into the Matrix.', 'Trinity brings the helicopter down to the floor that Morpheus is on and Neo opens fire on the three Agents.']\n"
     ]
    }
   ],
   "source": [
    "# 껼과 값 리스트로 출력\n",
    "print('Summary:')\n",
    "print(summarize(text, ratio=0.005, split=True))"
   ]
  },
  {
   "cell_type": "code",
   "execution_count": 82,
   "id": "curious-encyclopedia",
   "metadata": {},
   "outputs": [
    {
     "name": "stdout",
     "output_type": "stream",
     "text": [
      "Summary:\n",
      "Trinity takes Neo to Morpheus.\n",
      "Morpheus, Trinity, Neo, Apoc, Switch, Mouse and Cypher are jacked into the Matrix.\n",
      "Trinity brings the helicopter down to the floor that Morpheus is on and Neo opens fire on the three Agents.\n"
     ]
    }
   ],
   "source": [
    "# 단어의 수로 요약문 크기 조절\n",
    "print('Summary:')\n",
    "print(summarize(text, words=50))"
   ]
  },
  {
   "cell_type": "code",
   "execution_count": null,
   "id": "rubber-pillow",
   "metadata": {},
   "outputs": [],
   "source": []
  },
  {
   "cell_type": "markdown",
   "id": "driving-cinema",
   "metadata": {},
   "source": [
    "i love you를 번역하라면 난 사랑해 널 각각의 단어를 번역해서 주는 것이 제일 간단함  \n",
    "하지만 한국어는 조금 어색함. 영어는 svo, 한국어는 sov이기 때문에\n",
    "또 how are you는 잘 지내인데 영어는 3단어 한국어는 2단어 이기때문에 단어별로 반복하는 것은 좋은 방법이 아님\n",
    "\n",
    "RNN\n",
    "인코더 -> 디코더 아키텍처 seq2seq\n",
    "인코더의 역할을 각 단어를 순차적으로 다뤄 문맥벡터를 만드는 것\n",
    "디코더는 문맥벡터로부터 기계번역을 시작하는건 (start - end)\n",
    "그러나 이 방법의 경우 단어의 사이즈가 커질 경우 문제가 생김.\n",
    "문맥벡터는 하나의 고정된 사이즈의 벡터. 문장이 길어질 경우 이것을 고정된 사이즈의 벡터에 담으면 모든 정보를 담을 수 없음\n",
    "충분한 정보가 없기 때문에 충분한 번역이 안됨\n",
    "\n",
    "이것을 어떻게 극복할까\n",
    "그래서 나온게 어텐션 매커니즘\n",
    "Rnn에서는 인코더의 마지막만 컨텍스트백터로 했고 거기서 디코더로 넘어감\n",
    "2가지 이점\n",
    "어텐션에서는 인코더에서 나온 각각의 셀의 state를 활용하면 고정된 컨텍스트 백터의 문제점을 해결할 수 있다.(고정된 컨텍스트 벡터가 아닌 다이나믹한)\n",
    "인코더의 단어들 중에서 집중해야 할 단어들만 집중할 수 있음"
   ]
  },
  {
   "cell_type": "markdown",
   "id": "falling-december",
   "metadata": {},
   "source": [
    "# 총평"
   ]
  },
  {
   "cell_type": "markdown",
   "id": "scheduled-color",
   "metadata": {},
   "source": [
    "# lstm\n",
    "원문 : five men allegedly hijacked dial police vehicle stripped policemen gunpoint dressed uniform abducted woman home madhya pradesh panna sunday kidnapping woman accused fled vehicle two teams formed find victim police officials said \n",
    "실제 요약 : men hijack police vehicle wear uniform to kidnap woman \n",
    "예측 요약 :  since viral as man as as as as marries\n",
    "\n",
    "\n",
    "원문 : india defeated malaysia final hockey asia cup dhaka sunday win tournament third time india finished tournament runners five times previously joint second number asia cup titles alongside pakistan india last asia cup back \n",
    "실제 요약 : india defeat malaysia to win their rd hockey asia cup title \n",
    "예측 요약 :  ago rises to rises to rises to against ago\n",
    "\n",
    "\n",
    "원문 : talking queen director vikas bahl kangana ranaut said even though vikas married back filming queen casual sex new partner every day added judge people marriages tell addiction becomes sickness kangana said could tell something wrong \n",
    "실제 요약 : vikas about sex with new partners when married kangana \n",
    "예측 요약 :  he sure kangana on opposing old pressure on sudan pressure misconduct\n",
    "\n",
    "\n",
    "원문 : newly recruited nasa astronaut salary lies lakh lakh per year space agency revealed received record entries invited applications new class astronaut trainees last year selected nasa requires applicants graduates field science technology engineering mathematics \n",
    "실제 요약 : how much does newly nasa astronaut earn \n",
    "예측 요약 :  balls taker odis wickets odis taker odis taker odis\n",
    "\n",
    "\n",
    "원문 : search operations begun dera sacha sauda headquarters sirsa friday wherein bomb disposal squads commandos dog squads deployed roads leading headquarters sirsa nearby places also sealed notably curfew imposed nearby areas dera spokesperson appealing followers maintain peace \n",
    "실제 요약 : commandos deployed for dera hq search operation \n",
    "예측 요약 :  ucl house of most valuable since january dollar fy fy"
   ]
  },
  {
   "cell_type": "markdown",
   "id": "extraordinary-florida",
   "metadata": {},
   "source": [
    "# attention\n",
    "원문 : five men allegedly hijacked dial police vehicle stripped policemen gunpoint dressed uniform abducted woman home madhya pradesh panna sunday kidnapping woman accused fled vehicle two teams formed find victim police officials said \n",
    "실제 요약 : men hijack police vehicle wear uniform to kidnap woman \n",
    "예측 요약 :  men killed in up as woman gangraped in up\n",
    "\n",
    "\n",
    "원문 : india defeated malaysia final hockey asia cup dhaka sunday win tournament third time india finished tournament runners five times previously joint second number asia cup titles alongside pakistan india last asia cup back \n",
    "실제 요약 : india defeat malaysia to win their rd hockey asia cup title \n",
    "예측 요약 :  india beat pakistan to enter hockey world cup final\n",
    "\n",
    "\n",
    "원문 : talking queen director vikas bahl kangana ranaut said even though vikas married back filming queen casual sex new partner every day added judge people marriages tell addiction becomes sickness kangana said could tell something wrong \n",
    "실제 요약 : vikas about sex with new partners when married kangana \n",
    "예측 요약 :  kangana is the only woman director director\n",
    "\n",
    "\n",
    "원문 : newly recruited nasa astronaut salary lies lakh lakh per year space agency revealed received record entries invited applications new class astronaut trainees last year selected nasa requires applicants graduates field science technology engineering mathematics \n",
    "실제 요약 : how much does newly nasa astronaut earn \n",
    "예측 요약 :  nasa spent lakh for lakh in years\n",
    "\n",
    "\n",
    "원문 : search operations begun dera sacha sauda headquarters sirsa friday wherein bomb disposal squads commandos dog squads deployed roads leading headquarters sirsa nearby places also sealed notably curfew imposed nearby areas dera spokesperson appealing followers maintain peace \n",
    "실제 요약 : commandos deployed for dera hq search operation \n",
    "예측 요약 :  dera sacha sauda followers found dead in meghalaya"
   ]
  },
  {
   "cell_type": "markdown",
   "id": "civil-headquarters",
   "metadata": {},
   "source": [
    "시간이 꽤 걸리는 노드였다. \n",
    "요약은 attention을 사용한 모델이 더 잘 나왔다. 예측요약을 비교해보면 lstm은 as, fy 등 반복되는 단어들이 많은데 attention 매커니즘을 사용한 것은 반복 단어가 적다.   \n",
    "뉴스 요약은 내가 제일 관심있는 분야의 노드이기도 한데.. 이해를 못하겠다.  \n",
    "노드를 차근차근 하나씩 보면서 이해하고 공부해야할텐데... 그렇게 하면 뭔가 보일텐데... 좀 지쳐서 그런지 뭔가 머리에 잘 안들어온다..\n",
    "이제 아이펠을 약 2개월 정도 진행했는데... 아직도 뭘 제대로 이해하는 것 없이 제출만 하는 것 같아서 답답하다.  \n",
    "한 달 전과 비교 했을 때 흥미도가 조금 떨어진 것 같다. 이전에는 노드에 대해 조금이라도 이해하고 풀어보려고 저녁까지 공부했지만 두 달 동안 내가 느끼기에는 딱히 내가 성장하는..? 느낌을 받지 못해서 그런 것 같다.\n",
    "어차피 내가 노드를 진행해도 이해 못한다는 것을 알고 있다고 생각해서 그런지, 제출시간이 촉박하니 대충 해서 제출만 하자는 생각만 하는 것 같다.  \n",
    "그래도 희망적인건 파이썬은 조금씩 배우는 것 같다. 물론 이 말이 내가 파이썬을 잘한다는 것도 아니고 지금까지 배운걸 다 활용할 수 있다는 뜻도 아니다. 그래도 파이썬은 기초부터? 배워서 그런지 코드는 퍼실님들이 말씀하셨던 '필요할 때 찾아서 쓸 수 있는' 시도는 해볼 수 있는 것 같다. \n",
    "\n",
    "다시 재밌게 하는 것에 목표를 다잡고 마음을 환기 시켜야겠다~! 화이팅!"
   ]
  },
  {
   "cell_type": "code",
   "execution_count": null,
   "id": "plastic-harrison",
   "metadata": {},
   "outputs": [],
   "source": []
  },
  {
   "cell_type": "code",
   "execution_count": null,
   "id": "noted-throat",
   "metadata": {},
   "outputs": [],
   "source": []
  },
  {
   "cell_type": "code",
   "execution_count": null,
   "id": "further-chosen",
   "metadata": {},
   "outputs": [],
   "source": []
  }
 ],
 "metadata": {
  "kernelspec": {
   "display_name": "aiffel",
   "language": "python",
   "name": "aiffel"
  },
  "language_info": {
   "codemirror_mode": {
    "name": "ipython",
    "version": 3
   },
   "file_extension": ".py",
   "mimetype": "text/x-python",
   "name": "python",
   "nbconvert_exporter": "python",
   "pygments_lexer": "ipython3",
   "version": "3.7.9"
  }
 },
 "nbformat": 4,
 "nbformat_minor": 5
}
