{
 "cells": [
  {
   "cell_type": "markdown",
   "id": "suitable-smart",
   "metadata": {},
   "source": [
    "# 6. 작사가 인공지능 만들기"
   ]
  },
  {
   "cell_type": "markdown",
   "id": "friendly-niger",
   "metadata": {},
   "source": [
    "# 6-7. 프로젝트: 멋진 작사가 만들기"
   ]
  },
  {
   "cell_type": "markdown",
   "id": "liberal-tourist",
   "metadata": {},
   "source": [
    "## 데이터 준비"
   ]
  },
  {
   "cell_type": "code",
   "execution_count": 1,
   "id": "changing-halloween",
   "metadata": {
    "scrolled": true
   },
   "outputs": [],
   "source": [
    "# # 데이터 준비\n",
    "# !wget https://aiffelstaticprd.blob.core.windows.net/media/documents/song_lyrics.zip\n",
    "# !unzip song_lyrics.zip -d ~/aiffel/lyricist/data/lyrics  #lyrics 폴더에 압축풀기"
   ]
  },
  {
   "cell_type": "markdown",
   "id": "portuguese-colors",
   "metadata": {},
   "source": [
    "## 데이터 읽어오기"
   ]
  },
  {
   "cell_type": "code",
   "execution_count": 2,
   "id": "light-quick",
   "metadata": {},
   "outputs": [
    {
     "name": "stdout",
     "output_type": "stream",
     "text": [
      "<class 'list'>\n",
      "데이터 크기:  187088\n",
      "Examples:\n",
      " ['', '', 'All of this and more is for you']\t"
     ]
    }
   ],
   "source": [
    "# 데이터 읽어오기\n",
    "# glob 모듈을 사용하면 파일 읽어오는 작업 하기 용이함\n",
    "# glob을 활용하여 모든 txt파일을 읽어온 후, raw_corpus 리스트에 문장 단위로 저장\n",
    "\n",
    "import glob\n",
    "import re       # 정규표현식을 위한 Regax 지원 모듈(문장 데이터 정돈에 필요)\n",
    "import numpy as np       # 변환된 문장 데이터(행렬)을 편하게 처리하기 위해\n",
    "import tensorflow as tf   # 텐서플로우\n",
    "import os\n",
    "\n",
    "txt_file_path = os.getenv('HOME')+'/aiffel/lyricist/data/lyrics/*'\n",
    "\n",
    "txt_list = glob.glob(txt_file_path)\n",
    "\n",
    "raw_corpus = []\n",
    "\n",
    "# 여러 개의 txt 파일을 모두 읽어서 raw_corpus에 담김\n",
    "for txt_file in txt_list:\n",
    "    with open(txt_file, \"r\") as f:\n",
    "        raw = f.read().splitlines()\n",
    "        raw_corpus.extend(raw)\n",
    "        \n",
    "print(type(raw_corpus))        \n",
    "print(\"데이터 크기: \", len(raw_corpus))\n",
    "print(\"Examples:\\n\", raw_corpus[:3], end=\"\\t\")"
   ]
  },
  {
   "cell_type": "markdown",
   "id": "clean-finish",
   "metadata": {},
   "source": [
    "## 데이터 정제"
   ]
  },
  {
   "cell_type": "code",
   "execution_count": 3,
   "id": "received-timber",
   "metadata": {},
   "outputs": [],
   "source": [
    "## 데이터 정제\n",
    "## preprocess_sentence() 함수 활용\n",
    "## 긴 문장은 과도한 padding을 갖게 하므로 제거.\n",
    "## 그래서 이번에는 문장을 토큰화 했을 때 토큰의 개수가 15개를 넘어가는 문장을 학습데이터에서 제외"
   ]
  },
  {
   "cell_type": "code",
   "execution_count": 4,
   "id": "coordinated-scanner",
   "metadata": {
    "scrolled": true
   },
   "outputs": [
    {
     "name": "stdout",
     "output_type": "stream",
     "text": [
      "All of this and more is for you\n",
      "With love, sincerity and deepest care\n",
      "My life with you I share\n",
      "Ever since I met you, baby\n",
      "I've been wantin' to lay you down\n",
      "But it's so hard to get you\n",
      "Baby, when you never come around\n",
      "Every day that you keep it away\n",
      "It only makes me want it more\n",
      "Ooh baby, just say the word\n",
      "And I'll be at your door\n"
     ]
    }
   ],
   "source": [
    "for idx, sentence in enumerate(raw_corpus):\n",
    "#     if len(sentence)\n",
    "    if len(sentence) == 0: continue # 공백 건너뜀\n",
    "#     if sentence[-1] == \":\": continue # 문장 시작이 ' 건너뜀\n",
    "#     if sentence[-1] == \"'\": continue # 문장 끝이 ' 건너뜀\n",
    "#     if sentence[0] == '\"': continue # 문장 시작이 \" 건너뜀\n",
    "#     if sentence[-1] == '\"': continue # 문장 끝이 \" 건너뜀\n",
    "#     if sentence[0] == '(': continue # 문장 끝이 ( 건너뜀\n",
    "#     if sentence[-1] == ')': continue # 문장 끝이 ) 건너뜀\n",
    "#     if sentence[0] == '[': continue # 문장 끝이 [ 건너뜀\n",
    "#     if sentence[-1] == ']': continue # 문장 끝이 ] 건너뜀        \n",
    "#     if len(sentence) <= 15 : continue\n",
    "    \n",
    "#     if idx >= 15: continue # 15개 넘어가는 문장 건너뜀 : <=15는 15이하여서 15개 이하 건너 뛰는 거 아닌가? \n",
    "    if idx >15: break # 일단 문장 10개에서 끝내\n",
    "        \n",
    "    print(sentence)"
   ]
  },
  {
   "cell_type": "code",
   "execution_count": 5,
   "id": "golden-moisture",
   "metadata": {},
   "outputs": [
    {
     "name": "stdout",
     "output_type": "stream",
     "text": [
      "<class 'str'>\n"
     ]
    }
   ],
   "source": [
    "print(type(sentence))"
   ]
  },
  {
   "cell_type": "code",
   "execution_count": 6,
   "id": "ignored-middle",
   "metadata": {},
   "outputs": [],
   "source": [
    "# split()\n",
    "# result = preprocess_sentense\n",
    "# ()\n",
    "# len(result.split())"
   ]
  },
  {
   "cell_type": "code",
   "execution_count": 7,
   "id": "front-importance",
   "metadata": {
    "scrolled": true
   },
   "outputs": [
    {
     "name": "stdout",
     "output_type": "stream",
     "text": [
      "<start> this is sample sentence . <end>\n"
     ]
    }
   ],
   "source": [
    "def preprocess_sentence(sentence):\n",
    "    sentence = sentence.lower().strip()       # 소문자로 바꾸고 양쪽 공백을 삭제\n",
    "  \n",
    "    # 아래 3단계를 거쳐 sentence는 스페이스 1개를 delimeter(구분문자)로 하는 소문자 단어 시퀀스로 바뀝니다.\n",
    "    sentence = re.sub(r\"([?.!,¿])\", r\" \\1 \", sentence)        # 패턴의 특수문자를 만나면 특수문자 양쪽에 공백을 추가\n",
    "    sentence = re.sub(r'[\" \"]+', \" \", sentence)                  # 공백 패턴을 만나면 스페이스 1개로 치환\n",
    "    sentence = re.sub(r\"[^a-zA-Z?.!,¿]+\", \" \", sentence)  # a-zA-Z?.!,¿ 패턴을 제외한 모든 문자(공백문자까지도)를 스페이스 1개로 치환\n",
    "\n",
    "    sentence = sentence.strip()\n",
    "    \n",
    "    sentence = '<start> ' + sentence + ' <end>'      # 이전 스텝에서 본 것처럼 문장 앞뒤로 <start>와 <end>를 단어처럼 붙여 줍니다\n",
    "    \n",
    "    return sentence\n",
    "\n",
    "print(preprocess_sentence(\"This @_is ;;;sample    sentence.\"))   # 이 문장이 어떻게 필터링되는지 확인해 보세요."
   ]
  },
  {
   "cell_type": "markdown",
   "id": "compact-separation",
   "metadata": {},
   "source": [
    "### 정제 데이터 구축"
   ]
  },
  {
   "cell_type": "code",
   "execution_count": 8,
   "id": "former-exercise",
   "metadata": {},
   "outputs": [
    {
     "data": {
      "text/plain": [
       "['<start> all of this and more is for you <end>',\n",
       " '<start> with love , sincerity and deepest care <end>',\n",
       " '<start> my life with you i share <end>',\n",
       " '<start> ever since i met you , baby <end>',\n",
       " '<start> i ve been wantin to lay you down <end>',\n",
       " '<start> but it s so hard to get you <end>',\n",
       " '<start> baby , when you never come around <end>',\n",
       " '<start> every day that you keep it away <end>',\n",
       " '<start> it only makes me want it more <end>',\n",
       " '<start> ooh baby , just say the word <end>']"
      ]
     },
     "execution_count": 8,
     "metadata": {},
     "output_type": "execute_result"
    }
   ],
   "source": [
    "# 정제함수 활용하여 정제 데이터 구축\n",
    "corpus = []\n",
    "\n",
    "for sentence in raw_corpus:\n",
    "    if len(sentence) == 0: continue # 공백 건너뜀\n",
    "    if sentence[-1] == \":\": continue # 문장 시작이 ' 건너뜀\n",
    "    if len(sentence.split()) <= 15:\n",
    "        \n",
    "        corpus.append(preprocess_sentence(sentence)) # corpus에 추가해라 만든 정제함수(preprocess_sentece)에 sentence를 넣어서\n",
    "corpus[:10]"
   ]
  },
  {
   "cell_type": "markdown",
   "id": "nonprofit-elements",
   "metadata": {},
   "source": [
    "# 평가 데이터셋 분리"
   ]
  },
  {
   "cell_type": "code",
   "execution_count": 9,
   "id": "electronic-space",
   "metadata": {},
   "outputs": [],
   "source": [
    "## 평가 데이터셋 분리\n",
    "## tokenize() 함수로 데이터를 tensor로 변환한 후 \n",
    "## sklearn 모듈의 train_test_split()함수를 사용해 훈련데이터와 평가데이터 분리\n",
    "## 단어장의 크기는 12,000이상으로 설정, 총 데이터의 20%를 평가 데이터셋으로 사용\n",
    "## enc_train, enc_val, dec_train, dec_val = <코드 작성>"
   ]
  },
  {
   "cell_type": "code",
   "execution_count": 10,
   "id": "accepted-wages",
   "metadata": {
    "scrolled": false
   },
   "outputs": [
    {
     "name": "stdout",
     "output_type": "stream",
     "text": [
      "[[  2  25  19 ...   0   0   0]\n",
      " [  2  31  37 ...   0   0   0]\n",
      " [  2  13 103 ...   0   0   0]\n",
      " ...\n",
      " [  2   5  22 ...   0   0   0]\n",
      " [  2  25   6 ...   0   0   0]\n",
      " [  2  66   1 ...   0   0   0]] <keras_preprocessing.text.Tokenizer object at 0x7fd758477690>\n",
      "<class 'numpy.ndarray'>\n",
      "<class 'keras_preprocessing.text.Tokenizer'>\n",
      "ok\n"
     ]
    }
   ],
   "source": [
    "def tokenize(corpus):  \n",
    "    # 텐서플로우에서 제공하는 Tokenizer패키지 생성\n",
    "    tokenizer = tf.keras.preprocessing.text.Tokenizer(\n",
    "        num_words = 12000, # 전체 단어 개수\n",
    "        filters=' ', # 별도로 전처리 로직을 추가할 수 있지만 이번에는 사용 안 함\n",
    "        oov_token=\"<unk>\" # out-of-vocabulary, 사전에 없었던 단어는 어떤 토큰으로 대체할지\n",
    "    )\n",
    "    tokenizer.fit_on_texts(corpus) # 우리가 구축한 corpus로부터 Tokenize가 사전을 자동 구축\n",
    "\n",
    "    # 이후 tokenizer를 활용하여 모델에 입력할 데이터셋 구축\n",
    "    tensor = tokenizer.texts_to_sequences(corpus)  # tokenizer는 구축한 사전으로부터 corpus를 해석해 Tensor로 변환\n",
    "    tensor_15 = []\n",
    "    for voca in tensor:\n",
    "        if len(voca) < 16:\n",
    "            tensor_15.append(voca)\n",
    "    \n",
    "    # 입력 데이터의 시퀀스 길이를 일정하게 맞추기 위한 padding 메소드 제공\n",
    "    # maxlen의 디폴트 값은 None. 이 경우 corpus의 가장 긴 문장을 기준으로 시퀀스 길이가 맞춰짐\n",
    "    tensor = tf.keras.preprocessing.sequence.pad_sequences(tensor_15, padding='post') # 토큰화 15개 미만?\n",
    "\n",
    "    print(tensor, tokenizer)\n",
    "    return tensor, tokenizer\n",
    "\n",
    "\n",
    "tensor, tokenizer = tokenize(corpus)\n",
    "\n",
    "\n",
    "print(type(tensor))\n",
    "print(type(tokenizer))\n",
    "print('ok')\n",
    "\n",
    "# tensor = [c for c in raw_corpus if c.count(\" \") <13] # 어디다 넣는 건지.........\n"
   ]
  },
  {
   "cell_type": "code",
   "execution_count": 11,
   "id": "advisory-diagram",
   "metadata": {},
   "outputs": [
    {
     "name": "stdout",
     "output_type": "stream",
     "text": [
      "<class 'numpy.ndarray'>\n"
     ]
    }
   ],
   "source": [
    "print(type(tensor))"
   ]
  },
  {
   "cell_type": "code",
   "execution_count": 12,
   "id": "introductory-tutorial",
   "metadata": {
    "scrolled": true
   },
   "outputs": [
    {
     "name": "stdout",
     "output_type": "stream",
     "text": [
      "[[    2    25    19    42     8    99    26    28     7     3     0     0\n",
      "      0     0     0]\n",
      " [    2    31    37     4 10894     8  4578   283     3     0     0     0\n",
      "      0     0     0]\n",
      " [    2    13   103    31     7     5  1008     3     0     0     0     0\n",
      "      0     0     0]]\n"
     ]
    }
   ],
   "source": [
    "print(tensor[:3])"
   ]
  },
  {
   "cell_type": "code",
   "execution_count": 13,
   "id": "bulgarian-print",
   "metadata": {
    "scrolled": false
   },
   "outputs": [
    {
     "name": "stdout",
     "output_type": "stream",
     "text": [
      "1 : <unk>\n",
      "2 : <start>\n",
      "3 : <end>\n",
      "4 : ,\n",
      "5 : i\n",
      "6 : the\n",
      "7 : you\n",
      "8 : and\n",
      "9 : a\n",
      "10 : to\n"
     ]
    }
   ],
   "source": [
    "# 텐서데이터는 모두 정수로 이루어짐\n",
    "# 이 숫자는 tokenizer에 구축된 단어 사전의 인덱스\n",
    "# 단어 사전 어떻게 구축되었는지 확인\n",
    "\n",
    "for idx in tokenizer.index_word:\n",
    "    print(idx, \":\", tokenizer.index_word[idx])\n",
    "    \n",
    "    if idx >= 10: break"
   ]
  },
  {
   "cell_type": "code",
   "execution_count": 14,
   "id": "normal-fifteen",
   "metadata": {
    "scrolled": true
   },
   "outputs": [
    {
     "name": "stdout",
     "output_type": "stream",
     "text": [
      "<class 'numpy.ndarray'>\n",
      "[ 2 25 19 42  8 99 26 28  7  3  0  0  0  0]\n",
      "[25 19 42  8 99 26 28  7  3  0  0  0  0  0]\n"
     ]
    }
   ],
   "source": [
    "src_input = tensor[:, :-1] # tensor에서 마지막 토큰을 잘라내서 소스 문장을 생성. 마지막 토큰은 <end>가 아니라 <pad>일 가능성이 높음\n",
    "tgt_input = tensor[:, 1:] # tensor에서 <satrt>를 잘라내서 타겟문장 생성\n",
    "\n",
    "print(type(tensor))\n",
    "print(src_input[0])\n",
    "print(tgt_input[0])"
   ]
  },
  {
   "cell_type": "code",
   "execution_count": 15,
   "id": "controversial-wayne",
   "metadata": {},
   "outputs": [
    {
     "name": "stdout",
     "output_type": "stream",
     "text": [
      "Source Train: (124809, 14)\n",
      "Target Train: (124809, 14)\n",
      "(31203, 14)\n",
      "(31203, 14)\n",
      "[   2  487  487  487  487  487  487    4  487  487  487    4  140 3790]\n"
     ]
    }
   ],
   "source": [
    "# skelarn의 train_test_split 함수를 통해 train_data와 test_data분리  \n",
    "# test_size 인자를 조절해주면 설정해준 값 만큼 test dataset 비율 조정 가능\n",
    "# from sklearn.datasets import corpus\n",
    "from sklearn.model_selection import train_test_split \n",
    "\n",
    "\n",
    "enc_train, enc_val, dec_train, dec_val = train_test_split(src_input, tgt_input, test_size=0.2, shuffle=True)\n",
    "\n",
    "print(\"Source Train:\", enc_train.shape)\n",
    "print(\"Target Train:\", dec_train.shape)\n",
    "print(enc_val.shape)\n",
    "print(dec_val.shape)\n",
    "print(enc_train[0])"
   ]
  },
  {
   "cell_type": "code",
   "execution_count": 16,
   "id": "theoretical-teach",
   "metadata": {},
   "outputs": [],
   "source": [
    "## 위 과정까지 올바르게 진행했을 경우 아래의 실행결과 확인 가능\n",
    "# print(\"Source Train : \", enc_train.shape)\n",
    "# print(\"Target Train : \", dec_train.shape)\n",
    "\n",
    "# out:\n",
    "# Source Train: (124960, 14)\n",
    "# Target Train: (124960, 14)\n",
    "\n",
    "## 만약 결과가 다르면 동일한 결과를 얻도록 해야함\n",
    "## 학습데이터 개수가 124960 보다 크다면 step3다시 확인"
   ]
  },
  {
   "cell_type": "code",
   "execution_count": 17,
   "id": "olympic-browser",
   "metadata": {},
   "outputs": [],
   "source": [
    "BUFFER_SIZE = len(enc_train)\n",
    "BATCH_SIZE = 256\n",
    "steps_per_epoch = len(enc_train) // BATCH_SIZE\n",
    "\n",
    "VOCAB_SIZE = tokenizer.num_words + 1 # tokenizer가 구축된 단어사전 내 7000개와, 여기 포함되지 않은 0:<pad>!"
   ]
  },
  {
   "cell_type": "code",
   "execution_count": 18,
   "id": "saved-sussex",
   "metadata": {},
   "outputs": [
    {
     "data": {
      "text/plain": [
       "<BatchDataset shapes: ((256, 14), (256, 14)), types: (tf.int32, tf.int32)>"
      ]
     },
     "execution_count": 18,
     "metadata": {},
     "output_type": "execute_result"
    }
   ],
   "source": [
    "train_dataset = tf.data.Dataset.from_tensor_slices((enc_train, dec_train)).shuffle(BUFFER_SIZE)\n",
    "train_dataset = train_dataset.batch(BATCH_SIZE, drop_remainder=True)\n",
    "train_dataset"
   ]
  },
  {
   "cell_type": "code",
   "execution_count": 19,
   "id": "multiple-investment",
   "metadata": {},
   "outputs": [
    {
     "data": {
      "text/plain": [
       "<BatchDataset shapes: ((256, 14), (256, 14)), types: (tf.int32, tf.int32)>"
      ]
     },
     "execution_count": 19,
     "metadata": {},
     "output_type": "execute_result"
    }
   ],
   "source": [
    "val_dataset = tf.data.Dataset.from_tensor_slices((enc_val, dec_val)).shuffle(BUFFER_SIZE)\n",
    "val_dataset = val_dataset.batch(BATCH_SIZE, drop_remainder=True)\n",
    "val_dataset"
   ]
  },
  {
   "cell_type": "markdown",
   "id": "saved-choice",
   "metadata": {},
   "source": [
    "# Step 5. 인공지능 만들기"
   ]
  },
  {
   "cell_type": "code",
   "execution_count": 20,
   "id": "fifteen-headline",
   "metadata": {},
   "outputs": [],
   "source": [
    "# 인공지능 만들기\n",
    "# 모델의 embedding size와 hideen size를 조절하여 10epoch안에 val_loss값을 2.2 수준으로 줄일 수 잇는 모델 설계\n",
    "# loss는 아래 제시된 loss함수 그대로 사용\n",
    "\n",
    "# loss = tf.keras.losses.SparseCategoricalCrossentropy(\n",
    "#     from_logits=True, reduction='none')\n",
    "\n",
    "# generate_text(lyricist, tokenizer, init_sentence=\"<start> i love\", max_len=20)"
   ]
  },
  {
   "cell_type": "code",
   "execution_count": 21,
   "id": "weird-mouse",
   "metadata": {
    "scrolled": true
   },
   "outputs": [
    {
     "name": "stdout",
     "output_type": "stream",
     "text": [
      "ok\n"
     ]
    }
   ],
   "source": [
    "class TextGenerator(tf.keras.Model):\n",
    "    def __init__(self, vocab_size, embedding_size, hidden_size):\n",
    "        super(TextGenerator, self).__init__()\n",
    "        \n",
    "        self.embedding = tf.keras.layers.Embedding(vocab_size, embedding_size)\n",
    "        self.rnn_1 = tf.keras.layers.LSTM(hidden_size, return_sequences=True)\n",
    "        self.rnn_2 = tf.keras.layers.LSTM(hidden_size, return_sequences=True)\n",
    "        self.linear = tf.keras.layers.Dense(vocab_size)\n",
    "        \n",
    "    def call(self, x):\n",
    "        out = self.embedding(x)\n",
    "        out = self.rnn_1(out)\n",
    "        out = self.rnn_2(out)\n",
    "        out = self.linear(out)\n",
    "        \n",
    "        return out\n",
    "    \n",
    "embedding_size = 512 #embedding_size는 워드 벡터의 차원수, 즉 단어가 추상적으로 표현되는 크기\n",
    "hidden_size = 2048 # hidden_size는 모델에 얼마나 많은 일꾼을 둘 것인가 정도로 이해하면 됨\n",
    "model = TextGenerator(tokenizer.num_words + 1, embedding_size, hidden_size)\n",
    "\n",
    "print('ok')"
   ]
  },
  {
   "cell_type": "code",
   "execution_count": 22,
   "id": "statistical-jimmy",
   "metadata": {},
   "outputs": [
    {
     "data": {
      "text/plain": [
       "<tf.Tensor: shape=(256, 14, 12001), dtype=float32, numpy=\n",
       "array([[[-2.3484940e-04,  1.4477059e-04, -2.1108644e-04, ...,\n",
       "          6.2113068e-05,  1.0340500e-04,  1.2296073e-04],\n",
       "        [-4.1766581e-04,  9.9077377e-05, -3.7939454e-04, ...,\n",
       "         -1.7709708e-05,  4.3867080e-04,  3.0696712e-04],\n",
       "        [-4.1151742e-04,  1.8310848e-04, -3.0672245e-04, ...,\n",
       "         -2.7046000e-05,  7.8687031e-04,  1.6527907e-04],\n",
       "        ...,\n",
       "        [ 4.9247808e-04,  1.3418378e-03, -2.1681056e-04, ...,\n",
       "         -1.5744584e-03,  1.3334329e-03,  1.9511490e-03],\n",
       "        [ 2.7090329e-04,  1.6065573e-03, -4.3507116e-05, ...,\n",
       "         -2.0437054e-03,  1.5589504e-03,  2.3981435e-03],\n",
       "        [ 3.6067264e-05,  1.7898788e-03,  1.0877005e-04, ...,\n",
       "         -2.4440663e-03,  1.7410695e-03,  2.7669109e-03]],\n",
       "\n",
       "       [[-2.3484940e-04,  1.4477059e-04, -2.1108644e-04, ...,\n",
       "          6.2113068e-05,  1.0340500e-04,  1.2296073e-04],\n",
       "        [-2.9037686e-04,  5.5887812e-04, -1.1044514e-04, ...,\n",
       "          1.4460142e-05,  2.5892450e-04,  5.0680409e-04],\n",
       "        [-1.2997816e-04,  7.1860285e-04, -3.1360419e-04, ...,\n",
       "          6.7924469e-05,  1.5809468e-04,  9.1604638e-04],\n",
       "        ...,\n",
       "        [-9.4749994e-04,  2.6374427e-03, -4.4811898e-04, ...,\n",
       "         -2.4697548e-03,  9.9960156e-04,  1.9773678e-03],\n",
       "        [-1.0891623e-03,  2.8262413e-03, -3.0183027e-04, ...,\n",
       "         -2.8516355e-03,  1.1788657e-03,  2.3983542e-03],\n",
       "        [-1.2212496e-03,  2.9180925e-03, -1.6077097e-04, ...,\n",
       "         -3.1722479e-03,  1.3310179e-03,  2.7450032e-03]],\n",
       "\n",
       "       [[-2.3484940e-04,  1.4477059e-04, -2.1108644e-04, ...,\n",
       "          6.2113068e-05,  1.0340500e-04,  1.2296073e-04],\n",
       "        [-7.7888626e-04,  5.0945242e-04, -6.6065445e-04, ...,\n",
       "         -2.3699096e-05, -1.3265067e-05,  1.5892848e-04],\n",
       "        [-1.3219879e-03,  4.5989585e-04, -1.2400714e-03, ...,\n",
       "         -3.6256539e-04,  1.4897801e-04, -1.3277189e-04],\n",
       "        ...,\n",
       "        [-9.9782832e-04,  1.9304468e-03,  3.5590166e-04, ...,\n",
       "         -3.3237650e-03,  5.7299493e-04,  1.4820303e-03],\n",
       "        [-1.0755218e-03,  2.1199491e-03,  3.6407899e-04, ...,\n",
       "         -3.5073045e-03,  7.2287495e-04,  1.8219210e-03],\n",
       "        [-1.1626207e-03,  2.2341120e-03,  3.7347226e-04, ...,\n",
       "         -3.6435989e-03,  8.7403250e-04,  2.1092948e-03]],\n",
       "\n",
       "       ...,\n",
       "\n",
       "       [[-2.3484940e-04,  1.4477059e-04, -2.1108644e-04, ...,\n",
       "          6.2113068e-05,  1.0340500e-04,  1.2296073e-04],\n",
       "        [-3.4651198e-04,  6.7063535e-05, -6.0207013e-04, ...,\n",
       "          1.6113643e-04, -1.4578715e-05, -7.2384442e-05],\n",
       "        [ 1.4945633e-04,  5.0763728e-04, -6.7052810e-04, ...,\n",
       "          3.3315977e-05, -4.3883765e-04, -8.5683634e-05],\n",
       "        ...,\n",
       "        [ 1.8105512e-03,  2.6998976e-03,  1.6574262e-04, ...,\n",
       "         -2.2092599e-03, -1.7377724e-03,  1.9791215e-03],\n",
       "        [ 1.3519200e-03,  2.9328158e-03,  1.9616501e-04, ...,\n",
       "         -2.6251897e-03, -1.1849317e-03,  2.4161509e-03],\n",
       "        [ 8.7217224e-04,  3.0801208e-03,  2.2748158e-04, ...,\n",
       "         -2.9982177e-03, -6.4833305e-04,  2.7834389e-03]],\n",
       "\n",
       "       [[-2.3484940e-04,  1.4477059e-04, -2.1108644e-04, ...,\n",
       "          6.2113068e-05,  1.0340500e-04,  1.2296073e-04],\n",
       "        [-5.6448206e-04,  3.4577274e-04, -5.4304872e-04, ...,\n",
       "         -4.8525017e-04,  2.2459634e-04,  9.4726944e-05],\n",
       "        [-1.6943940e-04,  2.1723553e-04, -5.7871878e-04, ...,\n",
       "         -8.6793944e-04,  1.1526435e-04, -1.5691572e-04],\n",
       "        ...,\n",
       "        [-3.9572170e-04,  2.3409973e-03,  2.5564877e-04, ...,\n",
       "         -3.6443174e-03,  2.0151893e-03,  1.4445303e-03],\n",
       "        [-6.3436542e-04,  2.4782510e-03,  3.0746512e-04, ...,\n",
       "         -3.7556111e-03,  2.1387476e-03,  1.8100163e-03],\n",
       "        [-8.3672948e-04,  2.5475542e-03,  3.4699184e-04, ...,\n",
       "         -3.8397480e-03,  2.2205901e-03,  2.1155770e-03]],\n",
       "\n",
       "       [[-2.3484940e-04,  1.4477059e-04, -2.1108644e-04, ...,\n",
       "          6.2113068e-05,  1.0340500e-04,  1.2296073e-04],\n",
       "        [-5.8401137e-04,  1.2618749e-04, -7.3986803e-04, ...,\n",
       "         -1.5748712e-05,  1.7890868e-04,  2.1938169e-04],\n",
       "        [-8.6404895e-04, -2.3017510e-05, -7.0477562e-04, ...,\n",
       "          2.5761116e-04,  2.3508977e-04,  2.4360629e-04],\n",
       "        ...,\n",
       "        [-1.0264986e-03,  2.0014641e-03,  2.1950618e-04, ...,\n",
       "         -2.4902432e-03,  1.8217575e-03,  2.4625580e-03],\n",
       "        [-1.1498028e-03,  2.1348414e-03,  2.5948486e-04, ...,\n",
       "         -2.8169651e-03,  1.9244817e-03,  2.6777836e-03],\n",
       "        [-1.2654370e-03,  2.2148297e-03,  2.9756196e-04, ...,\n",
       "         -3.0889998e-03,  2.0038765e-03,  2.8490236e-03]]], dtype=float32)>"
      ]
     },
     "execution_count": 22,
     "metadata": {},
     "output_type": "execute_result"
    }
   ],
   "source": [
    "# model에 데이터 태우기\n",
    "\n",
    "for src_sample, tgt_sample in train_dataset.take(1): break\n",
    "model(src_sample)"
   ]
  },
  {
   "cell_type": "code",
   "execution_count": 23,
   "id": "legal-friendly",
   "metadata": {},
   "outputs": [
    {
     "name": "stdout",
     "output_type": "stream",
     "text": [
      "Model: \"text_generator\"\n",
      "_________________________________________________________________\n",
      "Layer (type)                 Output Shape              Param #   \n",
      "=================================================================\n",
      "embedding (Embedding)        multiple                  6144512   \n",
      "_________________________________________________________________\n",
      "lstm (LSTM)                  multiple                  20979712  \n",
      "_________________________________________________________________\n",
      "lstm_1 (LSTM)                multiple                  33562624  \n",
      "_________________________________________________________________\n",
      "dense (Dense)                multiple                  24590049  \n",
      "=================================================================\n",
      "Total params: 85,276,897\n",
      "Trainable params: 85,276,897\n",
      "Non-trainable params: 0\n",
      "_________________________________________________________________\n"
     ]
    }
   ],
   "source": [
    "model.summary()"
   ]
  },
  {
   "cell_type": "code",
   "execution_count": 24,
   "id": "horizontal-first",
   "metadata": {},
   "outputs": [
    {
     "name": "stdout",
     "output_type": "stream",
     "text": [
      "Epoch 1/10\n",
      "487/487 [==============================] - 213s 437ms/step - loss: 3.2983 - val_loss: 2.9226\n",
      "Epoch 2/10\n",
      "487/487 [==============================] - 214s 440ms/step - loss: 2.7355 - val_loss: 2.6518\n",
      "Epoch 3/10\n",
      "487/487 [==============================] - 214s 439ms/step - loss: 2.4070 - val_loss: 2.4645\n",
      "Epoch 4/10\n",
      "487/487 [==============================] - 217s 445ms/step - loss: 2.0853 - val_loss: 2.3247\n",
      "Epoch 5/10\n",
      "487/487 [==============================] - 230s 473ms/step - loss: 1.7853 - val_loss: 2.2274\n",
      "Epoch 6/10\n",
      "487/487 [==============================] - 232s 476ms/step - loss: 1.5254 - val_loss: 2.1677\n",
      "Epoch 7/10\n",
      "487/487 [==============================] - 228s 467ms/step - loss: 1.3164 - val_loss: 2.1398\n",
      "Epoch 8/10\n",
      "487/487 [==============================] - 223s 458ms/step - loss: 1.1627 - val_loss: 2.1473\n",
      "Epoch 9/10\n",
      "487/487 [==============================] - 218s 448ms/step - loss: 1.0665 - val_loss: 2.1587\n",
      "Epoch 10/10\n",
      "487/487 [==============================] - 228s 468ms/step - loss: 1.0141 - val_loss: 2.1798\n"
     ]
    },
    {
     "data": {
      "text/plain": [
       "<tensorflow.python.keras.callbacks.History at 0x7fd74c55b390>"
      ]
     },
     "execution_count": 24,
     "metadata": {},
     "output_type": "execute_result"
    }
   ],
   "source": [
    "# 모델 학습 시작\n",
    "optimizer = tf.keras.optimizers.Adam()\n",
    "loss = tf.keras.losses.SparseCategoricalCrossentropy(\n",
    "    from_logits=True,\n",
    "    reduction='none'\n",
    ")\n",
    "\n",
    "model.compile(loss=loss, optimizer=optimizer)\n",
    "model.fit(train_dataset, epochs=10, validation_data=val_dataset)"
   ]
  },
  {
   "cell_type": "code",
   "execution_count": 25,
   "id": "exciting-dealer",
   "metadata": {},
   "outputs": [
    {
     "name": "stdout",
     "output_type": "stream",
     "text": [
      "ok\n"
     ]
    }
   ],
   "source": [
    "# generate_text 함수는 모델에게 시작 문장을 전달하면 모델이 시작 문장을 바탕으로 작문을 진행함\n",
    "\n",
    "def generate_text(model, tokenizer, init_sentence=\"<start>\", max_len=20):\n",
    "    # 테스트를 위해 입력받은 init_sentence도 일단 텐서로 변환\n",
    "    test_input = tokenizer.texts_to_sequences([init_sentence])\n",
    "    test_tensor = tf.convert_to_tensor(test_input, dtype=tf.int64)\n",
    "    end_token = tokenizer.word_index[\"<end>\"]\n",
    "    \n",
    "    # 텍스트를 실제로 생성할때는 루프를 돌면서 단어 하나씩 생성 해야함\n",
    "    while True:\n",
    "        predict = model(test_tensor) # 입력받은 문장의 텐서를 입력\n",
    "        predict_word = tf.argmax(tf.nn.softmax(predict, axis=-1), axis=-1)[:, -1] # 모델이 예측한 마지막 단어가 바로 새롭게 생성한 단어가 됨\n",
    "        \n",
    "        # 모델이 새롭게 예측한 단어를 입력 문장 뒤에 붙여줌\n",
    "        test_tensor = tf.concat([test_tensor, \n",
    "                                 tf.expand_dims(predict_word, axis=0)], axis=-1)\n",
    "        \n",
    "        # 모델이 <end>를 예측했거나, max_len에 도달하지 않았으면 while루프를 또 돌면서 다음 단어를 예측\n",
    "        if predict_word.numpy()[0] == end_token: break\n",
    "        if test_tensor.shape[1] >= max_len: break\n",
    "            \n",
    "    generated = \"\"\n",
    "              \n",
    "    # 생성된 tensor안에 있는 word index를 tokenizer.index_word 사전을 통해 실제 단어로 하나씩 변환\n",
    "    for word_index in test_tensor[0].numpy():\n",
    "        generated += tokenizer.index_word[word_index] + \" \"\n",
    "        \n",
    "    return generated # 이것이 최종적으로 모델이 생성한 자연어 문장\n",
    "print('ok')"
   ]
  },
  {
   "cell_type": "code",
   "execution_count": 30,
   "id": "latter-brooklyn",
   "metadata": {},
   "outputs": [
    {
     "data": {
      "text/plain": [
       "'<start> i love ma little nasty girl <end> '"
      ]
     },
     "execution_count": 30,
     "metadata": {},
     "output_type": "execute_result"
    }
   ],
   "source": [
    "# 위 문장 생성 함수 실행\n",
    "generate_text(model, tokenizer, init_sentence=\"<start> I love\")"
   ]
  },
  {
   "cell_type": "code",
   "execution_count": 33,
   "id": "excited-gardening",
   "metadata": {},
   "outputs": [
    {
     "data": {
      "text/plain": [
       "'<start> he s got a gold watch <end> '"
      ]
     },
     "execution_count": 33,
     "metadata": {},
     "output_type": "execute_result"
    }
   ],
   "source": [
    "# 위 문장 생성 함수 실행\n",
    "generate_text(model, tokenizer, init_sentence=\"<start> he\")"
   ]
  },
  {
   "cell_type": "markdown",
   "id": "straight-negative",
   "metadata": {},
   "source": [
    "# 총평"
   ]
  },
  {
   "cell_type": "markdown",
   "id": "sharing-providence",
   "metadata": {},
   "source": [
    "## 루브릭 평가  \n",
    "### 1. 그럴듯한 문장으로 생성되는가?\n",
    "~~- 잘 생성이 안되는 것도 있고 제대로 생성되는 문장도 있다. 아마 내가 뭘 잘못해서 그런 것 같은데 코드를 거의 복사 붙여넣기를 한 것이라 뭐가 어디서 잘못됐는지 못찾겠다.\n",
    "~- 아마 토큰화부분에서 maxlen을 지정해주지 않고 파이썬 코드를 통해 토큰화를 15개 미만으로 해야하는 것 같은데 어떻게 하는지 잘 모르겠다. 저번에 다른 사람이 이렇게 했다고 알려줘서 보고 해봤지만 잘 모르겠다.(내가 알려주신 분의 코드를 제대로 못 본 것 같다.)\n",
    "~-그래도 작동이 되는건 아마 end부분이 제일 끝에 있는 것이 아니여서 maxlen을 지정해도 작동이 되는 것 같다..?\n",
    "  \n",
    "### 2. 특수문자  제거, 토크나이저 생성, 패딩처리 등의 과정이 빠짐없이 진행되었는가?\n",
    "- 복사 붙여넣기 해서 빠진 부분은 없는 것 같다.\n",
    "    \n",
    "### 3. validation loss까 2.2이하로 낮아졌는가?\n",
    "- embedding, hidden 사이즈를 512, 2048로 하니 val loss가 2.2이하로 낮아졌다.\n",
    "\n",
    "## 소감\n",
    "1. 개인적으로 이번 노드는 정신을 어디다 둔 건지 모르겠다. 조원들이 한 것을 보니 내가 처음부터 끝까지 다 잘못한 것을 알게 됐고 다시 만들었다. 그러다보니 내가 이 노드를 했다기보다 거의 베낀 것과 다름없다..\n",
    "2. 개인적으로 파라미터수 15개 미만으로 하는 것에 시간을 굉장히 많이 썼는데 해결하지 못하고 maxlen으로 조정 했었다. 나는 못해서 조원 코드를 갖고 왔지만 완성된 코드를 보면 충분히 나도 해결할 수 있었을 내용 같은데 왜 노드를 진행하면서는 머리에 해결 방법이 안 떠오르는지 모르겠다. 아직 많이 부족하다. \n",
    "3. 할 때마다 느끼는 거지만 충분히 할 수 있었을텐데 란 아쉬움이 남는다. 아직은 실력이 부족해서 그런 것이니 더 노력해야겠다."
   ]
  }
 ],
 "metadata": {
  "kernelspec": {
   "display_name": "aiffel",
   "language": "python",
   "name": "aiffel"
  },
  "language_info": {
   "codemirror_mode": {
    "name": "ipython",
    "version": 3
   },
   "file_extension": ".py",
   "mimetype": "text/x-python",
   "name": "python",
   "nbconvert_exporter": "python",
   "pygments_lexer": "ipython3",
   "version": "3.7.9"
  }
 },
 "nbformat": 4,
 "nbformat_minor": 5
}
