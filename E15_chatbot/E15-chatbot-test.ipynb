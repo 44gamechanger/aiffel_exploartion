{
 "cells": [
  {
   "cell_type": "code",
   "execution_count": 1,
   "id": "religious-cyprus",
   "metadata": {},
   "outputs": [
    {
     "name": "stdout",
     "output_type": "stream",
     "text": [
      "슝=3\n"
     ]
    }
   ],
   "source": [
    "import tensorflow as tf\n",
    "import tensorflow_datasets as tfds\n",
    "import os\n",
    "import re\n",
    "import numpy as np\n",
    "import matplotlib.pyplot as plt\n",
    "import csv\n",
    "import pandas as pd\n",
    "\n",
    "print(\"슝=3\")"
   ]
  },
  {
   "cell_type": "code",
   "execution_count": 2,
   "id": "infectious-toronto",
   "metadata": {
    "scrolled": true
   },
   "outputs": [
    {
     "data": {
      "text/html": [
       "<div>\n",
       "<style scoped>\n",
       "    .dataframe tbody tr th:only-of-type {\n",
       "        vertical-align: middle;\n",
       "    }\n",
       "\n",
       "    .dataframe tbody tr th {\n",
       "        vertical-align: top;\n",
       "    }\n",
       "\n",
       "    .dataframe thead th {\n",
       "        text-align: right;\n",
       "    }\n",
       "</style>\n",
       "<table border=\"1\" class=\"dataframe\">\n",
       "  <thead>\n",
       "    <tr style=\"text-align: right;\">\n",
       "      <th></th>\n",
       "      <th>Q</th>\n",
       "      <th>A</th>\n",
       "      <th>label</th>\n",
       "    </tr>\n",
       "  </thead>\n",
       "  <tbody>\n",
       "    <tr>\n",
       "      <th>0</th>\n",
       "      <td>12시 땡!</td>\n",
       "      <td>하루가 또 가네요.</td>\n",
       "      <td>0</td>\n",
       "    </tr>\n",
       "    <tr>\n",
       "      <th>1</th>\n",
       "      <td>1지망 학교 떨어졌어</td>\n",
       "      <td>위로해 드립니다.</td>\n",
       "      <td>0</td>\n",
       "    </tr>\n",
       "    <tr>\n",
       "      <th>2</th>\n",
       "      <td>3박4일 놀러가고 싶다</td>\n",
       "      <td>여행은 언제나 좋죠.</td>\n",
       "      <td>0</td>\n",
       "    </tr>\n",
       "    <tr>\n",
       "      <th>3</th>\n",
       "      <td>3박4일 정도 놀러가고 싶다</td>\n",
       "      <td>여행은 언제나 좋죠.</td>\n",
       "      <td>0</td>\n",
       "    </tr>\n",
       "    <tr>\n",
       "      <th>4</th>\n",
       "      <td>PPL 심하네</td>\n",
       "      <td>눈살이 찌푸려지죠.</td>\n",
       "      <td>0</td>\n",
       "    </tr>\n",
       "  </tbody>\n",
       "</table>\n",
       "</div>"
      ],
      "text/plain": [
       "                 Q            A  label\n",
       "0           12시 땡!   하루가 또 가네요.      0\n",
       "1      1지망 학교 떨어졌어    위로해 드립니다.      0\n",
       "2     3박4일 놀러가고 싶다  여행은 언제나 좋죠.      0\n",
       "3  3박4일 정도 놀러가고 싶다  여행은 언제나 좋죠.      0\n",
       "4          PPL 심하네   눈살이 찌푸려지죠.      0"
      ]
     },
     "execution_count": 2,
     "metadata": {},
     "output_type": "execute_result"
    }
   ],
   "source": [
    "data = pd.read_csv('ChatbotData .csv')\n",
    "data.head()\n"
   ]
  },
  {
   "cell_type": "code",
   "execution_count": 3,
   "id": "sensitive-designation",
   "metadata": {
    "scrolled": true
   },
   "outputs": [
    {
     "name": "stdout",
     "output_type": "stream",
     "text": [
      "11823\n"
     ]
    }
   ],
   "source": [
    "print(len(data))"
   ]
  },
  {
   "cell_type": "code",
   "execution_count": 4,
   "id": "resident-politics",
   "metadata": {
    "scrolled": true
   },
   "outputs": [
    {
     "name": "stdout",
     "output_type": "stream",
     "text": [
      "Q        0\n",
      "A        0\n",
      "label    0\n",
      "dtype: int64\n"
     ]
    }
   ],
   "source": [
    "print(data.isnull().sum())"
   ]
  },
  {
   "cell_type": "code",
   "execution_count": 5,
   "id": "residential-arctic",
   "metadata": {},
   "outputs": [],
   "source": [
    "questions = []\n",
    "for sentence in data['Q']:\n",
    "    questions.append(sentence)"
   ]
  },
  {
   "cell_type": "code",
   "execution_count": 6,
   "id": "actual-rental",
   "metadata": {},
   "outputs": [],
   "source": [
    "answers = []\n",
    "for sentence in data['A']:\n",
    "    answers.append(sentence)"
   ]
  },
  {
   "cell_type": "code",
   "execution_count": 7,
   "id": "finite-residence",
   "metadata": {},
   "outputs": [
    {
     "name": "stdout",
     "output_type": "stream",
     "text": [
      "['12시 땡!', '1지망 학교 떨어졌어', '3박4일 놀러가고 싶다', '3박4일 정도 놀러가고 싶다', 'PPL 심하네']\n",
      "['하루가 또 가네요.', '위로해 드립니다.', '여행은 언제나 좋죠.', '여행은 언제나 좋죠.', '눈살이 찌푸려지죠.']\n"
     ]
    }
   ],
   "source": [
    "print(questions[:5])\n",
    "print(answers[:5])"
   ]
  },
  {
   "cell_type": "markdown",
   "id": "stuffed-loading",
   "metadata": {},
   "source": [
    "# Step 2. 데이터 전처리하기\n",
    "영어 데이터와는 전혀 다른 데이터인 만큼 영어 데이터에 사용했던 전처리와 일부 동일한 전처리도 필요하겠지만 전체적으로는 다른 전처리를 수행해야 할 수도 있습니다.\n",
    "\n"
   ]
  },
  {
   "cell_type": "markdown",
   "id": "sitting-dinner",
   "metadata": {},
   "source": [
    "이번 전처리는 정규 표현식(Regular Expression)을 사용하여 구두점(punctuation)을 제거하여 단어를 토크나이징(tokenizing)하는 일에 방해가 되지 않도록 정제하는 것을 목표로 합니다."
   ]
  },
  {
   "cell_type": "code",
   "execution_count": 8,
   "id": "passing-bishop",
   "metadata": {},
   "outputs": [
    {
     "name": "stdout",
     "output_type": "stream",
     "text": [
      "슝=3\n"
     ]
    }
   ],
   "source": [
    "# 전처리 함수\n",
    "def preprocess_sentence(sentence):\n",
    "    sentence = sentence.lower().strip()\n",
    "    \n",
    "    # 단어와 구두점(punctuation) 사이의 거리를 만듭니다.\n",
    "    # 예를 들어서 \"I am a student.\" => \"I am a student .\"와 같이\n",
    "    # student와 온점 사이에 거리를 만듭니다.\n",
    "    sentence = re.sub(r\"([?.!,])\", r\" \\1 \", sentence)\n",
    "    sentence = re.sub(r'[\" \"]+', \" \", sentence)\n",
    "    \n",
    "    # (a-z, A-Z, \".\", \"?\", \"!\", \",\")를 제외한 모든 문자를 공백인 ' '로 대체합니다.\n",
    "    sentence = re.sub(r\"[^a-zA-Z?.!,]+\", \" \", sentence)\n",
    "    sentence = sentence.strip()\n",
    "    return sentence\n",
    "print(\"슝=3\")"
   ]
  },
  {
   "cell_type": "code",
   "execution_count": 9,
   "id": "animated-gibson",
   "metadata": {},
   "outputs": [],
   "source": [
    "questions = []\n",
    "for sentence in data['Q']:\n",
    "    questions.append(sentence)"
   ]
  },
  {
   "cell_type": "code",
   "execution_count": 10,
   "id": "intellectual-birthday",
   "metadata": {},
   "outputs": [],
   "source": [
    "answers = []\n",
    "for sentence in data['A']:\n",
    "    answers.append(sentence)"
   ]
  },
  {
   "cell_type": "code",
   "execution_count": 11,
   "id": "printable-style",
   "metadata": {},
   "outputs": [
    {
     "name": "stdout",
     "output_type": "stream",
     "text": [
      "['12시 땡!', '1지망 학교 떨어졌어', '3박4일 놀러가고 싶다', '3박4일 정도 놀러가고 싶다', 'PPL 심하네']\n",
      "['하루가 또 가네요.', '위로해 드립니다.', '여행은 언제나 좋죠.', '여행은 언제나 좋죠.', '눈살이 찌푸려지죠.']\n"
     ]
    }
   ],
   "source": [
    "print(questions[:5])\n",
    "print(answers[:5])"
   ]
  },
  {
   "cell_type": "markdown",
   "id": "sought-given",
   "metadata": {},
   "source": [
    "이렇게 로드한 데이터의 샘플 수를 확인해 볼까요?\n",
    "\n"
   ]
  },
  {
   "cell_type": "code",
   "execution_count": 12,
   "id": "incoming-calibration",
   "metadata": {},
   "outputs": [
    {
     "name": "stdout",
     "output_type": "stream",
     "text": [
      "전체 샘플 수 : 11823\n",
      "전체 샘플 수 : 11823\n"
     ]
    }
   ],
   "source": [
    "print('전체 샘플 수 :', len(questions))\n",
    "print('전체 샘플 수 :', len(answers))"
   ]
  },
  {
   "cell_type": "code",
   "execution_count": 13,
   "id": "mighty-diploma",
   "metadata": {},
   "outputs": [
    {
     "name": "stdout",
     "output_type": "stream",
     "text": [
      "전처리 후의 22번째 질문 샘플: 가스비 장난 아님\n",
      "전처리 후의 22번째 답변 샘플: 다음 달에는 더 절약해봐요.\n"
     ]
    }
   ],
   "source": [
    "print('전처리 후의 22번째 질문 샘플: {}'.format(questions[21]))\n",
    "print('전처리 후의 22번째 답변 샘플: {}'.format(answers[21]))"
   ]
  },
  {
   "cell_type": "markdown",
   "id": "distributed-specialist",
   "metadata": {},
   "source": [
    "Step 3. SubwordTextEncoder 사용하기\n",
    "한국어 데이터는 형태소 분석기를 사용하여 토크나이징을 해야 한다고 많은 분이 알고 있습니다. 하지만 여기서는 형태소 분석기가 아닌 위 실습에서 사용했던 내부 단어 토크나이저인 SubwordTextEncoder를 그대로 사용해보세요."
   ]
  },
  {
   "cell_type": "code",
   "execution_count": 14,
   "id": "conventional-variable",
   "metadata": {},
   "outputs": [
    {
     "name": "stdout",
     "output_type": "stream",
     "text": [
      "살짝 오래 걸릴 수 있어요. 스트레칭 한 번 해볼까요? 👐\n",
      "슝=3 \n"
     ]
    }
   ],
   "source": [
    "print(\"살짝 오래 걸릴 수 있어요. 스트레칭 한 번 해볼까요? 👐\")\n",
    "\n",
    "# 질문과 답변 데이터셋에 대해서 Vocabulary 생성. (Tensorflow 2.2.0 이하)\n",
    "# tokenizer = tfds.features.text.SubwordTextEncoder.build_from_corpus(questions + answers, target_vocab_size=2**13)\n",
    "\n",
    "# (주의) Tensorflow 2.3.0 이상의 버전에서는 아래 주석의 코드를 대신 실행해 주세요. \n",
    "tokenizer = tfds.deprecated.text.SubwordTextEncoder.build_from_corpus(questions + answers, target_vocab_size=2**13)\n",
    "print(\"슝=3 \")"
   ]
  },
  {
   "cell_type": "code",
   "execution_count": 15,
   "id": "simple-emerald",
   "metadata": {},
   "outputs": [
    {
     "name": "stdout",
     "output_type": "stream",
     "text": [
      "ok\n"
     ]
    }
   ],
   "source": [
    "# 시작 토큰과 종료 토큰에 고유한 정수를 부여합니다.\n",
    "START_TOKEN, END_TOKEN = [tokenizer.vocab_size], [tokenizer.vocab_size + 1]\n",
    "print(\"ok\")"
   ]
  },
  {
   "cell_type": "code",
   "execution_count": 16,
   "id": "essential-morris",
   "metadata": {},
   "outputs": [
    {
     "name": "stdout",
     "output_type": "stream",
     "text": [
      "START_TOKEN의 번호 : [8170]\n",
      "END_TOKEN의 번호 : [8171]\n"
     ]
    }
   ],
   "source": [
    "print('START_TOKEN의 번호 :' ,[tokenizer.vocab_size])\n",
    "print('END_TOKEN의 번호 :' ,[tokenizer.vocab_size + 1])"
   ]
  },
  {
   "cell_type": "code",
   "execution_count": 17,
   "id": "spectacular-traveler",
   "metadata": {},
   "outputs": [
    {
     "name": "stdout",
     "output_type": "stream",
     "text": [
      "8172\n"
     ]
    }
   ],
   "source": [
    "# 시작 토큰과 종료 토큰을 고려하여 +2를 하여 단어장의 크기를 산정합니다.\n",
    "VOCAB_SIZE = tokenizer.vocab_size + 2\n",
    "print(VOCAB_SIZE)"
   ]
  },
  {
   "cell_type": "code",
   "execution_count": 18,
   "id": "designing-velvet",
   "metadata": {
    "scrolled": true
   },
   "outputs": [
    {
     "name": "stdout",
     "output_type": "stream",
     "text": [
      "정수 인코딩 후의 21번째 질문 샘플: [5759, 607, 2490, 4160]\n",
      "정수 인코딩 후의 21번째 답변 샘플: [2353, 7510, 5, 6273, 94, 7960]\n"
     ]
    }
   ],
   "source": [
    "# 임의의 22번째 샘플에 대해서 정수 인코딩 작업을 수행.\n",
    "# 각 토큰을 고유한 정수로 변환\n",
    "print('정수 인코딩 후의 21번째 질문 샘플: {}'.format(tokenizer.encode(questions[21])))\n",
    "print('정수 인코딩 후의 21번째 답변 샘플: {}'.format(tokenizer.encode(answers[21])))"
   ]
  },
  {
   "cell_type": "code",
   "execution_count": 19,
   "id": "broadband-donor",
   "metadata": {},
   "outputs": [],
   "source": [
    "sample_string = questions[20]"
   ]
  },
  {
   "cell_type": "code",
   "execution_count": 20,
   "id": "straight-italic",
   "metadata": {},
   "outputs": [
    {
     "name": "stdout",
     "output_type": "stream",
     "text": [
      "정수 인코딩 후의 문장 [5759, 607, 3502, 138, 681, 3740, 846]\n"
     ]
    }
   ],
   "source": [
    "tokenized_string = tokenizer.encode(sample_string)\n",
    "print ('정수 인코딩 후의 문장 {}'.format(tokenized_string))"
   ]
  },
  {
   "cell_type": "code",
   "execution_count": 21,
   "id": "sharing-france",
   "metadata": {},
   "outputs": [
    {
     "name": "stdout",
     "output_type": "stream",
     "text": [
      "기존 문장: 가스비 비싼데 감기 걸리겠어\n"
     ]
    }
   ],
   "source": [
    "original_string = tokenizer.decode(tokenized_string)\n",
    "print ('기존 문장: {}'.format(original_string))"
   ]
  },
  {
   "cell_type": "code",
   "execution_count": null,
   "id": "graduate-danish",
   "metadata": {},
   "outputs": [],
   "source": []
  },
  {
   "cell_type": "code",
   "execution_count": 22,
   "id": "employed-vertical",
   "metadata": {},
   "outputs": [
    {
     "name": "stdout",
     "output_type": "stream",
     "text": [
      "40\n"
     ]
    }
   ],
   "source": [
    "# 샘플의 최대 허용 길이 또는 패딩 후의 최종 길이\n",
    "MAX_LENGTH = 40\n",
    "print(MAX_LENGTH)"
   ]
  },
  {
   "cell_type": "code",
   "execution_count": 23,
   "id": "literary-ukraine",
   "metadata": {},
   "outputs": [
    {
     "name": "stdout",
     "output_type": "stream",
     "text": [
      "슝=3\n"
     ]
    }
   ],
   "source": [
    "# 정수 인코딩, 최대 길이를 초과하는 샘플 제거, 패딩\n",
    "def tokenize_and_filter(inputs, outputs):\n",
    "    tokenized_inputs, tokenized_outputs = [], []\n",
    "    \n",
    "    for (sentence1, sentence2) in zip(inputs, outputs):\n",
    "        # 정수 인코딩 과정에서 시작 토큰과 종료 토큰을 추가\n",
    "        sentence1 = START_TOKEN + tokenizer.encode(sentence1) + END_TOKEN\n",
    "        sentence2 = START_TOKEN + tokenizer.encode(sentence2) + END_TOKEN\n",
    "        \n",
    "        # 최대 길이 40 이하인 경우에만 데이터셋으로 허용\n",
    "        if len(sentence1) <= MAX_LENGTH and len(sentence2) <= MAX_LENGTH:\n",
    "            tokenized_inputs.append(sentence1)\n",
    "            tokenized_outputs.append(sentence2)\n",
    "            \n",
    "        # 최대 길이 40으로 모든 데이터셋을 패딩\n",
    "    tokenized_inputs = tf.keras.preprocessing.sequence.pad_sequences(tokenized_inputs, maxlen=MAX_LENGTH, padding='post')\n",
    "    tokenized_outputs = tf.keras.preprocessing.sequence.pad_sequences(tokenized_outputs, maxlen=MAX_LENGTH, padding='post')\n",
    "        \n",
    "    return tokenized_inputs, tokenized_outputs\n",
    "print(\"슝=3\")"
   ]
  },
  {
   "cell_type": "code",
   "execution_count": 24,
   "id": "traditional-circulation",
   "metadata": {},
   "outputs": [
    {
     "name": "stdout",
     "output_type": "stream",
     "text": [
      "단어장의 크기 : 8172\n",
      "필터링 후의 질문 샘플 개수: 11823\n",
      "필터링 후의 답변 샘플 개수: 11823\n",
      "질문 데이터의 크기(shape) : (11823, 40)\n",
      "답변 데이터의 크기(shape) : (11823, 40)\n"
     ]
    }
   ],
   "source": [
    "questions, answers = tokenize_and_filter(questions, answers)\n",
    "print('단어장의 크기 :',(VOCAB_SIZE))\n",
    "print('필터링 후의 질문 샘플 개수: {}'.format(len(questions)))\n",
    "print('필터링 후의 답변 샘플 개수: {}'.format(len(answers)))\n",
    "print('질문 데이터의 크기(shape) :', questions.shape)\n",
    "print('답변 데이터의 크기(shape) :', answers.shape)"
   ]
  },
  {
   "cell_type": "code",
   "execution_count": 25,
   "id": "established-remains",
   "metadata": {},
   "outputs": [
    {
     "name": "stdout",
     "output_type": "stream",
     "text": [
      "ok\n"
     ]
    }
   ],
   "source": [
    "#3. 교사 강요(Teacher Forcing) 사용하기\n",
    "\n",
    "BATCH_SIZE = 64\n",
    "BUFFER_SIZE = 20000\n",
    "\n",
    "# 디코더는 이전의 target을 다음의 input으로 사용합니다.\n",
    "# 이에 따라 outputs에서는 START_TOKEN을 제거하겠습니다.\n",
    "dataset = tf.data.Dataset.from_tensor_slices(({'inputs': questions,\n",
    "                                               'dec_inputs': answers[:, :-1]},\n",
    "                                              {'outputs': answers[:, 1:]},))\n",
    "\n",
    "dataset = dataset.cache()\n",
    "dataset = dataset.shuffle(BUFFER_SIZE)\n",
    "dataset = dataset.batch(BATCH_SIZE)\n",
    "dataset = dataset.prefetch(tf.data.experimental.AUTOTUNE)\n",
    "print(\"ok\")"
   ]
  },
  {
   "cell_type": "code",
   "execution_count": 27,
   "id": "missing-census",
   "metadata": {},
   "outputs": [
    {
     "name": "stdout",
     "output_type": "stream",
     "text": [
      "[8170 3837   71 7888 7960 8171    0    0    0    0    0    0    0    0\n",
      "    0    0    0    0    0    0    0    0    0    0    0    0    0    0\n",
      "    0    0    0    0    0    0    0    0    0    0    0    0]\n",
      "[[8170 3837   71 7888 7960 8171    0    0    0    0    0    0    0    0\n",
      "     0    0    0    0    0    0    0    0    0    0    0    0    0    0\n",
      "     0    0    0    0    0    0    0    0    0    0    0]]\n",
      "[[3837   71 7888 7960 8171    0    0    0    0    0    0    0    0    0\n",
      "     0    0    0    0    0    0    0    0    0    0    0    0    0    0\n",
      "     0    0    0    0    0    0    0    0    0    0    0]]\n"
     ]
    }
   ],
   "source": [
    "print(answers[0])\n",
    "print(answers[:1][:, :-1])\n",
    "print(answers[:1][:, 1:])"
   ]
  },
  {
   "cell_type": "markdown",
   "id": "applied-projection",
   "metadata": {},
   "source": [
    "# Step 4. 모델 구성하기\n",
    "위 실습 내용을 참고하여 트랜스포머 모델을 구현합니다.\n",
    "\n"
   ]
  },
  {
   "cell_type": "markdown",
   "id": "graphic-baptist",
   "metadata": {},
   "source": [
    "### 인코더 층 함수와 디코더 층 함수를 사용하여 트랜스포머 함수 정의"
   ]
  },
  {
   "cell_type": "code",
   "execution_count": 29,
   "id": "southeast-reduction",
   "metadata": {},
   "outputs": [
    {
     "name": "stdout",
     "output_type": "stream",
     "text": [
      "슝=3\n"
     ]
    }
   ],
   "source": [
    "# 포지서녈 행렬 구현\n",
    "# 포지셔널 인코딩 레이어\n",
    "# 포지셔널 인코딩 레이어\n",
    "# 포지셔널 인코딩 레이어\n",
    "class PositionalEncoding(tf.keras.layers.Layer):\n",
    "    def __init__(self, position, d_model):\n",
    "        super(PositionalEncoding, self).__init__()\n",
    "        self.pos_encoding = self.positional_encoding(position, d_model)\n",
    "        \n",
    "    def get_angles(self, position, i, d_model):\n",
    "        angles = 1 / tf.pow(10000, (2 * (i // 2)) / tf.cast(d_model, tf.float32))\n",
    "        return position * angles\n",
    "    \n",
    "    def positional_encoding(self, position, d_model):\n",
    "        angle_rads = self.get_angles(position=tf.range(position, dtype=tf.float32)[:, tf.newaxis],\n",
    "                                     i=tf.range(d_model, dtype=tf.float32)[tf.newaxis, :],\n",
    "                                     d_model=d_model)\n",
    "        # 배열의 짝수 인덱스에는 sin 함수 적용\n",
    "        sines = tf.math.sin(angle_rads[:, 0::2])\n",
    "        # 배열의 홀수 인덱스에는 cosine 함수 적용\n",
    "        cosines = tf.math.cos(angle_rads[:, 1::2])\n",
    "        \n",
    "        pos_encoding = tf.concat([sines, cosines], axis=-1)\n",
    "        pos_encoding = pos_encoding[tf.newaxis, ...]\n",
    "        return tf.cast(pos_encoding, tf.float32)\n",
    "    \n",
    "    def call(self, inputs):\n",
    "        return inputs + self.pos_encoding[:, :tf.shape(inputs)[1], :]\n",
    "print(\"슝=3\")"
   ]
  },
  {
   "cell_type": "code",
   "execution_count": 30,
   "id": "municipal-innocent",
   "metadata": {},
   "outputs": [
    {
     "name": "stdout",
     "output_type": "stream",
     "text": [
      "슝=3\n"
     ]
    }
   ],
   "source": [
    "# 스케일드 닷 프로덕트 어텐션 함수\n",
    "def scaled_dot_product_attention(query, key, value, mask):\n",
    "    \"\"\"어텐션 가중치를 계산. \"\"\"\n",
    "    matmul_qk = tf.matmul(query, key, transpose_b=True)\n",
    "    \n",
    "    # scale matmul_qk\n",
    "    depth = tf.cast(tf.shape(key)[-1], tf.float32)\n",
    "    logits = matmul_qk / tf.math.sqrt(depth)\n",
    "    \n",
    "    # add the mask to zero out padding tokens\n",
    "    if mask is not None:\n",
    "        logits += (mask * -1e9)\n",
    "        \n",
    "    # softmax is normalized on the last axis (seq_len_k)\n",
    "    attention_weights = tf.nn.softmax(logits, axis=-1)\n",
    "    output = tf.matmul(attention_weights, value)\n",
    "    return output\n",
    "print(\"슝=3\")"
   ]
  },
  {
   "cell_type": "code",
   "execution_count": 31,
   "id": "unlimited-shoulder",
   "metadata": {},
   "outputs": [
    {
     "name": "stdout",
     "output_type": "stream",
     "text": [
      "슝=3\n"
     ]
    }
   ],
   "source": [
    "class MultiHeadAttention(tf.keras.layers.Layer):\n",
    "    def __init__(self, d_model, num_heads, name=\"multi_head_attention\"):\n",
    "        super(MultiHeadAttention, self).__init__(name=name)\n",
    "        self.num_heads = num_heads\n",
    "        self.d_model = d_model\n",
    "\n",
    "        assert d_model % self.num_heads == 0\n",
    "\n",
    "        self.depth = d_model // self.num_heads\n",
    "\n",
    "        self.query_dense = tf.keras.layers.Dense(units=d_model)\n",
    "        self.key_dense = tf.keras.layers.Dense(units=d_model)\n",
    "        self.value_dense = tf.keras.layers.Dense(units=d_model)\n",
    "\n",
    "        self.dense = tf.keras.layers.Dense(units=d_model)\n",
    "\n",
    "    def split_heads(self, inputs, batch_size):\n",
    "        inputs = tf.reshape(inputs, shape=(batch_size, -1, self.num_heads, self.depth))\n",
    "        return tf.transpose(inputs, perm=[0, 2, 1, 3])\n",
    "\n",
    "    def call(self, inputs):\n",
    "        query, key, value, mask = inputs['query'], inputs['key'], inputs['value'], inputs['mask']\n",
    "        batch_size = tf.shape(query)[0]\n",
    "\n",
    "        # linear layers\n",
    "        query = self.query_dense(query)\n",
    "        key = self.key_dense(key)\n",
    "        value = self.value_dense(value)\n",
    "\n",
    "        # 병렬 연산을 위한 머리를 여러 개 만듭니다.\n",
    "        query = self.split_heads(query, batch_size)\n",
    "        key = self.split_heads(key, batch_size)\n",
    "        value = self.split_heads(value, batch_size)\n",
    "\n",
    "        # 스케일드 닷 프로덕트 어텐션 함수\n",
    "        scaled_attention = scaled_dot_product_attention(query, key, value, mask)\n",
    "\n",
    "        scaled_attention = tf.transpose(scaled_attention, perm=[0, 2, 1, 3])\n",
    "\n",
    "        # 어텐션 연산 후에 각 결과를 다시 연결(concatenate)합니다.\n",
    "        concat_attention = tf.reshape(scaled_attention,\n",
    "                                      (batch_size, -1, self.d_model))\n",
    "\n",
    "        # final linear layer\n",
    "        outputs = self.dense(concat_attention)\n",
    "\n",
    "        return outputs\n",
    "print(\"슝=3\")"
   ]
  },
  {
   "cell_type": "code",
   "execution_count": 32,
   "id": "separated-brother",
   "metadata": {},
   "outputs": [
    {
     "name": "stdout",
     "output_type": "stream",
     "text": [
      "슝=3\n"
     ]
    }
   ],
   "source": [
    "# 패딩 마스킹 구현 함수\n",
    "def create_padding_mask(x):\n",
    "    mask = tf.cast(tf.math.equal(x, 0), tf.float32)\n",
    "    # (batch_size, 1, 1, sequence length)\n",
    "    return mask[:, tf.newaxis, tf.newaxis, :]\n",
    "print(\"슝=3\")"
   ]
  },
  {
   "cell_type": "code",
   "execution_count": 33,
   "id": "opposed-assumption",
   "metadata": {},
   "outputs": [
    {
     "name": "stdout",
     "output_type": "stream",
     "text": [
      "슝=3\n"
     ]
    }
   ],
   "source": [
    "# 빨간색 부분 마스킹 함수로 구현\n",
    "def create_look_ahead_mask(x):\n",
    "    seq_len = tf.shape(x)[1]\n",
    "    look_ahead_mask = 1 - tf.linalg.band_part(tf.ones((seq_len, seq_len)), -1, 0)\n",
    "    padding_mask = create_padding_mask(x)\n",
    "    return tf.maximum(look_ahead_mask, padding_mask)\n",
    "print(\"슝=3\")"
   ]
  },
  {
   "cell_type": "code",
   "execution_count": 34,
   "id": "atomic-owner",
   "metadata": {},
   "outputs": [
    {
     "name": "stdout",
     "output_type": "stream",
     "text": [
      "슝=3\n"
     ]
    }
   ],
   "source": [
    "# 인코더 하나의 레이어를 함수로 구현.\n",
    "# 이 하나의 레이어 안에는 두 개의 서브 레이어가 존재합니다.\n",
    "def encoder_layer(units, d_model, num_heads, dropout, name=\"encoder_layer\"):\n",
    "    inputs = tf.keras.Input(shape=(None, d_model), name=\"inputs\")\n",
    "    \n",
    "    # 패딩 마스크 사용\n",
    "    padding_mask = tf.keras.Input(shape=(1, 1, None), name=\"padding_mask\")\n",
    "    \n",
    "    # 첫 번째 서브 레이어 : 멀티 헤드 어텐션 수행 (셀프 어텐션)\n",
    "    attention = MultiHeadAttention(d_model, num_heads, name=\"attention\")({\n",
    "        'query': inputs,\n",
    "        'key': inputs,\n",
    "        'value': inputs,\n",
    "        'mask': padding_mask})\n",
    "    \n",
    "    # 어텐션의 결과는 Dropout과 Layer Normalization이라는 훈련을 돕는 테크닉을 수행\n",
    "    attention = tf.keras.layers.Dropout(rate=dropout)(attention)\n",
    "    attention = tf.keras.layers.LayerNormalization(epsilon=1e-6)(inputs + attention)\n",
    "    \n",
    "    # 두 번째 서브 레이어 : 2개의 완전연결층\n",
    "    outputs = tf.keras.layers.Dense(units=units, activation='relu')(attention)\n",
    "    outputs = tf.keras.layers.Dense(units=d_model)(outputs)\n",
    "    \n",
    "    # 완전연결층의 결과는 Dropout과 LayerNormalization이라는 훈련을 돕는 테크닉을 수행\n",
    "    outputs = tf.keras.layers.Dropout(rate=dropout)(outputs)\n",
    "    outputs = tf.keras.layers.LayerNormalization(epsilon=1e-6)(attention + outputs)\n",
    "    \n",
    "    return tf.keras.Model(inputs=[inputs, padding_mask], outputs=outputs, name=name)\n",
    "print(\"슝=3\")"
   ]
  },
  {
   "cell_type": "code",
   "execution_count": 35,
   "id": "pressed-patent",
   "metadata": {},
   "outputs": [
    {
     "name": "stdout",
     "output_type": "stream",
     "text": [
      "슝=3\n"
     ]
    }
   ],
   "source": [
    "def encoder(vocab_size,\n",
    "            num_layers,\n",
    "            units,\n",
    "            d_model,\n",
    "            num_heads,\n",
    "            dropout,\n",
    "            name=\"encoder\"):\n",
    "    inputs = tf.keras.Input(shape=(None,), name=\"inputs\")\n",
    "    \n",
    "    # 패딩 마스크 사용\n",
    "    padding_mask = tf.keras.Input(shape=(1, 1, None), name=\"padding_mask\")\n",
    "    \n",
    "    # 임베딩 레이어\n",
    "    embeddings = tf.keras.layers.Embedding(vocab_size, d_model)(inputs)\n",
    "    embeddings *= tf.math.sqrt(tf.cast(d_model, tf.float32))\n",
    "    \n",
    "    # 포지셔널 인코딩\n",
    "    embeddings = PositionalEncoding(vocab_size, d_model)(embeddings)\n",
    "    outputs = tf.keras.layers.Dropout(rate=dropout)(embeddings)\n",
    "    \n",
    "    # num_layers만큼 쌓아올린 인코더의 층.\n",
    "    for i in range(num_layers):\n",
    "        outputs = encoder_layer(units=units,\n",
    "                                d_model=d_model,\n",
    "                                num_heads=num_heads,\n",
    "                                dropout=dropout,\n",
    "                                name=\"encoder_layer_{}\".format(i),)([outputs, padding_mask])\n",
    "        \n",
    "        return tf.keras.Model(inputs=[inputs, padding_mask], outputs=outputs, name=name)\n",
    "print(\"슝=3\")"
   ]
  },
  {
   "cell_type": "code",
   "execution_count": 36,
   "id": "ordinary-holder",
   "metadata": {},
   "outputs": [
    {
     "name": "stdout",
     "output_type": "stream",
     "text": [
      "슝=3\n"
     ]
    }
   ],
   "source": [
    "# 디코더의 세 개의 서브 층을 내부적으로 구현한 디코더의 함수는 다음과 같습니다.\n",
    "\n",
    "# 디코더 하나의 레이어를 함수로 구현.\n",
    "# 이 하나의 레이어 안에는 세 개의 서브 레이어가 존재합니다.\n",
    "def decoder_layer(units, d_model, num_heads, dropout, name=\"decoder_layer\"):\n",
    "    inputs = tf.keras.Input(shape=(None, d_model), name=\"inputs\")\n",
    "    enc_outputs = tf.keras.Input(shape=(None, d_model), name=\"encoder_outputs\")\n",
    "    look_ahead_mask = tf.keras.Input(shape=(1, None, None), name=\"look_ahead_mask\")\n",
    "    padding_mask = tf.keras.Input(shape=(1, 1, None), name='padding_mask')\n",
    "    \n",
    "    # 첫 번째 서브 레이어 : 멀티 헤드 어텐션 수행 (셀프 어텐션)\n",
    "    attention1 = MultiHeadAttention(d_model, num_heads, name=\"attention_1\")(inputs={'query': inputs,\n",
    "                                                                                    'key': inputs,\n",
    "                                                                                    'value': inputs,\n",
    "                                                                                    'mask': look_ahead_mask})\n",
    "    # 멀티 헤드 어텐션의 결과는 LayerNormalization이라는 훈련을 돕는 테크닉을 수행\n",
    "    attention1 = tf.keras.layers.LayerNormalization(epsilon=1e-6)(attention1 + inputs)\n",
    "    \n",
    "    # 두 번째 서브 레이어 : 마스크드 멀티 헤드 어텐션 수행 (인코더-디코더 어텐션)\n",
    "    attention2 = MultiHeadAttention(d_model, num_heads, name=\"attention_2\")(inputs={'query': attention1,\n",
    "                                                                                    'key': enc_outputs,\n",
    "                                                                                    'value': enc_outputs,\n",
    "                                                                                    'mask': padding_mask})\n",
    "    \n",
    "    # 마스크드 멀티 헤드 어텐션의 결과는\n",
    "    # Dropout과 LayerNormalization이라는 훈련을 돕는 테크닉을 수행\n",
    "    attention2 = tf.keras.layers.Dropout(rate=dropout)(attention2)\n",
    "    attention2 = tf.keras.layers.LayerNormalization(epsilon=1e-6)(attention2 + attention1)\n",
    "    \n",
    "    # 세 번째 서브 레이어 : 2개의 완전연결층\n",
    "    outputs = tf.keras.layers.Dense(units=units, activation='relu')(attention2)\n",
    "    outputs = tf.keras.layers.Dense(units=d_model)(outputs)\n",
    "    \n",
    "    # 완전연결층의 결과는 Dropout과 LayerNormalization 수행\n",
    "    outputs = tf.keras.layers.Dropout(rate=dropout)(outputs)\n",
    "    outputs = tf.keras.layers.LayerNormalization(epsilon=1e-6)(outputs + attention2)\n",
    "    \n",
    "    return tf.keras.Model(inputs=[inputs, enc_outputs, look_ahead_mask, padding_mask],outputs=outputs,name=name)\n",
    "print(\"슝=3\")"
   ]
  },
  {
   "cell_type": "code",
   "execution_count": 37,
   "id": "adjustable-creator",
   "metadata": {},
   "outputs": [
    {
     "name": "stdout",
     "output_type": "stream",
     "text": [
      "슝=3\n"
     ]
    }
   ],
   "source": [
    "def decoder(vocab_size,\n",
    "            num_layers,\n",
    "            units,\n",
    "            d_model,\n",
    "            num_heads,\n",
    "            dropout,\n",
    "            name='decoder'):\n",
    "    inputs = tf.keras.Input(shape=(None,), name='inputs')\n",
    "    enc_outputs = tf.keras.Input(shape=(None, d_model), name='encoder_outputs')\n",
    "    look_ahead_mask = tf.keras.Input(shape=(1, None, None), name='look_ahead_mask')\n",
    "    \n",
    "    # 패딩 마스크\n",
    "    padding_mask = tf.keras.Input(shape=(1, 1, None), name='padding_mask')\n",
    "    \n",
    "    # 임베딩 레이어\n",
    "    embeddings = tf.keras.layers.Embedding(vocab_size, d_model)(inputs)\n",
    "    embeddings *= tf.math.sqrt(tf.cast(d_model, tf.float32))\n",
    "    \n",
    "    # 포지셔널 인코딩\n",
    "    embeddings = PositionalEncoding(vocab_size, d_model)(embeddings)\n",
    "    \n",
    "    # Dropout이라는 훈련을 돕는 테크닉을 수행\n",
    "    outputs = tf.keras.layers.Dropout(rate=dropout)(embeddings)\n",
    "    \n",
    "    for i in range(num_layers):\n",
    "        outputs = decoder_layer(units=units,\n",
    "                                d_model=d_model,\n",
    "                                num_heads=num_heads,\n",
    "                                dropout=dropout,\n",
    "                                name='decoder_layer_{}'.format(i),)(inputs=[outputs, enc_outputs, look_ahead_mask, padding_mask])\n",
    "        return tf.keras.Model(inputs=[inputs, enc_outputs, look_ahead_mask, padding_mask],outputs=outputs,name=name)\n",
    "print(\"슝=3\")"
   ]
  },
  {
   "cell_type": "code",
   "execution_count": 38,
   "id": "above-sheffield",
   "metadata": {},
   "outputs": [
    {
     "name": "stdout",
     "output_type": "stream",
     "text": [
      "슝=3\n"
     ]
    }
   ],
   "source": [
    "def transformer(vocab_size,\n",
    "                num_layers,\n",
    "                units,\n",
    "                d_model,\n",
    "                num_heads,\n",
    "                dropout,\n",
    "                name=\"transformer\"):\n",
    "    inputs = tf.keras.Input(shape=(None,), name=\"inputs\")\n",
    "    dec_inputs = tf.keras.Input(shape=(None,), name=\"dec_inputs\")\n",
    "    \n",
    "    # 인코더에서 패딩을 위한 마스크\n",
    "    enc_padding_mask = tf.keras.layers.Lambda(create_padding_mask, output_shape=(1, 1, None),name='enc_padding_mask')(inputs)\n",
    "    \n",
    "    # 디코더에서 미래의 토큰을 마스크 하기 위해서 사용합니다.\n",
    "    # 내부적으로 패딩 마스크도 포함되어져 있습니다.\n",
    "    look_ahead_mask = tf.keras.layers.Lambda(create_look_ahead_mask, output_shape=(1, None, None), name='look_ahead_mask')(dec_inputs)\n",
    "    \n",
    "    # 두 번째 어텐션 블록에서 인코더의 벡터들을 마스킹\n",
    "    # 디코더에서 패딩을 위한 마스크\n",
    "    dec_padding_mask = tf.keras.layers.Lambda(create_padding_mask, output_shape=(1, 1, None),name='dec_padding_mask')(inputs)\n",
    "    \n",
    "    \n",
    "    # 인코더\n",
    "    enc_outputs = encoder(vocab_size=vocab_size,\n",
    "                          num_layers=num_layers,\n",
    "                          units=units,\n",
    "                          d_model=d_model,\n",
    "                          num_heads=num_heads,\n",
    "                          dropout=dropout,)(inputs=[inputs, enc_padding_mask])\n",
    "    \n",
    "    # 디코더\n",
    "    dec_outputs = decoder(vocab_size=vocab_size,\n",
    "                          num_layers=num_layers,\n",
    "                          units=units,\n",
    "                          d_model=d_model,\n",
    "                          num_heads=num_heads,\n",
    "                          dropout=dropout,)(inputs=[dec_inputs, enc_outputs, look_ahead_mask, dec_padding_mask])\n",
    "    \n",
    "    # 완전연결층\n",
    "    outputs = tf.keras.layers.Dense(units=vocab_size, name=\"outputs\")(dec_outputs)\n",
    "    return tf.keras.Model(inputs=[inputs, dec_inputs], outputs=outputs, name=name)\n",
    "print(\"슝=3\")"
   ]
  },
  {
   "cell_type": "markdown",
   "id": "banner-samuel",
   "metadata": {},
   "source": [
    "### 모델 생성\n",
    "num_layers, d-Model, units는 전부 사용자가 정할 수 있는 하이퍼파라미터값"
   ]
  },
  {
   "cell_type": "code",
   "execution_count": 39,
   "id": "civic-australia",
   "metadata": {},
   "outputs": [
    {
     "name": "stdout",
     "output_type": "stream",
     "text": [
      "Model: \"transformer\"\n",
      "__________________________________________________________________________________________________\n",
      "Layer (type)                    Output Shape         Param #     Connected to                     \n",
      "==================================================================================================\n",
      "inputs (InputLayer)             [(None, None)]       0                                            \n",
      "__________________________________________________________________________________________________\n",
      "dec_inputs (InputLayer)         [(None, None)]       0                                            \n",
      "__________________________________________________________________________________________________\n",
      "enc_padding_mask (Lambda)       (None, 1, 1, None)   0           inputs[0][0]                     \n",
      "__________________________________________________________________________________________________\n",
      "encoder (Model)                 (None, None, 256)    2619136     inputs[0][0]                     \n",
      "                                                                 enc_padding_mask[0][0]           \n",
      "__________________________________________________________________________________________________\n",
      "look_ahead_mask (Lambda)        (None, 1, None, None 0           dec_inputs[0][0]                 \n",
      "__________________________________________________________________________________________________\n",
      "dec_padding_mask (Lambda)       (None, 1, 1, None)   0           inputs[0][0]                     \n",
      "__________________________________________________________________________________________________\n",
      "decoder (Model)                 (None, None, 256)    2882816     dec_inputs[0][0]                 \n",
      "                                                                 encoder[1][0]                    \n",
      "                                                                 look_ahead_mask[0][0]            \n",
      "                                                                 dec_padding_mask[0][0]           \n",
      "__________________________________________________________________________________________________\n",
      "outputs (Dense)                 (None, None, 8172)   2100204     decoder[1][0]                    \n",
      "==================================================================================================\n",
      "Total params: 7,602,156\n",
      "Trainable params: 7,602,156\n",
      "Non-trainable params: 0\n",
      "__________________________________________________________________________________________________\n"
     ]
    }
   ],
   "source": [
    "tf.keras.backend.clear_session()\n",
    "\n",
    "# 하이퍼파라미터\n",
    "NUM_LAYERS = 2 # 인코더와 디코더의 층의 개수\n",
    "D_MODEL = 256 # 인코더와 디코더 내부의 입, 출력의 고정 차원\n",
    "NUM_HEADS = 8 # 멀티 헤드 어텐션에서의 헤드 수 \n",
    "UNITS = 512 # 피드 포워드 신경망의 은닉층의 크기\n",
    "DROPOUT = 0.1 # 드롭아웃의 비율\n",
    "\n",
    "model = transformer(vocab_size=VOCAB_SIZE,\n",
    "                    num_layers=NUM_LAYERS,\n",
    "                    units=UNITS,\n",
    "                    d_model=D_MODEL,\n",
    "                    num_heads=NUM_HEADS,\n",
    "                    dropout=DROPOUT)\n",
    "\n",
    "model.summary()"
   ]
  },
  {
   "cell_type": "markdown",
   "id": "physical-restriction",
   "metadata": {},
   "source": [
    "### 손실함수"
   ]
  },
  {
   "cell_type": "code",
   "execution_count": 40,
   "id": "white-maximum",
   "metadata": {},
   "outputs": [
    {
     "name": "stdout",
     "output_type": "stream",
     "text": [
      "슝=3\n"
     ]
    }
   ],
   "source": [
    "def loss_function(y_true, y_pred):\n",
    "    y_true = tf.reshape(y_true, shape=(-1, MAX_LENGTH - 1))\n",
    "    loss = tf.keras.losses.SparseCategoricalCrossentropy(from_logits=True, reduction='none')(y_true, y_pred)\n",
    "    mask = tf.cast(tf.not_equal(y_true, 0), tf.float32)\n",
    "    loss = tf.multiply(loss, mask)\n",
    "    return tf.reduce_mean(loss)\n",
    "print(\"슝=3\")"
   ]
  },
  {
   "cell_type": "markdown",
   "id": "exclusive-secretary",
   "metadata": {},
   "source": [
    "### 커스텀된 학습률\n"
   ]
  },
  {
   "cell_type": "code",
   "execution_count": 41,
   "id": "devoted-bulgaria",
   "metadata": {},
   "outputs": [
    {
     "name": "stdout",
     "output_type": "stream",
     "text": [
      "슝=3\n"
     ]
    }
   ],
   "source": [
    "class CustomSchedule(tf.keras.optimizers.schedules.LearningRateSchedule):\n",
    "    def __init__(self, d_model, warmup_steps=4000):\n",
    "        super(CustomSchedule, self).__init__()\n",
    "        self.d_model = d_model\n",
    "        self.d_model = tf.cast(self.d_model, tf.float32)\n",
    "        self.warmup_steps = warmup_steps\n",
    "        \n",
    "    def __call__(self, step):\n",
    "        arg1 = tf.math.rsqrt(step)\n",
    "        arg2 = step * (self.warmup_steps**-1.5)\n",
    "        return tf.math.rsqrt(self.d_model) * tf.math.minimum(arg1, arg2)\n",
    "print(\"슝=3\")"
   ]
  },
  {
   "cell_type": "markdown",
   "id": "theoretical-buyer",
   "metadata": {},
   "source": [
    "### 모델 컴파일"
   ]
  },
  {
   "cell_type": "code",
   "execution_count": 42,
   "id": "stupid-wheel",
   "metadata": {},
   "outputs": [
    {
     "name": "stdout",
     "output_type": "stream",
     "text": [
      "슝=3\n"
     ]
    }
   ],
   "source": [
    "learning_rate = CustomSchedule(D_MODEL)\n",
    "\n",
    "optimizer = tf.keras.optimizers.Adam(learning_rate, beta_1=0.9, beta_2=0.98, epsilon=1e-9)\n",
    "\n",
    "def accuracy(y_true, y_pred):\n",
    "    y_true = tf.reshape(y_true, shape=(-1, MAX_LENGTH - 1))\n",
    "    return tf.keras.metrics.sparse_categorical_accuracy(y_true, y_pred)\n",
    "\n",
    "model.compile(optimizer=optimizer, loss=loss_function, metrics=[accuracy])\n",
    "print(\"슝=3\")"
   ]
  },
  {
   "cell_type": "markdown",
   "id": "curious-volunteer",
   "metadata": {},
   "source": [
    "### 훈련하기\n"
   ]
  },
  {
   "cell_type": "code",
   "execution_count": 55,
   "id": "apparent-bread",
   "metadata": {
    "scrolled": true
   },
   "outputs": [
    {
     "name": "stdout",
     "output_type": "stream",
     "text": [
      "Epoch 1/50\n",
      "185/185 [==============================] - 9s 51ms/step - loss: 0.0035 - accuracy: 0.1742\n",
      "Epoch 2/50\n",
      "185/185 [==============================] - 10s 52ms/step - loss: 0.0033 - accuracy: 0.1742\n",
      "Epoch 3/50\n",
      "185/185 [==============================] - 9s 51ms/step - loss: 0.0033 - accuracy: 0.1743\n",
      "Epoch 4/50\n",
      "185/185 [==============================] - 10s 52ms/step - loss: 0.0030 - accuracy: 0.1743\n",
      "Epoch 5/50\n",
      "185/185 [==============================] - 11s 59ms/step - loss: 0.0029 - accuracy: 0.1743\n",
      "Epoch 6/50\n",
      "185/185 [==============================] - 11s 58ms/step - loss: 0.0032 - accuracy: 0.1743\n",
      "Epoch 7/50\n",
      "185/185 [==============================] - 11s 58ms/step - loss: 0.0027 - accuracy: 0.1743\n",
      "Epoch 8/50\n",
      "185/185 [==============================] - 11s 58ms/step - loss: 0.0028 - accuracy: 0.1744\n",
      "Epoch 9/50\n",
      "185/185 [==============================] - 11s 58ms/step - loss: 0.0026 - accuracy: 0.1744\n",
      "Epoch 10/50\n",
      "185/185 [==============================] - 11s 59ms/step - loss: 0.0026 - accuracy: 0.1744\n",
      "Epoch 11/50\n",
      "185/185 [==============================] - 11s 59ms/step - loss: 0.0026 - accuracy: 0.1744\n",
      "Epoch 12/50\n",
      "185/185 [==============================] - 11s 58ms/step - loss: 0.0024 - accuracy: 0.1744\n",
      "Epoch 13/50\n",
      "185/185 [==============================] - 11s 58ms/step - loss: 0.0027 - accuracy: 0.1744\n",
      "Epoch 14/50\n",
      "185/185 [==============================] - 11s 58ms/step - loss: 0.0026 - accuracy: 0.1744\n",
      "Epoch 15/50\n",
      "185/185 [==============================] - 11s 59ms/step - loss: 0.0024 - accuracy: 0.1744\n",
      "Epoch 16/50\n",
      "185/185 [==============================] - 11s 58ms/step - loss: 0.0023 - accuracy: 0.1744\n",
      "Epoch 17/50\n",
      "185/185 [==============================] - 11s 58ms/step - loss: 0.0023 - accuracy: 0.1744\n",
      "Epoch 18/50\n",
      "185/185 [==============================] - 11s 58ms/step - loss: 0.0021 - accuracy: 0.1745\n",
      "Epoch 19/50\n",
      "185/185 [==============================] - 11s 59ms/step - loss: 0.0021 - accuracy: 0.1745\n",
      "Epoch 20/50\n",
      "185/185 [==============================] - 11s 58ms/step - loss: 0.0021 - accuracy: 0.1744\n",
      "Epoch 21/50\n",
      "185/185 [==============================] - 11s 60ms/step - loss: 0.0019 - accuracy: 0.1745\n",
      "Epoch 22/50\n",
      "185/185 [==============================] - 11s 60ms/step - loss: 0.0020 - accuracy: 0.1744\n",
      "Epoch 23/50\n",
      "185/185 [==============================] - 11s 57ms/step - loss: 0.0020 - accuracy: 0.1745\n",
      "Epoch 24/50\n",
      "185/185 [==============================] - 11s 57ms/step - loss: 0.0018 - accuracy: 0.1745\n",
      "Epoch 25/50\n",
      "185/185 [==============================] - 11s 59ms/step - loss: 0.0021 - accuracy: 0.1745\n",
      "Epoch 26/50\n",
      "185/185 [==============================] - 11s 60ms/step - loss: 0.0019 - accuracy: 0.1745\n",
      "Epoch 27/50\n",
      "185/185 [==============================] - 11s 59ms/step - loss: 0.0018 - accuracy: 0.1745\n",
      "Epoch 28/50\n",
      "185/185 [==============================] - 11s 59ms/step - loss: 0.0018 - accuracy: 0.1745\n",
      "Epoch 29/50\n",
      "185/185 [==============================] - 11s 60ms/step - loss: 0.0018 - accuracy: 0.1744\n",
      "Epoch 30/50\n",
      "185/185 [==============================] - 11s 58ms/step - loss: 0.0018 - accuracy: 0.1745\n",
      "Epoch 31/50\n",
      "185/185 [==============================] - 11s 60ms/step - loss: 0.0017 - accuracy: 0.1745\n",
      "Epoch 32/50\n",
      "185/185 [==============================] - 11s 60ms/step - loss: 0.0016 - accuracy: 0.1745\n",
      "Epoch 33/50\n",
      "185/185 [==============================] - 11s 60ms/step - loss: 0.0016 - accuracy: 0.1745\n",
      "Epoch 34/50\n",
      "185/185 [==============================] - 11s 59ms/step - loss: 0.0015 - accuracy: 0.1745\n",
      "Epoch 35/50\n",
      "185/185 [==============================] - 11s 60ms/step - loss: 0.0014 - accuracy: 0.1745\n",
      "Epoch 36/50\n",
      "185/185 [==============================] - 11s 60ms/step - loss: 0.0014 - accuracy: 0.1745\n",
      "Epoch 37/50\n",
      "185/185 [==============================] - 11s 59ms/step - loss: 0.0014 - accuracy: 0.1745\n",
      "Epoch 38/50\n",
      "185/185 [==============================] - 11s 58ms/step - loss: 0.0015 - accuracy: 0.1745\n",
      "Epoch 39/50\n",
      "185/185 [==============================] - 11s 60ms/step - loss: 0.0015 - accuracy: 0.1745\n",
      "Epoch 40/50\n",
      "185/185 [==============================] - 11s 59ms/step - loss: 0.0014 - accuracy: 0.1745\n",
      "Epoch 41/50\n",
      "185/185 [==============================] - 11s 58ms/step - loss: 0.0014 - accuracy: 0.1745\n",
      "Epoch 42/50\n",
      "185/185 [==============================] - 11s 59ms/step - loss: 0.0013 - accuracy: 0.1745\n",
      "Epoch 43/50\n",
      "185/185 [==============================] - 11s 59ms/step - loss: 0.0012 - accuracy: 0.1745\n",
      "Epoch 44/50\n",
      "185/185 [==============================] - 11s 59ms/step - loss: 0.0011 - accuracy: 0.1745\n",
      "Epoch 45/50\n",
      "185/185 [==============================] - 11s 59ms/step - loss: 0.0013 - accuracy: 0.1745\n",
      "Epoch 46/50\n",
      "185/185 [==============================] - 11s 59ms/step - loss: 0.0013 - accuracy: 0.1745\n",
      "Epoch 47/50\n",
      "185/185 [==============================] - 11s 60ms/step - loss: 0.0011 - accuracy: 0.1745\n",
      "Epoch 48/50\n",
      "185/185 [==============================] - 11s 60ms/step - loss: 0.0011 - accuracy: 0.1745\n",
      "Epoch 49/50\n",
      "185/185 [==============================] - 11s 59ms/step - loss: 0.0012 - accuracy: 0.1745\n",
      "Epoch 50/50\n",
      "185/185 [==============================] - 11s 59ms/step - loss: 0.0012 - accuracy: 0.1745\n"
     ]
    }
   ],
   "source": [
    "EPOCHS = 50\n",
    "hist = model.fit(dataset, epochs=EPOCHS, verbose=1)"
   ]
  },
  {
   "cell_type": "code",
   "execution_count": 59,
   "id": "efficient-injury",
   "metadata": {
    "scrolled": false
   },
   "outputs": [
    {
     "name": "stdout",
     "output_type": "stream",
     "text": [
      "[0.0034628177527338266, 0.003320292802527547, 0.0033234460279345512, 0.0030340810772031546, 0.0028977037873119116, 0.0032158209942281246, 0.0027241865172982216, 0.0027713931631296873, 0.0026319765020161867, 0.002644235035404563, 0.002585500478744507, 0.002410070737823844, 0.002651827409863472, 0.0025629575829952955, 0.00242413068190217, 0.002346620662137866, 0.00233968673273921, 0.002101156860589981, 0.0020620704162865877, 0.0021067732013761997, 0.0018903124146163464, 0.001969188218936324, 0.0020196910481899977, 0.0017944887513294816, 0.0020658683497458696, 0.0019141490338370204, 0.0017735002329573035, 0.0017663295147940516, 0.0018253291491419077, 0.0018379477551206946, 0.0016527518164366484, 0.0016203786944970489, 0.0015688823768869042, 0.0015282455133274198, 0.0014240697491914034, 0.0014488272136077285, 0.001356499153189361, 0.0014705979265272617, 0.0015482082962989807, 0.001371868303976953, 0.001408231328241527, 0.0013056362513452768, 0.0012120191240683198, 0.0011416076449677348, 0.001280074822716415, 0.0012736186617985368, 0.0010968560818582773, 0.0011474365601316094, 0.0012295173946768045, 0.0011945198057219386]\n",
      "[0.1742258071899414, 0.1742279827594757, 0.17429088056087494, 0.17430171370506287, 0.17433859407901764, 0.17428870499134064, 0.17434726655483246, 0.17439064383506775, 0.1744101494550705, 0.17437545955181122, 0.17437979578971863, 0.17437545955181122, 0.1744188368320465, 0.17437762022018433, 0.1744079887866974, 0.17440147697925568, 0.17442750930786133, 0.1744600385427475, 0.1744578629732132, 0.17443400621414185, 0.17448389530181885, 0.17443184554576874, 0.1744535267353058, 0.17446871101856232, 0.1744578629732132, 0.17445136606693268, 0.17446871101856232, 0.17447955906391144, 0.17444269359111786, 0.17445136606693268, 0.1744643747806549, 0.17449474334716797, 0.17447955906391144, 0.17449474334716797, 0.17451860010623932, 0.17452293634414673, 0.1745055764913559, 0.17449907958507538, 0.17447955906391144, 0.1745077520608902, 0.1745055764913559, 0.1745012402534485, 0.1745120882987976, 0.17452727258205414, 0.1745055764913559, 0.1745099127292633, 0.17453376948833466, 0.17449907958507538, 0.17452727258205414, 0.17453376948833466]\n"
     ]
    }
   ],
   "source": [
    "print(hist.history['loss'])\n",
    "print(hist.history['accuracy'])"
   ]
  },
  {
   "cell_type": "code",
   "execution_count": 67,
   "id": "future-wallpaper",
   "metadata": {
    "scrolled": true
   },
   "outputs": [
    {
     "data": {
      "image/png": "[encoded data removed]",
      "text/plain": [
       "<Figure size 432x288 with 1 Axes>"
      ]
     },
     "metadata": {
      "needs_background": "light"
     },
     "output_type": "display_data"
    }
   ],
   "source": [
    "plt.plot(hist.history['loss'])\n",
    "plt.show()"
   ]
  },
  {
   "cell_type": "code",
   "execution_count": 68,
   "id": "bigger-effects",
   "metadata": {},
   "outputs": [
    {
     "data": {
      "image/png": "[encoded data removed]",
      "text/plain": [
       "<Figure size 432x288 with 1 Axes>"
      ]
     },
     "metadata": {
      "needs_background": "light"
     },
     "output_type": "display_data"
    }
   ],
   "source": [
    "plt.plot(hist.history['accuracy'])\n",
    "plt.show()"
   ]
  },
  {
   "cell_type": "markdown",
   "id": "french-glass",
   "metadata": {},
   "source": [
    "# Step 5. 모델 평가하기\n",
    "Step 1에서 선택한 전처리 방법을 고려하여 입력된 문장에 대해서 대답을 얻는 예측 함수를 만듭니다."
   ]
  },
  {
   "cell_type": "markdown",
   "id": "forced-rendering",
   "metadata": {},
   "source": [
    "1. 새로운 입력 문장에 대해서는 훈련 때와 동일한 전처리를 거친다.\n",
    "2. 입력 문장을 토크나이징하고, START_TOKEN과 END_TOKEN을 추가한다.\n",
    "3. 패딩 마스킹과 룩 어헤드 마스킹을 계산한다.\n",
    "4. 디코더는 입력 시퀀스로부터 다음 단어를 예측한다.\n",
    "5. 디코더는 예측된 다음 단어를 기존의 입력 시퀀스에 추가하여 새로운 입력으로 사용한다.\n",
    "6. END_TOKEN이 예측되거나 문장의 최대 길이에 도달하면 디코더는 동작을 멈춘다.\n",
    "\n",
    "위의 과정을 모두 담은 decoder_inference() 함수를 만듭니다."
   ]
  },
  {
   "cell_type": "code",
   "execution_count": 45,
   "id": "solar-sunrise",
   "metadata": {},
   "outputs": [
    {
     "name": "stdout",
     "output_type": "stream",
     "text": [
      "슝=3\n"
     ]
    }
   ],
   "source": [
    "def decoder_inference(sentence):\n",
    "    sentence = preprocess_sentence(sentence)\n",
    "    \n",
    "    # 입력된 문장을 정수 인코딩 후, 시작 토큰과 종료 토큰을 앞뒤로 추가.\n",
    "    # ex) Where have you been? → [[8331   86   30    5 1059    7 8332]]\n",
    "    sentence = tf.expand_dims(START_TOKEN + tokenizer.encode(sentence) + END_TOKEN, axis=0)\n",
    "    \n",
    "    # 디코더의 현재까지의 예측한 출력 시퀀스가 지속적으로 저장되는 변수.\n",
    "    # 처음에는 예측한 내용이 없음으로 시작 토큰만 별도 저장. ex) 8331\n",
    "    output_sequence = tf.expand_dims(START_TOKEN, 0)\n",
    "    \n",
    "    # 디코더의 인퍼런스 단계\n",
    "    for i in range(MAX_LENGTH):\n",
    "        # 디코더는 최대 MAX_LENGTH의 길이만큼 다음 단어 예측을 반복합니다.\n",
    "        predictions = model(inputs=[sentence, output_sequence], training=False)\n",
    "        predictions = predictions[:, -1:, :]\n",
    "        \n",
    "        # 현재 예측한 단어의 정수\n",
    "        predicted_id = tf.cast(tf.argmax(predictions, axis=-1), tf.int32)\n",
    "        \n",
    "        # 만약 현재 예측한 단어가 종료 토큰이라면 for문을 종료\n",
    "        if tf.equal(predicted_id, END_TOKEN[0]):\n",
    "            break\n",
    "            \n",
    "        # 예측한 단어들은 지속적으로 output_sequence에 추가됩니다.\n",
    "        # 이 output_sequence는 다시 디코더의 입력이 됩니다.\n",
    "        output_sequence = tf.concat([output_sequence, predicted_id], axis=-1)\n",
    "        \n",
    "        \n",
    "    return tf.squeeze(output_sequence, axis=0)\n",
    "    \n",
    "print(\"슝=3\")"
   ]
  },
  {
   "cell_type": "markdown",
   "id": "female-island",
   "metadata": {},
   "source": [
    "임의의 입력 문장에 대해서 decoder_inference() 함수를 호출하여 챗봇의 대답을 얻는 sentence_generation() 함수를 만듭니다."
   ]
  },
  {
   "cell_type": "code",
   "execution_count": 76,
   "id": "crude-devon",
   "metadata": {
    "scrolled": true
   },
   "outputs": [
    {
     "name": "stdout",
     "output_type": "stream",
     "text": [
      "슝=3\n"
     ]
    }
   ],
   "source": [
    "def sentence_generation(sentence):\n",
    "    # 입력 문장에 대해서 디코더를 동작 시켜 예측된 정수 시퀀스를 리턴받습니다.\n",
    "    prediction = decoder_inference(sentence)\n",
    "    \n",
    "    # 정수 시퀀스를 다시 텍스트 시퀀스로 변환합니다.\n",
    "    predicted_sentence = tokenizer.decode([i for i in prediction if i < tokenizer.vocab_size])\n",
    "    \n",
    "    print('입력 : {}'.format(sentence))\n",
    "    print('출력 : {}'.format(predicted_sentence))\n",
    "    \n",
    "    return predicted_sentence\n",
    "print(\"슝=3\")"
   ]
  },
  {
   "cell_type": "code",
   "execution_count": 47,
   "id": "warming-portuguese",
   "metadata": {},
   "outputs": [
    {
     "name": "stdout",
     "output_type": "stream",
     "text": [
      "입력 : 재밌다\n",
      "출력 : 저랑 놀아요.\n"
     ]
    },
    {
     "data": {
      "text/plain": [
       "'저랑 놀아요.'"
      ]
     },
     "execution_count": 47,
     "metadata": {},
     "output_type": "execute_result"
    }
   ],
   "source": [
    "sentence_generation('재밌다')"
   ]
  },
  {
   "cell_type": "code",
   "execution_count": 48,
   "id": "romantic-compound",
   "metadata": {},
   "outputs": [
    {
     "name": "stdout",
     "output_type": "stream",
     "text": [
      "입력 : 배고프다.\n",
      "출력 : 힘내지 않아도 괜찮아요.\n"
     ]
    },
    {
     "data": {
      "text/plain": [
       "'힘내지 않아도 괜찮아요.'"
      ]
     },
     "execution_count": 48,
     "metadata": {},
     "output_type": "execute_result"
    }
   ],
   "source": [
    "sentence_generation('배고프다.')"
   ]
  },
  {
   "cell_type": "code",
   "execution_count": 50,
   "id": "handled-category",
   "metadata": {},
   "outputs": [
    {
     "name": "stdout",
     "output_type": "stream",
     "text": [
      "입력 : 나랑 별 보러 가지 않을래?.\n",
      "출력 : 조금만 아팠으면 좋겠어요.\n"
     ]
    },
    {
     "data": {
      "text/plain": [
       "'조금만 아팠으면 좋겠어요.'"
      ]
     },
     "execution_count": 50,
     "metadata": {},
     "output_type": "execute_result"
    }
   ],
   "source": [
    "sentence_generation('나랑 별 보러 가지 않을래?.')"
   ]
  },
  {
   "cell_type": "code",
   "execution_count": 51,
   "id": "round-union",
   "metadata": {},
   "outputs": [
    {
     "name": "stdout",
     "output_type": "stream",
     "text": [
      "입력 : 요즘 너무 추워\n",
      "출력 : 저랑 놀아요.\n"
     ]
    },
    {
     "data": {
      "text/plain": [
       "'저랑 놀아요.'"
      ]
     },
     "execution_count": 51,
     "metadata": {},
     "output_type": "execute_result"
    }
   ],
   "source": [
    "sentence_generation('요즘 너무 추워')"
   ]
  },
  {
   "cell_type": "code",
   "execution_count": 52,
   "id": "mineral-delta",
   "metadata": {
    "scrolled": true
   },
   "outputs": [
    {
     "name": "stdout",
     "output_type": "stream",
     "text": [
      "입력 : 인공지능은 어려워\n",
      "출력 : 저랑 놀아요.\n"
     ]
    },
    {
     "data": {
      "text/plain": [
       "'저랑 놀아요.'"
      ]
     },
     "execution_count": 52,
     "metadata": {},
     "output_type": "execute_result"
    }
   ],
   "source": [
    "sentence_generation('인공지능은 어려워')"
   ]
  },
  {
   "cell_type": "code",
   "execution_count": 70,
   "id": "informal-memphis",
   "metadata": {},
   "outputs": [
    {
     "name": "stdout",
     "output_type": "stream",
     "text": [
      "Epoch 1/100\n",
      "185/185 [==============================] - 9s 51ms/step - loss: 0.0012 - accuracy: 0.1745\n",
      "Epoch 2/100\n",
      "185/185 [==============================] - 9s 50ms/step - loss: 0.0012 - accuracy: 0.1745\n",
      "Epoch 3/100\n",
      "185/185 [==============================] - 9s 51ms/step - loss: 0.0011 - accuracy: 0.1745\n",
      "Epoch 4/100\n",
      "185/185 [==============================] - 9s 50ms/step - loss: 0.0012 - accuracy: 0.1745\n",
      "Epoch 5/100\n",
      "185/185 [==============================] - 9s 51ms/step - loss: 0.0012 - accuracy: 0.1745\n",
      "Epoch 6/100\n",
      "185/185 [==============================] - 9s 51ms/step - loss: 0.0011 - accuracy: 0.1745\n",
      "Epoch 7/100\n",
      "185/185 [==============================] - 9s 50ms/step - loss: 0.0011 - accuracy: 0.1745\n",
      "Epoch 8/100\n",
      "185/185 [==============================] - 9s 51ms/step - loss: 0.0010 - accuracy: 0.1745\n",
      "Epoch 9/100\n",
      "185/185 [==============================] - 10s 51ms/step - loss: 9.5133e-04 - accuracy: 0.1745\n",
      "Epoch 10/100\n",
      "185/185 [==============================] - 10s 53ms/step - loss: 9.2343e-04 - accuracy: 0.1746\n",
      "Epoch 11/100\n",
      "185/185 [==============================] - 9s 51ms/step - loss: 9.8888e-04 - accuracy: 0.1746\n",
      "Epoch 12/100\n",
      "185/185 [==============================] - 10s 54ms/step - loss: 0.0010 - accuracy: 0.1745\n",
      "Epoch 13/100\n",
      "185/185 [==============================] - 11s 58ms/step - loss: 9.3952e-04 - accuracy: 0.1746\n",
      "Epoch 14/100\n",
      "185/185 [==============================] - 11s 58ms/step - loss: 8.7802e-04 - accuracy: 0.1745\n",
      "Epoch 15/100\n",
      "185/185 [==============================] - 10s 54ms/step - loss: 0.0011 - accuracy: 0.1745\n",
      "Epoch 16/100\n",
      "185/185 [==============================] - 10s 53ms/step - loss: 9.3786e-04 - accuracy: 0.1745\n",
      "Epoch 17/100\n",
      "185/185 [==============================] - 10s 53ms/step - loss: 9.8316e-04 - accuracy: 0.1746\n",
      "Epoch 18/100\n",
      "185/185 [==============================] - 10s 53ms/step - loss: 9.4452e-04 - accuracy: 0.1746\n",
      "Epoch 19/100\n",
      "185/185 [==============================] - 10s 53ms/step - loss: 8.8783e-04 - accuracy: 0.1745\n",
      "Epoch 20/100\n",
      "185/185 [==============================] - 10s 53ms/step - loss: 9.8917e-04 - accuracy: 0.1745\n",
      "Epoch 21/100\n",
      "185/185 [==============================] - 10s 53ms/step - loss: 9.2438e-04 - accuracy: 0.1745\n",
      "Epoch 22/100\n",
      "185/185 [==============================] - 10s 53ms/step - loss: 8.9806e-04 - accuracy: 0.1745\n",
      "Epoch 23/100\n",
      "185/185 [==============================] - 10s 53ms/step - loss: 8.8442e-04 - accuracy: 0.1746\n",
      "Epoch 24/100\n",
      "185/185 [==============================] - 10s 53ms/step - loss: 8.4805e-04 - accuracy: 0.1745\n",
      "Epoch 25/100\n",
      "185/185 [==============================] - 10s 53ms/step - loss: 8.5481e-04 - accuracy: 0.1746\n",
      "Epoch 26/100\n",
      "185/185 [==============================] - 10s 53ms/step - loss: 8.8691e-04 - accuracy: 0.1745\n",
      "Epoch 27/100\n",
      "185/185 [==============================] - 10s 54ms/step - loss: 8.2156e-04 - accuracy: 0.1746\n",
      "Epoch 28/100\n",
      "185/185 [==============================] - 10s 53ms/step - loss: 8.0960e-04 - accuracy: 0.1746\n",
      "Epoch 29/100\n",
      "185/185 [==============================] - 10s 54ms/step - loss: 7.9005e-04 - accuracy: 0.1746\n",
      "Epoch 30/100\n",
      "185/185 [==============================] - 10s 53ms/step - loss: 8.4157e-04 - accuracy: 0.1746\n",
      "Epoch 31/100\n",
      "185/185 [==============================] - 10s 54ms/step - loss: 8.4668e-04 - accuracy: 0.1746\n",
      "Epoch 32/100\n",
      "185/185 [==============================] - 10s 53ms/step - loss: 8.8592e-04 - accuracy: 0.1746\n",
      "Epoch 33/100\n",
      "185/185 [==============================] - 10s 54ms/step - loss: 9.0516e-04 - accuracy: 0.1745\n",
      "Epoch 34/100\n",
      "185/185 [==============================] - 10s 54ms/step - loss: 0.0010 - accuracy: 0.1745\n",
      "Epoch 35/100\n",
      "185/185 [==============================] - 10s 54ms/step - loss: 8.1856e-04 - accuracy: 0.1746\n",
      "Epoch 36/100\n",
      "185/185 [==============================] - 10s 55ms/step - loss: 8.1080e-04 - accuracy: 0.1745\n",
      "Epoch 37/100\n",
      "185/185 [==============================] - 11s 59ms/step - loss: 7.3625e-04 - accuracy: 0.1746\n",
      "Epoch 38/100\n",
      "185/185 [==============================] - 10s 56ms/step - loss: 8.0583e-04 - accuracy: 0.1746\n",
      "Epoch 39/100\n",
      "185/185 [==============================] - 11s 59ms/step - loss: 7.6575e-04 - accuracy: 0.1746\n",
      "Epoch 40/100\n",
      "185/185 [==============================] - 10s 53ms/step - loss: 8.4853e-04 - accuracy: 0.1746\n",
      "Epoch 41/100\n",
      "185/185 [==============================] - 10s 52ms/step - loss: 7.3022e-04 - accuracy: 0.1746\n",
      "Epoch 42/100\n",
      "185/185 [==============================] - 10s 54ms/step - loss: 7.1651e-04 - accuracy: 0.1746\n",
      "Epoch 43/100\n",
      "185/185 [==============================] - 10s 53ms/step - loss: 7.5711e-04 - accuracy: 0.1746\n",
      "Epoch 44/100\n",
      "185/185 [==============================] - 9s 51ms/step - loss: 7.8651e-04 - accuracy: 0.1746\n",
      "Epoch 45/100\n",
      "185/185 [==============================] - 9s 51ms/step - loss: 7.4142e-04 - accuracy: 0.1746\n",
      "Epoch 46/100\n",
      "185/185 [==============================] - 9s 49ms/step - loss: 6.9718e-04 - accuracy: 0.1746\n",
      "Epoch 47/100\n",
      "185/185 [==============================] - 9s 49ms/step - loss: 7.3882e-04 - accuracy: 0.1746\n",
      "Epoch 48/100\n",
      "185/185 [==============================] - 9s 49ms/step - loss: 7.3894e-04 - accuracy: 0.1746\n",
      "Epoch 49/100\n",
      "185/185 [==============================] - 9s 49ms/step - loss: 6.7783e-04 - accuracy: 0.1746\n",
      "Epoch 50/100\n",
      "185/185 [==============================] - 9s 49ms/step - loss: 8.1401e-04 - accuracy: 0.1746\n",
      "Epoch 51/100\n",
      "185/185 [==============================] - 9s 49ms/step - loss: 7.7686e-04 - accuracy: 0.1746\n",
      "Epoch 52/100\n",
      "185/185 [==============================] - 9s 49ms/step - loss: 9.7016e-04 - accuracy: 0.1746\n",
      "Epoch 53/100\n",
      "185/185 [==============================] - 9s 49ms/step - loss: 7.8179e-04 - accuracy: 0.1746\n",
      "Epoch 54/100\n",
      "185/185 [==============================] - 9s 49ms/step - loss: 8.0864e-04 - accuracy: 0.1746\n",
      "Epoch 55/100\n",
      "185/185 [==============================] - 9s 48ms/step - loss: 7.3148e-04 - accuracy: 0.1745\n",
      "Epoch 56/100\n",
      "185/185 [==============================] - 9s 48ms/step - loss: 7.5542e-04 - accuracy: 0.1746\n",
      "Epoch 57/100\n",
      "185/185 [==============================] - 9s 48ms/step - loss: 7.1719e-04 - accuracy: 0.1746\n",
      "Epoch 58/100\n",
      "185/185 [==============================] - 9s 48ms/step - loss: 7.0976e-04 - accuracy: 0.1746\n",
      "Epoch 59/100\n",
      "185/185 [==============================] - 9s 48ms/step - loss: 7.7557e-04 - accuracy: 0.1746\n",
      "Epoch 60/100\n",
      "185/185 [==============================] - 9s 48ms/step - loss: 7.3687e-04 - accuracy: 0.1746\n",
      "Epoch 61/100\n",
      "185/185 [==============================] - 9s 48ms/step - loss: 8.7897e-04 - accuracy: 0.1746\n",
      "Epoch 62/100\n",
      "185/185 [==============================] - 9s 49ms/step - loss: 7.0252e-04 - accuracy: 0.1746\n",
      "Epoch 63/100\n",
      "185/185 [==============================] - 9s 49ms/step - loss: 7.6535e-04 - accuracy: 0.1746\n",
      "Epoch 64/100\n",
      "185/185 [==============================] - 9s 49ms/step - loss: 7.5677e-04 - accuracy: 0.1746\n",
      "Epoch 65/100\n",
      "185/185 [==============================] - 9s 48ms/step - loss: 7.2533e-04 - accuracy: 0.1746\n",
      "Epoch 66/100\n",
      "185/185 [==============================] - 9s 48ms/step - loss: 7.2271e-04 - accuracy: 0.1746\n",
      "Epoch 67/100\n",
      "185/185 [==============================] - 9s 48ms/step - loss: 8.6890e-04 - accuracy: 0.1746\n",
      "Epoch 68/100\n",
      "185/185 [==============================] - 9s 48ms/step - loss: 7.2462e-04 - accuracy: 0.1746\n",
      "Epoch 69/100\n",
      "185/185 [==============================] - 9s 48ms/step - loss: 6.5309e-04 - accuracy: 0.1746\n",
      "Epoch 70/100\n",
      "185/185 [==============================] - 9s 48ms/step - loss: 6.8095e-04 - accuracy: 0.1746\n",
      "Epoch 71/100\n",
      "185/185 [==============================] - 9s 49ms/step - loss: 7.6248e-04 - accuracy: 0.1746\n",
      "Epoch 72/100\n",
      "185/185 [==============================] - 9s 48ms/step - loss: 6.6206e-04 - accuracy: 0.1746\n",
      "Epoch 73/100\n",
      "185/185 [==============================] - 9s 48ms/step - loss: 7.1239e-04 - accuracy: 0.1746\n",
      "Epoch 74/100\n",
      "185/185 [==============================] - 9s 48ms/step - loss: 7.4813e-04 - accuracy: 0.1746\n",
      "Epoch 75/100\n",
      "185/185 [==============================] - 9s 48ms/step - loss: 7.3878e-04 - accuracy: 0.1746\n",
      "Epoch 76/100\n",
      "185/185 [==============================] - 9s 48ms/step - loss: 7.8734e-04 - accuracy: 0.1746\n",
      "Epoch 77/100\n",
      "185/185 [==============================] - 9s 48ms/step - loss: 7.6947e-04 - accuracy: 0.1746\n",
      "Epoch 78/100\n",
      "185/185 [==============================] - 9s 48ms/step - loss: 6.5879e-04 - accuracy: 0.1746\n",
      "Epoch 79/100\n",
      "185/185 [==============================] - 9s 48ms/step - loss: 6.4174e-04 - accuracy: 0.1746\n",
      "Epoch 80/100\n",
      "185/185 [==============================] - 9s 48ms/step - loss: 6.2423e-04 - accuracy: 0.1746\n",
      "Epoch 81/100\n",
      "185/185 [==============================] - 9s 49ms/step - loss: 6.6301e-04 - accuracy: 0.1746\n",
      "Epoch 82/100\n",
      "185/185 [==============================] - 9s 48ms/step - loss: 5.8308e-04 - accuracy: 0.1746\n",
      "Epoch 83/100\n",
      "185/185 [==============================] - 9s 48ms/step - loss: 6.9848e-04 - accuracy: 0.1746\n",
      "Epoch 84/100\n",
      "185/185 [==============================] - 9s 49ms/step - loss: 6.2040e-04 - accuracy: 0.1746\n",
      "Epoch 85/100\n",
      "185/185 [==============================] - 9s 48ms/step - loss: 6.6893e-04 - accuracy: 0.1746\n",
      "Epoch 86/100\n",
      "185/185 [==============================] - 9s 48ms/step - loss: 6.4130e-04 - accuracy: 0.1746\n",
      "Epoch 87/100\n",
      "185/185 [==============================] - 9s 49ms/step - loss: 6.5276e-04 - accuracy: 0.1746\n",
      "Epoch 88/100\n",
      "185/185 [==============================] - 9s 48ms/step - loss: 6.8971e-04 - accuracy: 0.1746\n",
      "Epoch 89/100\n",
      "185/185 [==============================] - 9s 49ms/step - loss: 7.7192e-04 - accuracy: 0.1746\n",
      "Epoch 90/100\n",
      "185/185 [==============================] - 9s 48ms/step - loss: 7.7010e-04 - accuracy: 0.1746\n",
      "Epoch 91/100\n",
      "185/185 [==============================] - 9s 48ms/step - loss: 6.8511e-04 - accuracy: 0.1746\n",
      "Epoch 92/100\n",
      "185/185 [==============================] - 9s 48ms/step - loss: 6.3067e-04 - accuracy: 0.1746\n",
      "Epoch 93/100\n",
      "185/185 [==============================] - 9s 48ms/step - loss: 7.0532e-04 - accuracy: 0.1746\n",
      "Epoch 94/100\n",
      "185/185 [==============================] - 9s 48ms/step - loss: 6.3617e-04 - accuracy: 0.1746\n",
      "Epoch 95/100\n",
      "185/185 [==============================] - 9s 48ms/step - loss: 6.7916e-04 - accuracy: 0.1746\n",
      "Epoch 96/100\n",
      "185/185 [==============================] - 9s 49ms/step - loss: 7.1568e-04 - accuracy: 0.1746\n",
      "Epoch 97/100\n",
      "185/185 [==============================] - 9s 48ms/step - loss: 7.0407e-04 - accuracy: 0.1746\n",
      "Epoch 98/100\n",
      "185/185 [==============================] - 9s 48ms/step - loss: 6.4292e-04 - accuracy: 0.1746\n",
      "Epoch 99/100\n",
      "185/185 [==============================] - 10s 53ms/step - loss: 6.0046e-04 - accuracy: 0.1746\n",
      "Epoch 100/100\n",
      "185/185 [==============================] - 10s 54ms/step - loss: 6.0377e-04 - accuracy: 0.1746\n"
     ]
    }
   ],
   "source": [
    "EPOCHS = 100\n",
    "hist = model.fit(dataset, epochs=EPOCHS, verbose=1)"
   ]
  },
  {
   "cell_type": "code",
   "execution_count": 71,
   "id": "abroad-indication",
   "metadata": {},
   "outputs": [
    {
     "name": "stdout",
     "output_type": "stream",
     "text": [
      "입력 : 재밌다\n",
      "출력 : 지금 무슨 말을 해도 와닿지 않겠지만 잘 이겨낼 거라 믿어요.\n"
     ]
    },
    {
     "data": {
      "text/plain": [
       "'지금 무슨 말을 해도 와닿지 않겠지만 잘 이겨낼 거라 믿어요.'"
      ]
     },
     "execution_count": 71,
     "metadata": {},
     "output_type": "execute_result"
    }
   ],
   "source": [
    "sentence_generation('재밌다')"
   ]
  },
  {
   "cell_type": "code",
   "execution_count": 72,
   "id": "special-andorra",
   "metadata": {},
   "outputs": [
    {
     "name": "stdout",
     "output_type": "stream",
     "text": [
      "입력 : 힘들다\n",
      "출력 : 지금 무슨 말을 해도 와닿지 않겠지만 잘 이겨낼 거라 믿어요.\n"
     ]
    },
    {
     "data": {
      "text/plain": [
       "'지금 무슨 말을 해도 와닿지 않겠지만 잘 이겨낼 거라 믿어요.'"
      ]
     },
     "execution_count": 72,
     "metadata": {},
     "output_type": "execute_result"
    }
   ],
   "source": [
    "sentence_generation('힘들다')"
   ]
  },
  {
   "cell_type": "code",
   "execution_count": 73,
   "id": "ceramic-league",
   "metadata": {},
   "outputs": [
    {
     "name": "stdout",
     "output_type": "stream",
     "text": [
      "입력 : 배고프다\n",
      "출력 : 지금 무슨 말을 해도 와닿지 않겠지만 잘 이겨낼 거라 믿어요.\n"
     ]
    },
    {
     "data": {
      "text/plain": [
       "'지금 무슨 말을 해도 와닿지 않겠지만 잘 이겨낼 거라 믿어요.'"
      ]
     },
     "execution_count": 73,
     "metadata": {},
     "output_type": "execute_result"
    }
   ],
   "source": [
    "sentence_generation('배고프다')"
   ]
  },
  {
   "cell_type": "code",
   "execution_count": 77,
   "id": "positive-injection",
   "metadata": {},
   "outputs": [
    {
     "name": "stdout",
     "output_type": "stream",
     "text": [
      "입력 : 하늘이 예쁘다\n",
      "출력 : 지금 무슨 말을 해도 와닿지 않겠지만 잘 이겨낼 거라 믿어요.\n"
     ]
    },
    {
     "data": {
      "text/plain": [
       "'지금 무슨 말을 해도 와닿지 않겠지만 잘 이겨낼 거라 믿어요.'"
      ]
     },
     "execution_count": 77,
     "metadata": {},
     "output_type": "execute_result"
    }
   ],
   "source": [
    "sentence_generation('하늘이 예쁘다')"
   ]
  },
  {
   "cell_type": "code",
   "execution_count": 75,
   "id": "congressional-honey",
   "metadata": {},
   "outputs": [
    {
     "data": {
      "image/png": "[encoded data removed]",
      "text/plain": [
       "<Figure size 432x288 with 1 Axes>"
      ]
     },
     "metadata": {
      "needs_background": "light"
     },
     "output_type": "display_data"
    }
   ],
   "source": [
    "plt.plot(hist.history['loss'])\n",
    "plt.show()"
   ]
  },
  {
   "cell_type": "code",
   "execution_count": 74,
   "id": "liked-thread",
   "metadata": {},
   "outputs": [
    {
     "data": {
      "image/png": "[encoded data removed]",
      "text/plain": [
       "<Figure size 432x288 with 1 Axes>"
      ]
     },
     "metadata": {
      "needs_background": "light"
     },
     "output_type": "display_data"
    }
   ],
   "source": [
    "plt.plot(hist.history['accuracy'])\n",
    "plt.show()"
   ]
  },
  {
   "cell_type": "markdown",
   "id": "miniature-details",
   "metadata": {},
   "source": [
    "# 총평"
   ]
  },
  {
   "cell_type": "markdown",
   "id": "killing-vinyl",
   "metadata": {},
   "source": [
    "1. 한국어 전처리를 통해 학습 데이터셋을 구축하였다.\n",
    "공백과 특수문자 처리, 토크나이징, 병렬데이터 구축의 과정이 적절히 진행되었다.\n",
    "\n",
    "2. 트랜스포머 모델을 구현하여 한국어 챗봇 모델 학습을 정상적으로 진행하였다.\n",
    "구현한 트랜스포머 모델이 한국어 병렬 데이터 학습 시 안정적으로 수렴하였다.\n",
    "\n",
    "3. 한국어 입력문장에 대해 한국어로 답변하는 함수를 구현하였다.\n",
    "한국어 입력문장에 그럴듯한 한국어로 답변을 리턴하였다.\n"
   ]
  },
  {
   "cell_type": "markdown",
   "id": "choice-cemetery",
   "metadata": {},
   "source": [
    "처음으로 파이썬에서 그래프 배운 것을 찾아서 활용해봤는데 저게 맞는지는 모르겠다. 모델 훈련 과정을 그래프로 보니 epoch가 올라갈수록 점점 loss는 낮아지는 것이 보였다. 그래서 epoch를 100까지 해보니 acc는 증가하지 않았다.   \n",
    "한국어로 입력문장에 대해선 제대로 된 답변을 보이지 않았고 질문에 같은 대답을 하는 경우가 많았다. 100번을 돌리니 계속 같은 대답만 나온다. 뭐가 잘못된 것 같은데.. 뭐가 잘못된 것인지는 잘 모르겠다. "
   ]
  }
 ],
 "metadata": {
  "kernelspec": {
   "display_name": "aiffel",
   "language": "python",
   "name": "aiffel"
  },
  "language_info": {
   "codemirror_mode": {
    "name": "ipython",
    "version": 3
   },
   "file_extension": ".py",
   "mimetype": "text/x-python",
   "name": "python",
   "nbconvert_exporter": "python",
   "pygments_lexer": "ipython3",
   "version": "3.7.9"
  }
 },
 "nbformat": 4,
 "nbformat_minor": 5
}
