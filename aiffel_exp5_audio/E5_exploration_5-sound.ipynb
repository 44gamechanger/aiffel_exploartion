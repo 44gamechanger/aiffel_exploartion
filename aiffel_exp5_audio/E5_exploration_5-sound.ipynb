{
 "cells": [
  {
   "cell_type": "markdown",
   "id": "equipped-practitioner",
   "metadata": {},
   "source": [
    "# 데이터 불러오기"
   ]
  },
  {
   "cell_type": "code",
   "execution_count": 1,
   "id": "accepting-barbados",
   "metadata": {},
   "outputs": [
    {
     "name": "stdout",
     "output_type": "stream",
     "text": [
      "✅\n"
     ]
    }
   ],
   "source": [
    "import numpy as np\n",
    "import os\n",
    "\n",
    "data_path = os.getenv(\"HOME\")+'/aiffel/aiffel_exp5_audio/speech_recognition/data/speech_wav_8000.npz'\n",
    "speech_data = np.load(data_path)\n",
    "\n",
    "print(\"✅\")"
   ]
  },
  {
   "cell_type": "code",
   "execution_count": 2,
   "id": "severe-level",
   "metadata": {},
   "outputs": [
    {
     "name": "stdout",
     "output_type": "stream",
     "text": [
      "rand num :  18398\n",
      "Wave data shape :  (8000,)\n",
      "label :  ['up']\n"
     ]
    },
    {
     "data": {
      "text/html": [
       "\n",
       "                <audio  controls=\"controls\" >\n",
       "                    <source src=\"data:audio/wav;base64,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\" type=\"audio/wav\" />\n",
       "                    Your browser does not support the audio element.\n",
       "                </audio>\n",
       "              "
      ],
      "text/plain": [
       "<IPython.lib.display.Audio object>"
      ]
     },
     "execution_count": 2,
     "metadata": {},
     "output_type": "execute_result"
    }
   ],
   "source": [
    "import IPython.display as ipd\n",
    "import random\n",
    "\n",
    "# 데이터 선택 (랜덤하게 선택하고 있으니, 여러번 실행해 보세요)\n",
    "rand = random.randint(0, len(speech_data[\"wav_vals\"]))\n",
    "print(\"rand num : \", rand)\n",
    "\n",
    "sr = 8000 # 1초동안 재생되는 샘플의 갯수\n",
    "data = speech_data[\"wav_vals\"][rand]\n",
    "print(\"Wave data shape : \", data.shape)\n",
    "print(\"label : \", speech_data[\"label_vals\"][rand])\n",
    "\n",
    "ipd.Audio(data, rate=sr)"
   ]
  },
  {
   "cell_type": "markdown",
   "id": "charged-silicon",
   "metadata": {},
   "source": [
    "# 라벨 데이터 처리"
   ]
  },
  {
   "cell_type": "code",
   "execution_count": 3,
   "id": "broken-forth",
   "metadata": {},
   "outputs": [
    {
     "name": "stdout",
     "output_type": "stream",
     "text": [
      "LABEL :  ['yes', 'no', 'up', 'down', 'left', 'right', 'on', 'off', 'stop', 'go', 'unknown', 'silence']\n",
      "Indexed LABEL :  {'yes': 0, 'no': 1, 'up': 2, 'down': 3, 'left': 4, 'right': 5, 'on': 6, 'off': 7, 'stop': 8, 'go': 9, 'unknown': 10, 'silence': 11}\n"
     ]
    }
   ],
   "source": [
    "# 학습에 사용하기 위해 text로 이루어진 라벨 데이터 index형태로 변환\n",
    "target_list = ['yes', 'no', 'up', 'down', 'left', 'right', 'on', 'off', 'stop', 'go']\n",
    "\n",
    "label_value = target_list\n",
    "label_value.append('unknown')\n",
    "label_value.append('silence')\n",
    "\n",
    "print('LABEL : ', label_value)\n",
    "\n",
    "new_label_value = dict()\n",
    "for i, l in enumerate(label_value):\n",
    "    new_label_value[l] = i\n",
    "label_value = new_label_value\n",
    "\n",
    "print('Indexed LABEL : ', new_label_value)"
   ]
  },
  {
   "cell_type": "markdown",
   "id": "second-stamp",
   "metadata": {},
   "source": [
    "# int로 이뤄진 index작업을 통해 label data를 더 쉽게 사용 가능"
   ]
  },
  {
   "cell_type": "code",
   "execution_count": 4,
   "id": "smoking-adjustment",
   "metadata": {},
   "outputs": [
    {
     "data": {
      "text/plain": [
       "array([ 3,  3,  3, ..., 11, 11, 11])"
      ]
     },
     "execution_count": 4,
     "metadata": {},
     "output_type": "execute_result"
    }
   ],
   "source": [
    "temp = []\n",
    "for v in speech_data[\"label_vals\"]:\n",
    "    temp.append(label_value[v[0]])\n",
    "label_data = np.array(temp)\n",
    "\n",
    "label_data"
   ]
  },
  {
   "cell_type": "markdown",
   "id": "cleared-lying",
   "metadata": {},
   "source": [
    "# 학습을 위한 데이터 분리"
   ]
  },
  {
   "cell_type": "code",
   "execution_count": 5,
   "id": "handy-efficiency",
   "metadata": {},
   "outputs": [
    {
     "name": "stdout",
     "output_type": "stream",
     "text": [
      "[[-1.3480627e-03 -3.0887211e-03 -3.7198574e-03 ... -3.6327117e-03\n",
      "  -2.8507612e-03 -3.5303112e-03]\n",
      " [-3.6799433e-05 -1.3772954e-04 -2.1407851e-04 ...  2.7127398e-04\n",
      "   2.3606526e-04  2.3714842e-04]\n",
      " [ 3.2021098e-03  4.5678220e-03 -3.3242512e-05 ...  2.1530204e-03\n",
      "   1.7275357e-03 -2.1728419e-03]\n",
      " ...\n",
      " [-9.9568290e-04 -4.8882631e-04  8.5403101e-04 ... -1.1043933e-02\n",
      "  -1.0444577e-02 -1.1114695e-02]\n",
      " [-5.7979491e-05 -1.2326159e-04 -1.9964203e-04 ... -6.8713598e-05\n",
      "  -5.4574710e-05 -6.6065120e-05]\n",
      " [ 9.1296051e-06  1.0309958e-05 -3.8449930e-06 ...  3.9935881e-06\n",
      "   3.0000174e-05 -2.4220519e-05]]\n",
      "✅\n"
     ]
    }
   ],
   "source": [
    "# skelarn의 train_test_split 함수를 통해 train_data와 test_data분리  \n",
    "# test_size 인자를 조절해주면 설정해준 값 만큼 test dataset 비율 조정 가능\n",
    "from sklearn.model_selection import train_test_split\n",
    "\n",
    "sr = 8000\n",
    "train_wav, test_wav, train_label, test_label = train_test_split(speech_data[\"wav_vals\"], \n",
    "                                                                label_data, \n",
    "                                                                test_size=0.1,\n",
    "                                                                shuffle=True)\n",
    "print(train_wav)\n",
    "\n",
    "train_wav = train_wav.reshape([-1, sr, 1]) # add channel for CNN\n",
    "test_wav = test_wav.reshape([-1, sr, 1])\n",
    "print(\"✅\")"
   ]
  },
  {
   "cell_type": "markdown",
   "id": "specific-freeze",
   "metadata": {},
   "source": [
    "# 나눠진 데이터셋 확인"
   ]
  },
  {
   "cell_type": "code",
   "execution_count": 6,
   "id": "touched-pantyhose",
   "metadata": {},
   "outputs": [
    {
     "name": "stdout",
     "output_type": "stream",
     "text": [
      "train data :  (45558, 8000, 1)\n",
      "train labels :  (45558,)\n",
      "test data :  (5062, 8000, 1)\n",
      "test labels :  (5062,)\n",
      "✅\n"
     ]
    }
   ],
   "source": [
    "print(\"train data : \", train_wav.shape)\n",
    "print(\"train labels : \", train_label.shape)\n",
    "print(\"test data : \", test_wav.shape)\n",
    "print(\"test labels : \", test_label.shape)\n",
    "print(\"✅\")"
   ]
  },
  {
   "cell_type": "markdown",
   "id": "portuguese-equipment",
   "metadata": {},
   "source": [
    "# 하이퍼파라미터 설정"
   ]
  },
  {
   "cell_type": "code",
   "execution_count": 7,
   "id": "cutting-holder",
   "metadata": {},
   "outputs": [
    {
     "data": {
      "text/plain": [
       "'/home/aiffel-dj47/aiffel/aiffel_exp5_audio/speech_recognition/models/wav'"
      ]
     },
     "execution_count": 7,
     "metadata": {},
     "output_type": "execute_result"
    }
   ],
   "source": [
    "batch_size = 32\n",
    "max_epochs = 10\n",
    "\n",
    "# the save point\n",
    "checkpoint_dir = os.getenv('HOME')+'/aiffel/aiffel_exp5_audio/speech_recognition/models/wav'\n",
    "\n",
    "checkpoint_dir"
   ]
  },
  {
   "cell_type": "markdown",
   "id": "unique-technique",
   "metadata": {},
   "source": [
    "# map함수에 넘겨줄 데이터 전처리 함수 작성"
   ]
  },
  {
   "cell_type": "code",
   "execution_count": 8,
   "id": "distant-saver",
   "metadata": {},
   "outputs": [
    {
     "name": "stdout",
     "output_type": "stream",
     "text": [
      "✅\n"
     ]
    }
   ],
   "source": [
    "def one_hot_label(wav, label):\n",
    "    label = tf.one_hot(label, depth=12)\n",
    "    return wav, label\n",
    "print(\"✅\")"
   ]
  },
  {
   "cell_type": "markdown",
   "id": "intermediate-organizer",
   "metadata": {},
   "source": [
    "# tf.data.Dataset 함수 구성\n",
    "# batch는 dataset에서 제공하는 튜플 형태의 데이터를 얼마나 가져올지 결정하는 함수"
   ]
  },
  {
   "cell_type": "code",
   "execution_count": 9,
   "id": "nervous-minimum",
   "metadata": {},
   "outputs": [
    {
     "name": "stdout",
     "output_type": "stream",
     "text": [
      "<BatchDataset shapes: ((None, 8000, 1), (None, 12)), types: (tf.float32, tf.float32)>\n",
      "<BatchDataset shapes: ((None, 8000, 1), (None, 12)), types: (tf.float32, tf.float32)>\n",
      "✅\n"
     ]
    }
   ],
   "source": [
    "import tensorflow as tf\n",
    "\n",
    "# for train\n",
    "train_dataset = tf.data.Dataset.from_tensor_slices((train_wav, train_label))\n",
    "train_dataset = train_dataset.map(one_hot_label)\n",
    "train_dataset = train_dataset.repeat().batch(batch_size=batch_size)\n",
    "print(train_dataset)\n",
    "\n",
    "# for test\n",
    "test_dataset = tf.data.Dataset.from_tensor_slices((test_wav, test_label))\n",
    "test_dataset = test_dataset.map(one_hot_label)\n",
    "test_dataset = test_dataset.batch(batch_size=batch_size)\n",
    "print(test_dataset)\n",
    "print(\"✅\")"
   ]
  },
  {
   "cell_type": "code",
   "execution_count": null,
   "id": "acquired-mouth",
   "metadata": {},
   "outputs": [],
   "source": []
  },
  {
   "cell_type": "code",
   "execution_count": null,
   "id": "bronze-affairs",
   "metadata": {},
   "outputs": [],
   "source": []
  },
  {
   "cell_type": "markdown",
   "id": "protective-river",
   "metadata": {},
   "source": [
    "# 스펙토그램 생성"
   ]
  },
  {
   "cell_type": "code",
   "execution_count": 10,
   "id": "alpha-newspaper",
   "metadata": {},
   "outputs": [
    {
     "name": "stdout",
     "output_type": "stream",
     "text": [
      "✅\n"
     ]
    }
   ],
   "source": [
    "import librosa\n",
    "\n",
    "def wav2spec(wav, fft_size=258): # spectrogram shape을 맞추기위해서 size 변형\n",
    "    D = np.abs(librosa.stft(wav, n_fft=fft_size))\n",
    "    return D\n",
    "print(\"✅\")"
   ]
  },
  {
   "cell_type": "code",
   "execution_count": 11,
   "id": "packed-alberta",
   "metadata": {},
   "outputs": [
    {
     "name": "stdout",
     "output_type": "stream",
     "text": [
      "Waveform shape :  (8000,)\n",
      "Spectrogram shape :  (130, 126)\n"
     ]
    }
   ],
   "source": [
    "# 위에서 뽑았던 sample data\n",
    "spec = wav2spec(data)\n",
    "print(\"Waveform shape : \",data.shape)\n",
    "print(\"Spectrogram shape : \",spec.shape)"
   ]
  },
  {
   "cell_type": "code",
   "execution_count": 12,
   "id": "guided-number",
   "metadata": {},
   "outputs": [
    {
     "data": {
      "image/png": "[encoded data removed]",
      "text/plain": [
       "<Figure size 432x288 with 2 Axes>"
      ]
     },
     "metadata": {
      "needs_background": "light"
     },
     "output_type": "display_data"
    }
   ],
   "source": [
    "import matplotlib.pyplot as plt\n",
    "import librosa.display\n",
    "\n",
    "librosa.display.specshow(librosa.amplitude_to_db(spec, ref=np.max), x_axis='time')\n",
    "plt.title('Power spectrogram')\n",
    "plt.colorbar(format='%+2.0f dB')\n",
    "plt.xticks(range(0, 1))\n",
    "plt.tight_layout()\n",
    "plt.show()"
   ]
  },
  {
   "cell_type": "code",
   "execution_count": null,
   "id": "appreciated-tooth",
   "metadata": {},
   "outputs": [],
   "source": []
  },
  {
   "cell_type": "markdown",
   "id": "expired-trustee",
   "metadata": {},
   "source": [
    "# 5-4. Wave classification 모델 구현"
   ]
  },
  {
   "cell_type": "markdown",
   "id": "severe-harrison",
   "metadata": {},
   "source": [
    "## Model\n",
    "audio 데이터는 1차원 데이터이기 때문에 데이터 형식에 맞도록 모델을 구성해줘야 함  \n",
    "Conv1D layer이용해서 모델 구성\n",
    "Conv, batch norm, dropout, dense layer등을 이용해 모델 구성"
   ]
  },
  {
   "cell_type": "code",
   "execution_count": 13,
   "id": "furnished-billion",
   "metadata": {},
   "outputs": [
    {
     "name": "stdout",
     "output_type": "stream",
     "text": [
      "Model: \"model\"\n",
      "_________________________________________________________________\n",
      "Layer (type)                 Output Shape              Param #   \n",
      "=================================================================\n",
      "input_1 (InputLayer)         [(None, 8000, 1)]         0         \n",
      "_________________________________________________________________\n",
      "conv1d (Conv1D)              (None, 8000, 32)          320       \n",
      "_________________________________________________________________\n",
      "conv1d_1 (Conv1D)            (None, 8000, 32)          9248      \n",
      "_________________________________________________________________\n",
      "max_pooling1d (MaxPooling1D) (None, 4000, 32)          0         \n",
      "_________________________________________________________________\n",
      "conv1d_2 (Conv1D)            (None, 4000, 64)          18496     \n",
      "_________________________________________________________________\n",
      "conv1d_3 (Conv1D)            (None, 4000, 64)          36928     \n",
      "_________________________________________________________________\n",
      "max_pooling1d_1 (MaxPooling1 (None, 2000, 64)          0         \n",
      "_________________________________________________________________\n",
      "conv1d_4 (Conv1D)            (None, 2000, 128)         73856     \n",
      "_________________________________________________________________\n",
      "conv1d_5 (Conv1D)            (None, 2000, 128)         147584    \n",
      "_________________________________________________________________\n",
      "conv1d_6 (Conv1D)            (None, 2000, 128)         147584    \n",
      "_________________________________________________________________\n",
      "max_pooling1d_2 (MaxPooling1 (None, 1000, 128)         0         \n",
      "_________________________________________________________________\n",
      "conv1d_7 (Conv1D)            (None, 1000, 256)         295168    \n",
      "_________________________________________________________________\n",
      "conv1d_8 (Conv1D)            (None, 1000, 256)         590080    \n",
      "_________________________________________________________________\n",
      "conv1d_9 (Conv1D)            (None, 1000, 256)         590080    \n",
      "_________________________________________________________________\n",
      "max_pooling1d_3 (MaxPooling1 (None, 500, 256)          0         \n",
      "_________________________________________________________________\n",
      "dropout (Dropout)            (None, 500, 256)          0         \n",
      "_________________________________________________________________\n",
      "flatten (Flatten)            (None, 128000)            0         \n",
      "_________________________________________________________________\n",
      "dense (Dense)                (None, 256)               32768256  \n",
      "_________________________________________________________________\n",
      "batch_normalization (BatchNo (None, 256)               1024      \n",
      "_________________________________________________________________\n",
      "activation (Activation)      (None, 256)               0         \n",
      "_________________________________________________________________\n",
      "dense_1 (Dense)              (None, 12)                3084      \n",
      "=================================================================\n",
      "Total params: 34,681,708\n",
      "Trainable params: 34,681,196\n",
      "Non-trainable params: 512\n",
      "_________________________________________________________________\n"
     ]
    }
   ],
   "source": [
    "from tensorflow.keras import layers\n",
    "\n",
    "input_tensor = layers.Input(shape=(sr, 1))\n",
    "\n",
    "x = layers.Conv1D(32, 9, padding='same', activation='relu')(input_tensor)\n",
    "x = layers.Conv1D(32, 9, padding='same', activation='relu')(x)\n",
    "x = layers.MaxPool1D()(x)\n",
    "\n",
    "x = layers.Conv1D(64, 9, padding='same', activation='relu')(x)\n",
    "x = layers.Conv1D(64, 9, padding='same', activation='relu')(x)\n",
    "x = layers.MaxPool1D()(x)\n",
    "\n",
    "x = layers.Conv1D(128, 9, padding='same', activation='relu')(x)\n",
    "x = layers.Conv1D(128, 9, padding='same', activation='relu')(x)\n",
    "x = layers.Conv1D(128, 9, padding='same', activation='relu')(x)\n",
    "x = layers.MaxPool1D()(x)\n",
    "\n",
    "x = layers.Conv1D(256, 9, padding='same', activation='relu')(x)\n",
    "x = layers.Conv1D(256, 9, padding='same', activation='relu')(x)\n",
    "x = layers.Conv1D(256, 9, padding='same', activation='relu')(x)\n",
    "x = layers.MaxPool1D()(x)\n",
    "x = layers.Dropout(0.3)(x)\n",
    "\n",
    "x = layers.Flatten()(x)\n",
    "x = layers.Dense(256)(x)\n",
    "x = layers.BatchNormalization()(x)\n",
    "x = layers.Activation('relu')(x)\n",
    "\n",
    "output_tensor = layers.Dense(12)(x)\n",
    "\n",
    "model_wav = tf.keras.Model(input_tensor, output_tensor)\n",
    "\n",
    "model_wav.summary()"
   ]
  },
  {
   "cell_type": "code",
   "execution_count": 14,
   "id": "grave-configuration",
   "metadata": {},
   "outputs": [
    {
     "name": "stdout",
     "output_type": "stream",
     "text": [
      "✅\n"
     ]
    }
   ],
   "source": [
    "optimizer=tf.keras.optimizers.Adam(1e-4)\n",
    "model_wav.compile(loss=tf.keras.losses.CategoricalCrossentropy(from_logits=True),\n",
    "             optimizer=optimizer,\n",
    "             metrics=['accuracy'])\n",
    "print(\"✅\")"
   ]
  },
  {
   "cell_type": "code",
   "execution_count": 15,
   "id": "interim-drove",
   "metadata": {},
   "outputs": [
    {
     "name": "stdout",
     "output_type": "stream",
     "text": [
      "✅\n"
     ]
    }
   ],
   "source": [
    "cp_callback = tf.keras.callbacks.ModelCheckpoint(checkpoint_dir,\n",
    "                                                 save_weights_only=True,\n",
    "                                                 monitor='val_loss',\n",
    "                                                 mode='auto',\n",
    "                                                 save_best_only=True,\n",
    "                                                 verbose=1)\n",
    "print(\"✅\")"
   ]
  },
  {
   "cell_type": "code",
   "execution_count": 16,
   "id": "understood-nebraska",
   "metadata": {},
   "outputs": [
    {
     "name": "stdout",
     "output_type": "stream",
     "text": [
      "Epoch 1/10\n",
      "1423/1423 [==============================] - ETA: 0s - loss: 1.4488 - accuracy: 0.5188\n",
      "Epoch 00001: val_loss improved from inf to 1.01794, saving model to /home/aiffel-dj47/aiffel/aiffel_exp5_audio/speech_recognition/models/wav\n",
      "1423/1423 [==============================] - 147s 103ms/step - loss: 1.4488 - accuracy: 0.5188 - val_loss: 1.0179 - val_accuracy: 0.6709\n",
      "Epoch 2/10\n",
      "1423/1423 [==============================] - ETA: 0s - loss: 0.8581 - accuracy: 0.7328\n",
      "Epoch 00002: val_loss improved from 1.01794 to 0.78379, saving model to /home/aiffel-dj47/aiffel/aiffel_exp5_audio/speech_recognition/models/wav\n",
      "1423/1423 [==============================] - 150s 105ms/step - loss: 0.8581 - accuracy: 0.7328 - val_loss: 0.7838 - val_accuracy: 0.7494\n",
      "Epoch 3/10\n",
      "1423/1423 [==============================] - ETA: 0s - loss: 0.6247 - accuracy: 0.8085\n",
      "Epoch 00003: val_loss improved from 0.78379 to 0.53969, saving model to /home/aiffel-dj47/aiffel/aiffel_exp5_audio/speech_recognition/models/wav\n",
      "1423/1423 [==============================] - 150s 105ms/step - loss: 0.6247 - accuracy: 0.8085 - val_loss: 0.5397 - val_accuracy: 0.8263\n",
      "Epoch 4/10\n",
      "1423/1423 [==============================] - ETA: 0s - loss: 0.4437 - accuracy: 0.8710\n",
      "Epoch 00004: val_loss improved from 0.53969 to 0.53656, saving model to /home/aiffel-dj47/aiffel/aiffel_exp5_audio/speech_recognition/models/wav\n",
      "1423/1423 [==============================] - 148s 104ms/step - loss: 0.4437 - accuracy: 0.8710 - val_loss: 0.5366 - val_accuracy: 0.8212\n",
      "Epoch 5/10\n",
      "1423/1423 [==============================] - ETA: 0s - loss: 0.3162 - accuracy: 0.9127\n",
      "Epoch 00005: val_loss improved from 0.53656 to 0.41165, saving model to /home/aiffel-dj47/aiffel/aiffel_exp5_audio/speech_recognition/models/wav\n",
      "1423/1423 [==============================] - 143s 101ms/step - loss: 0.3162 - accuracy: 0.9127 - val_loss: 0.4116 - val_accuracy: 0.8710\n",
      "Epoch 6/10\n",
      "1423/1423 [==============================] - ETA: 0s - loss: 0.2214 - accuracy: 0.9426\n",
      "Epoch 00006: val_loss improved from 0.41165 to 0.38056, saving model to /home/aiffel-dj47/aiffel/aiffel_exp5_audio/speech_recognition/models/wav\n",
      "1423/1423 [==============================] - 143s 101ms/step - loss: 0.2214 - accuracy: 0.9426 - val_loss: 0.3806 - val_accuracy: 0.8803\n",
      "Epoch 7/10\n",
      "1423/1423 [==============================] - ETA: 0s - loss: 0.1639 - accuracy: 0.9586\n",
      "Epoch 00007: val_loss improved from 0.38056 to 0.29224, saving model to /home/aiffel-dj47/aiffel/aiffel_exp5_audio/speech_recognition/models/wav\n",
      "1423/1423 [==============================] - 143s 100ms/step - loss: 0.1639 - accuracy: 0.9586 - val_loss: 0.2922 - val_accuracy: 0.9102\n",
      "Epoch 8/10\n",
      "1423/1423 [==============================] - ETA: 0s - loss: 0.1161 - accuracy: 0.9729\n",
      "Epoch 00008: val_loss improved from 0.29224 to 0.25371, saving model to /home/aiffel-dj47/aiffel/aiffel_exp5_audio/speech_recognition/models/wav\n",
      "1423/1423 [==============================] - 143s 101ms/step - loss: 0.1161 - accuracy: 0.9729 - val_loss: 0.2537 - val_accuracy: 0.9163\n",
      "Epoch 9/10\n",
      "1423/1423 [==============================] - ETA: 0s - loss: 0.0879 - accuracy: 0.9797\n",
      "Epoch 00009: val_loss did not improve from 0.25371\n",
      "1423/1423 [==============================] - 144s 102ms/step - loss: 0.0879 - accuracy: 0.9797 - val_loss: 0.2742 - val_accuracy: 0.9152\n",
      "Epoch 10/10\n",
      "1423/1423 [==============================] - ETA: 0s - loss: 0.0739 - accuracy: 0.9829\n",
      "Epoch 00010: val_loss improved from 0.25371 to 0.24829, saving model to /home/aiffel-dj47/aiffel/aiffel_exp5_audio/speech_recognition/models/wav\n",
      "1423/1423 [==============================] - 146s 103ms/step - loss: 0.0739 - accuracy: 0.9829 - val_loss: 0.2483 - val_accuracy: 0.9203\n",
      "✅\n"
     ]
    }
   ],
   "source": [
    "# 모델 학습코드\n",
    "# 이전 스텝의 하이퍼파라미터 세팅에서 batch_size = 30, max_epochs=10으로 세팅한경우 30분 가량 소요\n",
    "# 메모리 사용량에 주의하며 하이퍼파라미터 세팅 조절\n",
    "#30분 내외 소요 (메모리 사용량에 주의해 주세요.)\n",
    "history_wav = model_wav.fit(train_dataset, epochs=max_epochs,\n",
    "                    steps_per_epoch=len(train_wav) // batch_size,\n",
    "                    validation_data=test_dataset,\n",
    "                    validation_steps=len(test_wav) // batch_size,\n",
    "                    callbacks=[cp_callback]\n",
    "                    )\n",
    "print(\"✅\")"
   ]
  },
  {
   "cell_type": "code",
   "execution_count": 17,
   "id": "circular-myanmar",
   "metadata": {},
   "outputs": [
    {
     "data": {
      "image/png": "[encoded data removed]",
      "text/plain": [
       "<Figure size 576x576 with 2 Axes>"
      ]
     },
     "metadata": {
      "needs_background": "light"
     },
     "output_type": "display_data"
    },
    {
     "name": "stdout",
     "output_type": "stream",
     "text": [
      "✅\n"
     ]
    }
   ],
   "source": [
    "# 출력된 그래프를 기반으로 모델의 학습이 어떻게 진행됐는지 확인\n",
    "import matplotlib.pyplot as plt\n",
    "\n",
    "acc = history_wav.history['accuracy']\n",
    "val_acc = history_wav.history['val_accuracy']\n",
    "\n",
    "loss=history_wav.history['loss']\n",
    "val_loss=history_wav.history['val_loss']\n",
    "\n",
    "epochs_range = range(len(acc))\n",
    "\n",
    "plt.figure(figsize=(8, 8))\n",
    "plt.subplot(1, 2, 1)\n",
    "plt.plot(epochs_range, acc, label='Training Accuracy')\n",
    "plt.plot(epochs_range, val_acc, label='Validation Accuracy')\n",
    "plt.legend(loc='lower right')\n",
    "plt.title('Training and Validation Accuracy')\n",
    "\n",
    "plt.subplot(1, 2, 2)\n",
    "plt.plot(epochs_range, loss, label='Training Loss')\n",
    "plt.plot(epochs_range, val_loss, label='Validation Loss')\n",
    "plt.legend(loc='upper right')\n",
    "plt.title('Training and Validation Loss')\n",
    "plt.show()\n",
    "print(\"✅\")"
   ]
  },
  {
   "cell_type": "markdown",
   "id": "amazing-globe",
   "metadata": {},
   "source": [
    "# evaluation"
   ]
  },
  {
   "cell_type": "code",
   "execution_count": 18,
   "id": "sixth-basis",
   "metadata": {},
   "outputs": [
    {
     "name": "stdout",
     "output_type": "stream",
     "text": [
      "✅\n"
     ]
    }
   ],
   "source": [
    "# test dataset을 이용해 모델의 성능 평가\n",
    "# 실습삼아 checkpoint callback함수가 저장한 weight를 다시 불러와 테스트 준비\n",
    "model_wav.load_weights(checkpoint_dir)\n",
    "print(\"✅\")"
   ]
  },
  {
   "cell_type": "code",
   "execution_count": 19,
   "id": "special-prospect",
   "metadata": {},
   "outputs": [
    {
     "name": "stdout",
     "output_type": "stream",
     "text": [
      "159/159 [==============================] - 11s 70ms/step - loss: 0.2481 - accuracy: 0.9204\n",
      "✅\n"
     ]
    }
   ],
   "source": [
    "# test data를 이용하여 모델의 예측값과 실제값이 얼마나 일치하는지 확인\n",
    "results = model_wav.evaluate(test_dataset)\n",
    "print(\"✅\")"
   ]
  },
  {
   "cell_type": "code",
   "execution_count": 20,
   "id": "integrated-sodium",
   "metadata": {},
   "outputs": [
    {
     "name": "stdout",
     "output_type": "stream",
     "text": [
      "loss value: 0.248\n",
      "accuracy value: 92.0387%\n",
      "✅\n"
     ]
    }
   ],
   "source": [
    "# loss\n",
    "print(\"loss value: {:.3f}\".format(results[0]))\n",
    "# accuracy\n",
    "print(\"accuracy value: {:.4f}%\".format(results[1]*100))\n",
    "print(\"✅\")"
   ]
  },
  {
   "cell_type": "markdown",
   "id": "personalized-hamilton",
   "metadata": {},
   "source": [
    "# model test"
   ]
  },
  {
   "cell_type": "code",
   "execution_count": 21,
   "id": "funded-retention",
   "metadata": {},
   "outputs": [
    {
     "name": "stdout",
     "output_type": "stream",
     "text": [
      "label :  left\n"
     ]
    },
    {
     "data": {
      "text/html": [
       "\n",
       "                <audio  controls=\"controls\" >\n",
       "                    <source src=\"data:audio/wav;base64,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\" type=\"audio/wav\" />\n",
       "                    Your browser does not support the audio element.\n",
       "                </audio>\n",
       "              "
      ],
      "text/plain": [
       "<IPython.lib.display.Audio object>"
      ]
     },
     "execution_count": 21,
     "metadata": {},
     "output_type": "execute_result"
    }
   ],
   "source": [
    "# test data셋을 골라 직접 들어보고 모델의 예측이 맞는지 확인\n",
    "inv_label_value = {v: k for k, v in label_value.items()}\n",
    "batch_index = np.random.choice(len(test_wav), size=1, replace=False)\n",
    "\n",
    "batch_xs = test_wav[batch_index]\n",
    "batch_ys = test_label[batch_index]\n",
    "y_pred_ = model_wav(batch_xs, training=False)\n",
    "\n",
    "print(\"label : \", str(inv_label_value[batch_ys[0]]))\n",
    "\n",
    "ipd.Audio(batch_xs.reshape(8000,), rate=8000)"
   ]
  },
  {
   "cell_type": "code",
   "execution_count": 22,
   "id": "worthy-winter",
   "metadata": {},
   "outputs": [
    {
     "name": "stdout",
     "output_type": "stream",
     "text": [
      "y_pred: left(Correct!)\n",
      "✅\n"
     ]
    }
   ],
   "source": [
    "# 위에서 확인해본 테스트셋의 라벨과 우리 모델의 실제 prediction 결과 확인\n",
    "if np.argmax(y_pred_) == batch_ys[0]:\n",
    "    print(\"y_pred: \" + str(inv_label_value[np.argmax(y_pred_)]) + '(Correct!)')\n",
    "else:\n",
    "    print(\"y_pred: \" + str(inv_label_value[np.argmax(y_pred_)]) + '(Incorrect!)')\n",
    "print(\"✅\")"
   ]
  },
  {
   "cell_type": "code",
   "execution_count": null,
   "id": "nonprofit-premiere",
   "metadata": {},
   "outputs": [],
   "source": []
  },
  {
   "cell_type": "markdown",
   "id": "interior-wonder",
   "metadata": {},
   "source": [
    "# 5-5. Skip-Connection model을 추가해보자 "
   ]
  },
  {
   "cell_type": "code",
   "execution_count": 23,
   "id": "prescribed-conviction",
   "metadata": {},
   "outputs": [
    {
     "name": "stdout",
     "output_type": "stream",
     "text": [
      "Model: \"model_1\"\n",
      "__________________________________________________________________________________________________\n",
      "Layer (type)                    Output Shape         Param #     Connected to                     \n",
      "==================================================================================================\n",
      "input_2 (InputLayer)            [(None, 8000, 1)]    0                                            \n",
      "__________________________________________________________________________________________________\n",
      "conv1d_10 (Conv1D)              (None, 8000, 32)     320         input_2[0][0]                    \n",
      "__________________________________________________________________________________________________\n",
      "conv1d_11 (Conv1D)              (None, 8000, 32)     9248        conv1d_10[0][0]                  \n",
      "__________________________________________________________________________________________________\n",
      "max_pooling1d_4 (MaxPooling1D)  (None, 4000, 32)     0           conv1d_11[0][0]                  \n",
      "__________________________________________________________________________________________________\n",
      "conv1d_12 (Conv1D)              (None, 4000, 64)     18496       max_pooling1d_4[0][0]            \n",
      "__________________________________________________________________________________________________\n",
      "conv1d_13 (Conv1D)              (None, 4000, 64)     36928       conv1d_12[0][0]                  \n",
      "__________________________________________________________________________________________________\n",
      "tf_op_layer_concat (TensorFlowO [(None, 4000, 96)]   0           conv1d_13[0][0]                  \n",
      "                                                                 max_pooling1d_4[0][0]            \n",
      "__________________________________________________________________________________________________\n",
      "max_pooling1d_5 (MaxPooling1D)  (None, 2000, 96)     0           tf_op_layer_concat[0][0]         \n",
      "__________________________________________________________________________________________________\n",
      "conv1d_14 (Conv1D)              (None, 2000, 128)    110720      max_pooling1d_5[0][0]            \n",
      "__________________________________________________________________________________________________\n",
      "conv1d_15 (Conv1D)              (None, 2000, 128)    147584      conv1d_14[0][0]                  \n",
      "__________________________________________________________________________________________________\n",
      "conv1d_16 (Conv1D)              (None, 2000, 128)    147584      conv1d_15[0][0]                  \n",
      "__________________________________________________________________________________________________\n",
      "tf_op_layer_concat_1 (TensorFlo [(None, 2000, 224)]  0           conv1d_16[0][0]                  \n",
      "                                                                 max_pooling1d_5[0][0]            \n",
      "__________________________________________________________________________________________________\n",
      "max_pooling1d_6 (MaxPooling1D)  (None, 1000, 224)    0           tf_op_layer_concat_1[0][0]       \n",
      "__________________________________________________________________________________________________\n",
      "conv1d_17 (Conv1D)              (None, 1000, 256)    516352      max_pooling1d_6[0][0]            \n",
      "__________________________________________________________________________________________________\n",
      "conv1d_18 (Conv1D)              (None, 1000, 256)    590080      conv1d_17[0][0]                  \n",
      "__________________________________________________________________________________________________\n",
      "conv1d_19 (Conv1D)              (None, 1000, 256)    590080      conv1d_18[0][0]                  \n",
      "__________________________________________________________________________________________________\n",
      "tf_op_layer_concat_2 (TensorFlo [(None, 1000, 480)]  0           conv1d_19[0][0]                  \n",
      "                                                                 max_pooling1d_6[0][0]            \n",
      "__________________________________________________________________________________________________\n",
      "max_pooling1d_7 (MaxPooling1D)  (None, 500, 480)     0           tf_op_layer_concat_2[0][0]       \n",
      "__________________________________________________________________________________________________\n",
      "dropout_1 (Dropout)             (None, 500, 480)     0           max_pooling1d_7[0][0]            \n",
      "__________________________________________________________________________________________________\n",
      "flatten_1 (Flatten)             (None, 240000)       0           dropout_1[0][0]                  \n",
      "__________________________________________________________________________________________________\n",
      "dense_2 (Dense)                 (None, 256)          61440256    flatten_1[0][0]                  \n",
      "__________________________________________________________________________________________________\n",
      "batch_normalization_1 (BatchNor (None, 256)          1024        dense_2[0][0]                    \n",
      "__________________________________________________________________________________________________\n",
      "activation_1 (Activation)       (None, 256)          0           batch_normalization_1[0][0]      \n",
      "__________________________________________________________________________________________________\n",
      "dense_3 (Dense)                 (None, 12)           3084        activation_1[0][0]               \n",
      "==================================================================================================\n",
      "Total params: 63,611,756\n",
      "Trainable params: 63,611,244\n",
      "Non-trainable params: 512\n",
      "__________________________________________________________________________________________________\n"
     ]
    }
   ],
   "source": [
    "# 1차원audio데이터 처리하는 모델 구성\n",
    "input_tensor = layers.Input(shape=(sr, 1))\n",
    "\n",
    "x = layers.Conv1D(32, 9, padding='same', activation='relu')(input_tensor)\n",
    "x = layers.Conv1D(32, 9, padding='same', activation='relu')(x)\n",
    "skip_1 = layers.MaxPool1D()(x)\n",
    "\n",
    "x = layers.Conv1D(64, 9, padding='same', activation='relu')(skip_1)\n",
    "x = layers.Conv1D(64, 9, padding='same', activation='relu')(x)\n",
    "x = tf.concat([x, skip_1], -1)\n",
    "skip_2 = layers.MaxPool1D()(x)\n",
    "\n",
    "x = layers.Conv1D(128, 9, padding='same', activation='relu')(skip_2)\n",
    "x = layers.Conv1D(128, 9, padding='same', activation='relu')(x)\n",
    "x = layers.Conv1D(128, 9, padding='same', activation='relu')(x)\n",
    "x = tf.concat([x, skip_2], -1)\n",
    "skip_3 = layers.MaxPool1D()(x)\n",
    "\n",
    "x = layers.Conv1D(256, 9, padding='same', activation='relu')(skip_3)\n",
    "x = layers.Conv1D(256, 9, padding='same', activation='relu')(x)\n",
    "x = layers.Conv1D(256, 9, padding='same', activation='relu')(x)\n",
    "x = tf.concat([x, skip_3], -1)\n",
    "x = layers.MaxPool1D()(x)\n",
    "x = layers.Dropout(0.3)(x)\n",
    "\n",
    "x = layers.Flatten()(x)\n",
    "x = layers.Dense(256)(x)\n",
    "x = layers.BatchNormalization()(x)\n",
    "x = layers.Activation('relu')(x)\n",
    "\n",
    "output_tensor = layers.Dense(12)(x)\n",
    "\n",
    "model_wav_skip = tf.keras.Model(input_tensor, output_tensor)\n",
    "\n",
    "model_wav_skip.summary()\n",
    "# 모델 구성만 달라졌을분 Task구성이나 데이터셋 구성, 훈련과정은 동일"
   ]
  },
  {
   "cell_type": "code",
   "execution_count": 24,
   "id": "sustainable-annotation",
   "metadata": {},
   "outputs": [
    {
     "name": "stdout",
     "output_type": "stream",
     "text": [
      "✅\n"
     ]
    }
   ],
   "source": [
    "optimizer=tf.keras.optimizers.Adam(1e-4)\n",
    "model_wav_skip.compile(loss=tf.keras.losses.CategoricalCrossentropy(from_logits=True),\n",
    "             optimizer=optimizer,\n",
    "             metrics=['accuracy'])\n",
    "print(\"✅\")"
   ]
  },
  {
   "cell_type": "code",
   "execution_count": 25,
   "id": "above-promotion",
   "metadata": {},
   "outputs": [
    {
     "name": "stdout",
     "output_type": "stream",
     "text": [
      "✅\n"
     ]
    }
   ],
   "source": [
    "# the save point\n",
    "checkpoint_dir = os.getenv('HOME')+'/aiffel/speech_recognition/models/wav_skip'\n",
    "\n",
    "cp_callback = tf.keras.callbacks.ModelCheckpoint(checkpoint_dir,\n",
    "                                                 save_weights_only=True,\n",
    "                                                 monitor='val_loss',\n",
    "                                                 mode='auto',\n",
    "                                                 save_best_only=True,\n",
    "                                                 verbose=1)\n",
    "print(\"✅\")"
   ]
  },
  {
   "cell_type": "code",
   "execution_count": 26,
   "id": "lesser-exchange",
   "metadata": {},
   "outputs": [
    {
     "name": "stdout",
     "output_type": "stream",
     "text": [
      "Epoch 1/10\n",
      "1423/1423 [==============================] - ETA: 0s - loss: 1.2371 - accuracy: 0.6042\n",
      "Epoch 00001: val_loss improved from inf to 0.77316, saving model to /home/aiffel-dj47/aiffel/speech_recognition/models/wav_skip\n",
      "1423/1423 [==============================] - 176s 123ms/step - loss: 1.2371 - accuracy: 0.6042 - val_loss: 0.7732 - val_accuracy: 0.7609\n",
      "Epoch 2/10\n",
      "1423/1423 [==============================] - ETA: 0s - loss: 0.6391 - accuracy: 0.8109\n",
      "Epoch 00002: val_loss improved from 0.77316 to 0.54875, saving model to /home/aiffel-dj47/aiffel/speech_recognition/models/wav_skip\n",
      "1423/1423 [==============================] - 181s 127ms/step - loss: 0.6391 - accuracy: 0.8109 - val_loss: 0.5487 - val_accuracy: 0.8341\n",
      "Epoch 3/10\n",
      "1423/1423 [==============================] - ETA: 0s - loss: 0.3407 - accuracy: 0.9095\n",
      "Epoch 00003: val_loss improved from 0.54875 to 0.37107, saving model to /home/aiffel-dj47/aiffel/speech_recognition/models/wav_skip\n",
      "1423/1423 [==============================] - 182s 128ms/step - loss: 0.3407 - accuracy: 0.9095 - val_loss: 0.3711 - val_accuracy: 0.8884\n",
      "Epoch 4/10\n",
      "1423/1423 [==============================] - ETA: 0s - loss: 0.1829 - accuracy: 0.9579\n",
      "Epoch 00004: val_loss improved from 0.37107 to 0.32586, saving model to /home/aiffel-dj47/aiffel/speech_recognition/models/wav_skip\n",
      "1423/1423 [==============================] - 180s 126ms/step - loss: 0.1829 - accuracy: 0.9579 - val_loss: 0.3259 - val_accuracy: 0.9037\n",
      "Epoch 5/10\n",
      "1423/1423 [==============================] - ETA: 0s - loss: 0.1123 - accuracy: 0.9758\n",
      "Epoch 00005: val_loss improved from 0.32586 to 0.30367, saving model to /home/aiffel-dj47/aiffel/speech_recognition/models/wav_skip\n",
      "1423/1423 [==============================] - 174s 122ms/step - loss: 0.1123 - accuracy: 0.9758 - val_loss: 0.3037 - val_accuracy: 0.9061\n",
      "Epoch 6/10\n",
      "1423/1423 [==============================] - ETA: 0s - loss: 0.0773 - accuracy: 0.9834\n",
      "Epoch 00006: val_loss improved from 0.30367 to 0.25650, saving model to /home/aiffel-dj47/aiffel/speech_recognition/models/wav_skip\n",
      "1423/1423 [==============================] - 174s 122ms/step - loss: 0.0773 - accuracy: 0.9834 - val_loss: 0.2565 - val_accuracy: 0.9242\n",
      "Epoch 7/10\n",
      "1423/1423 [==============================] - ETA: 0s - loss: 0.0568 - accuracy: 0.9875\n",
      "Epoch 00007: val_loss did not improve from 0.25650\n",
      "1423/1423 [==============================] - 173s 122ms/step - loss: 0.0568 - accuracy: 0.9875 - val_loss: 0.2856 - val_accuracy: 0.9173\n",
      "Epoch 8/10\n",
      "1423/1423 [==============================] - ETA: 0s - loss: 0.0466 - accuracy: 0.9895\n",
      "Epoch 00008: val_loss did not improve from 0.25650\n",
      "1423/1423 [==============================] - 175s 123ms/step - loss: 0.0466 - accuracy: 0.9895 - val_loss: 0.3679 - val_accuracy: 0.8904\n",
      "Epoch 9/10\n",
      "1423/1423 [==============================] - ETA: 0s - loss: 0.0327 - accuracy: 0.9933\n",
      "Epoch 00009: val_loss did not improve from 0.25650\n",
      "1423/1423 [==============================] - 178s 125ms/step - loss: 0.0327 - accuracy: 0.9933 - val_loss: 0.3145 - val_accuracy: 0.9120\n",
      "Epoch 10/10\n",
      "1423/1423 [==============================] - ETA: 0s - loss: 0.0279 - accuracy: 0.9942\n",
      "Epoch 00010: val_loss did not improve from 0.25650\n",
      "1423/1423 [==============================] - 176s 124ms/step - loss: 0.0279 - accuracy: 0.9942 - val_loss: 0.2761 - val_accuracy: 0.9223\n",
      "✅\n"
     ]
    }
   ],
   "source": [
    "#30분 내외 소요\n",
    "history_wav_skip = model_wav_skip.fit(train_dataset, epochs=max_epochs,\n",
    "                    steps_per_epoch=len(train_wav) // batch_size,\n",
    "                    validation_data=test_dataset,\n",
    "                    validation_steps=len(test_wav) // batch_size,\n",
    "                    callbacks=[cp_callback]\n",
    "                    )\n",
    "print(\"✅\")"
   ]
  },
  {
   "cell_type": "code",
   "execution_count": null,
   "id": "hybrid-privacy",
   "metadata": {},
   "outputs": [],
   "source": []
  },
  {
   "cell_type": "code",
   "execution_count": 27,
   "id": "impressive-pearl",
   "metadata": {},
   "outputs": [
    {
     "data": {
      "image/png": "[encoded data removed]",
      "text/plain": [
       "<Figure size 576x576 with 2 Axes>"
      ]
     },
     "metadata": {
      "needs_background": "light"
     },
     "output_type": "display_data"
    },
    {
     "name": "stdout",
     "output_type": "stream",
     "text": [
      "✅\n"
     ]
    }
   ],
   "source": [
    "import matplotlib.pyplot as plt\n",
    "\n",
    "acc = history_wav_skip.history['accuracy']\n",
    "val_acc = history_wav_skip.history['val_accuracy']\n",
    "\n",
    "loss=history_wav_skip.history['loss']\n",
    "val_loss=history_wav_skip.history['val_loss']\n",
    "\n",
    "epochs_range = range(len(acc))\n",
    "\n",
    "plt.figure(figsize=(8, 8))\n",
    "plt.subplot(1, 2, 1)\n",
    "plt.plot(epochs_range, acc, label='Training Accuracy')\n",
    "plt.plot(epochs_range, val_acc, label='Validation Accuracy')\n",
    "plt.legend(loc='lower right')\n",
    "plt.title('Training and Validation Accuracy')\n",
    "\n",
    "plt.subplot(1, 2, 2)\n",
    "plt.plot(epochs_range, loss, label='Training Loss')\n",
    "plt.plot(epochs_range, val_loss, label='Validation Loss')\n",
    "plt.legend(loc='upper right')\n",
    "plt.title('Training and Validation Loss')\n",
    "plt.show()\n",
    "print(\"✅\")"
   ]
  },
  {
   "cell_type": "code",
   "execution_count": 28,
   "id": "manufactured-assembly",
   "metadata": {},
   "outputs": [
    {
     "name": "stdout",
     "output_type": "stream",
     "text": [
      "159/159 [==============================] - 8s 47ms/step - loss: 0.2562 - accuracy: 0.9243\n",
      "loss value: 0.256\n",
      "accuracy value: 92.4338%\n",
      "✅\n"
     ]
    }
   ],
   "source": [
    "# Evaluation \n",
    "\n",
    "model_wav_skip.load_weights(checkpoint_dir)\n",
    "results = model_wav_skip.evaluate(test_dataset)\n",
    "\n",
    "# loss\n",
    "print(\"loss value: {:.3f}\".format(results[0]))\n",
    "# accuracy\n",
    "print(\"accuracy value: {:.4f}%\".format(results[1]*100))\n",
    "print(\"✅\")"
   ]
  },
  {
   "cell_type": "code",
   "execution_count": 29,
   "id": "brown-price",
   "metadata": {},
   "outputs": [
    {
     "name": "stdout",
     "output_type": "stream",
     "text": [
      "label :  stop\n"
     ]
    },
    {
     "data": {
      "text/html": [
       "\n",
       "                <audio  controls=\"controls\" >\n",
       "                    <source src=\"data:audio/wav;base64,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\" type=\"audio/wav\" />\n",
       "                    Your browser does not support the audio element.\n",
       "                </audio>\n",
       "              "
      ],
      "text/plain": [
       "<IPython.lib.display.Audio object>"
      ]
     },
     "execution_count": 29,
     "metadata": {},
     "output_type": "execute_result"
    }
   ],
   "source": [
    "# Test \n",
    "\n",
    "inv_label_value = {v: k for k, v in label_value.items()}\n",
    "batch_index = np.random.choice(len(test_wav), size=1, replace=False)\n",
    "\n",
    "batch_xs = test_wav[batch_index]\n",
    "batch_ys = test_label[batch_index]\n",
    "y_pred_ = model_wav_skip(batch_xs, training=False)\n",
    "\n",
    "print(\"label : \", str(inv_label_value[batch_ys[0]]))\n",
    "\n",
    "ipd.Audio(batch_xs.reshape(8000,), rate=8000)"
   ]
  },
  {
   "cell_type": "code",
   "execution_count": 30,
   "id": "dimensional-accountability",
   "metadata": {},
   "outputs": [
    {
     "name": "stdout",
     "output_type": "stream",
     "text": [
      "y_pred: stop(Correct!)\n",
      "✅\n"
     ]
    }
   ],
   "source": [
    "if np.argmax(y_pred_) == batch_ys[0]:\n",
    "    print(\"y_pred: \" + str(inv_label_value[np.argmax(y_pred_)]) + '(Correct!)')\n",
    "else:\n",
    "    print(\"y_pred: \" + str(inv_label_value[np.argmax(y_pred_)]) + '(Incorrect!)')\n",
    "print(\"✅\")"
   ]
  },
  {
   "cell_type": "markdown",
   "id": "rolled-oxygen",
   "metadata": {},
   "source": [
    "# 총평"
   ]
  },
  {
   "cell_type": "markdown",
   "id": "guided-sunday",
   "metadata": {},
   "source": [
    "#### 1. 노드 소감 : ㅠ_ㅠ\n",
    "**(먼저 제출하는 파일은 과제 제출용이기도 하지만 나중에 과정 다 끝나면 보려고 기록용으로도 쓰는 것이기 때문에 잡다한 내용이 있는 점 양해 부탁드립니다.)**\n",
    "\n",
    "이번 자연어 exploration은 ... 어려웠다.  \n",
    "지난 exp4 총평에 여태까지 복사, 붙여넣기만 했을 뿐인데 조금씩 감이 온다는 건 큰 착각이었다.  \n",
    "이번에는 전혀 감을 잡을 수 없었다.\n",
    "어떻게 풀어야 할지 몰랐다. 그냥 다 몰랐다.  \n",
    "스펙토그램에 데이터를 어떻게 넣어야 하는지도 모르겠고...  \n",
    "만약 어찌저찌 해서 넣었다고 한들... 그 다음에 또 막혔을거다.  \n",
    "노드에 나오는 모델을 복붙해서 값이 나오긴 했는데 저게 맞는건지, 뭔지 잘 모르겠다.  \n",
    "너무 어려운 노드였다.  \n",
    "  \n",
    "더 이상은 잘 모르겠어서 제출한다."
   ]
  },
  {
   "cell_type": "markdown",
   "id": "electronic-slovenia",
   "metadata": {},
   "source": [
    "---"
   ]
  },
  {
   "cell_type": "markdown",
   "id": "complete-praise",
   "metadata": {},
   "source": [
    "#### 1. 한 달 후기\n",
    "지금 약 1개월 정도 아이펠 과정이 지났다.  \n",
    "슬랙에 올라오는 글을 보면 조금씩 사람들이 코드를 보고 분석하면서 필요한 코드를 활용할 수 있는 것 같다.  \n",
    "cs231n에서도 자신들이 이해한 내용으로 토론하는 걸 보면 다들 뭔가 나보다 훨씬 깊이있게 내용을 이해하는 것 같다. 사람들이 내용에 대해 토론하는 모습을 보면 무슨 sf영화 보듯이 그냥 신기하다 ㅋㅋㅋㅋㅋ 수학적인 내용이라도 조금 추가되면 나는 이해할 수 없는 미지의 세계에 대해서 얘기하는 것 같다.\n",
    "  \n",
    "과정 자체는 분명 재밌다.(cs231n 빼고)  \n",
    "재미는 있지만 cs231n은 토론하고 발표할 정도로 이해가 안되고 노드도 복사, 붙여넣기만 한다는 것 빼고는.. 아직은? 잘 모르겠다.   \n",
    "누군가 지금까지 뭘 배웠냐고 물어보면 지금은 \"대충 알고있는(강의 보면 누구나 다 알 수 있는) cs231n내용 말해주고 코드는 복사, 붙여넣기만 해서 잘 모르겠어. 내가 뭘 할 수 있는 건 없어\" 라고 말할 것 같다. (이 글을 다시 볼 때 쯤엔 저 말 보단 더 멋있게 말할 수 있길.....)   \n",
    "지금까지는 내가 뭘 배웠을까, 이래서 이 다음 과정인 해커톤인가를 내가 할 수 있나 생각든다.  \n",
    "  \n",
    "뭐 배운게 없는 것 같고 잘 이해 못하고 뭐 어렵고 등등은 내가 부족한거니깐 둘째치고  \n",
    "내가 이 과정에서 제일 중요하게 생각하는 부분은 \"내가 재밌어 하냐\"가 제일 중요한데 지금은 재밌다 ㅋㅋㅋㅋ 아무것도 모르는데 모르는데로 재밌다. 뭐가 재밌는지조차 모르겠는데 그냥 신기하고 재밌다. 뭔가 간단히라도 얘기하자면 아무것도 모르는 미지의 세계를 탐험하는 기분이랄까...?  \n",
    "  \n",
    "아무튼 재미가 제일 중요한데 복붙만 하다보니 약간 공장 같고 머릿속에 아무것도 안 남는 것 같아서 지금 진행하는 exp6부터 노드에 나오는 모든 코드를 직접 입력하고 있는데 직접 코드를 입력하는 것이 복사, 붙여넣기 보다는 훨씬 재밌다 ㅋㅋㅋㅋ 코드를 보면서 입력하다 보면 시간도 잘가고 아주 재밌다. 너무 긴 코드가 아닌 이상 앞으론 계속 입력할 생각이다.   \n",
    "뭐 이렇게 한다고 더 나아질지는 모르겠지만 어차피 모르는 거는 이러나 저러나 똑같을테고 이렇게라도 해보는 게 복사, 붙여넣기보다는 남는 게 많지 않을까 생각한다.  \n",
    "    \n",
    "앞으로 더 어려운 내용도 나올테고 그만큼 모르는 게 더 많아지겠지만 항상 재밌게 하면 좋겠다~!\n",
    "  \n",
    "**혹시 퍼실님들이 보시기에 과정에 대해 불만이 있어 보일 수 있지만 그런건 절.대. 아닙니다. 이해 안되고 어려울 뿐이지 재밌게 하고 있습니다 ㅋㅋㅋ**"
   ]
  }
 ],
 "metadata": {
  "kernelspec": {
   "display_name": "aiffel",
   "language": "python",
   "name": "aiffel"
  },
  "language_info": {
   "codemirror_mode": {
    "name": "ipython",
    "version": 3
   },
   "file_extension": ".py",
   "mimetype": "text/x-python",
   "name": "python",
   "nbconvert_exporter": "python",
   "pygments_lexer": "ipython3",
   "version": "3.7.9"
  }
 },
 "nbformat": 4,
 "nbformat_minor": 5
}
