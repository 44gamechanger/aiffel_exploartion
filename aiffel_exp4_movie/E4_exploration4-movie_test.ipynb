{
 "cells": [
  {
   "cell_type": "markdown",
   "metadata": {},
   "source": [
    "# 4-11. 프로젝트 : 네이버 영화리뷰 감성분석 도전하기"
   ]
  },
  {
   "cell_type": "code",
   "execution_count": 1,
   "metadata": {},
   "outputs": [],
   "source": [
    "# 다운로드\n",
    "# $ wget https://raw.githubusercontent.com/e9t/nsmc/master/ratings_train.txt\n",
    "# $ wget https://raw.githubusercontent.com/e9t/nsmc/master/ratings_test.txt\n",
    "# $ mv ratings_*.txt ~/aiffel/sentiment_classification"
   ]
  },
  {
   "cell_type": "code",
   "execution_count": 2,
   "metadata": {},
   "outputs": [],
   "source": [
    "## 1. 데이터 준비 확인"
   ]
  },
  {
   "cell_type": "code",
   "execution_count": 3,
   "metadata": {},
   "outputs": [
    {
     "data": {
      "text/html": [
       "<div>\n",
       "<style scoped>\n",
       "    .dataframe tbody tr th:only-of-type {\n",
       "        vertical-align: middle;\n",
       "    }\n",
       "\n",
       "    .dataframe tbody tr th {\n",
       "        vertical-align: top;\n",
       "    }\n",
       "\n",
       "    .dataframe thead th {\n",
       "        text-align: right;\n",
       "    }\n",
       "</style>\n",
       "<table border=\"1\" class=\"dataframe\">\n",
       "  <thead>\n",
       "    <tr style=\"text-align: right;\">\n",
       "      <th></th>\n",
       "      <th>id</th>\n",
       "      <th>document</th>\n",
       "      <th>label</th>\n",
       "    </tr>\n",
       "  </thead>\n",
       "  <tbody>\n",
       "    <tr>\n",
       "      <th>0</th>\n",
       "      <td>9976970</td>\n",
       "      <td>아 더빙.. 진짜 짜증나네요 목소리</td>\n",
       "      <td>0</td>\n",
       "    </tr>\n",
       "    <tr>\n",
       "      <th>1</th>\n",
       "      <td>3819312</td>\n",
       "      <td>흠...포스터보고 초딩영화줄....오버연기조차 가볍지 않구나</td>\n",
       "      <td>1</td>\n",
       "    </tr>\n",
       "    <tr>\n",
       "      <th>2</th>\n",
       "      <td>10265843</td>\n",
       "      <td>너무재밓었다그래서보는것을추천한다</td>\n",
       "      <td>0</td>\n",
       "    </tr>\n",
       "    <tr>\n",
       "      <th>3</th>\n",
       "      <td>9045019</td>\n",
       "      <td>교도소 이야기구먼 ..솔직히 재미는 없다..평점 조정</td>\n",
       "      <td>0</td>\n",
       "    </tr>\n",
       "    <tr>\n",
       "      <th>4</th>\n",
       "      <td>6483659</td>\n",
       "      <td>사이몬페그의 익살스런 연기가 돋보였던 영화!스파이더맨에서 늙어보이기만 했던 커스틴 ...</td>\n",
       "      <td>1</td>\n",
       "    </tr>\n",
       "  </tbody>\n",
       "</table>\n",
       "</div>"
      ],
      "text/plain": [
       "         id                                           document  label\n",
       "0   9976970                                아 더빙.. 진짜 짜증나네요 목소리      0\n",
       "1   3819312                  흠...포스터보고 초딩영화줄....오버연기조차 가볍지 않구나      1\n",
       "2  10265843                                  너무재밓었다그래서보는것을추천한다      0\n",
       "3   9045019                      교도소 이야기구먼 ..솔직히 재미는 없다..평점 조정      0\n",
       "4   6483659  사이몬페그의 익살스런 연기가 돋보였던 영화!스파이더맨에서 늙어보이기만 했던 커스틴 ...      1"
      ]
     },
     "execution_count": 3,
     "metadata": {},
     "output_type": "execute_result"
    }
   ],
   "source": [
    "import tensorflow as tf\n",
    "import pandas as pd\n",
    "import urllib.request\n",
    "%matplotlib inline\n",
    "import matplotlib.pyplot as plt\n",
    "import re\n",
    "from konlpy.tag import Okt\n",
    "from tensorflow import keras\n",
    "from tensorflow.keras.preprocessing.text import Tokenizer\n",
    "import numpy as np\n",
    "from tensorflow.keras.preprocessing.sequence import pad_sequences\n",
    "from collections import Counter\n",
    "\n",
    "# 데이터를 읽어봅시다. \n",
    "train_data = pd.read_table('~/aiffel/aiffel_exp4_movie/sentiment_classification/ratings_train.txt')\n",
    "test_data = pd.read_table('~/aiffel/aiffel_exp4_movie/sentiment_classification/ratings_test.txt')\n",
    "\n",
    "\n",
    "train_data.head()\n"
   ]
  },
  {
   "cell_type": "markdown",
   "metadata": {},
   "source": [
    "## 2. 데이터로더 구성\n",
    "## imdb.data_loader()와 동일하게 동작하는 자신만의 data_loader를 만들어 보는 것으로 시작\n",
    "- 데이터의 중복 제거\n",
    "- NaN 결측치 제거\n",
    "- 한국어 토크나이저로 토큰화\n",
    "- 불용어(Stopwords) 제거\n",
    "- 사전word_to_index 구성\n",
    "- 텍스트 스트링을 사전 인덱스 스트링으로 변환\n",
    "- X_train, y_train, X_test, y_test, word_to_index 리턴"
   ]
  },
  {
   "cell_type": "code",
   "execution_count": 4,
   "metadata": {
    "scrolled": true
   },
   "outputs": [
    {
     "name": "stdout",
     "output_type": "stream",
     "text": [
      "ok\n"
     ]
    }
   ],
   "source": [
    "from konlpy.tag import Mecab\n",
    "tokenizer = Mecab()\n",
    "stopwords = ['의','가','이','은','들','는','좀','잘','걍','과','도','를','으로','자','에','와','한','하다']\n",
    "\n",
    "def load_data(train_data, test_data, num_words=10000):\n",
    "    train_data.drop_duplicates(subset=['document'], inplace=True)\n",
    "    train_data = train_data.dropna(how = 'any') \n",
    "    test_data.drop_duplicates(subset=['document'], inplace=True)\n",
    "    test_data = test_data.dropna(how = 'any') \n",
    "\n",
    "    X_train = []\n",
    "    for sentence in train_data['document']:\n",
    "        temp_X = tokenizer.morphs(sentence) # 토큰화\n",
    "        temp_X = [word for word in temp_X if not word in stopwords] # 불용어 제거\n",
    "        X_train.append(temp_X)\n",
    "\n",
    "    X_test = []\n",
    "    for sentence in test_data['document']:\n",
    "        temp_X = tokenizer.morphs(sentence) # 토큰화\n",
    "        temp_X = [word for word in temp_X if not word in stopwords] # 불용어 제거\n",
    "        X_test.append(temp_X)\n",
    "\n",
    "    words = np.concatenate(X_train).tolist()\n",
    "    counter = Counter(words)\n",
    "    counter = counter.most_common(10000-4)\n",
    "    vocab = ['<PAD>', '<BOS>', '<UNK>', '<UNUSED>'] + [key for key, _ in counter]\n",
    "    word_to_index = {word:index for index, word in enumerate(vocab)}\n",
    "\n",
    "    def wordlist_to_indexlist(wordlist):\n",
    "        return [word_to_index[word] if word in word_to_index else word_to_index['<UNK>'] for word in wordlist]\n",
    "\n",
    "    X_train = list(map(wordlist_to_indexlist, X_train))\n",
    "    X_test = list(map(wordlist_to_indexlist, X_test))\n",
    "\n",
    "    return X_train, np.array(list(train_data['label'])), X_test, np.array(list(test_data['label'])), word_to_index\n",
    "\n",
    "X_train, y_train, X_test, y_test, word_to_index = load_data(train_data, test_data) \n",
    "print(\"ok\")"
   ]
  },
  {
   "cell_type": "code",
   "execution_count": 5,
   "metadata": {
    "scrolled": true
   },
   "outputs": [
    {
     "name": "stdout",
     "output_type": "stream",
     "text": [
      "ok\n"
     ]
    }
   ],
   "source": [
    "index_to_word = {index:word for word, index in word_to_index.items()} \n",
    "print(\"ok\")\n",
    "# 위에 word_to_index아래에 썼을 땐 실행은 되지만 print로 출력해보면 안나옴"
   ]
  },
  {
   "cell_type": "code",
   "execution_count": 6,
   "metadata": {},
   "outputs": [
    {
     "name": "stdout",
     "output_type": "stream",
     "text": [
      "ok\n"
     ]
    }
   ],
   "source": [
    "# 문장 1개를 활용할 딕셔너리와 함께 주면, 단어 인덱스 리스트 벡터로 변환해 주는 함수입니다. \n",
    "# 단, 모든 문장은 <BOS>로 시작하는 것으로 합니다. \n",
    "def get_encoded_sentence(sentence, word_to_index):\n",
    "    return [word_to_index['<BOS>']]+[word_to_index[word] if word in word_to_index else word_to_index['<UNK>'] for word in sentence.split()]\n",
    "\n",
    "# 여러 개의 문장 리스트를 한꺼번에 단어 인덱스 리스트 벡터로 encode해 주는 함수입니다. \n",
    "def get_encoded_sentences(sentences, word_to_index):\n",
    "    return [get_encoded_sentence(sentence, word_to_index) for sentence in sentences]\n",
    "\n",
    "# 숫자 벡터로 encode된 문장을 원래대로 decode하는 함수입니다. \n",
    "def get_decoded_sentence(encoded_sentence, index_to_word):\n",
    "    return ' '.join(index_to_word[index] if index in index_to_word else '<UNK>' for index in encoded_sentence[1:])  #[1:]를 통해 <BOS>를 제외\n",
    "\n",
    "# 여러개의 숫자 벡터로 encode된 문장을 한꺼번에 원래대로 decode하는 함수입니다. \n",
    "def get_decoded_sentences(encoded_sentences, index_to_word):\n",
    "    return [get_decoded_sentence(encoded_sentence, index_to_word) for encoded_sentence in encoded_sentences]\n",
    "print(\"ok\")"
   ]
  },
  {
   "cell_type": "markdown",
   "metadata": {},
   "source": [
    "# 3) 모델구성을 위한 데이터 분석 및 가공\n",
    "데이터셋 내 문장 길이 분포\n",
    "적절한 최대 문장 길이 지정\n",
    "keras.preprocessing.sequence.pad_sequences 을 활용한 패딩 추가\n"
   ]
  },
  {
   "cell_type": "code",
   "execution_count": 7,
   "metadata": {},
   "outputs": [
    {
     "name": "stdout",
     "output_type": "stream",
     "text": [
      "[32, 74, 919, 4, 4, 39, 228, 20, 33, 748]\n",
      "라벨:  0\n",
      "1번째 리뷰 문장 길이:  10\n",
      "2번째 리뷰 문장 길이:  17\n"
     ]
    }
   ],
   "source": [
    "print(X_train[0])  # 1번째 리뷰데이터\n",
    "print('라벨: ', y_train[0])  # 1번째 리뷰데이터의 라벨\n",
    "print('1번째 리뷰 문장 길이: ', len(X_train[0]))\n",
    "print('2번째 리뷰 문장 길이: ', len(X_train[1]))"
   ]
  },
  {
   "cell_type": "code",
   "execution_count": 8,
   "metadata": {
    "scrolled": false
   },
   "outputs": [
    {
     "name": "stdout",
     "output_type": "stream",
     "text": [
      "69\n",
      "ㅋㅋㅋ\n",
      "10000\n",
      "10000\n"
     ]
    }
   ],
   "source": [
    "print(word_to_index[\"ㅋㅋㅋ\"])     # '69' 가 출력됩니다. \n",
    "print(index_to_word[69])\n",
    "print(len(word_to_index))\n",
    "print(len(index_to_word))"
   ]
  },
  {
   "cell_type": "code",
   "execution_count": 9,
   "metadata": {},
   "outputs": [
    {
     "name": "stdout",
     "output_type": "stream",
     "text": [
      "문장길이 평균 :  15.96940191154864\n",
      "문장길이 최대 :  116\n",
      "문장길이 표준편차 :  12.843571191092\n"
     ]
    }
   ],
   "source": [
    "total_data_text = list(X_train) + list(X_test)\n",
    "# 텍스트데이터 문장길이의 리스트를 생성한 후\n",
    "num_tokens = [len(tokens) for tokens in total_data_text]\n",
    "num_tokens = np.array(num_tokens)\n",
    "# 문장길이의 평균값, 최대값, 표준편차를 계산해 본다. \n",
    "print('문장길이 평균 : ', np.mean(num_tokens))\n",
    "print('문장길이 최대 : ', np.max(num_tokens))\n",
    "print('문장길이 표준편차 : ', np.std(num_tokens))"
   ]
  },
  {
   "cell_type": "code",
   "execution_count": 10,
   "metadata": {},
   "outputs": [
    {
     "name": "stdout",
     "output_type": "stream",
     "text": [
      "pad_sequences maxlen :  41\n",
      "전체 문장의 0.9342988343341575%가 maxlen 설정값 이내에 포함됩니다. \n"
     ]
    }
   ],
   "source": [
    "# 예를들어, 최대 길이를 (평균 + 2*표준편차)로 한다면,  \n",
    "max_tokens = np.mean(num_tokens) + 2 * np.std(num_tokens)\n",
    "maxlen = int(max_tokens)\n",
    "print('pad_sequences maxlen : ', maxlen)\n",
    "print('전체 문장의 {}%가 maxlen 설정값 이내에 포함됩니다. '.format(np.sum(num_tokens < max_tokens) / len(num_tokens)))"
   ]
  },
  {
   "cell_type": "markdown",
   "metadata": {},
   "source": [
    "# 패딩 추가"
   ]
  },
  {
   "cell_type": "code",
   "execution_count": 11,
   "metadata": {},
   "outputs": [
    {
     "name": "stdout",
     "output_type": "stream",
     "text": [
      "(146182, 41)\n",
      "(49157, 41)\n"
     ]
    }
   ],
   "source": [
    "X_train = keras.preprocessing.sequence.pad_sequences(X_train,\n",
    "                                                        value=word_to_index[\"<PAD>\"],\n",
    "                                                        padding='pre', # 혹은 'pre'\n",
    "                                                        maxlen=maxlen)\n",
    "\n",
    "X_test = keras.preprocessing.sequence.pad_sequences(X_test,\n",
    "                                                       value=word_to_index[\"<PAD>\"],\n",
    "                                                       padding='pre', # 혹은 'pre'\n",
    "                                                       maxlen=maxlen)\n",
    "\n",
    "print(X_train.shape)\n",
    "print(X_test.shape)"
   ]
  },
  {
   "cell_type": "code",
   "execution_count": 12,
   "metadata": {},
   "outputs": [
    {
     "name": "stdout",
     "output_type": "stream",
     "text": [
      "문장길이 평균 :  41.0\n",
      "문장길이 최대 :  41\n",
      "문장길이 표준편차 :  0.0\n"
     ]
    }
   ],
   "source": [
    "total_data_text = list(X_train) + list(X_test)\n",
    "# 텍스트데이터 문장길이의 리스트를 생성한 후\n",
    "num_tokens = [len(tokens) for tokens in total_data_text]\n",
    "num_tokens = np.array(num_tokens)\n",
    "# 문장길이의 평균값, 최대값, 표준편차를 계산해 본다. \n",
    "print('문장길이 평균 : ', np.mean(num_tokens))\n",
    "print('문장길이 최대 : ', np.max(num_tokens))\n",
    "print('문장길이 표준편차 : ', np.std(num_tokens))"
   ]
  },
  {
   "cell_type": "code",
   "execution_count": 13,
   "metadata": {},
   "outputs": [
    {
     "name": "stdout",
     "output_type": "stream",
     "text": [
      "[  0   0   0   0   0   0   0   0   0   0   0   0   0   0   0   0   0   0\n",
      "   0   0   0   0   0   0   0   0   0   0   0   0   0  32  74 919   4   4\n",
      "  39 228  20  33 748]\n",
      "라벨:  0\n",
      "1번째 리뷰 문장 길이:  41\n",
      "2번째 리뷰 문장 길이:  41\n"
     ]
    }
   ],
   "source": [
    "print(X_train[0])  # 1번째 리뷰데이터\n",
    "print('라벨: ', y_train[0])  # 1번째 리뷰데이터의 라벨\n",
    "print('1번째 리뷰 문장 길이: ', len(X_train[0]))\n",
    "print('2번째 리뷰 문장 길이: ', len(X_train[1]))"
   ]
  },
  {
   "cell_type": "markdown",
   "metadata": {},
   "source": [
    "# 4) 모델구성 및 validation set 구성\n",
    "모델은 3가지 이상 다양하게 구성하여 실험해 보세요."
   ]
  },
  {
   "cell_type": "code",
   "execution_count": 14,
   "metadata": {},
   "outputs": [
    {
     "name": "stdout",
     "output_type": "stream",
     "text": [
      "(116182, 41)\n",
      "(116182,)\n"
     ]
    }
   ],
   "source": [
    "# validation set 30000건 분리 train set의 약 20%\n",
    "X_val = X_train[:30000]   \n",
    "y_val = y_train[:30000]\n",
    "\n",
    "# validation set을 제외한 나머지 30000건\n",
    "partial_X_train = X_train[30000:]  \n",
    "partial_y_train = y_train[30000:]\n",
    "\n",
    "print(partial_X_train.shape)\n",
    "print(partial_y_train.shape)"
   ]
  },
  {
   "cell_type": "markdown",
   "metadata": {},
   "source": [
    "# 5) 모델 훈련 개시"
   ]
  },
  {
   "cell_type": "markdown",
   "metadata": {},
   "source": [
    "## RNN"
   ]
  },
  {
   "cell_type": "code",
   "execution_count": 15,
   "metadata": {
    "scrolled": true
   },
   "outputs": [
    {
     "name": "stdout",
     "output_type": "stream",
     "text": [
      "Model: \"sequential\"\n",
      "_________________________________________________________________\n",
      "Layer (type)                 Output Shape              Param #   \n",
      "=================================================================\n",
      "embedding (Embedding)        (None, None, 4)           40000     \n",
      "_________________________________________________________________\n",
      "lstm (LSTM)                  (None, 8)                 416       \n",
      "_________________________________________________________________\n",
      "dense (Dense)                (None, 128)               1152      \n",
      "_________________________________________________________________\n",
      "dense_1 (Dense)              (None, 1)                 129       \n",
      "=================================================================\n",
      "Total params: 41,697\n",
      "Trainable params: 41,697\n",
      "Non-trainable params: 0\n",
      "_________________________________________________________________\n"
     ]
    }
   ],
   "source": [
    "# RNN 모델 구성\n",
    "vocab_size = 10000  # 어휘 사전의 크기입니다(10개의 단어)\n",
    "word_vector_dim = 4  # 단어 하나를 표현하는 임베딩 벡터의 차원수입니다. \n",
    "\n",
    "rnn_ver1_model = keras.Sequential()\n",
    "rnn_ver1_model.add(keras.layers.Embedding(vocab_size, word_vector_dim, input_shape=(None,)))\n",
    "rnn_ver1_model.add(keras.layers.LSTM(8))\n",
    "rnn_ver1_model.add(keras.layers.Dense(128, activation='relu'))\n",
    "rnn_ver1_model.add(keras.layers.Dense(1, activation='sigmoid'))  # 최종 출력은 긍정/부정을 나타내는 1dim 입니다.\n",
    "\n",
    "rnn_ver1_model.summary()"
   ]
  },
  {
   "cell_type": "markdown",
   "metadata": {},
   "source": [
    "# 학습 개시"
   ]
  },
  {
   "cell_type": "code",
   "execution_count": 16,
   "metadata": {},
   "outputs": [
    {
     "name": "stdout",
     "output_type": "stream",
     "text": [
      "Epoch 1/5\n",
      "227/227 [==============================] - 2s 7ms/step - loss: 0.5024 - accuracy: 0.7537 - val_loss: 0.3588 - val_accuracy: 0.8430\n",
      "Epoch 2/5\n",
      "227/227 [==============================] - 1s 5ms/step - loss: 0.3405 - accuracy: 0.8546 - val_loss: 0.3465 - val_accuracy: 0.8500\n",
      "Epoch 3/5\n",
      "227/227 [==============================] - 1s 5ms/step - loss: 0.3219 - accuracy: 0.8651 - val_loss: 0.3465 - val_accuracy: 0.8505\n",
      "Epoch 4/5\n",
      "227/227 [==============================] - 1s 5ms/step - loss: 0.3121 - accuracy: 0.8694 - val_loss: 0.3499 - val_accuracy: 0.8489\n",
      "Epoch 5/5\n",
      "227/227 [==============================] - 1s 5ms/step - loss: 0.3060 - accuracy: 0.8732 - val_loss: 0.3563 - val_accuracy: 0.8455\n",
      "3631/3631 - 6s - loss: 0.2941 - accuracy: 0.8800\n",
      "train_loss: 0.29408156871795654 \n",
      "train_accuracy: 0.8800072073936462\n"
     ]
    }
   ],
   "source": [
    "rnn_ver1_model.compile(optimizer='adam',\n",
    "              loss='binary_crossentropy',\n",
    "              metrics=['accuracy'])\n",
    "              \n",
    "epochs = 5  # 몇 epoch를 훈련하면 좋을지 결과를 보면서 바꾸어 봅시다. \n",
    "\n",
    "rnn_ver1_history = rnn_ver1_model.fit(partial_X_train,\n",
    "                    partial_y_train,\n",
    "                    epochs=epochs,\n",
    "                    batch_size=512,\n",
    "                    validation_data=(X_val, y_val),\n",
    "                    verbose=1)\n",
    "\n",
    "rnn_ver1_train_loss, rnn_ver1_train_accuracy = rnn_ver1_model.evaluate(partial_X_train, partial_y_train, verbose=2)\n",
    "\n",
    "print(\"train_loss: {} \".format(rnn_ver1_train_loss))\n",
    "print(\"train_accuracy: {}\".format(rnn_ver1_train_accuracy))"
   ]
  },
  {
   "cell_type": "code",
   "execution_count": 17,
   "metadata": {
    "scrolled": true
   },
   "outputs": [
    {
     "name": "stdout",
     "output_type": "stream",
     "text": [
      "1537/1537 - 2s - loss: 0.3667 - accuracy: 0.8413\n",
      "[0.36671513319015503, 0.8412637114524841]\n"
     ]
    }
   ],
   "source": [
    "# 테스트셋 평가\n",
    "rnn_ver1_results = rnn_ver1_model.evaluate(X_test,  y_test, verbose=2)\n",
    "\n",
    "print(rnn_ver1_results)"
   ]
  },
  {
   "cell_type": "markdown",
   "metadata": {},
   "source": [
    "# 6) Loss, Accuracy 그래프 시각화"
   ]
  },
  {
   "cell_type": "code",
   "execution_count": 18,
   "metadata": {
    "scrolled": false
   },
   "outputs": [
    {
     "name": "stdout",
     "output_type": "stream",
     "text": [
      "dict_keys(['loss', 'accuracy', 'val_loss', 'val_accuracy'])\n"
     ]
    }
   ],
   "source": [
    "rnn_ver1_history_dict = rnn_ver1_history.history\n",
    "print(rnn_ver1_history_dict.keys()) # epoch에 따른 그래프를 그려볼 수 있는 항목들"
   ]
  },
  {
   "cell_type": "code",
   "execution_count": 19,
   "metadata": {
    "scrolled": true
   },
   "outputs": [
    {
     "data": {
      "image/png": "[encoded data removed]",
      "text/plain": [
       "<Figure size 432x288 with 1 Axes>"
      ]
     },
     "metadata": {
      "needs_background": "light"
     },
     "output_type": "display_data"
    }
   ],
   "source": [
    "import matplotlib.pyplot as plt\n",
    "\n",
    "acc = rnn_ver1_history_dict['accuracy']\n",
    "val_acc = rnn_ver1_history_dict['val_accuracy']\n",
    "loss = rnn_ver1_history_dict['loss']\n",
    "val_loss = rnn_ver1_history_dict['val_loss']\n",
    "\n",
    "epochs = range(1, len(acc) + 1)\n",
    "\n",
    "# \"bo\"는 \"파란색 점\"입니다\n",
    "plt.plot(epochs, loss, 'bo', label='Training loss')\n",
    "# b는 \"파란 실선\"입니다\n",
    "plt.plot(epochs, val_loss, 'b', label='Validation loss')\n",
    "plt.title('Training and validation loss')\n",
    "plt.xlabel('Epochs')\n",
    "plt.ylabel('Loss')\n",
    "plt.legend()\n",
    "\n",
    "plt.show()\n",
    "# validation loss와 train loss와 이격이 발생하면 더 이상의 트레이닝은 무의미"
   ]
  },
  {
   "cell_type": "markdown",
   "metadata": {},
   "source": [
    "# 1-d Convolution Neural Network(1-D CNN)"
   ]
  },
  {
   "cell_type": "code",
   "execution_count": 20,
   "metadata": {},
   "outputs": [
    {
     "name": "stdout",
     "output_type": "stream",
     "text": [
      "Model: \"sequential_1\"\n",
      "_________________________________________________________________\n",
      "Layer (type)                 Output Shape              Param #   \n",
      "=================================================================\n",
      "embedding_1 (Embedding)      (None, None, 4)           40000     \n",
      "_________________________________________________________________\n",
      "conv1d (Conv1D)              (None, None, 16)          464       \n",
      "_________________________________________________________________\n",
      "max_pooling1d (MaxPooling1D) (None, None, 16)          0         \n",
      "_________________________________________________________________\n",
      "conv1d_1 (Conv1D)            (None, None, 16)          1808      \n",
      "_________________________________________________________________\n",
      "global_max_pooling1d (Global (None, 16)                0         \n",
      "_________________________________________________________________\n",
      "dense_2 (Dense)              (None, 8)                 136       \n",
      "_________________________________________________________________\n",
      "dense_3 (Dense)              (None, 1)                 9         \n",
      "=================================================================\n",
      "Total params: 42,417\n",
      "Trainable params: 42,417\n",
      "Non-trainable params: 0\n",
      "_________________________________________________________________\n"
     ]
    }
   ],
   "source": [
    "vocab_size = 10000  # 어휘 사전의 크기입니다(10000개의 단어)\n",
    "word_vector_dim = 4   # 단어 하나를 표현하는 임베딩 벡터의 차원수입니다. \n",
    "\n",
    "cnn_ver1_model = keras.Sequential()\n",
    "cnn_ver1_model.add(keras.layers.Embedding(vocab_size, word_vector_dim, input_shape=(None,)))\n",
    "cnn_ver1_model.add(keras.layers.Conv1D(16, 7, activation='relu'))\n",
    "cnn_ver1_model.add(keras.layers.MaxPooling1D(5))\n",
    "cnn_ver1_model.add(keras.layers.Conv1D(16, 7, activation='relu'))\n",
    "cnn_ver1_model.add(keras.layers.GlobalMaxPooling1D())\n",
    "cnn_ver1_model.add(keras.layers.Dense(8, activation='relu'))\n",
    "cnn_ver1_model.add(keras.layers.Dense(1, activation='sigmoid'))  # 최종 출력은 긍정/부정을 나타내는 1dim 입니다.\n",
    "\n",
    "cnn_ver1_model.summary()"
   ]
  },
  {
   "cell_type": "code",
   "execution_count": 21,
   "metadata": {},
   "outputs": [
    {
     "name": "stdout",
     "output_type": "stream",
     "text": [
      "Epoch 1/5\n",
      "227/227 [==============================] - 6s 28ms/step - loss: 0.5392 - accuracy: 0.7148 - val_loss: 0.3702 - val_accuracy: 0.8371\n",
      "Epoch 2/5\n",
      "227/227 [==============================] - 1s 4ms/step - loss: 0.3457 - accuracy: 0.8510 - val_loss: 0.3484 - val_accuracy: 0.8496\n",
      "Epoch 3/5\n",
      "227/227 [==============================] - 1s 4ms/step - loss: 0.3150 - accuracy: 0.8677 - val_loss: 0.3443 - val_accuracy: 0.8527\n",
      "Epoch 4/5\n",
      "227/227 [==============================] - 1s 4ms/step - loss: 0.2970 - accuracy: 0.8767 - val_loss: 0.3482 - val_accuracy: 0.8510\n",
      "Epoch 5/5\n",
      "227/227 [==============================] - 1s 4ms/step - loss: 0.2832 - accuracy: 0.8837 - val_loss: 0.3538 - val_accuracy: 0.8504\n",
      "3631/3631 - 6s - loss: 0.2601 - accuracy: 0.8974\n",
      "train_loss: 0.2600882649421692 \n",
      "train_accuracy: 0.897359311580658\n"
     ]
    }
   ],
   "source": [
    "cnn_ver1_model.compile(optimizer='adam',\n",
    "              loss='binary_crossentropy',\n",
    "              metrics=['accuracy'])\n",
    "              \n",
    "epochs = 5  # 몇 epoch를 훈련하면 좋을지 결과를 보면서 바꾸어 봅시다. \n",
    "\n",
    "cnn_ver1_history = cnn_ver1_model.fit(partial_X_train,\n",
    "                    partial_y_train,\n",
    "                    epochs=epochs,\n",
    "                    batch_size=512,\n",
    "                    validation_data=(X_val, y_val),\n",
    "                    verbose=1)\n",
    "\n",
    "cnn_ver1_train_loss, cnn_ver1_train_accuracy = cnn_ver1_model.evaluate(partial_X_train, partial_y_train, verbose=2)\n",
    "\n",
    "print(\"train_loss: {} \".format(cnn_ver1_train_loss))\n",
    "print(\"train_accuracy: {}\".format(cnn_ver1_train_accuracy))"
   ]
  },
  {
   "cell_type": "code",
   "execution_count": 22,
   "metadata": {
    "scrolled": true
   },
   "outputs": [
    {
     "name": "stdout",
     "output_type": "stream",
     "text": [
      "1537/1537 - 4s - loss: 0.3658 - accuracy: 0.8440\n",
      "[0.36583155393600464, 0.8440099954605103]\n"
     ]
    }
   ],
   "source": [
    "# 테스트셋 평가\n",
    "cnn_ver1_results = cnn_ver1_model.evaluate(X_test,  y_test, verbose=2)\n",
    "\n",
    "print(cnn_ver1_results)"
   ]
  },
  {
   "cell_type": "code",
   "execution_count": 23,
   "metadata": {},
   "outputs": [
    {
     "name": "stdout",
     "output_type": "stream",
     "text": [
      "dict_keys(['loss', 'accuracy', 'val_loss', 'val_accuracy'])\n"
     ]
    }
   ],
   "source": [
    "cnn_ver1_history_dict_1 = cnn_ver1_history.history\n",
    "print(cnn_ver1_history_dict_1.keys()) # epoch에 따른 그래프를 그려볼 수 있는 항목들"
   ]
  },
  {
   "cell_type": "code",
   "execution_count": 24,
   "metadata": {
    "scrolled": true
   },
   "outputs": [
    {
     "data": {
      "image/png": "[encoded data removed]",
      "text/plain": [
       "<Figure size 432x288 with 1 Axes>"
      ]
     },
     "metadata": {
      "needs_background": "light"
     },
     "output_type": "display_data"
    }
   ],
   "source": [
    "import matplotlib.pyplot as plt\n",
    "\n",
    "acc = cnn_ver1_history_dict_1['accuracy']\n",
    "val_acc = cnn_ver1_history_dict_1['val_accuracy']\n",
    "loss = cnn_ver1_history_dict_1['loss']\n",
    "val_loss = cnn_ver1_history_dict_1['val_loss']\n",
    "\n",
    "epochs = range(1, len(acc) + 1)\n",
    "\n",
    "# \"bo\"는 \"파란색 점\"입니다\n",
    "plt.plot(epochs, loss, 'bo', label='Training loss')\n",
    "# b는 \"파란 실선\"입니다\n",
    "plt.plot(epochs, val_loss, 'b', label='Validation loss')\n",
    "plt.title('Training and validation loss')\n",
    "plt.xlabel('Epochs')\n",
    "plt.ylabel('Loss')\n",
    "plt.legend()\n",
    "\n",
    "plt.show()\n",
    "# validation loss와 train loss와 이격이 발생하면 더 이상의 트레이닝은 무의미"
   ]
  },
  {
   "cell_type": "markdown",
   "metadata": {},
   "source": [
    "# GlobalMaxPooling1D 하나만 사용"
   ]
  },
  {
   "cell_type": "code",
   "execution_count": 25,
   "metadata": {},
   "outputs": [
    {
     "name": "stdout",
     "output_type": "stream",
     "text": [
      "Model: \"sequential_2\"\n",
      "_________________________________________________________________\n",
      "Layer (type)                 Output Shape              Param #   \n",
      "=================================================================\n",
      "embedding_2 (Embedding)      (None, None, 4)           40000     \n",
      "_________________________________________________________________\n",
      "global_max_pooling1d_1 (Glob (None, 4)                 0         \n",
      "_________________________________________________________________\n",
      "dense_4 (Dense)              (None, 8)                 40        \n",
      "_________________________________________________________________\n",
      "dense_5 (Dense)              (None, 1)                 9         \n",
      "=================================================================\n",
      "Total params: 40,049\n",
      "Trainable params: 40,049\n",
      "Non-trainable params: 0\n",
      "_________________________________________________________________\n"
     ]
    }
   ],
   "source": [
    "vocab_size = 10000  # 어휘 사전의 크기입니다(10000개의 단어)\n",
    "word_vector_dim = 4   # 단어 하나를 표현하는 임베딩 벡터의 차원수입니다. \n",
    "\n",
    "gdp_ver1_model = keras.Sequential()\n",
    "gdp_ver1_model.add(keras.layers.Embedding(vocab_size, word_vector_dim, input_shape=(None,)))\n",
    "gdp_ver1_model.add(keras.layers.GlobalMaxPooling1D())\n",
    "gdp_ver1_model.add(keras.layers.Dense(8, activation='relu'))\n",
    "gdp_ver1_model.add(keras.layers.Dense(1, activation='sigmoid'))  # 최종 출력은 긍정/부정을 나타내는 1dim 입니다.\n",
    "\n",
    "gdp_ver1_model.summary()"
   ]
  },
  {
   "cell_type": "code",
   "execution_count": 26,
   "metadata": {},
   "outputs": [
    {
     "name": "stdout",
     "output_type": "stream",
     "text": [
      "Epoch 1/5\n",
      "227/227 [==============================] - 1s 4ms/step - loss: 0.6577 - accuracy: 0.6978 - val_loss: 0.5884 - val_accuracy: 0.7513\n",
      "Epoch 2/5\n",
      "227/227 [==============================] - 1s 3ms/step - loss: 0.5079 - accuracy: 0.7818 - val_loss: 0.4482 - val_accuracy: 0.7995\n",
      "Epoch 3/5\n",
      "227/227 [==============================] - 1s 4ms/step - loss: 0.4194 - accuracy: 0.8163 - val_loss: 0.4075 - val_accuracy: 0.8169\n",
      "Epoch 4/5\n",
      "227/227 [==============================] - 1s 3ms/step - loss: 0.3846 - accuracy: 0.8333 - val_loss: 0.3933 - val_accuracy: 0.8225\n",
      "Epoch 5/5\n",
      "227/227 [==============================] - 1s 4ms/step - loss: 0.3643 - accuracy: 0.8424 - val_loss: 0.3872 - val_accuracy: 0.8268\n",
      "3631/3631 - 4s - loss: 0.3500 - accuracy: 0.8501\n",
      "train_loss: 0.34998321533203125 \n",
      "train_accuracy: 0.850105881690979\n"
     ]
    }
   ],
   "source": [
    "gdp_ver1_model.compile(optimizer='adam',\n",
    "              loss='binary_crossentropy',\n",
    "              metrics=['accuracy'])\n",
    "              \n",
    "epochs = 5  # 몇 epoch를 훈련하면 좋을지 결과를 보면서 바꾸어 봅시다. \n",
    "\n",
    "gdp_ver1_history = gdp_ver1_model.fit(partial_X_train,\n",
    "                    partial_y_train,\n",
    "                    epochs=epochs,\n",
    "                    batch_size=512,\n",
    "                    validation_data=(X_val, y_val),\n",
    "                    verbose=1)\n",
    "\n",
    "gdp_ver1_train_loss, gdp_ver1_train_accuracy = gdp_ver1_model.evaluate(partial_X_train, partial_y_train, verbose=2)\n",
    "\n",
    "print(\"train_loss: {} \".format(gdp_ver1_train_loss))\n",
    "print(\"train_accuracy: {}\".format(gdp_ver1_train_accuracy))"
   ]
  },
  {
   "cell_type": "code",
   "execution_count": 27,
   "metadata": {
    "scrolled": false
   },
   "outputs": [
    {
     "name": "stdout",
     "output_type": "stream",
     "text": [
      "1537/1537 - 2s - loss: 0.3965 - accuracy: 0.8228\n",
      "[0.396529883146286, 0.8227922916412354]\n"
     ]
    }
   ],
   "source": [
    "# 테스트셋 평가\n",
    "gdp_ver1_results = gdp_ver1_model.evaluate(X_test,  y_test, verbose=2)\n",
    "\n",
    "print(gdp_ver1_results)"
   ]
  },
  {
   "cell_type": "code",
   "execution_count": 28,
   "metadata": {},
   "outputs": [
    {
     "name": "stdout",
     "output_type": "stream",
     "text": [
      "dict_keys(['loss', 'accuracy', 'val_loss', 'val_accuracy'])\n"
     ]
    }
   ],
   "source": [
    "gdp_ver1_history_dict_2 = gdp_ver1_history.history\n",
    "print(gdp_ver1_history_dict_2.keys()) # epoch에 따른 그래프를 그려볼 수 있는 항목들"
   ]
  },
  {
   "cell_type": "code",
   "execution_count": 29,
   "metadata": {},
   "outputs": [
    {
     "data": {
      "image/png": "[encoded data removed]",
      "text/plain": [
       "<Figure size 432x288 with 1 Axes>"
      ]
     },
     "metadata": {
      "needs_background": "light"
     },
     "output_type": "display_data"
    }
   ],
   "source": [
    "import matplotlib.pyplot as plt\n",
    "\n",
    "acc = gdp_ver1_history_dict_2['accuracy']\n",
    "val_acc = gdp_ver1_history_dict_2['val_accuracy']\n",
    "loss = gdp_ver1_history_dict_2['loss']\n",
    "val_loss = gdp_ver1_history_dict_2['val_loss']\n",
    "\n",
    "epochs = range(1, len(acc) + 1)\n",
    "\n",
    "# \"bo\"는 \"파란색 점\"입니다\n",
    "plt.plot(epochs, loss, 'bo', label='Training loss')\n",
    "# b는 \"파란 실선\"입니다\n",
    "plt.plot(epochs, val_loss, 'b', label='Validation loss')\n",
    "plt.title('Training and validation loss')\n",
    "plt.xlabel('Epochs')\n",
    "plt.ylabel('Loss')\n",
    "plt.legend()\n",
    "\n",
    "plt.show()\n",
    "# validation loss와 train loss와 이격이 발생하면 더 이상의 트레이닝은 무의미"
   ]
  },
  {
   "cell_type": "code",
   "execution_count": 30,
   "metadata": {},
   "outputs": [],
   "source": [
    "# 7) 학습된 Embedding 레이어 분석"
   ]
  },
  {
   "cell_type": "code",
   "execution_count": 31,
   "metadata": {},
   "outputs": [],
   "source": [
    "# RNN"
   ]
  },
  {
   "cell_type": "code",
   "execution_count": 32,
   "metadata": {},
   "outputs": [
    {
     "name": "stdout",
     "output_type": "stream",
     "text": [
      "(10000, 4)\n"
     ]
    }
   ],
   "source": [
    "embedding_layer = rnn_ver1_model.layers[0]\n",
    "weights = embedding_layer.get_weights()[0]\n",
    "print(weights.shape)    # shape: (vocab_size, embedding_dim)"
   ]
  },
  {
   "cell_type": "code",
   "execution_count": 33,
   "metadata": {},
   "outputs": [],
   "source": [
    "import os\n",
    "\n",
    "# 학습한 Embedding 파라미터를 파일에 써서 저장합니다. \n",
    "word2vec_file_path = os.getenv('HOME')+'/aiffel/aiffel_exp4_movie/sentiment_classification/1234word2vec.txt'\n",
    "f = open(word2vec_file_path, 'w')\n",
    "f.write('{} {}\\n'.format(vocab_size-4, word_vector_dim))  # 몇개의 벡터를 얼마 사이즈로 기재할지 타이틀을 씁니다.\n",
    "\n",
    "# 단어 개수(에서 특수문자 4개는 제외하고)만큼의 워드 벡터를 파일에 기록합니다. \n",
    "vectors = rnn_ver1_model.get_weights()[0]\n",
    "for i in range(4,vocab_size):\n",
    "    f.write('{} {}\\n'.format(index_to_word[i], ' '.join(map(str, list(vectors[i, :])))))\n",
    "f.close()"
   ]
  },
  {
   "cell_type": "code",
   "execution_count": 34,
   "metadata": {},
   "outputs": [
    {
     "data": {
      "text/plain": [
       "array([ 0.04388485,  0.04325615, -0.06223876,  0.00230013], dtype=float32)"
      ]
     },
     "execution_count": 34,
     "metadata": {},
     "output_type": "execute_result"
    }
   ],
   "source": [
    "from gensim.models.keyedvectors import Word2VecKeyedVectors\n",
    "\n",
    "word_vectors = Word2VecKeyedVectors.load_word2vec_format(word2vec_file_path, binary=False)\n",
    "vector = word_vectors['우주']\n",
    "vector"
   ]
  },
  {
   "cell_type": "code",
   "execution_count": 35,
   "metadata": {},
   "outputs": [
    {
     "data": {
      "text/plain": [
       "[('관서', 0.9951021671295166),\n",
       " ('쯤', 0.9946135878562927),\n",
       " ('진지희', 0.9943133592605591),\n",
       " ('친한', 0.9941197633743286),\n",
       " ('쇼생크', 0.9934477806091309),\n",
       " ('노랑머리', 0.9932416081428528),\n",
       " ('장진', 0.9931413531303406),\n",
       " ('도데체', 0.9926652908325195),\n",
       " ('정신병', 0.9916306734085083),\n",
       " ('배드', 0.9913793802261353)]"
      ]
     },
     "execution_count": 35,
     "metadata": {},
     "output_type": "execute_result"
    }
   ],
   "source": [
    "word_vectors.similar_by_word(\"우주\")"
   ]
  },
  {
   "cell_type": "code",
   "execution_count": 36,
   "metadata": {},
   "outputs": [],
   "source": [
    "# 1D-CNN"
   ]
  },
  {
   "cell_type": "code",
   "execution_count": 37,
   "metadata": {},
   "outputs": [
    {
     "name": "stdout",
     "output_type": "stream",
     "text": [
      "(10000, 4)\n"
     ]
    }
   ],
   "source": [
    "embedding_layer = cnn_ver1_model.layers[0]\n",
    "weights = embedding_layer.get_weights()[0]\n",
    "print(weights.shape)    # shape: (vocab_size, embedding_dim)"
   ]
  },
  {
   "cell_type": "code",
   "execution_count": 38,
   "metadata": {},
   "outputs": [],
   "source": [
    "import os\n",
    "\n",
    "\n",
    "# 학습한 Embedding 파라미터를 파일에 써서 저장합니다. \n",
    "word2vec_file_path = os.getenv('HOME')+'/aiffel/aiffel_exp4_movie/sentiment_classification/cnn_word2vec.txt'\n",
    "f = open(word2vec_file_path, 'w')\n",
    "f.write('{} {}\\n'.format(vocab_size-4, word_vector_dim))  # 몇개의 벡터를 얼마 사이즈로 기재할지 타이틀을 씁니다.\n",
    "\n",
    "# 단어 개수(에서 특수문자 4개는 제외하고)만큼의 워드 벡터를 파일에 기록합니다. \n",
    "vectors = cnn_ver1_model.get_weights()[0]\n",
    "for i in range(4,vocab_size):\n",
    "    f.write('{} {}\\n'.format(index_to_word[i], ' '.join(map(str, list(vectors[i, :])))))\n",
    "f.close()"
   ]
  },
  {
   "cell_type": "code",
   "execution_count": 39,
   "metadata": {},
   "outputs": [
    {
     "data": {
      "text/plain": [
       "array([ 0.03398137, -0.00075969, -0.03964003, -0.04007489], dtype=float32)"
      ]
     },
     "execution_count": 39,
     "metadata": {},
     "output_type": "execute_result"
    }
   ],
   "source": [
    "from gensim.models.keyedvectors import Word2VecKeyedVectors\n",
    "\n",
    "word_vectors = Word2VecKeyedVectors.load_word2vec_format(word2vec_file_path, binary=False)\n",
    "vector = word_vectors['우주']\n",
    "vector"
   ]
  },
  {
   "cell_type": "code",
   "execution_count": 40,
   "metadata": {},
   "outputs": [
    {
     "data": {
      "text/plain": [
       "[('로우', 0.9997302293777466),\n",
       " ('사이트', 0.9987977147102356),\n",
       " ('문근영', 0.9987605810165405),\n",
       " ('할배', 0.9977378845214844),\n",
       " ('작자', 0.9962354302406311),\n",
       " ('장녀', 0.9955165386199951),\n",
       " ('명절', 0.994279146194458),\n",
       " ('화나', 0.9939761757850647),\n",
       " ('어필', 0.9935404062271118),\n",
       " ('즘', 0.9934496879577637)]"
      ]
     },
     "execution_count": 40,
     "metadata": {},
     "output_type": "execute_result"
    }
   ],
   "source": [
    "word_vectors.similar_by_word(\"우주\")"
   ]
  },
  {
   "cell_type": "code",
   "execution_count": 41,
   "metadata": {},
   "outputs": [],
   "source": [
    "# GDP"
   ]
  },
  {
   "cell_type": "code",
   "execution_count": 42,
   "metadata": {},
   "outputs": [
    {
     "name": "stdout",
     "output_type": "stream",
     "text": [
      "(10000, 4)\n"
     ]
    }
   ],
   "source": [
    "embedding_layer = gdp_ver1_model.layers[0]\n",
    "weights = embedding_layer.get_weights()[0]\n",
    "print(weights.shape)    # shape: (vocab_size, embedding_dim)"
   ]
  },
  {
   "cell_type": "code",
   "execution_count": 43,
   "metadata": {},
   "outputs": [],
   "source": [
    "import os\n",
    "\n",
    "\n",
    "# 학습한 Embedding 파라미터를 파일에 써서 저장합니다. \n",
    "word2vec_file_path = os.getenv('HOME')+'/aiffel/aiffel_exp4_movie/sentiment_classification/gdp_word2vec.txt'\n",
    "f = open(word2vec_file_path, 'w')\n",
    "f.write('{} {}\\n'.format(vocab_size-4, word_vector_dim))  # 몇개의 벡터를 얼마 사이즈로 기재할지 타이틀을 씁니다.\n",
    "\n",
    "# 단어 개수(에서 특수문자 4개는 제외하고)만큼의 워드 벡터를 파일에 기록합니다. \n",
    "vectors = gdp_ver1_model.get_weights()[0]\n",
    "for i in range(4,vocab_size):\n",
    "    f.write('{} {}\\n'.format(index_to_word[i], ' '.join(map(str, list(vectors[i, :])))))\n",
    "f.close()"
   ]
  },
  {
   "cell_type": "code",
   "execution_count": 44,
   "metadata": {},
   "outputs": [
    {
     "data": {
      "text/plain": [
       "array([-0.00327938, -0.11557207, -0.07100914, -0.08437398], dtype=float32)"
      ]
     },
     "execution_count": 44,
     "metadata": {},
     "output_type": "execute_result"
    }
   ],
   "source": [
    "from gensim.models.keyedvectors import Word2VecKeyedVectors\n",
    "\n",
    "word_vectors = Word2VecKeyedVectors.load_word2vec_format(word2vec_file_path, binary=False)\n",
    "vector = word_vectors['우주']\n",
    "vector"
   ]
  },
  {
   "cell_type": "code",
   "execution_count": 45,
   "metadata": {},
   "outputs": [
    {
     "data": {
      "text/plain": [
       "[('로', 0.9994810223579407),\n",
       " ('이젠', 0.9994576573371887),\n",
       " ('건', 0.9993752837181091),\n",
       " ('류승범', 0.9993009567260742),\n",
       " ('애쓰', 0.999223530292511),\n",
       " ('합리', 0.9991393685340881),\n",
       " ('결말', 0.9989421367645264),\n",
       " ('이것', 0.9986511468887329),\n",
       " ('숨바꼭질', 0.9986134171485901),\n",
       " ('역겨운', 0.9984898567199707)]"
      ]
     },
     "execution_count": 45,
     "metadata": {},
     "output_type": "execute_result"
    }
   ],
   "source": [
    "word_vectors.similar_by_word(\"우주\")"
   ]
  },
  {
   "cell_type": "code",
   "execution_count": 46,
   "metadata": {},
   "outputs": [],
   "source": [
    "# word2vec 임베딩 후"
   ]
  },
  {
   "cell_type": "code",
   "execution_count": 47,
   "metadata": {},
   "outputs": [],
   "source": [
    "# 8) 한국어 Word2Vec 임베딩 활용하여 성능개선"
   ]
  },
  {
   "cell_type": "code",
   "execution_count": 48,
   "metadata": {},
   "outputs": [
    {
     "name": "stderr",
     "output_type": "stream",
     "text": [
      "/home/aiffel-dj47/anaconda3/envs/aiffel/lib/python3.7/site-packages/ipykernel_launcher.py:11: DeprecationWarning: Call to deprecated `__getitem__` (Method will be removed in 4.0.0, use self.wv.__getitem__() instead).\n",
      "  # This is added back by InteractiveShellApp.init_path()\n"
     ]
    },
    {
     "data": {
      "text/plain": [
       "array([ 0.0643605 , -0.75850713, -0.78850394,  0.21753669, -0.28130105,\n",
       "       -0.6632435 ,  1.6914202 , -0.31084734, -0.64485806, -0.6700209 ,\n",
       "        0.6235759 , -0.58446664, -1.1279049 , -0.03676866, -0.7908701 ,\n",
       "        0.32665044,  0.7920674 ,  0.7052816 ,  0.23402977, -0.38289428,\n",
       "        0.30356896, -0.55135953, -0.5923448 , -0.2642823 , -0.584332  ,\n",
       "       -1.1653906 ,  0.70067364,  2.0277267 , -0.4266274 , -0.09212645,\n",
       "        0.41646624, -1.3568132 , -0.30952153,  0.07049061, -0.16973379,\n",
       "       -1.2042696 ,  1.3581532 ,  0.4709492 ,  0.43117502,  0.38722822,\n",
       "       -0.21711977,  0.3697255 ,  0.73365796, -0.10968686, -1.0507535 ,\n",
       "       -0.21823889,  1.1257955 , -0.25384673, -0.34050754,  0.3748362 ,\n",
       "        0.2297252 , -0.64341813,  0.29639307,  0.18082614, -1.4727557 ,\n",
       "       -0.7431612 ,  1.1861358 ,  0.9158351 ,  0.60654825,  0.4838607 ,\n",
       "        1.0553918 , -0.43588084, -0.9833993 , -0.30019942,  0.29289278,\n",
       "        0.23865221,  0.8824978 ,  0.33007935,  1.1195478 ,  1.9340631 ,\n",
       "        0.2564886 ,  0.02879534, -0.6185462 ,  0.6133964 ,  0.5803134 ,\n",
       "       -0.6957514 , -0.45365736, -2.0136213 ,  0.5379608 , -1.1345761 ,\n",
       "       -1.0763277 , -0.60781395,  1.9274557 , -0.67293555, -0.96884745,\n",
       "        1.0610644 ,  0.08548895, -0.06252994,  0.70149505,  0.36600658,\n",
       "        0.8285636 , -0.12903176,  0.71991295,  0.5684109 , -1.084697  ,\n",
       "        0.10625752,  0.40884325,  0.14205047,  0.8005839 ,  1.2669076 ,\n",
       "        0.30644223,  1.0636857 ,  1.5451586 ,  0.2126916 ,  1.3761126 ,\n",
       "        2.3997192 , -0.40051538, -0.6057827 , -0.17640561, -1.4674505 ,\n",
       "        2.2247996 , -0.95779306,  0.5969134 , -0.5469268 ,  1.1655829 ,\n",
       "       -0.2737017 , -0.52166486, -0.39243564, -0.3664593 ,  0.7679646 ,\n",
       "        0.543527  , -1.2060653 ,  0.2723644 , -0.22324434,  0.03624758,\n",
       "        0.19087592, -0.8312359 , -0.35891634,  1.7512821 ,  1.1561639 ,\n",
       "        0.6043123 , -0.88568217, -0.32107994,  1.4318057 ,  1.6275492 ,\n",
       "        0.4826375 ,  0.59799874,  0.20008978,  1.2075242 , -1.1371212 ,\n",
       "       -0.11310411,  0.02967402, -0.06565996,  0.35252878,  0.47149405,\n",
       "       -0.54763716, -0.4639593 , -0.7706148 ,  0.10367027, -0.60490525,\n",
       "       -1.1985812 , -0.14811532, -1.5250201 ,  0.06743796, -1.6288518 ,\n",
       "       -1.4083629 ,  0.762828  , -0.00688435, -1.1808805 , -1.5552479 ,\n",
       "       -0.04437932,  0.05609066,  0.89939487,  0.13703844, -0.47919354,\n",
       "       -0.21078554, -0.45190924,  1.6949639 ,  1.0483396 ,  1.7336023 ,\n",
       "       -1.3916256 ,  0.03630824, -1.043289  , -0.39980114, -0.23950832,\n",
       "       -0.1307037 , -0.98814595,  0.6122002 ,  0.385962  ,  0.20510086,\n",
       "       -0.30421096, -0.08440696,  1.407303  , -0.2633934 ,  0.32100594,\n",
       "        1.8213369 , -0.3610985 ,  0.95762384,  0.28056756,  0.3590859 ,\n",
       "        0.7227713 , -0.64063984, -0.2939038 ,  0.3555574 ,  0.08511703,\n",
       "        1.5444021 , -0.01085157,  0.64506924,  0.932503  , -0.4539491 ],\n",
       "      dtype=float32)"
      ]
     },
     "execution_count": 48,
     "metadata": {},
     "output_type": "execute_result"
    }
   ],
   "source": [
    "import os\n",
    "import gensim\n",
    "from gensim.models import KeyedVectors\n",
    "from gensim.models import Word2Vec\n",
    "\n",
    "from gensim.models.keyedvectors import Word2VecKeyedVectors\n",
    "\n",
    "from gensim.models import KeyedVectors\n",
    "word2vec_path = os.getenv('HOME')+'/aiffel/aiffel_exp4_movie/sentiment_classification/ko.bin'\n",
    "word2vec = gensim.models.Word2Vec.load(word2vec_path) # 블로그 보고 찾음\n",
    "vector = word2vec['연예인']\n",
    "vector     # 무려 300dim의 워드 벡터입니다."
   ]
  },
  {
   "cell_type": "code",
   "execution_count": 49,
   "metadata": {
    "scrolled": true
   },
   "outputs": [
    {
     "name": "stdout",
     "output_type": "stream",
     "text": [
      "[('사랑', 0.6759077310562134), ('기쁨', 0.6493781805038452), ('즐거움', 0.6396492719650269), ('삶', 0.629989743232727), ('젊음', 0.6187378764152527), ('즐겁', 0.6027448177337646), ('인생', 0.6002243161201477), ('존엄', 0.5952589511871338)]\n"
     ]
    }
   ],
   "source": [
    "similar = word2vec.wv.most_similar(\"행복\", topn=8)\n",
    "print(similar)\n",
    "# word2vec.similar_by_word"
   ]
  },
  {
   "cell_type": "code",
   "execution_count": 50,
   "metadata": {},
   "outputs": [
    {
     "name": "stdout",
     "output_type": "stream",
     "text": [
      "[('우주인', 0.5970311760902405), ('우주선', 0.5897793173789978), ('태양계', 0.5495188236236572), ('인공위성', 0.5380538105964661), ('발사체', 0.5338727831840515), ('생명체', 0.508995532989502), ('탐사선', 0.5014845132827759), ('외계', 0.49762028455734253)]\n"
     ]
    }
   ],
   "source": [
    "similar = word2vec.wv.most_similar(\"우주\", topn=8)\n",
    "print(similar)"
   ]
  },
  {
   "cell_type": "code",
   "execution_count": 51,
   "metadata": {},
   "outputs": [],
   "source": [
    "# 임베딩 레이어 word2vec으로 교체"
   ]
  },
  {
   "cell_type": "code",
   "execution_count": 52,
   "metadata": {
    "scrolled": true
   },
   "outputs": [
    {
     "name": "stdout",
     "output_type": "stream",
     "text": [
      "ok\n"
     ]
    },
    {
     "name": "stderr",
     "output_type": "stream",
     "text": [
      "/home/aiffel-dj47/anaconda3/envs/aiffel/lib/python3.7/site-packages/ipykernel_launcher.py:8: DeprecationWarning: Call to deprecated `__contains__` (Method will be removed in 4.0.0, use self.wv.__contains__() instead).\n",
      "  \n",
      "/home/aiffel-dj47/anaconda3/envs/aiffel/lib/python3.7/site-packages/ipykernel_launcher.py:9: DeprecationWarning: Call to deprecated `__getitem__` (Method will be removed in 4.0.0, use self.wv.__getitem__() instead).\n",
      "  if __name__ == '__main__':\n"
     ]
    }
   ],
   "source": [
    "vocab_size = 10000    # 어휘 사전의 크기입니다(10,000개의 단어)\n",
    "word_vector_dim = 200  # 워드 벡터의 차원수 (변경가능한 하이퍼파라미터)\n",
    "\n",
    "embedding_matrix = np.random.rand(vocab_size, word_vector_dim)\n",
    "\n",
    "# embedding_matrix에 Word2Vec 워드벡터를 단어 하나씩마다 차례차례 카피한다.\n",
    "for i in range(4,vocab_size):\n",
    "    if index_to_word[i] in word2vec:\n",
    "        embedding_matrix[i] = word2vec[index_to_word[i]]\n",
    "print(\"ok\")"
   ]
  },
  {
   "cell_type": "markdown",
   "metadata": {},
   "source": [
    "---"
   ]
  },
  {
   "cell_type": "markdown",
   "metadata": {},
   "source": [
    "# 5) 모델 훈련 개시"
   ]
  },
  {
   "cell_type": "markdown",
   "metadata": {},
   "source": [
    "## RNN"
   ]
  },
  {
   "cell_type": "code",
   "execution_count": 53,
   "metadata": {},
   "outputs": [
    {
     "name": "stdout",
     "output_type": "stream",
     "text": [
      "ok\n"
     ]
    }
   ],
   "source": [
    "from tensorflow.keras.initializers import Constant\n",
    "print(\"ok\")"
   ]
  },
  {
   "cell_type": "code",
   "execution_count": 54,
   "metadata": {},
   "outputs": [
    {
     "name": "stdout",
     "output_type": "stream",
     "text": [
      "Model: \"sequential_3\"\n",
      "_________________________________________________________________\n",
      "Layer (type)                 Output Shape              Param #   \n",
      "=================================================================\n",
      "embedding_3 (Embedding)      (None, None, 200)         2000000   \n",
      "_________________________________________________________________\n",
      "lstm_1 (LSTM)                (None, 128)               168448    \n",
      "_________________________________________________________________\n",
      "dense_6 (Dense)              (None, 8)                 1032      \n",
      "_________________________________________________________________\n",
      "dense_7 (Dense)              (None, 1)                 9         \n",
      "=================================================================\n",
      "Total params: 2,169,489\n",
      "Trainable params: 2,169,489\n",
      "Non-trainable params: 0\n",
      "_________________________________________________________________\n"
     ]
    }
   ],
   "source": [
    "# RNN 모델 구성\n",
    "\n",
    "\n",
    "vocab_size = 10000  # 어휘 사전의 크기입니다(10개의 단어) \n",
    "word_vector_dim = 200  # 단어 하나를 표현하는 임베딩 벡터의 차원수입니다. \n",
    "# 아래 오류로 vocab_size 수정\n",
    "# TypeError: Eager execution of tf.constant with unsupported shape (value has 2000000 elements, shape is (10000, 16) with 160000 elements).\n",
    "\n",
    "\n",
    "rnn_ver2_model = keras.Sequential()\n",
    "rnn_ver2_model.add(keras.layers.Embedding(vocab_size, \n",
    "                                 word_vector_dim, \n",
    "                                 embeddings_initializer=Constant(embedding_matrix),  # 카피한 임베딩을 여기서 활용\n",
    "                                 input_shape=(None,)))\n",
    "rnn_ver2_model.add(keras.layers.LSTM(128))   # 가장 널리 쓰이는 RNN인 LSTM 레이어를 사용하였습니다. 이때 LSTM state 벡터의 차원수는 8로 하였습니다. (변경가능)\n",
    "rnn_ver2_model.add(keras.layers.Dense(8, activation='relu'))\n",
    "rnn_ver2_model.add(keras.layers.Dense(1, activation='sigmoid'))  # 최종 출력은 긍정/부정을 나타내는 1dim 입니다.\n",
    "\n",
    "rnn_ver2_model.summary()"
   ]
  },
  {
   "cell_type": "markdown",
   "metadata": {},
   "source": [
    "# 학습 개시"
   ]
  },
  {
   "cell_type": "code",
   "execution_count": 57,
   "metadata": {},
   "outputs": [
    {
     "name": "stdout",
     "output_type": "stream",
     "text": [
      "Epoch 1/4\n",
      "227/227 [==============================] - 7s 33ms/step - loss: 0.1371 - accuracy: 0.9487 - val_loss: 0.4089 - val_accuracy: 0.8609\n",
      "Epoch 2/4\n",
      "227/227 [==============================] - 7s 32ms/step - loss: 0.1100 - accuracy: 0.9603 - val_loss: 0.4626 - val_accuracy: 0.8605\n",
      "Epoch 3/4\n",
      "227/227 [==============================] - 7s 32ms/step - loss: 0.0938 - accuracy: 0.9664 - val_loss: 0.5076 - val_accuracy: 0.8568\n",
      "Epoch 4/4\n",
      "227/227 [==============================] - 7s 32ms/step - loss: 0.0792 - accuracy: 0.9719 - val_loss: 0.5459 - val_accuracy: 0.8551\n",
      "3631/3631 - 7s - loss: 0.0608 - accuracy: 0.9797\n",
      "train_loss: 0.06083481386303902 \n",
      "train_accuracy: 0.979661226272583\n"
     ]
    }
   ],
   "source": [
    "rnn_ver2_model.compile(optimizer='adam',\n",
    "              loss='binary_crossentropy',\n",
    "              metrics=['accuracy'])\n",
    "              \n",
    "epochs = 4  # 몇 epoch를 훈련하면 좋을지 결과를 보면서 바꾸어 봅시다. \n",
    "\n",
    "history = rnn_ver2_model.fit(partial_X_train,\n",
    "                    partial_y_train,\n",
    "                    epochs=epochs,\n",
    "                    batch_size=512,\n",
    "                    validation_data=(X_val, y_val),\n",
    "                    verbose=1)\n",
    "\n",
    "rnn_ver2_train_loss, rnn_ver2_train_accuracy = rnn_ver2_model.evaluate(partial_X_train, partial_y_train, verbose=2)\n",
    "\n",
    "print(\"train_loss: {} \".format(rnn_ver2_train_loss))\n",
    "print(\"train_accuracy: {}\".format(rnn_ver2_train_accuracy))"
   ]
  },
  {
   "cell_type": "code",
   "execution_count": 58,
   "metadata": {
    "scrolled": true
   },
   "outputs": [
    {
     "name": "stdout",
     "output_type": "stream",
     "text": [
      "1537/1537 - 3s - loss: 0.5487 - accuracy: 0.8534\n",
      "[0.5487379431724548, 0.8534084558486938]\n"
     ]
    }
   ],
   "source": [
    "# 테스트셋 평가\n",
    "rnn_ver2_results = rnn_ver2_model.evaluate(X_test,  y_test, verbose=2)\n",
    "\n",
    "print(rnn_ver2_results)"
   ]
  },
  {
   "cell_type": "code",
   "execution_count": 59,
   "metadata": {},
   "outputs": [
    {
     "name": "stdout",
     "output_type": "stream",
     "text": [
      "dict_keys(['loss', 'accuracy', 'val_loss', 'val_accuracy'])\n"
     ]
    }
   ],
   "source": [
    "rnn_ver2_history_dict_3 = history.history\n",
    "print(rnn_ver2_history_dict_3.keys()) # epoch에 따른 그래프를 그려볼 수 있는 항목들"
   ]
  },
  {
   "cell_type": "code",
   "execution_count": 60,
   "metadata": {},
   "outputs": [
    {
     "data": {
      "image/png": "[encoded data removed]",
      "text/plain": [
       "<Figure size 432x288 with 1 Axes>"
      ]
     },
     "metadata": {
      "needs_background": "light"
     },
     "output_type": "display_data"
    }
   ],
   "source": [
    "import matplotlib.pyplot as plt\n",
    "\n",
    "acc = rnn_ver2_history_dict_3['accuracy']\n",
    "val_acc = rnn_ver2_history_dict_3['val_accuracy']\n",
    "loss = rnn_ver2_history_dict_3['loss']\n",
    "val_loss = rnn_ver2_history_dict_3['val_loss']\n",
    "\n",
    "epochs = range(1, len(acc) + 1)\n",
    "\n",
    "# \"bo\"는 \"파란색 점\"입니다\n",
    "plt.plot(epochs, loss, 'bo', label='Training loss')\n",
    "# b는 \"파란 실선\"입니다\n",
    "plt.plot(epochs, val_loss, 'b', label='Validation loss')\n",
    "plt.title('Training and validation loss')\n",
    "plt.xlabel('Epochs')\n",
    "plt.ylabel('Loss')\n",
    "plt.legend()\n",
    "\n",
    "plt.show()\n",
    "# validation loss와 train loss와 이격이 발생하면 더 이상의 트레이닝은 무의미"
   ]
  },
  {
   "cell_type": "code",
   "execution_count": null,
   "metadata": {},
   "outputs": [],
   "source": [
    "# 그래프로 확인해보니 epochs가 4이면 될 것 같음"
   ]
  },
  {
   "cell_type": "markdown",
   "metadata": {},
   "source": [
    "# 1-d Convolution Neural Network(1-D CNN)"
   ]
  },
  {
   "cell_type": "code",
   "execution_count": 61,
   "metadata": {},
   "outputs": [
    {
     "name": "stdout",
     "output_type": "stream",
     "text": [
      "Model: \"sequential_4\"\n",
      "_________________________________________________________________\n",
      "Layer (type)                 Output Shape              Param #   \n",
      "=================================================================\n",
      "embedding_4 (Embedding)      (None, None, 20)          2000000   \n",
      "_________________________________________________________________\n",
      "conv1d_2 (Conv1D)            (None, None, 32)          4512      \n",
      "_________________________________________________________________\n",
      "max_pooling1d_1 (MaxPooling1 (None, None, 32)          0         \n",
      "_________________________________________________________________\n",
      "conv1d_3 (Conv1D)            (None, None, 64)          14400     \n",
      "_________________________________________________________________\n",
      "global_max_pooling1d_2 (Glob (None, 64)                0         \n",
      "_________________________________________________________________\n",
      "dense_8 (Dense)              (None, 8)                 520       \n",
      "_________________________________________________________________\n",
      "dense_9 (Dense)              (None, 1)                 9         \n",
      "=================================================================\n",
      "Total params: 2,019,441\n",
      "Trainable params: 2,019,441\n",
      "Non-trainable params: 0\n",
      "_________________________________________________________________\n"
     ]
    }
   ],
   "source": [
    "vocab_size = 100000  # 어휘 사전의 크기입니다(10000개의 단어)\n",
    "word_vector_dim = 20   # 단어 하나를 표현하는 임베딩 벡터의 차원수입니다. \n",
    "\n",
    "cnn_ver2_model = keras.Sequential()\n",
    "cnn_ver2_model.add(keras.layers.Embedding(vocab_size, \n",
    "                                 word_vector_dim, \n",
    "                                 embeddings_initializer=Constant(embedding_matrix),  # 카피한 임베딩을 여기서 활용\n",
    "                                 input_shape=(None,)))\n",
    "cnn_ver2_model.add(keras.layers.Conv1D(32, 7, activation='relu'))\n",
    "cnn_ver2_model.add(keras.layers.MaxPooling1D(5))\n",
    "cnn_ver2_model.add(keras.layers.Conv1D(64, 7, activation='relu'))\n",
    "cnn_ver2_model.add(keras.layers.GlobalMaxPooling1D())\n",
    "cnn_ver2_model.add(keras.layers.Dense(8, activation='relu'))\n",
    "cnn_ver2_model.add(keras.layers.Dense(1, activation='sigmoid'))  # 최종 출력은 긍정/부정을 나타내는 1dim 입니다.\n",
    "\n",
    "cnn_ver2_model.summary()"
   ]
  },
  {
   "cell_type": "code",
   "execution_count": 62,
   "metadata": {},
   "outputs": [
    {
     "name": "stdout",
     "output_type": "stream",
     "text": [
      "Epoch 1/4\n",
      "227/227 [==============================] - 12s 51ms/step - loss: 0.6933 - accuracy: 0.4984 - val_loss: 0.6931 - val_accuracy: 0.5024\n",
      "Epoch 2/4\n",
      "227/227 [==============================] - 4s 16ms/step - loss: 0.6926 - accuracy: 0.5044 - val_loss: 0.6822 - val_accuracy: 0.5722\n",
      "Epoch 3/4\n",
      "227/227 [==============================] - 4s 19ms/step - loss: 0.5385 - accuracy: 0.7232 - val_loss: 0.4603 - val_accuracy: 0.7793\n",
      "Epoch 4/4\n",
      "227/227 [==============================] - 4s 17ms/step - loss: 0.4282 - accuracy: 0.8005 - val_loss: 0.4198 - val_accuracy: 0.8062\n",
      "3631/3631 - 7s - loss: 0.3962 - accuracy: 0.8204\n",
      "train_loss: 0.3961549401283264 \n",
      "train_accuracy: 0.8204024434089661\n"
     ]
    }
   ],
   "source": [
    "cnn_ver2_model.compile(optimizer='adam',\n",
    "              loss='binary_crossentropy',\n",
    "              metrics=['accuracy'])\n",
    "              \n",
    "epochs = 4  # 몇 epoch를 훈련하면 좋을지 결과를 보면서 바꾸어 봅시다. \n",
    "\n",
    "cnn_ver2_history = cnn_ver2_model.fit(partial_X_train,\n",
    "                    partial_y_train,\n",
    "                    epochs=epochs,\n",
    "                    batch_size=512,\n",
    "                    validation_data=(X_val, y_val),\n",
    "                    verbose=1)\n",
    "\n",
    "cnn_ver2_train_loss, cnn_ver2_train_accuracy = cnn_ver2_model.evaluate(partial_X_train, partial_y_train, verbose=2)\n",
    "\n",
    "print(\"train_loss: {} \".format(cnn_ver2_train_loss))\n",
    "print(\"train_accuracy: {}\".format(cnn_ver2_train_accuracy))"
   ]
  },
  {
   "cell_type": "code",
   "execution_count": 63,
   "metadata": {
    "scrolled": true
   },
   "outputs": [
    {
     "name": "stdout",
     "output_type": "stream",
     "text": [
      "1537/1537 - 4s - loss: 0.4294 - accuracy: 0.8005\n",
      "[0.4293554425239563, 0.8005167245864868]\n"
     ]
    }
   ],
   "source": [
    "# 테스트셋 평가\n",
    "cnn_ver2_results = cnn_ver2_model.evaluate(X_test,  y_test, verbose=2)\n",
    "\n",
    "print(cnn_ver2_results)"
   ]
  },
  {
   "cell_type": "code",
   "execution_count": 64,
   "metadata": {},
   "outputs": [
    {
     "name": "stdout",
     "output_type": "stream",
     "text": [
      "dict_keys(['loss', 'accuracy', 'val_loss', 'val_accuracy'])\n"
     ]
    }
   ],
   "source": [
    "cnn_ver2_history_dict_4 = history.history\n",
    "print(cnn_ver2_history_dict_4.keys()) # epoch에 따른 그래프를 그려볼 수 있는 항목들"
   ]
  },
  {
   "cell_type": "code",
   "execution_count": 65,
   "metadata": {},
   "outputs": [
    {
     "data": {
      "image/png": "[encoded data removed]",
      "text/plain": [
       "<Figure size 432x288 with 1 Axes>"
      ]
     },
     "metadata": {
      "needs_background": "light"
     },
     "output_type": "display_data"
    }
   ],
   "source": [
    "import matplotlib.pyplot as plt\n",
    "\n",
    "acc = cnn_ver2_history_dict_4['accuracy']\n",
    "val_acc = cnn_ver2_history_dict_4['val_accuracy']\n",
    "loss = cnn_ver2_history_dict_4['loss']\n",
    "val_loss = cnn_ver2_history_dict_4['val_loss']\n",
    "\n",
    "epochs = range(1, len(acc) + 1)\n",
    "\n",
    "# \"bo\"는 \"파란색 점\"입니다\n",
    "plt.plot(epochs, loss, 'bo', label='Training loss')\n",
    "# b는 \"파란 실선\"입니다\n",
    "plt.plot(epochs, val_loss, 'b', label='Validation loss')\n",
    "plt.title('Training and validation loss')\n",
    "plt.xlabel('Epochs')\n",
    "plt.ylabel('Loss')\n",
    "plt.legend()\n",
    "\n",
    "plt.show()\n",
    "# validation loss와 train loss와 이격이 발생하면 더 이상의 트레이닝은 무의미"
   ]
  },
  {
   "cell_type": "code",
   "execution_count": null,
   "metadata": {},
   "outputs": [],
   "source": [
    "# 그래프로 확인해보면 epochs 4 ~ 5이면 될 것 같음"
   ]
  },
  {
   "cell_type": "markdown",
   "metadata": {},
   "source": [
    "# GlobalMaxPooling1D 하나만 사용"
   ]
  },
  {
   "cell_type": "code",
   "execution_count": 70,
   "metadata": {},
   "outputs": [
    {
     "name": "stdout",
     "output_type": "stream",
     "text": [
      "Model: \"sequential_6\"\n",
      "_________________________________________________________________\n",
      "Layer (type)                 Output Shape              Param #   \n",
      "=================================================================\n",
      "embedding_6 (Embedding)      (None, None, 20)          2000000   \n",
      "_________________________________________________________________\n",
      "global_max_pooling1d_4 (Glob (None, 20)                0         \n",
      "_________________________________________________________________\n",
      "dense_12 (Dense)             (None, 8)                 168       \n",
      "_________________________________________________________________\n",
      "dense_13 (Dense)             (None, 1)                 9         \n",
      "=================================================================\n",
      "Total params: 2,000,177\n",
      "Trainable params: 2,000,177\n",
      "Non-trainable params: 0\n",
      "_________________________________________________________________\n"
     ]
    }
   ],
   "source": [
    "vocab_size = 100000  # 어휘 사전의 크기입니다(10000개의 단어)\n",
    "word_vector_dim = 20   # 단어 하나를 표현하는 임베딩 벡터의 차원수입니다. \n",
    "\n",
    "gdp_ver2_model = keras.Sequential()\n",
    "gdp_ver2_model.add(keras.layers.Embedding(vocab_size, \n",
    "                                 word_vector_dim, \n",
    "                                 embeddings_initializer=Constant(embedding_matrix),  # 카피한 임베딩을 여기서 활용\n",
    "                                 input_shape=(None,)))\n",
    "gdp_ver2_model.add(keras.layers.GlobalMaxPooling1D())\n",
    "gdp_ver2_model.add(keras.layers.Dense(8, activation='relu'))\n",
    "gdp_ver2_model.add(keras.layers.Dense(1, activation='sigmoid'))  # 최종 출력은 긍정/부정을 나타내는 1dim 입니다.\n",
    "\n",
    "gdp_ver2_model.summary()"
   ]
  },
  {
   "cell_type": "code",
   "execution_count": 71,
   "metadata": {
    "scrolled": true
   },
   "outputs": [
    {
     "name": "stdout",
     "output_type": "stream",
     "text": [
      "Epoch 1/4\n",
      "227/227 [==============================] - 4s 18ms/step - loss: 0.6914 - accuracy: 0.5454 - val_loss: 0.6783 - val_accuracy: 0.5644\n",
      "Epoch 2/4\n",
      "227/227 [==============================] - 4s 18ms/step - loss: 0.6576 - accuracy: 0.6057 - val_loss: 0.6399 - val_accuracy: 0.6301\n",
      "Epoch 3/4\n",
      "227/227 [==============================] - 4s 18ms/step - loss: 0.6097 - accuracy: 0.6634 - val_loss: 0.5912 - val_accuracy: 0.6827\n",
      "Epoch 4/4\n",
      "227/227 [==============================] - 4s 18ms/step - loss: 0.5618 - accuracy: 0.7062 - val_loss: 0.5511 - val_accuracy: 0.7150\n",
      "3631/3631 - 5s - loss: 0.5403 - accuracy: 0.7257\n",
      "train_loss: 0.5402933359146118 \n",
      "train_accuracy: 0.7257234454154968\n"
     ]
    }
   ],
   "source": [
    "gdp_ver2_model.compile(optimizer='adam',\n",
    "              loss='binary_crossentropy',\n",
    "              metrics=['accuracy'])\n",
    "              \n",
    "epochs = 4  # 몇 epoch를 훈련하면 좋을지 결과를 보면서 바꾸어 봅시다. \n",
    "\n",
    "gdp_ver2_history = gdp_ver2_model.fit(partial_X_train,\n",
    "                    partial_y_train,\n",
    "                    epochs=epochs,\n",
    "                    batch_size=512,\n",
    "                    validation_data=(X_val, y_val),\n",
    "                    verbose=1)\n",
    "\n",
    "gdp_ver2_train_loss, gdp_ver2_train_accuracy = gdp_ver2_model.evaluate(partial_X_train, partial_y_train, verbose=2)\n",
    "\n",
    "print(\"train_loss: {} \".format(gdp_ver2_train_loss))\n",
    "print(\"train_accuracy: {}\".format(gdp_ver2_train_accuracy))"
   ]
  },
  {
   "cell_type": "code",
   "execution_count": 73,
   "metadata": {
    "scrolled": false
   },
   "outputs": [
    {
     "name": "stdout",
     "output_type": "stream",
     "text": [
      "1537/1537 - 2s - loss: 0.5506 - accuracy: 0.7169\n",
      "[0.5505526661872864, 0.7168663740158081]\n"
     ]
    }
   ],
   "source": [
    "# 테스트셋 평가\n",
    "gdp_ver2_results = gdp_ver2_model.evaluate(X_test,  y_test, verbose=2)\n",
    "\n",
    "print(gdp_ver2_results)"
   ]
  },
  {
   "cell_type": "code",
   "execution_count": 75,
   "metadata": {},
   "outputs": [
    {
     "name": "stdout",
     "output_type": "stream",
     "text": [
      "dict_keys(['loss', 'accuracy', 'val_loss', 'val_accuracy'])\n"
     ]
    }
   ],
   "source": [
    "gdp_ver2_history_dict_5 = gdp_ver2_history.history\n",
    "print(gdp_ver2_history_dict_5.keys()) # epoch에 따른 그래프를 그려볼 수 있는 항목들"
   ]
  },
  {
   "cell_type": "code",
   "execution_count": 76,
   "metadata": {},
   "outputs": [
    {
     "data": {
      "image/png": "[encoded data removed]",
      "text/plain": [
       "<Figure size 432x288 with 1 Axes>"
      ]
     },
     "metadata": {
      "needs_background": "light"
     },
     "output_type": "display_data"
    }
   ],
   "source": [
    "import matplotlib.pyplot as plt\n",
    "\n",
    "acc = gdp_ver2_history_dict_5['accuracy']\n",
    "val_acc = gdp_ver2_history_dict_5['val_accuracy']\n",
    "loss = gdp_ver2_history_dict_5['loss']\n",
    "val_loss = gdp_ver2_history_dict_5['val_loss']\n",
    "\n",
    "epochs = range(1, len(acc) + 1)\n",
    "\n",
    "# \"bo\"는 \"파란색 점\"입니다\n",
    "plt.plot(epochs, loss, 'bo', label='Training loss')\n",
    "# b는 \"파란 실선\"입니다\n",
    "plt.plot(epochs, val_loss, 'b', label='Validation loss')\n",
    "plt.title('Training and validation loss')\n",
    "plt.xlabel('Epochs')\n",
    "plt.ylabel('Loss')\n",
    "plt.legend()\n",
    "\n",
    "plt.show()\n",
    "# validation loss와 train loss와 이격이 발생하면 더 이상의 트레이닝은 무의미"
   ]
  },
  {
   "cell_type": "code",
   "execution_count": null,
   "metadata": {},
   "outputs": [],
   "source": [
    "# 그래프로 확인해보니 epochs가 7~8이면 될 것 같음"
   ]
  },
  {
   "cell_type": "markdown",
   "metadata": {},
   "source": [
    "# 총평"
   ]
  },
  {
   "cell_type": "markdown",
   "metadata": {},
   "source": [
    "1. 소감  \n",
    "이번 자연어 exploration은 재밌었다.  \n",
    "하지만 데이터 로더 구성하라고 할 때 좀 멘붕이었다.  \n",
    "이전 노드들을 참고하면서 데이터로더 부분에 대한 내용이 없길래  \n",
    "이걸 어떻게 구현해야할지 막막했다.   \n",
    "일단 필요한 것을 찾아서 여러 개의 블로그를 참고 했지만 원하는 것을 얻지 못했다..  \n",
    "그래서 3\\~4일동안 진짜 멘붕이었는데 노드를 계속 바라보니 **\"예시 답안\"** 이 보였다.   \n",
    "그땐 왜 이걸 이제 봤을까 생각했지만 그래도 앞으로 해결할 수 있겠다라는 생각에 좋았다..  \n",
    "데이터로더 부분을 해결한 이후에도 중간중간 어려운 부분들도 있었지만  \n",
    "서로 안되는 부분을 조원들과 공유하여 해결했고  \n",
    "조원들과 같이 고민해도 해결안되던 부분을 마지막엔 영석퍼실님이 도와주셔서 해결할 수 있었다.  \n",
    "영석퍼실님 감사합니다~"
   ]
  },
  {
   "cell_type": "markdown",
   "metadata": {},
   "source": [
    "2. 느낀점  \n",
    "이번 exploration을 하면서 아직도 내가 뭘 할 수 있겠다는 생각은 전혀 들지 않는다.\n",
    "그런데 조금 달라진 것은 나는 여태 복사 붙여넣기만 했을 뿐인데 노드를 진행하면서 생각?을 조금 할 수 있게 된 것 같다.\n",
    "무슨 뜻이냐면....  \n",
    "종종 어떤 오류가 발생하거나 해결 해야할 때 \"이거 복사하면 될 것 같은데, 이게 문제인 것 같은데\" 얕게라도? 조금은 생각할 수 있게 된 것 같다.  \n",
    "개인적으론 2주 전보다 더 나아진 것 같아 좋다."
   ]
  },
  {
   "cell_type": "markdown",
   "metadata": {},
   "source": [
    "3. 루브릭 평가\n",
    "- rnn, cnn, gdp 모두 모델 구성 후 작동\n",
    "- word2vec 임베딩 후 성능 개선\n",
    "    - word2vec 입력 전에는 연관성이 없는 유사 단어들도 있었지만 임베딩 후에는 꽤 유사한 단어들이 많이 나왔다.\n",
    "- rnn모뎅를 통해 아주 근소한 차이로 0.85 달성\n",
    "    - 이미 exp4에 시간을 너무 많이써서 추가로 해볼 순 없었지만 계속 만지다 보면 조금 더 올라갈 수 있을 것 같다."
   ]
  }
 ],
 "metadata": {
  "kernelspec": {
   "display_name": "aiffel",
   "language": "python",
   "name": "aiffel"
  },
  "language_info": {
   "codemirror_mode": {
    "name": "ipython",
    "version": 3
   },
   "file_extension": ".py",
   "mimetype": "text/x-python",
   "name": "python",
   "nbconvert_exporter": "python",
   "pygments_lexer": "ipython3",
   "version": "3.7.9"
  }
 },
 "nbformat": 4,
 "nbformat_minor": 4
}
